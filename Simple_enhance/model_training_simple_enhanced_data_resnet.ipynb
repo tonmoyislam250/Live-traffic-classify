{
  "cells": [
    {
      "cell_type": "markdown",
      "metadata": {
        "colab_type": "text",
        "id": "view-in-github"
      },
      "source": [
        "<a href=\"https://colab.research.google.com/github/Jieoi/traffic_sign_recognition/blob/updating/6_model_training_simple_enhanced_data_resnet.ipynb\" target=\"_parent\"><img src=\"https://colab.research.google.com/assets/colab-badge.svg\" alt=\"Open In Colab\"/></a>"
      ]
    },
    {
      "cell_type": "markdown",
      "metadata": {
        "id": "cX68P2z6KqgN"
      },
      "source": [
        "<h2> 6. Machine Learning on Simple Enhanced Images using ResNet50</h2>"
      ]
    },
    {
      "cell_type": "markdown",
      "metadata": {
        "id": "z7Ow820HcTzM"
      },
      "source": [
        "Based on Notebook 1 [Training data preparation using simple technic](https://github.com/Jieoi/traffic_sign_recognition/blob/main/1_train_data_preparation_simple.ipynb), this notebook is used to train a CNN model on the enhanced training data.\n",
        "\n",
        "The testing data is also loaded to evaluate the models as they are being developed.\n",
        "\n",
        "The testing data is from Notebook 3 [Testing data preparation using simple technic](https://github.com/Jieoi/traffic_sign_recognition/blob/main/3_test_data_preparation_simple.ipynb).\n",
        "\n",
        "There is **no need to run the notebooks named above**, a copy of the prepared data is saved in the Google drive which will be loaded in 6.1.1."
      ]
    },
    {
      "cell_type": "markdown",
      "metadata": {
        "id": "01kDrsBxcYB0"
      },
      "source": [
        "<h2> 6.1 Data Preparation for Machine Learning</h2>"
      ]
    },
    {
      "cell_type": "markdown",
      "metadata": {
        "id": "bV2kNSR-cb3X"
      },
      "source": [
        "Firstly, the data that were enhanced and augmented were loaded from the Google drive. As this colab instance is configured to use T4 GPU, some configuration checks are conducted to ensure the GPU is available. Libraries that are needed for machine learning were also imported."
      ]
    },
    {
      "cell_type": "markdown",
      "metadata": {
        "id": "M5uxRK7kKx_U"
      },
      "source": [
        "<h2>6.1.1 Preparing the notebook</h2>"
      ]
    },
    {
      "cell_type": "markdown",
      "metadata": {
        "id": "COiJJylxK30z"
      },
      "source": [
        "The first step is to connect to Google Drive so that the data enhanced in the previouse notebook can be used.\n",
        "\n",
        "The exact files that the notebook needs to  access are <code>image_enhanced_PIL_simple.zip</code> and <code>image_enhanced_simple_data.csv</code>. They can be found in the train_data and test_data folders <a href=\"https://drive.google.com/drive/folders/1nViTcpc952b0ftRGqkDBFqbSEC01t0a8\">here</a>.\n",
        "\n",
        "Ideally, the notebook should be run in Google Colab with high RAM and GPU support. However, the code can be excuted on CPU only mode with a longer training time."
      ]
    },
    {
      "cell_type": "markdown",
      "metadata": {
        "id": "OqCrx69gcjKj"
      },
      "source": [
        "The output above shows that the GPU is available.\n",
        "\n",
        "Google drive is also mounted to the colab instance, allowing access to the data. Relative path is used unless specified."
      ]
    },
    {
      "cell_type": "code",
      "execution_count": null,
      "metadata": {
        "colab": {
          "base_uri": "https://localhost:8080/"
        },
        "id": "_hnGCcs_4sNy",
        "outputId": "5af78622-8238-40bb-c153-536507b774a7"
      },
      "outputs": [
        {
          "name": "stdout",
          "output_type": "stream",
          "text": [
            "Mounted at drive\n"
          ]
        }
      ],
      "source": [
        "from google.colab import drive\n",
        "\n",
        "# Mount Google Drive\n",
        "drive.mount('drive', force_remount=True)"
      ]
    },
    {
      "cell_type": "markdown",
      "metadata": {
        "id": "DYBNIWx1Km-Q"
      },
      "source": [
        "The libraries used in this notebook are listed below."
      ]
    },
    {
      "cell_type": "code",
      "execution_count": null,
      "metadata": {
        "id": "VEemnXizTEw4"
      },
      "outputs": [],
      "source": [
        "# Zip file handling\n",
        "import zipfile\n",
        "import os\n",
        "\n",
        "# Data handling and visualization\n",
        "import os\n",
        "import cv2\n",
        "import numpy as np\n",
        "import pandas as pd\n",
        "import matplotlib.pyplot as plt\n",
        "\n",
        "# Image data handling\n",
        "from PIL import Image\n",
        "\n",
        "# File handling and management for training and validation data\n",
        "from shutil import copyfile\n",
        "from sklearn.model_selection import train_test_split\n",
        "\n",
        "# importing library for ML processing\n",
        "import tensorflow as tf\n",
        "from tensorflow.keras.preprocessing.image import ImageDataGenerator\n",
        "\n",
        "# Resnet layers\n",
        "from tensorflow.keras.layers import Input, Conv2D, MaxPooling2D, Flatten, Dense, Dropout, BatchNormalization\n",
        "from tensorflow.keras.layers import Dense, GlobalAveragePooling2D\n",
        "from tensorflow.keras.applications import ResNet50\n",
        "from tensorflow.keras.models import Model\n",
        "from tensorflow.keras.optimizers import Adam,RMSprop\n",
        "from tensorflow.keras.callbacks import EarlyStopping, LearningRateScheduler\n",
        "\n",
        "# Regularization\n",
        "from tensorflow.keras import regularizers\n",
        "\n",
        "# Saving the model\n",
        "from tensorflow.keras.models import save_model\n",
        "\n",
        "# Metrics for evaluation\n",
        "from sklearn.metrics import classification_report\n",
        "from sklearn.metrics import precision_score"
      ]
    },
    {
      "cell_type": "markdown",
      "metadata": {
        "id": "d_ycXAdhSGV7"
      },
      "source": [
        "<h2>6.1.2 Data preparation for Machine Learning</h2>"
      ]
    },
    {
      "cell_type": "markdown",
      "metadata": {
        "id": "znQglMe3mU_p"
      },
      "source": [
        "Firstly, pre-porcessed training data is obtained and prepared for machine learning:\n"
      ]
    },
    {
      "cell_type": "markdown",
      "metadata": {
        "id": "_RWYzZpNM_LA"
      },
      "source": [
        "The labels for all the images is in the <code>image_enhanced_simple_data.csv</code> file. It is first extracted in the code below."
      ]
    },
    {
      "cell_type": "code",
      "execution_count": null,
      "metadata": {
        "colab": {
          "base_uri": "https://localhost:8080/"
        },
        "id": "i94oSVmWCYpC",
        "outputId": "cd88f259-f610-4bdd-efd8-0f352c1af3f2"
      },
      "outputs": [
        {
          "data": {
            "text/plain": [
              "<bound method DataFrame.info of        class      filename\n",
              "0          0       0_0.png\n",
              "1          0       0_1.png\n",
              "2          0       0_2.png\n",
              "3          0       0_3.png\n",
              "4          0       0_4.png\n",
              "...      ...           ...\n",
              "26655     42  42_26655.png\n",
              "26656     42  42_26656.png\n",
              "26657     42  42_26657.png\n",
              "26658     42  42_26658.png\n",
              "26659     42  42_26659.png\n",
              "\n",
              "[26660 rows x 2 columns]>"
            ]
          },
          "execution_count": 5,
          "metadata": {},
          "output_type": "execute_result"
        }
      ],
      "source": [
        "csv_file = '/content/drive/MyDrive/final/train_data/image_enhanced_simple_data.csv'\n",
        "\n",
        "# Read the CSV file into a pandas DataFrame\n",
        "df_classes = pd.read_csv(csv_file)\n",
        "df_classes.info"
      ]
    },
    {
      "cell_type": "markdown",
      "metadata": {
        "id": "tKBDwP7kNu-L"
      },
      "source": [
        "Then the images are extracted from the <code>image_enhanced_PIL_simple.zip</code> file."
      ]
    },
    {
      "cell_type": "code",
      "execution_count": null,
      "metadata": {
        "colab": {
          "base_uri": "https://localhost:8080/"
        },
        "id": "aegfPAhacJRR",
        "outputId": "ae421c0b-f8be-4063-8263-d542e7b9ab35"
      },
      "outputs": [
        {
          "name": "stdout",
          "output_type": "stream",
          "text": [
            "Number of extracted images: 26660\n",
            "Extraction completed.\n"
          ]
        }
      ],
      "source": [
        "# Paths\n",
        "zip_file_path = '/content/drive/MyDrive/final/train_data/image_enhanced_PIL_simple.zip'\n",
        "extracted_dir = '/content/extracted_images'\n",
        "\n",
        "# Create the directory for extracted images if it doesn't exist\n",
        "os.makedirs(extracted_dir, exist_ok=True)\n",
        "\n",
        "\n",
        "# Open the ZIP file and extract its contents\n",
        "with zipfile.ZipFile(zip_file_path, 'r') as zip_ref:\n",
        "    zip_ref.extractall(extracted_dir)\n",
        "\n",
        "# Check the length of the extracted images\n",
        "num_extracted_images = len(os.listdir(extracted_dir))\n",
        "print(f\"Number of extracted images: {num_extracted_images}\")\n",
        "print(\"Extraction completed.\")"
      ]
    },
    {
      "cell_type": "markdown",
      "metadata": {
        "id": "UgAfoUUON3vh"
      },
      "source": [
        "Both images and there labels extracted contains the same number of entries."
      ]
    },
    {
      "cell_type": "markdown",
      "metadata": {
        "id": "ZrskEW6ON0Zc"
      },
      "source": [
        "The distribution of the final classes is shown below."
      ]
    },
    {
      "cell_type": "code",
      "execution_count": null,
      "metadata": {
        "colab": {
          "base_uri": "https://localhost:8080/",
          "height": 516
        },
        "id": "s28B6914YyMd",
        "outputId": "b2f67875-dfb2-4bc6-938e-5d2004b0bede"
      },
      "outputs": [
        {
          "data": {
            "image/png": "[encoded data removed]",
            "text/plain": [
              "<Figure size 1000x600 with 1 Axes>"
            ]
          },
          "metadata": {},
          "output_type": "display_data"
        }
      ],
      "source": [
        "# Count the occurrences of each class in the DataFrame\n",
        "class_counts = df_classes['class'].value_counts()\n",
        "\n",
        "# Sort the unique class IDs\n",
        "unique_classes = np.sort(df_classes['class'].unique())\n",
        "\n",
        "# Create a bar chart\n",
        "plt.figure(figsize=(10, 6))\n",
        "plt.bar(unique_classes, class_counts[unique_classes])\n",
        "plt.xlabel('Class')\n",
        "plt.ylabel('Count')\n",
        "plt.title('Class Distribution')\n",
        "plt.xticks(unique_classes)\n",
        "plt.show()"
      ]
    },
    {
      "cell_type": "markdown",
      "metadata": {
        "id": "_510mvfzdJEU"
      },
      "source": [
        "This shows that the images were equally distributed among the classes as what has being prepared in the previous notebook."
      ]
    },
    {
      "cell_type": "markdown",
      "metadata": {
        "id": "obTCtr8vORqc"
      },
      "source": [
        "Both images are first split into training and validation sets. They are grouped by their classes and stored in individual directories for every classes."
      ]
    },
    {
      "cell_type": "code",
      "execution_count": null,
      "metadata": {
        "colab": {
          "base_uri": "https://localhost:8080/"
        },
        "id": "husZ2lw6dYyC",
        "outputId": "a06a9b65-1116-4b6c-b1b2-a8bca65bdddf"
      },
      "outputs": [
        {
          "name": "stdout",
          "output_type": "stream",
          "text": [
            "Data preparation for ML completed.\n"
          ]
        }
      ],
      "source": [
        "train_dir = '/content/train_images'\n",
        "valid_dir = '/content/valid_images'\n",
        "\n",
        "# Create directories for training and validation images\n",
        "os.makedirs(train_dir, exist_ok=True)\n",
        "os.makedirs(valid_dir, exist_ok=True)\n",
        "\n",
        "# Split the data into training and validation sets\n",
        "train_df, valid_df = train_test_split(df_classes, test_size=0.2, random_state=42, stratify=df_classes['class'])\n",
        "\n",
        "# Copy images to directories based on classes for training set\n",
        "for index, row in train_df.iterrows():\n",
        "    src_path = os.path.join(extracted_dir, row['filename'])\n",
        "    dst_path = os.path.join(train_dir, str(row['class']), row['filename'])\n",
        "    os.makedirs(os.path.dirname(dst_path), exist_ok=True)\n",
        "    copyfile(src_path, dst_path)\n",
        "\n",
        "# Copy images to directories based on classes for validation set\n",
        "for index, row in valid_df.iterrows():\n",
        "    src_path = os.path.join(extracted_dir, row['filename'])\n",
        "    dst_path = os.path.join(valid_dir, str(row['class']), row['filename'])\n",
        "    os.makedirs(os.path.dirname(dst_path), exist_ok=True)\n",
        "    copyfile(src_path, dst_path)\n",
        "\n",
        "print(\"Data preparation for ML completed.\")"
      ]
    },
    {
      "cell_type": "markdown",
      "metadata": {
        "id": "-F61JPGGOoN2"
      },
      "source": [
        "<h1> 6.2 Machine Learning</h1>"
      ]
    },
    {
      "cell_type": "markdown",
      "metadata": {
        "id": "kumuDOWeSTrX"
      },
      "source": [
        "<h2>6.2.1 Data pipeline</h2>"
      ]
    },
    {
      "cell_type": "markdown",
      "metadata": {
        "id": "XEkNgAgcRWjj"
      },
      "source": [
        "<code>flow_from_directory()</code> from Keras ImageDataGenerator is used to load the images with rescaling to 1/255. batch size and image size are pre-set to 32 and (160, 160), respectively. These number were based on the upscaling of images in image enhancement."
      ]
    },
    {
      "cell_type": "code",
      "execution_count": null,
      "metadata": {
        "colab": {
          "base_uri": "https://localhost:8080/"
        },
        "id": "ICEfnqPEeJBl",
        "outputId": "0f0d8472-234f-496f-d650-6449bb228b14"
      },
      "outputs": [
        {
          "name": "stdout",
          "output_type": "stream",
          "text": [
            "Found 21328 images belonging to 43 classes.\n",
            "Found 5332 images belonging to 43 classes.\n"
          ]
        }
      ],
      "source": [
        "# Define paths\n",
        "train_dir = '/content/train_images'\n",
        "valid_dir = '/content/valid_images'\n",
        "\n",
        "# Define image dimensions and batch size\n",
        "image_size = (160,160)\n",
        "batch_size = 32\n",
        "\n",
        "# Create data generators and rescale image for ML on training and validation\n",
        "train_datagen = ImageDataGenerator(rescale=1.0/255)\n",
        "valid_datagen = ImageDataGenerator(rescale=1.0/255)\n",
        "\n",
        "train_generator = train_datagen.flow_from_directory(\n",
        "    train_dir,\n",
        "    target_size=image_size,\n",
        "    batch_size=batch_size,\n",
        "    class_mode='categorical',\n",
        "    shuffle=True  # Set shuffle to True for training data\n",
        ")\n",
        "\n",
        "valid_generator = valid_datagen.flow_from_directory(\n",
        "    valid_dir,\n",
        "    target_size=image_size,\n",
        "    batch_size=batch_size,\n",
        "    class_mode='categorical',\n",
        "    shuffle=False  # Set shuffle to False for validation data\n",
        ")\n",
        "\n",
        "# Get the number of classes from the training generator\n",
        "num_classes = len(train_generator.class_indices)"
      ]
    },
    {
      "cell_type": "markdown",
      "metadata": {
        "id": "-Emf7SHpdkQg"
      },
      "source": [
        "One thing different from the previous notebook is that the as resnet generally performces with all three channels, the images are not changed to greyscale in this notebook."
      ]
    },
    {
      "cell_type": "markdown",
      "metadata": {
        "id": "AFiJylAImhVR"
      },
      "source": [
        "Next, the test data is also obtained and prepared for machine learning."
      ]
    },
    {
      "cell_type": "code",
      "execution_count": null,
      "metadata": {
        "id": "wjQBx8gQmnaV"
      },
      "outputs": [],
      "source": [
        "# Define the paths\n",
        "test_zip_path = '/content/drive/MyDrive/final/test_data/test_image_enhanced_PIL_simple.zip'\n",
        "test_extracted_dir = '/content/extracted_test_images'\n",
        "test_dir = '/content/test_images'\n",
        "\n",
        "# Create the directory for extracted test images if it doesn't exist\n",
        "os.makedirs(test_extracted_dir, exist_ok=True)\n",
        "\n",
        "# Open the ZIP file and extract its contents\n",
        "with zipfile.ZipFile(test_zip_path, 'r') as zip_ref:\n",
        "    zip_ref.extractall(test_extracted_dir)"
      ]
    },
    {
      "cell_type": "code",
      "execution_count": null,
      "metadata": {
        "id": "V7txY676psmN"
      },
      "outputs": [],
      "source": [
        "# Move the test images to the test directory while renaming them with their true labels\n",
        "for filename in os.listdir(test_extracted_dir):\n",
        "    src_path = os.path.join(test_extracted_dir, filename)\n",
        "    # Extract the true label from the filename (before the underscore)\n",
        "    true_label = filename.split('_')[0]\n",
        "    dst_path = os.path.join(test_dir, true_label, filename)\n",
        "    os.makedirs(os.path.dirname(dst_path), exist_ok=True)\n",
        "    copyfile(src_path, dst_path)"
      ]
    },
    {
      "cell_type": "markdown",
      "metadata": {
        "id": "BWekJvA5d0Xa"
      },
      "source": [
        "Data generator is used for loading images into the model."
      ]
    },
    {
      "cell_type": "code",
      "execution_count": null,
      "metadata": {
        "colab": {
          "base_uri": "https://localhost:8080/"
        },
        "id": "oelcW3EtnlSz",
        "outputId": "958020fd-f5e4-48b3-cb3c-e3cfa784a48c"
      },
      "outputs": [
        {
          "name": "stdout",
          "output_type": "stream",
          "text": [
            "Found 12599 images belonging to 43 classes.\n"
          ]
        }
      ],
      "source": [
        "# Create a data generator for the test data\n",
        "test_datagen = ImageDataGenerator(rescale=1.0/255)\n",
        "\n",
        "test_generator = test_datagen.flow_from_directory(\n",
        "    test_dir,\n",
        "    target_size=image_size,\n",
        "    batch_size=batch_size,\n",
        "    class_mode='categorical',\n",
        "    #color_mode='grayscale',  # Load images as grayscale\n",
        "    shuffle=False  # Set shuffle to False for testing data\n",
        ")"
      ]
    },
    {
      "cell_type": "markdown",
      "metadata": {
        "id": "EJUQK66CaB8W"
      },
      "source": [
        "<h2>6.2.2 Training the ResNet model</h2>"
      ]
    },
    {
      "cell_type": "markdown",
      "metadata": {
        "id": "xsMRTT06SepR"
      },
      "source": [
        "As there are many models training at the same time, the first image in the training data is inspected on size to confirm the shape of the nerual network."
      ]
    },
    {
      "cell_type": "code",
      "execution_count": null,
      "metadata": {
        "colab": {
          "base_uri": "https://localhost:8080/"
        },
        "id": "rOC7HwpRYjjM",
        "outputId": "8f95fc45-b844-4345-9535-a70b05b7c664"
      },
      "outputs": [
        {
          "name": "stdout",
          "output_type": "stream",
          "text": [
            "Size of '0_0.png' in folder '0': (160, 160)\n"
          ]
        }
      ],
      "source": [
        "# Define the path to the image file\n",
        "image_path = os.path.join('train_images', '0', '0_0.png')\n",
        "\n",
        "# Open the image using PIL\n",
        "image = Image.open(image_path)\n",
        "\n",
        "# Get the size (dimensions) of the image\n",
        "image_size = image.size\n",
        "\n",
        "# Close the image file\n",
        "image.close()\n",
        "\n",
        "# Print the size of the image\n",
        "print(\"Size of '0_0.png' in folder '0':\", image_size)\n"
      ]
    },
    {
      "cell_type": "code",
      "execution_count": null,
      "metadata": {
        "colab": {
          "base_uri": "https://localhost:8080/"
        },
        "id": "H-3iuxp0YNem",
        "outputId": "34a210ef-0a97-4074-be39-bb385ef37696"
      },
      "outputs": [
        {
          "name": "stdout",
          "output_type": "stream",
          "text": [
            "Shape of the first image: (160, 160, 3)\n"
          ]
        }
      ],
      "source": [
        "# Retrieve the first batch from the training generator\n",
        "images, labels = next(train_generator)\n",
        "\n",
        "# Get the first image from the batch\n",
        "first_image = images[0]\n",
        "\n",
        "# Check the shape of the first image\n",
        "print(\"Shape of the first image:\", first_image.shape)\n"
      ]
    },
    {
      "cell_type": "markdown",
      "metadata": {
        "id": "WnHCKbhgeq2X"
      },
      "source": [
        "The size of image accurate reflects the simple enhanced data with all three channels."
      ]
    },
    {
      "cell_type": "markdown",
      "metadata": {
        "id": "uGbvOOfleq4y"
      },
      "source": [
        "The GPU avaliability is also double checked."
      ]
    },
    {
      "cell_type": "code",
      "execution_count": null,
      "metadata": {
        "colab": {
          "base_uri": "https://localhost:8080/"
        },
        "id": "42FI4zL2feiP",
        "outputId": "a50b1332-c7f4-4fca-c07f-efec4175cc82"
      },
      "outputs": [
        {
          "name": "stdout",
          "output_type": "stream",
          "text": [
            "Num GPUs Available:  1\n"
          ]
        }
      ],
      "source": [
        "# Check GPU availability\n",
        "print(\"Num GPUs Available: \", len(tf.config.list_physical_devices('GPU')))\n",
        "\n",
        "# Specify GPU device\n",
        "physical_devices = tf.config.list_physical_devices('GPU')\n",
        "if len(physical_devices) > 0:\n",
        "    tf.config.experimental.set_memory_growth(physical_devices[0], True)"
      ]
    },
    {
      "cell_type": "markdown",
      "metadata": {
        "id": "VSCR24GDSyqc"
      },
      "source": [
        "A function is defined to plot the training history and calculate the changes in accuracy and loss."
      ]
    },
    {
      "cell_type": "code",
      "execution_count": null,
      "metadata": {
        "id": "U_5cFB1DjMZ4"
      },
      "outputs": [],
      "source": [
        "def calculate_accuracy_increase_rate(history):\n",
        "    train_accuracy = history.history['accuracy']\n",
        "    val_accuracy = history.history['val_accuracy']\n",
        "\n",
        "    train_rate = np.mean(np.diff(train_accuracy))\n",
        "    val_rate = np.mean(np.diff(val_accuracy))\n",
        "\n",
        "    return train_rate, val_rate"
      ]
    },
    {
      "cell_type": "code",
      "execution_count": null,
      "metadata": {
        "id": "0ZcwYOoBef3J"
      },
      "outputs": [],
      "source": [
        "def plot_training_history(history):\n",
        "    # Access the training history\n",
        "    training_loss = history.history['loss']\n",
        "    training_accuracy = history.history['accuracy']\n",
        "    validation_loss = history.history['val_loss']\n",
        "    validation_accuracy = history.history['val_accuracy']\n",
        "\n",
        "    # Create a figure with two subplots\n",
        "    fig, (ax1, ax2) = plt.subplots(1, 2, figsize=(12, 6))\n",
        "\n",
        "    # Plotting the training and validation accuracy\n",
        "    ax1.plot(training_accuracy)\n",
        "    ax1.plot(validation_accuracy)\n",
        "    ax1.set_title('Model Accuracy')\n",
        "    ax1.set_xlabel('Epoch')\n",
        "    ax1.set_ylabel('Accuracy')\n",
        "    ax1.legend(['Train', 'Validation'], loc='upper left')\n",
        "\n",
        "    # Plotting the training and validation loss\n",
        "    ax2.plot(training_loss)\n",
        "    ax2.plot(validation_loss)\n",
        "    ax2.set_title('Model Loss')\n",
        "    ax2.set_xlabel('Epoch')\n",
        "    ax2.set_ylabel('Loss')\n",
        "    ax2.legend(['Train', 'Validation'], loc='upper right')\n",
        "\n",
        "    # Adjust the spacing between subplots\n",
        "    plt.tight_layout()\n",
        "\n",
        "    # Show the figure\n",
        "    plt.show()"
      ]
    },
    {
      "cell_type": "markdown",
      "metadata": {
        "id": "v_7ZlF4nfBOm"
      },
      "source": [
        "Then, true labels are extracted from the test generator for testing later."
      ]
    },
    {
      "cell_type": "code",
      "execution_count": null,
      "metadata": {
        "id": "Ra0sBmAbv8QP"
      },
      "outputs": [],
      "source": [
        "# Get true labels from the test generator\n",
        "true_labels = test_generator.classes\n",
        "\n",
        "# Get unique true labels\n",
        "class_names = [str(label) for label in range(43)]"
      ]
    },
    {
      "cell_type": "markdown",
      "metadata": {
        "id": "QtCmS0cifD2U"
      },
      "source": [
        "The model development will start from developing a simple model that serves as a baseline in this development cycle. It is different from the basline of the whole project as this is trained on enhanced and augmented data."
      ]
    },
    {
      "cell_type": "markdown",
      "metadata": {
        "id": "OgUFRqk4uAFq"
      },
      "source": [
        "**<h2> Model 1: Simple Resnet baseline</h2>**\n"
      ]
    },
    {
      "cell_type": "markdown",
      "metadata": {
        "id": "eXwyIjLpS3Em"
      },
      "source": [
        "Firstly, the ResNet model is downloaded and used as a base model:"
      ]
    },
    {
      "cell_type": "code",
      "execution_count": null,
      "metadata": {
        "colab": {
          "base_uri": "https://localhost:8080/"
        },
        "id": "S2FXPHyGS1vm",
        "outputId": "24d867e0-1aac-4b93-c708-a8b8fe12178c"
      },
      "outputs": [
        {
          "name": "stdout",
          "output_type": "stream",
          "text": [
            "Downloading data from https://storage.googleapis.com/tensorflow/keras-applications/resnet/resnet50_weights_tf_dim_ordering_tf_kernels_notop.h5\n",
            "94765736/94765736 [==============================] - 0s 0us/step\n"
          ]
        }
      ],
      "source": [
        "base_model = ResNet50(weights='imagenet', include_top=False)"
      ]
    },
    {
      "cell_type": "markdown",
      "metadata": {
        "id": "qIW8k6VnfV2c"
      },
      "source": [
        "A simple implementation of the resnet mddel is developed below with some custom head layers. In this case, **transfered learning** is applied to the ResNet model."
      ]
    },
    {
      "cell_type": "code",
      "execution_count": null,
      "metadata": {
        "id": "J1A1_tc-UtXG"
      },
      "outputs": [],
      "source": [
        "# Define the ResNet50 base model\n",
        "input_layer = Input(shape=(160, 160, 3))\n",
        "base_model = ResNet50(weights='imagenet', include_top=False, input_tensor=input_layer)\n",
        "\n",
        "# Add custom head layers\n",
        "x = base_model.output\n",
        "x = GlobalAveragePooling2D()(x)  # Apply Global Average Pooling to the 4D tensor\n",
        "x = Dense(256, activation='relu')(x)\n",
        "output_layer = Dense(num_classes, activation='softmax')(x)  # Use num_classes from data\n",
        "\n",
        "# Create the model\n",
        "model_resnet = Model(inputs=base_model.input, outputs=output_layer)\n",
        "\n",
        "# Compile the model\n",
        "model_resnet.compile(optimizer=Adam(), loss='categorical_crossentropy', metrics=['accuracy'])"
      ]
    },
    {
      "cell_type": "markdown",
      "metadata": {
        "id": "89airCS3fnkF"
      },
      "source": [
        "A simple summary of the model is displayed:"
      ]
    },
    {
      "cell_type": "code",
      "execution_count": null,
      "metadata": {
        "colab": {
          "base_uri": "https://localhost:8080/"
        },
        "id": "fT-WOq1bNbSW",
        "outputId": "ec3f0bfc-4c34-4141-cbc2-07af30af5909"
      },
      "outputs": [
        {
          "name": "stdout",
          "output_type": "stream",
          "text": [
            "Model: \"model\"\n",
            "__________________________________________________________________________________________________\n",
            " Layer (type)                Output Shape                 Param #   Connected to                  \n",
            "==================================================================================================\n",
            " input_2 (InputLayer)        [(None, 160, 160, 3)]        0         []                            \n",
            "                                                                                                  \n",
            " conv1_pad (ZeroPadding2D)   (None, 166, 166, 3)          0         ['input_2[0][0]']             \n",
            "                                                                                                  \n",
            " conv1_conv (Conv2D)         (None, 80, 80, 64)           9472      ['conv1_pad[0][0]']           \n",
            "                                                                                                  \n",
            " conv1_bn (BatchNormalizati  (None, 80, 80, 64)           256       ['conv1_conv[0][0]']          \n",
            " on)                                                                                              \n",
            "                                                                                                  \n",
            " conv1_relu (Activation)     (None, 80, 80, 64)           0         ['conv1_bn[0][0]']            \n",
            "                                                                                                  \n",
            " pool1_pad (ZeroPadding2D)   (None, 82, 82, 64)           0         ['conv1_relu[0][0]']          \n",
            "                                                                                                  \n",
            " pool1_pool (MaxPooling2D)   (None, 40, 40, 64)           0         ['pool1_pad[0][0]']           \n",
            "                                                                                                  \n",
            " conv2_block1_1_conv (Conv2  (None, 40, 40, 64)           4160      ['pool1_pool[0][0]']          \n",
            " D)                                                                                               \n",
            "                                                                                                  \n",
            " conv2_block1_1_bn (BatchNo  (None, 40, 40, 64)           256       ['conv2_block1_1_conv[0][0]'] \n",
            " rmalization)                                                                                     \n",
            "                                                                                                  \n",
            " conv2_block1_1_relu (Activ  (None, 40, 40, 64)           0         ['conv2_block1_1_bn[0][0]']   \n",
            " ation)                                                                                           \n",
            "                                                                                                  \n",
            " conv2_block1_2_conv (Conv2  (None, 40, 40, 64)           36928     ['conv2_block1_1_relu[0][0]'] \n",
            " D)                                                                                               \n",
            "                                                                                                  \n",
            " conv2_block1_2_bn (BatchNo  (None, 40, 40, 64)           256       ['conv2_block1_2_conv[0][0]'] \n",
            " rmalization)                                                                                     \n",
            "                                                                                                  \n",
            " conv2_block1_2_relu (Activ  (None, 40, 40, 64)           0         ['conv2_block1_2_bn[0][0]']   \n",
            " ation)                                                                                           \n",
            "                                                                                                  \n",
            " conv2_block1_0_conv (Conv2  (None, 40, 40, 256)          16640     ['pool1_pool[0][0]']          \n",
            " D)                                                                                               \n",
            "                                                                                                  \n",
            " conv2_block1_3_conv (Conv2  (None, 40, 40, 256)          16640     ['conv2_block1_2_relu[0][0]'] \n",
            " D)                                                                                               \n",
            "                                                                                                  \n",
            " conv2_block1_0_bn (BatchNo  (None, 40, 40, 256)          1024      ['conv2_block1_0_conv[0][0]'] \n",
            " rmalization)                                                                                     \n",
            "                                                                                                  \n",
            " conv2_block1_3_bn (BatchNo  (None, 40, 40, 256)          1024      ['conv2_block1_3_conv[0][0]'] \n",
            " rmalization)                                                                                     \n",
            "                                                                                                  \n",
            " conv2_block1_add (Add)      (None, 40, 40, 256)          0         ['conv2_block1_0_bn[0][0]',   \n",
            "                                                                     'conv2_block1_3_bn[0][0]']   \n",
            "                                                                                                  \n",
            " conv2_block1_out (Activati  (None, 40, 40, 256)          0         ['conv2_block1_add[0][0]']    \n",
            " on)                                                                                              \n",
            "                                                                                                  \n",
            " conv2_block2_1_conv (Conv2  (None, 40, 40, 64)           16448     ['conv2_block1_out[0][0]']    \n",
            " D)                                                                                               \n",
            "                                                                                                  \n",
            " conv2_block2_1_bn (BatchNo  (None, 40, 40, 64)           256       ['conv2_block2_1_conv[0][0]'] \n",
            " rmalization)                                                                                     \n",
            "                                                                                                  \n",
            " conv2_block2_1_relu (Activ  (None, 40, 40, 64)           0         ['conv2_block2_1_bn[0][0]']   \n",
            " ation)                                                                                           \n",
            "                                                                                                  \n",
            " conv2_block2_2_conv (Conv2  (None, 40, 40, 64)           36928     ['conv2_block2_1_relu[0][0]'] \n",
            " D)                                                                                               \n",
            "                                                                                                  \n",
            " conv2_block2_2_bn (BatchNo  (None, 40, 40, 64)           256       ['conv2_block2_2_conv[0][0]'] \n",
            " rmalization)                                                                                     \n",
            "                                                                                                  \n",
            " conv2_block2_2_relu (Activ  (None, 40, 40, 64)           0         ['conv2_block2_2_bn[0][0]']   \n",
            " ation)                                                                                           \n",
            "                                                                                                  \n",
            " conv2_block2_3_conv (Conv2  (None, 40, 40, 256)          16640     ['conv2_block2_2_relu[0][0]'] \n",
            " D)                                                                                               \n",
            "                                                                                                  \n",
            " conv2_block2_3_bn (BatchNo  (None, 40, 40, 256)          1024      ['conv2_block2_3_conv[0][0]'] \n",
            " rmalization)                                                                                     \n",
            "                                                                                                  \n",
            " conv2_block2_add (Add)      (None, 40, 40, 256)          0         ['conv2_block1_out[0][0]',    \n",
            "                                                                     'conv2_block2_3_bn[0][0]']   \n",
            "                                                                                                  \n",
            " conv2_block2_out (Activati  (None, 40, 40, 256)          0         ['conv2_block2_add[0][0]']    \n",
            " on)                                                                                              \n",
            "                                                                                                  \n",
            " conv2_block3_1_conv (Conv2  (None, 40, 40, 64)           16448     ['conv2_block2_out[0][0]']    \n",
            " D)                                                                                               \n",
            "                                                                                                  \n",
            " conv2_block3_1_bn (BatchNo  (None, 40, 40, 64)           256       ['conv2_block3_1_conv[0][0]'] \n",
            " rmalization)                                                                                     \n",
            "                                                                                                  \n",
            " conv2_block3_1_relu (Activ  (None, 40, 40, 64)           0         ['conv2_block3_1_bn[0][0]']   \n",
            " ation)                                                                                           \n",
            "                                                                                                  \n",
            " conv2_block3_2_conv (Conv2  (None, 40, 40, 64)           36928     ['conv2_block3_1_relu[0][0]'] \n",
            " D)                                                                                               \n",
            "                                                                                                  \n",
            " conv2_block3_2_bn (BatchNo  (None, 40, 40, 64)           256       ['conv2_block3_2_conv[0][0]'] \n",
            " rmalization)                                                                                     \n",
            "                                                                                                  \n",
            " conv2_block3_2_relu (Activ  (None, 40, 40, 64)           0         ['conv2_block3_2_bn[0][0]']   \n",
            " ation)                                                                                           \n",
            "                                                                                                  \n",
            " conv2_block3_3_conv (Conv2  (None, 40, 40, 256)          16640     ['conv2_block3_2_relu[0][0]'] \n",
            " D)                                                                                               \n",
            "                                                                                                  \n",
            " conv2_block3_3_bn (BatchNo  (None, 40, 40, 256)          1024      ['conv2_block3_3_conv[0][0]'] \n",
            " rmalization)                                                                                     \n",
            "                                                                                                  \n",
            " conv2_block3_add (Add)      (None, 40, 40, 256)          0         ['conv2_block2_out[0][0]',    \n",
            "                                                                     'conv2_block3_3_bn[0][0]']   \n",
            "                                                                                                  \n",
            " conv2_block3_out (Activati  (None, 40, 40, 256)          0         ['conv2_block3_add[0][0]']    \n",
            " on)                                                                                              \n",
            "                                                                                                  \n",
            " conv3_block1_1_conv (Conv2  (None, 20, 20, 128)          32896     ['conv2_block3_out[0][0]']    \n",
            " D)                                                                                               \n",
            "                                                                                                  \n",
            " conv3_block1_1_bn (BatchNo  (None, 20, 20, 128)          512       ['conv3_block1_1_conv[0][0]'] \n",
            " rmalization)                                                                                     \n",
            "                                                                                                  \n",
            " conv3_block1_1_relu (Activ  (None, 20, 20, 128)          0         ['conv3_block1_1_bn[0][0]']   \n",
            " ation)                                                                                           \n",
            "                                                                                                  \n",
            " conv3_block1_2_conv (Conv2  (None, 20, 20, 128)          147584    ['conv3_block1_1_relu[0][0]'] \n",
            " D)                                                                                               \n",
            "                                                                                                  \n",
            " conv3_block1_2_bn (BatchNo  (None, 20, 20, 128)          512       ['conv3_block1_2_conv[0][0]'] \n",
            " rmalization)                                                                                     \n",
            "                                                                                                  \n",
            " conv3_block1_2_relu (Activ  (None, 20, 20, 128)          0         ['conv3_block1_2_bn[0][0]']   \n",
            " ation)                                                                                           \n",
            "                                                                                                  \n",
            " conv3_block1_0_conv (Conv2  (None, 20, 20, 512)          131584    ['conv2_block3_out[0][0]']    \n",
            " D)                                                                                               \n",
            "                                                                                                  \n",
            " conv3_block1_3_conv (Conv2  (None, 20, 20, 512)          66048     ['conv3_block1_2_relu[0][0]'] \n",
            " D)                                                                                               \n",
            "                                                                                                  \n",
            " conv3_block1_0_bn (BatchNo  (None, 20, 20, 512)          2048      ['conv3_block1_0_conv[0][0]'] \n",
            " rmalization)                                                                                     \n",
            "                                                                                                  \n",
            " conv3_block1_3_bn (BatchNo  (None, 20, 20, 512)          2048      ['conv3_block1_3_conv[0][0]'] \n",
            " rmalization)                                                                                     \n",
            "                                                                                                  \n",
            " conv3_block1_add (Add)      (None, 20, 20, 512)          0         ['conv3_block1_0_bn[0][0]',   \n",
            "                                                                     'conv3_block1_3_bn[0][0]']   \n",
            "                                                                                                  \n",
            " conv3_block1_out (Activati  (None, 20, 20, 512)          0         ['conv3_block1_add[0][0]']    \n",
            " on)                                                                                              \n",
            "                                                                                                  \n",
            " conv3_block2_1_conv (Conv2  (None, 20, 20, 128)          65664     ['conv3_block1_out[0][0]']    \n",
            " D)                                                                                               \n",
            "                                                                                                  \n",
            " conv3_block2_1_bn (BatchNo  (None, 20, 20, 128)          512       ['conv3_block2_1_conv[0][0]'] \n",
            " rmalization)                                                                                     \n",
            "                                                                                                  \n",
            " conv3_block2_1_relu (Activ  (None, 20, 20, 128)          0         ['conv3_block2_1_bn[0][0]']   \n",
            " ation)                                                                                           \n",
            "                                                                                                  \n",
            " conv3_block2_2_conv (Conv2  (None, 20, 20, 128)          147584    ['conv3_block2_1_relu[0][0]'] \n",
            " D)                                                                                               \n",
            "                                                                                                  \n",
            " conv3_block2_2_bn (BatchNo  (None, 20, 20, 128)          512       ['conv3_block2_2_conv[0][0]'] \n",
            " rmalization)                                                                                     \n",
            "                                                                                                  \n",
            " conv3_block2_2_relu (Activ  (None, 20, 20, 128)          0         ['conv3_block2_2_bn[0][0]']   \n",
            " ation)                                                                                           \n",
            "                                                                                                  \n",
            " conv3_block2_3_conv (Conv2  (None, 20, 20, 512)          66048     ['conv3_block2_2_relu[0][0]'] \n",
            " D)                                                                                               \n",
            "                                                                                                  \n",
            " conv3_block2_3_bn (BatchNo  (None, 20, 20, 512)          2048      ['conv3_block2_3_conv[0][0]'] \n",
            " rmalization)                                                                                     \n",
            "                                                                                                  \n",
            " conv3_block2_add (Add)      (None, 20, 20, 512)          0         ['conv3_block1_out[0][0]',    \n",
            "                                                                     'conv3_block2_3_bn[0][0]']   \n",
            "                                                                                                  \n",
            " conv3_block2_out (Activati  (None, 20, 20, 512)          0         ['conv3_block2_add[0][0]']    \n",
            " on)                                                                                              \n",
            "                                                                                                  \n",
            " conv3_block3_1_conv (Conv2  (None, 20, 20, 128)          65664     ['conv3_block2_out[0][0]']    \n",
            " D)                                                                                               \n",
            "                                                                                                  \n",
            " conv3_block3_1_bn (BatchNo  (None, 20, 20, 128)          512       ['conv3_block3_1_conv[0][0]'] \n",
            " rmalization)                                                                                     \n",
            "                                                                                                  \n",
            " conv3_block3_1_relu (Activ  (None, 20, 20, 128)          0         ['conv3_block3_1_bn[0][0]']   \n",
            " ation)                                                                                           \n",
            "                                                                                                  \n",
            " conv3_block3_2_conv (Conv2  (None, 20, 20, 128)          147584    ['conv3_block3_1_relu[0][0]'] \n",
            " D)                                                                                               \n",
            "                                                                                                  \n",
            " conv3_block3_2_bn (BatchNo  (None, 20, 20, 128)          512       ['conv3_block3_2_conv[0][0]'] \n",
            " rmalization)                                                                                     \n",
            "                                                                                                  \n",
            " conv3_block3_2_relu (Activ  (None, 20, 20, 128)          0         ['conv3_block3_2_bn[0][0]']   \n",
            " ation)                                                                                           \n",
            "                                                                                                  \n",
            " conv3_block3_3_conv (Conv2  (None, 20, 20, 512)          66048     ['conv3_block3_2_relu[0][0]'] \n",
            " D)                                                                                               \n",
            "                                                                                                  \n",
            " conv3_block3_3_bn (BatchNo  (None, 20, 20, 512)          2048      ['conv3_block3_3_conv[0][0]'] \n",
            " rmalization)                                                                                     \n",
            "                                                                                                  \n",
            " conv3_block3_add (Add)      (None, 20, 20, 512)          0         ['conv3_block2_out[0][0]',    \n",
            "                                                                     'conv3_block3_3_bn[0][0]']   \n",
            "                                                                                                  \n",
            " conv3_block3_out (Activati  (None, 20, 20, 512)          0         ['conv3_block3_add[0][0]']    \n",
            " on)                                                                                              \n",
            "                                                                                                  \n",
            " conv3_block4_1_conv (Conv2  (None, 20, 20, 128)          65664     ['conv3_block3_out[0][0]']    \n",
            " D)                                                                                               \n",
            "                                                                                                  \n",
            " conv3_block4_1_bn (BatchNo  (None, 20, 20, 128)          512       ['conv3_block4_1_conv[0][0]'] \n",
            " rmalization)                                                                                     \n",
            "                                                                                                  \n",
            " conv3_block4_1_relu (Activ  (None, 20, 20, 128)          0         ['conv3_block4_1_bn[0][0]']   \n",
            " ation)                                                                                           \n",
            "                                                                                                  \n",
            " conv3_block4_2_conv (Conv2  (None, 20, 20, 128)          147584    ['conv3_block4_1_relu[0][0]'] \n",
            " D)                                                                                               \n",
            "                                                                                                  \n",
            " conv3_block4_2_bn (BatchNo  (None, 20, 20, 128)          512       ['conv3_block4_2_conv[0][0]'] \n",
            " rmalization)                                                                                     \n",
            "                                                                                                  \n",
            " conv3_block4_2_relu (Activ  (None, 20, 20, 128)          0         ['conv3_block4_2_bn[0][0]']   \n",
            " ation)                                                                                           \n",
            "                                                                                                  \n",
            " conv3_block4_3_conv (Conv2  (None, 20, 20, 512)          66048     ['conv3_block4_2_relu[0][0]'] \n",
            " D)                                                                                               \n",
            "                                                                                                  \n",
            " conv3_block4_3_bn (BatchNo  (None, 20, 20, 512)          2048      ['conv3_block4_3_conv[0][0]'] \n",
            " rmalization)                                                                                     \n",
            "                                                                                                  \n",
            " conv3_block4_add (Add)      (None, 20, 20, 512)          0         ['conv3_block3_out[0][0]',    \n",
            "                                                                     'conv3_block4_3_bn[0][0]']   \n",
            "                                                                                                  \n",
            " conv3_block4_out (Activati  (None, 20, 20, 512)          0         ['conv3_block4_add[0][0]']    \n",
            " on)                                                                                              \n",
            "                                                                                                  \n",
            " conv4_block1_1_conv (Conv2  (None, 10, 10, 256)          131328    ['conv3_block4_out[0][0]']    \n",
            " D)                                                                                               \n",
            "                                                                                                  \n",
            " conv4_block1_1_bn (BatchNo  (None, 10, 10, 256)          1024      ['conv4_block1_1_conv[0][0]'] \n",
            " rmalization)                                                                                     \n",
            "                                                                                                  \n",
            " conv4_block1_1_relu (Activ  (None, 10, 10, 256)          0         ['conv4_block1_1_bn[0][0]']   \n",
            " ation)                                                                                           \n",
            "                                                                                                  \n",
            " conv4_block1_2_conv (Conv2  (None, 10, 10, 256)          590080    ['conv4_block1_1_relu[0][0]'] \n",
            " D)                                                                                               \n",
            "                                                                                                  \n",
            " conv4_block1_2_bn (BatchNo  (None, 10, 10, 256)          1024      ['conv4_block1_2_conv[0][0]'] \n",
            " rmalization)                                                                                     \n",
            "                                                                                                  \n",
            " conv4_block1_2_relu (Activ  (None, 10, 10, 256)          0         ['conv4_block1_2_bn[0][0]']   \n",
            " ation)                                                                                           \n",
            "                                                                                                  \n",
            " conv4_block1_0_conv (Conv2  (None, 10, 10, 1024)         525312    ['conv3_block4_out[0][0]']    \n",
            " D)                                                                                               \n",
            "                                                                                                  \n",
            " conv4_block1_3_conv (Conv2  (None, 10, 10, 1024)         263168    ['conv4_block1_2_relu[0][0]'] \n",
            " D)                                                                                               \n",
            "                                                                                                  \n",
            " conv4_block1_0_bn (BatchNo  (None, 10, 10, 1024)         4096      ['conv4_block1_0_conv[0][0]'] \n",
            " rmalization)                                                                                     \n",
            "                                                                                                  \n",
            " conv4_block1_3_bn (BatchNo  (None, 10, 10, 1024)         4096      ['conv4_block1_3_conv[0][0]'] \n",
            " rmalization)                                                                                     \n",
            "                                                                                                  \n",
            " conv4_block1_add (Add)      (None, 10, 10, 1024)         0         ['conv4_block1_0_bn[0][0]',   \n",
            "                                                                     'conv4_block1_3_bn[0][0]']   \n",
            "                                                                                                  \n",
            " conv4_block1_out (Activati  (None, 10, 10, 1024)         0         ['conv4_block1_add[0][0]']    \n",
            " on)                                                                                              \n",
            "                                                                                                  \n",
            " conv4_block2_1_conv (Conv2  (None, 10, 10, 256)          262400    ['conv4_block1_out[0][0]']    \n",
            " D)                                                                                               \n",
            "                                                                                                  \n",
            " conv4_block2_1_bn (BatchNo  (None, 10, 10, 256)          1024      ['conv4_block2_1_conv[0][0]'] \n",
            " rmalization)                                                                                     \n",
            "                                                                                                  \n",
            " conv4_block2_1_relu (Activ  (None, 10, 10, 256)          0         ['conv4_block2_1_bn[0][0]']   \n",
            " ation)                                                                                           \n",
            "                                                                                                  \n",
            " conv4_block2_2_conv (Conv2  (None, 10, 10, 256)          590080    ['conv4_block2_1_relu[0][0]'] \n",
            " D)                                                                                               \n",
            "                                                                                                  \n",
            " conv4_block2_2_bn (BatchNo  (None, 10, 10, 256)          1024      ['conv4_block2_2_conv[0][0]'] \n",
            " rmalization)                                                                                     \n",
            "                                                                                                  \n",
            " conv4_block2_2_relu (Activ  (None, 10, 10, 256)          0         ['conv4_block2_2_bn[0][0]']   \n",
            " ation)                                                                                           \n",
            "                                                                                                  \n",
            " conv4_block2_3_conv (Conv2  (None, 10, 10, 1024)         263168    ['conv4_block2_2_relu[0][0]'] \n",
            " D)                                                                                               \n",
            "                                                                                                  \n",
            " conv4_block2_3_bn (BatchNo  (None, 10, 10, 1024)         4096      ['conv4_block2_3_conv[0][0]'] \n",
            " rmalization)                                                                                     \n",
            "                                                                                                  \n",
            " conv4_block2_add (Add)      (None, 10, 10, 1024)         0         ['conv4_block1_out[0][0]',    \n",
            "                                                                     'conv4_block2_3_bn[0][0]']   \n",
            "                                                                                                  \n",
            " conv4_block2_out (Activati  (None, 10, 10, 1024)         0         ['conv4_block2_add[0][0]']    \n",
            " on)                                                                                              \n",
            "                                                                                                  \n",
            " conv4_block3_1_conv (Conv2  (None, 10, 10, 256)          262400    ['conv4_block2_out[0][0]']    \n",
            " D)                                                                                               \n",
            "                                                                                                  \n",
            " conv4_block3_1_bn (BatchNo  (None, 10, 10, 256)          1024      ['conv4_block3_1_conv[0][0]'] \n",
            " rmalization)                                                                                     \n",
            "                                                                                                  \n",
            " conv4_block3_1_relu (Activ  (None, 10, 10, 256)          0         ['conv4_block3_1_bn[0][0]']   \n",
            " ation)                                                                                           \n",
            "                                                                                                  \n",
            " conv4_block3_2_conv (Conv2  (None, 10, 10, 256)          590080    ['conv4_block3_1_relu[0][0]'] \n",
            " D)                                                                                               \n",
            "                                                                                                  \n",
            " conv4_block3_2_bn (BatchNo  (None, 10, 10, 256)          1024      ['conv4_block3_2_conv[0][0]'] \n",
            " rmalization)                                                                                     \n",
            "                                                                                                  \n",
            " conv4_block3_2_relu (Activ  (None, 10, 10, 256)          0         ['conv4_block3_2_bn[0][0]']   \n",
            " ation)                                                                                           \n",
            "                                                                                                  \n",
            " conv4_block3_3_conv (Conv2  (None, 10, 10, 1024)         263168    ['conv4_block3_2_relu[0][0]'] \n",
            " D)                                                                                               \n",
            "                                                                                                  \n",
            " conv4_block3_3_bn (BatchNo  (None, 10, 10, 1024)         4096      ['conv4_block3_3_conv[0][0]'] \n",
            " rmalization)                                                                                     \n",
            "                                                                                                  \n",
            " conv4_block3_add (Add)      (None, 10, 10, 1024)         0         ['conv4_block2_out[0][0]',    \n",
            "                                                                     'conv4_block3_3_bn[0][0]']   \n",
            "                                                                                                  \n",
            " conv4_block3_out (Activati  (None, 10, 10, 1024)         0         ['conv4_block3_add[0][0]']    \n",
            " on)                                                                                              \n",
            "                                                                                                  \n",
            " conv4_block4_1_conv (Conv2  (None, 10, 10, 256)          262400    ['conv4_block3_out[0][0]']    \n",
            " D)                                                                                               \n",
            "                                                                                                  \n",
            " conv4_block4_1_bn (BatchNo  (None, 10, 10, 256)          1024      ['conv4_block4_1_conv[0][0]'] \n",
            " rmalization)                                                                                     \n",
            "                                                                                                  \n",
            " conv4_block4_1_relu (Activ  (None, 10, 10, 256)          0         ['conv4_block4_1_bn[0][0]']   \n",
            " ation)                                                                                           \n",
            "                                                                                                  \n",
            " conv4_block4_2_conv (Conv2  (None, 10, 10, 256)          590080    ['conv4_block4_1_relu[0][0]'] \n",
            " D)                                                                                               \n",
            "                                                                                                  \n",
            " conv4_block4_2_bn (BatchNo  (None, 10, 10, 256)          1024      ['conv4_block4_2_conv[0][0]'] \n",
            " rmalization)                                                                                     \n",
            "                                                                                                  \n",
            " conv4_block4_2_relu (Activ  (None, 10, 10, 256)          0         ['conv4_block4_2_bn[0][0]']   \n",
            " ation)                                                                                           \n",
            "                                                                                                  \n",
            " conv4_block4_3_conv (Conv2  (None, 10, 10, 1024)         263168    ['conv4_block4_2_relu[0][0]'] \n",
            " D)                                                                                               \n",
            "                                                                                                  \n",
            " conv4_block4_3_bn (BatchNo  (None, 10, 10, 1024)         4096      ['conv4_block4_3_conv[0][0]'] \n",
            " rmalization)                                                                                     \n",
            "                                                                                                  \n",
            " conv4_block4_add (Add)      (None, 10, 10, 1024)         0         ['conv4_block3_out[0][0]',    \n",
            "                                                                     'conv4_block4_3_bn[0][0]']   \n",
            "                                                                                                  \n",
            " conv4_block4_out (Activati  (None, 10, 10, 1024)         0         ['conv4_block4_add[0][0]']    \n",
            " on)                                                                                              \n",
            "                                                                                                  \n",
            " conv4_block5_1_conv (Conv2  (None, 10, 10, 256)          262400    ['conv4_block4_out[0][0]']    \n",
            " D)                                                                                               \n",
            "                                                                                                  \n",
            " conv4_block5_1_bn (BatchNo  (None, 10, 10, 256)          1024      ['conv4_block5_1_conv[0][0]'] \n",
            " rmalization)                                                                                     \n",
            "                                                                                                  \n",
            " conv4_block5_1_relu (Activ  (None, 10, 10, 256)          0         ['conv4_block5_1_bn[0][0]']   \n",
            " ation)                                                                                           \n",
            "                                                                                                  \n",
            " conv4_block5_2_conv (Conv2  (None, 10, 10, 256)          590080    ['conv4_block5_1_relu[0][0]'] \n",
            " D)                                                                                               \n",
            "                                                                                                  \n",
            " conv4_block5_2_bn (BatchNo  (None, 10, 10, 256)          1024      ['conv4_block5_2_conv[0][0]'] \n",
            " rmalization)                                                                                     \n",
            "                                                                                                  \n",
            " conv4_block5_2_relu (Activ  (None, 10, 10, 256)          0         ['conv4_block5_2_bn[0][0]']   \n",
            " ation)                                                                                           \n",
            "                                                                                                  \n",
            " conv4_block5_3_conv (Conv2  (None, 10, 10, 1024)         263168    ['conv4_block5_2_relu[0][0]'] \n",
            " D)                                                                                               \n",
            "                                                                                                  \n",
            " conv4_block5_3_bn (BatchNo  (None, 10, 10, 1024)         4096      ['conv4_block5_3_conv[0][0]'] \n",
            " rmalization)                                                                                     \n",
            "                                                                                                  \n",
            " conv4_block5_add (Add)      (None, 10, 10, 1024)         0         ['conv4_block4_out[0][0]',    \n",
            "                                                                     'conv4_block5_3_bn[0][0]']   \n",
            "                                                                                                  \n",
            " conv4_block5_out (Activati  (None, 10, 10, 1024)         0         ['conv4_block5_add[0][0]']    \n",
            " on)                                                                                              \n",
            "                                                                                                  \n",
            " conv4_block6_1_conv (Conv2  (None, 10, 10, 256)          262400    ['conv4_block5_out[0][0]']    \n",
            " D)                                                                                               \n",
            "                                                                                                  \n",
            " conv4_block6_1_bn (BatchNo  (None, 10, 10, 256)          1024      ['conv4_block6_1_conv[0][0]'] \n",
            " rmalization)                                                                                     \n",
            "                                                                                                  \n",
            " conv4_block6_1_relu (Activ  (None, 10, 10, 256)          0         ['conv4_block6_1_bn[0][0]']   \n",
            " ation)                                                                                           \n",
            "                                                                                                  \n",
            " conv4_block6_2_conv (Conv2  (None, 10, 10, 256)          590080    ['conv4_block6_1_relu[0][0]'] \n",
            " D)                                                                                               \n",
            "                                                                                                  \n",
            " conv4_block6_2_bn (BatchNo  (None, 10, 10, 256)          1024      ['conv4_block6_2_conv[0][0]'] \n",
            " rmalization)                                                                                     \n",
            "                                                                                                  \n",
            " conv4_block6_2_relu (Activ  (None, 10, 10, 256)          0         ['conv4_block6_2_bn[0][0]']   \n",
            " ation)                                                                                           \n",
            "                                                                                                  \n",
            " conv4_block6_3_conv (Conv2  (None, 10, 10, 1024)         263168    ['conv4_block6_2_relu[0][0]'] \n",
            " D)                                                                                               \n",
            "                                                                                                  \n",
            " conv4_block6_3_bn (BatchNo  (None, 10, 10, 1024)         4096      ['conv4_block6_3_conv[0][0]'] \n",
            " rmalization)                                                                                     \n",
            "                                                                                                  \n",
            " conv4_block6_add (Add)      (None, 10, 10, 1024)         0         ['conv4_block5_out[0][0]',    \n",
            "                                                                     'conv4_block6_3_bn[0][0]']   \n",
            "                                                                                                  \n",
            " conv4_block6_out (Activati  (None, 10, 10, 1024)         0         ['conv4_block6_add[0][0]']    \n",
            " on)                                                                                              \n",
            "                                                                                                  \n",
            " conv5_block1_1_conv (Conv2  (None, 5, 5, 512)            524800    ['conv4_block6_out[0][0]']    \n",
            " D)                                                                                               \n",
            "                                                                                                  \n",
            " conv5_block1_1_bn (BatchNo  (None, 5, 5, 512)            2048      ['conv5_block1_1_conv[0][0]'] \n",
            " rmalization)                                                                                     \n",
            "                                                                                                  \n",
            " conv5_block1_1_relu (Activ  (None, 5, 5, 512)            0         ['conv5_block1_1_bn[0][0]']   \n",
            " ation)                                                                                           \n",
            "                                                                                                  \n",
            " conv5_block1_2_conv (Conv2  (None, 5, 5, 512)            2359808   ['conv5_block1_1_relu[0][0]'] \n",
            " D)                                                                                               \n",
            "                                                                                                  \n",
            " conv5_block1_2_bn (BatchNo  (None, 5, 5, 512)            2048      ['conv5_block1_2_conv[0][0]'] \n",
            " rmalization)                                                                                     \n",
            "                                                                                                  \n",
            " conv5_block1_2_relu (Activ  (None, 5, 5, 512)            0         ['conv5_block1_2_bn[0][0]']   \n",
            " ation)                                                                                           \n",
            "                                                                                                  \n",
            " conv5_block1_0_conv (Conv2  (None, 5, 5, 2048)           2099200   ['conv4_block6_out[0][0]']    \n",
            " D)                                                                                               \n",
            "                                                                                                  \n",
            " conv5_block1_3_conv (Conv2  (None, 5, 5, 2048)           1050624   ['conv5_block1_2_relu[0][0]'] \n",
            " D)                                                                                               \n",
            "                                                                                                  \n",
            " conv5_block1_0_bn (BatchNo  (None, 5, 5, 2048)           8192      ['conv5_block1_0_conv[0][0]'] \n",
            " rmalization)                                                                                     \n",
            "                                                                                                  \n",
            " conv5_block1_3_bn (BatchNo  (None, 5, 5, 2048)           8192      ['conv5_block1_3_conv[0][0]'] \n",
            " rmalization)                                                                                     \n",
            "                                                                                                  \n",
            " conv5_block1_add (Add)      (None, 5, 5, 2048)           0         ['conv5_block1_0_bn[0][0]',   \n",
            "                                                                     'conv5_block1_3_bn[0][0]']   \n",
            "                                                                                                  \n",
            " conv5_block1_out (Activati  (None, 5, 5, 2048)           0         ['conv5_block1_add[0][0]']    \n",
            " on)                                                                                              \n",
            "                                                                                                  \n",
            " conv5_block2_1_conv (Conv2  (None, 5, 5, 512)            1049088   ['conv5_block1_out[0][0]']    \n",
            " D)                                                                                               \n",
            "                                                                                                  \n",
            " conv5_block2_1_bn (BatchNo  (None, 5, 5, 512)            2048      ['conv5_block2_1_conv[0][0]'] \n",
            " rmalization)                                                                                     \n",
            "                                                                                                  \n",
            " conv5_block2_1_relu (Activ  (None, 5, 5, 512)            0         ['conv5_block2_1_bn[0][0]']   \n",
            " ation)                                                                                           \n",
            "                                                                                                  \n",
            " conv5_block2_2_conv (Conv2  (None, 5, 5, 512)            2359808   ['conv5_block2_1_relu[0][0]'] \n",
            " D)                                                                                               \n",
            "                                                                                                  \n",
            " conv5_block2_2_bn (BatchNo  (None, 5, 5, 512)            2048      ['conv5_block2_2_conv[0][0]'] \n",
            " rmalization)                                                                                     \n",
            "                                                                                                  \n",
            " conv5_block2_2_relu (Activ  (None, 5, 5, 512)            0         ['conv5_block2_2_bn[0][0]']   \n",
            " ation)                                                                                           \n",
            "                                                                                                  \n",
            " conv5_block2_3_conv (Conv2  (None, 5, 5, 2048)           1050624   ['conv5_block2_2_relu[0][0]'] \n",
            " D)                                                                                               \n",
            "                                                                                                  \n",
            " conv5_block2_3_bn (BatchNo  (None, 5, 5, 2048)           8192      ['conv5_block2_3_conv[0][0]'] \n",
            " rmalization)                                                                                     \n",
            "                                                                                                  \n",
            " conv5_block2_add (Add)      (None, 5, 5, 2048)           0         ['conv5_block1_out[0][0]',    \n",
            "                                                                     'conv5_block2_3_bn[0][0]']   \n",
            "                                                                                                  \n",
            " conv5_block2_out (Activati  (None, 5, 5, 2048)           0         ['conv5_block2_add[0][0]']    \n",
            " on)                                                                                              \n",
            "                                                                                                  \n",
            " conv5_block3_1_conv (Conv2  (None, 5, 5, 512)            1049088   ['conv5_block2_out[0][0]']    \n",
            " D)                                                                                               \n",
            "                                                                                                  \n",
            " conv5_block3_1_bn (BatchNo  (None, 5, 5, 512)            2048      ['conv5_block3_1_conv[0][0]'] \n",
            " rmalization)                                                                                     \n",
            "                                                                                                  \n",
            " conv5_block3_1_relu (Activ  (None, 5, 5, 512)            0         ['conv5_block3_1_bn[0][0]']   \n",
            " ation)                                                                                           \n",
            "                                                                                                  \n",
            " conv5_block3_2_conv (Conv2  (None, 5, 5, 512)            2359808   ['conv5_block3_1_relu[0][0]'] \n",
            " D)                                                                                               \n",
            "                                                                                                  \n",
            " conv5_block3_2_bn (BatchNo  (None, 5, 5, 512)            2048      ['conv5_block3_2_conv[0][0]'] \n",
            " rmalization)                                                                                     \n",
            "                                                                                                  \n",
            " conv5_block3_2_relu (Activ  (None, 5, 5, 512)            0         ['conv5_block3_2_bn[0][0]']   \n",
            " ation)                                                                                           \n",
            "                                                                                                  \n",
            " conv5_block3_3_conv (Conv2  (None, 5, 5, 2048)           1050624   ['conv5_block3_2_relu[0][0]'] \n",
            " D)                                                                                               \n",
            "                                                                                                  \n",
            " conv5_block3_3_bn (BatchNo  (None, 5, 5, 2048)           8192      ['conv5_block3_3_conv[0][0]'] \n",
            " rmalization)                                                                                     \n",
            "                                                                                                  \n",
            " conv5_block3_add (Add)      (None, 5, 5, 2048)           0         ['conv5_block2_out[0][0]',    \n",
            "                                                                     'conv5_block3_3_bn[0][0]']   \n",
            "                                                                                                  \n",
            " conv5_block3_out (Activati  (None, 5, 5, 2048)           0         ['conv5_block3_add[0][0]']    \n",
            " on)                                                                                              \n",
            "                                                                                                  \n",
            " global_average_pooling2d (  (None, 2048)                 0         ['conv5_block3_out[0][0]']    \n",
            " GlobalAveragePooling2D)                                                                          \n",
            "                                                                                                  \n",
            " dense (Dense)               (None, 256)                  524544    ['global_average_pooling2d[0][\n",
            "                                                                    0]']                          \n",
            "                                                                                                  \n",
            " dense_1 (Dense)             (None, 43)                   11051     ['dense[0][0]']               \n",
            "                                                                                                  \n",
            "==================================================================================================\n",
            "Total params: 24123307 (92.02 MB)\n",
            "Trainable params: 24070187 (91.82 MB)\n",
            "Non-trainable params: 53120 (207.50 KB)\n",
            "__________________________________________________________________________________________________\n"
          ]
        }
      ],
      "source": [
        "model_resnet.summary()"
      ]
    },
    {
      "cell_type": "markdown",
      "metadata": {
        "id": "9ac7tzoPftMN"
      },
      "source": [
        "A learning rate decay function is used to allow the model to learn at a slower rate as it develops. It reduces the learning rate by 5% in each epoch after epoch 3."
      ]
    },
    {
      "cell_type": "code",
      "execution_count": null,
      "metadata": {
        "id": "BeP7h-9qTkWA"
      },
      "outputs": [],
      "source": [
        "# Define a learning rate decay function\n",
        "def lr_decay(epoch, lr):\n",
        "    if epoch < 3:\n",
        "        return lr  # Keep the initial learning rate for the first 3 epochs\n",
        "    else:\n",
        "        return lr * 0.95  # Decrease the learning rate by 5% after each epoch\n",
        "\n",
        "# Scheduler callback for learning rate\n",
        "lr_scheduler = LearningRateScheduler(lr_decay)"
      ]
    },
    {
      "cell_type": "markdown",
      "metadata": {
        "id": "YQeo_0F7gBbn"
      },
      "source": [
        "The model is developed below with early stopping call backs:"
      ]
    },
    {
      "cell_type": "code",
      "execution_count": null,
      "metadata": {
        "colab": {
          "base_uri": "https://localhost:8080/"
        },
        "id": "m0sYx0qRTFsH",
        "outputId": "b3148b25-6b0d-43fc-9ac7-e1e3241b00a7"
      },
      "outputs": [
        {
          "name": "stdout",
          "output_type": "stream",
          "text": [
            "Epoch 1/30\n",
            "667/667 [==============================] - 188s 207ms/step - loss: 0.4551 - accuracy: 0.8675 - val_loss: 2.9034 - val_accuracy: 0.2568 - lr: 0.0010\n",
            "Epoch 2/30\n",
            "667/667 [==============================] - 135s 203ms/step - loss: 0.0954 - accuracy: 0.9733 - val_loss: 0.4905 - val_accuracy: 0.8783 - lr: 0.0010\n",
            "Epoch 3/30\n",
            "667/667 [==============================] - 136s 204ms/step - loss: 0.0568 - accuracy: 0.9838 - val_loss: 0.2310 - val_accuracy: 0.9319 - lr: 0.0010\n",
            "Epoch 4/30\n",
            "667/667 [==============================] - 137s 205ms/step - loss: 0.0533 - accuracy: 0.9853 - val_loss: 0.1140 - val_accuracy: 0.9674 - lr: 9.5000e-04\n",
            "Epoch 5/30\n",
            "667/667 [==============================] - 137s 206ms/step - loss: 0.0331 - accuracy: 0.9913 - val_loss: 0.0680 - val_accuracy: 0.9805 - lr: 9.0250e-04\n",
            "Epoch 6/30\n",
            "667/667 [==============================] - 138s 206ms/step - loss: 0.0336 - accuracy: 0.9899 - val_loss: 0.2119 - val_accuracy: 0.9484 - lr: 8.5737e-04\n",
            "Epoch 7/30\n",
            "667/667 [==============================] - 138s 207ms/step - loss: 0.0172 - accuracy: 0.9956 - val_loss: 0.0670 - val_accuracy: 0.9792 - lr: 8.1451e-04\n",
            "Epoch 8/30\n",
            "667/667 [==============================] - 138s 207ms/step - loss: 0.0265 - accuracy: 0.9930 - val_loss: 1.4890 - val_accuracy: 0.8027 - lr: 7.7378e-04\n",
            "Epoch 9/30\n",
            "667/667 [==============================] - 138s 207ms/step - loss: 0.0224 - accuracy: 0.9939 - val_loss: 0.2155 - val_accuracy: 0.9499 - lr: 7.3509e-04\n",
            "Epoch 10/30\n",
            "667/667 [==============================] - 148s 221ms/step - loss: 0.0196 - accuracy: 0.9950 - val_loss: 0.2112 - val_accuracy: 0.9524 - lr: 6.9834e-04\n",
            "Epoch 11/30\n",
            "667/667 [==============================] - 137s 205ms/step - loss: 0.0055 - accuracy: 0.9985 - val_loss: 0.0784 - val_accuracy: 0.9758 - lr: 6.6342e-04\n",
            "Epoch 12/30\n",
            "667/667 [==============================] - 137s 206ms/step - loss: 0.0177 - accuracy: 0.9961 - val_loss: 0.0577 - val_accuracy: 0.9850 - lr: 6.3025e-04\n",
            "Epoch 13/30\n",
            "667/667 [==============================] - 138s 206ms/step - loss: 0.0150 - accuracy: 0.9962 - val_loss: 0.0184 - val_accuracy: 0.9944 - lr: 5.9874e-04\n",
            "Epoch 14/30\n",
            "667/667 [==============================] - 138s 207ms/step - loss: 0.0114 - accuracy: 0.9971 - val_loss: 0.0089 - val_accuracy: 0.9977 - lr: 5.6880e-04\n",
            "Epoch 15/30\n",
            "667/667 [==============================] - 138s 206ms/step - loss: 0.0065 - accuracy: 0.9987 - val_loss: 0.0114 - val_accuracy: 0.9964 - lr: 5.4036e-04\n",
            "Epoch 16/30\n",
            "667/667 [==============================] - 138s 206ms/step - loss: 0.0018 - accuracy: 0.9996 - val_loss: 0.0049 - val_accuracy: 0.9985 - lr: 5.1334e-04\n",
            "Epoch 17/30\n",
            "667/667 [==============================] - 138s 207ms/step - loss: 5.1238e-05 - accuracy: 1.0000 - val_loss: 0.0041 - val_accuracy: 0.9987 - lr: 4.8767e-04\n",
            "Epoch 18/30\n",
            "667/667 [==============================] - 137s 206ms/step - loss: 2.3630e-05 - accuracy: 1.0000 - val_loss: 0.0033 - val_accuracy: 0.9987 - lr: 4.6329e-04\n",
            "Epoch 19/30\n",
            "667/667 [==============================] - 137s 206ms/step - loss: 1.1334e-05 - accuracy: 1.0000 - val_loss: 0.0031 - val_accuracy: 0.9989 - lr: 4.4013e-04\n",
            "Epoch 20/30\n",
            "667/667 [==============================] - 138s 206ms/step - loss: 1.0466e-05 - accuracy: 1.0000 - val_loss: 0.0029 - val_accuracy: 0.9989 - lr: 4.1812e-04\n",
            "Epoch 21/30\n",
            "667/667 [==============================] - 137s 206ms/step - loss: 5.8868e-06 - accuracy: 1.0000 - val_loss: 0.0029 - val_accuracy: 0.9989 - lr: 3.9721e-04\n",
            "Epoch 22/30\n",
            "667/667 [==============================] - 137s 206ms/step - loss: 5.2039e-06 - accuracy: 1.0000 - val_loss: 0.0028 - val_accuracy: 0.9989 - lr: 3.7735e-04\n",
            "Epoch 23/30\n",
            "667/667 [==============================] - 137s 205ms/step - loss: 2.3113e-06 - accuracy: 1.0000 - val_loss: 0.0027 - val_accuracy: 0.9989 - lr: 3.5849e-04\n",
            "Epoch 24/30\n",
            "667/667 [==============================] - 138s 207ms/step - loss: 2.1330e-06 - accuracy: 1.0000 - val_loss: 0.0027 - val_accuracy: 0.9991 - lr: 3.4056e-04\n",
            "Epoch 25/30\n",
            "667/667 [==============================] - 138s 206ms/step - loss: 2.4995e-06 - accuracy: 1.0000 - val_loss: 0.0029 - val_accuracy: 0.9991 - lr: 3.2353e-04\n",
            "Epoch 26/30\n",
            "667/667 [==============================] - 138s 206ms/step - loss: 0.0118 - accuracy: 0.9974 - val_loss: 0.0601 - val_accuracy: 0.9861 - lr: 3.0736e-04\n",
            "Epoch 27/30\n",
            "667/667 [==============================] - 138s 206ms/step - loss: 0.0053 - accuracy: 0.9984 - val_loss: 0.0590 - val_accuracy: 0.9846 - lr: 2.9199e-04\n",
            "Epoch 28/30\n",
            "667/667 [==============================] - 138s 206ms/step - loss: 0.0016 - accuracy: 0.9996 - val_loss: 0.0088 - val_accuracy: 0.9977 - lr: 2.7739e-04\n",
            "Epoch 29/30\n",
            "667/667 [==============================] - 138s 206ms/step - loss: 6.3567e-05 - accuracy: 1.0000 - val_loss: 0.0066 - val_accuracy: 0.9989 - lr: 2.6352e-04\n",
            "Model training completed.\n"
          ]
        }
      ],
      "source": [
        "# Early stopping callback\n",
        "early_stopping = EarlyStopping(monitor='val_loss', patience=5, restore_best_weights=True)\n",
        "\n",
        "# Train the model\n",
        "num_epochs = 30\n",
        "history_simpleRes = model_resnet.fit(train_generator,\n",
        "                                     epochs=num_epochs,\n",
        "                                     validation_data=valid_generator,\n",
        "                                     callbacks=[early_stopping,  lr_scheduler])\n",
        "\n",
        "print(\"Model training completed.\")"
      ]
    },
    {
      "cell_type": "markdown",
      "metadata": {
        "id": "CYjo1YnfgH_V"
      },
      "source": [
        "The training stopped at epoch 29 as the model started overfitting (shown by the validation loss). Resnet model shown a **significantly higher accuracy and precision** as compared to the in house CNN model. However, it takes **more than 3 times the time** in training for each epoch.\n",
        "\n",
        "\n",
        "The training accuracy and validation accuracy graph are shown below."
      ]
    },
    {
      "cell_type": "code",
      "execution_count": null,
      "metadata": {
        "colab": {
          "base_uri": "https://localhost:8080/",
          "height": 402
        },
        "id": "Zn9XUczieoVY",
        "outputId": "2c42a2f4-1704-4188-8c53-2b7b198222d6"
      },
      "outputs": [
        {
          "data": {
            "image/png": "[encoded data removed]",
            "text/plain": [
              "<Figure size 1200x600 with 2 Axes>"
            ]
          },
          "metadata": {},
          "output_type": "display_data"
        }
      ],
      "source": [
        "plot_training_history(history_simpleRes)"
      ]
    },
    {
      "cell_type": "markdown",
      "metadata": {
        "id": "wv4b9bW_gikO"
      },
      "source": [
        "There are some fluctuation in valiation accuracy and loss at the earlier part of the training."
      ]
    },
    {
      "cell_type": "code",
      "execution_count": null,
      "metadata": {
        "colab": {
          "base_uri": "https://localhost:8080/"
        },
        "id": "ubZZ4EK_jRRD",
        "outputId": "9362d422-16a7-4436-b14a-1d52c2d52827"
      },
      "outputs": [
        {
          "name": "stdout",
          "output_type": "stream",
          "text": [
            "Training Accuracy Increase Rate: 0.004730535405022758\n",
            "Validation Accuracy Increase Rate: 0.02650439419916698\n"
          ]
        }
      ],
      "source": [
        "# Increasing rate\n",
        "train_rate_SCNN, val_rate_SCNN = calculate_accuracy_increase_rate(history_simpleRes)\n",
        "print(\"Training Accuracy Increase Rate:\", train_rate_SCNN)\n",
        "print(\"Validation Accuracy Increase Rate:\", val_rate_SCNN)"
      ]
    },
    {
      "cell_type": "markdown",
      "metadata": {
        "id": "-5QU0HyUgw8C"
      },
      "source": [
        "The rate of increase for accuracy is about **one magnitude slower** than that of CNN model with identical training data."
      ]
    },
    {
      "cell_type": "markdown",
      "metadata": {
        "id": "hZXbALaIhEC4"
      },
      "source": [
        "Then, the model is evaluated on the test data"
      ]
    },
    {
      "cell_type": "code",
      "execution_count": null,
      "metadata": {
        "colab": {
          "base_uri": "https://localhost:8080/"
        },
        "id": "nU0BSx5cqIvH",
        "outputId": "6bea8355-7bbb-46bd-b12b-72f608215f19"
      },
      "outputs": [
        {
          "name": "stdout",
          "output_type": "stream",
          "text": [
            "394/394 [==============================] - 33s 83ms/step - loss: 1.3424 - accuracy: 0.8267\n",
            "Test Loss: 1.3424\n",
            "Test Accuracy: 0.8267\n"
          ]
        }
      ],
      "source": [
        "# Test the model with the test data\n",
        "test_loss_SCNN, test_accuracy_SCNN = model_resnet.evaluate(test_generator)\n",
        "\n",
        "print(f\"Test Loss: {test_loss_SCNN:.4f}\") #+11\n",
        "print(f\"Test Accuracy: {test_accuracy_SCNN:.4f}\")"
      ]
    },
    {
      "cell_type": "code",
      "execution_count": null,
      "metadata": {
        "colab": {
          "base_uri": "https://localhost:8080/"
        },
        "id": "pRYMAq09qSus",
        "outputId": "c88b4d5f-5f47-4cca-8cd5-5df913b75830"
      },
      "outputs": [
        {
          "name": "stdout",
          "output_type": "stream",
          "text": [
            "394/394 [==============================] - 33s 80ms/step\n",
            "Precision Score: 0.8592\n"
          ]
        }
      ],
      "source": [
        "# Make predictions on the test data\n",
        "test_pred_SCNN = model_resnet.predict(test_generator)\n",
        "\n",
        "# Convert one-hot encoded predictions back to class labels\n",
        "pred_labels_SCNN = np.argmax(test_pred_SCNN, axis=1)\n",
        "\n",
        "# Calculate the precision score\n",
        "precision_SCNN = precision_score(true_labels, pred_labels_SCNN, average='weighted')\n",
        "\n",
        "print(f\"Precision Score: {precision_SCNN:.4f}\")"
      ]
    },
    {
      "cell_type": "code",
      "execution_count": null,
      "metadata": {
        "colab": {
          "base_uri": "https://localhost:8080/"
        },
        "id": "2DxGUG22tefV",
        "outputId": "ad79430b-5305-4135-bef8-71185df0554d"
      },
      "outputs": [
        {
          "name": "stdout",
          "output_type": "stream",
          "text": [
            "Classification Report:\n",
            "               precision    recall  f1-score   support\n",
            "\n",
            "           0       0.90      1.00      0.95       293\n",
            "           1       0.97      1.00      0.98       293\n",
            "           2       0.99      0.98      0.98       293\n",
            "           3       0.92      1.00      0.95       293\n",
            "           4       0.50      0.90      0.64       293\n",
            "           5       0.94      1.00      0.97       293\n",
            "           6       0.25      0.83      0.38       293\n",
            "           7       0.99      1.00      0.99       293\n",
            "           8       0.99      0.98      0.98       293\n",
            "           9       0.42      0.66      0.51       293\n",
            "          10       0.95      0.98      0.96       293\n",
            "          11       0.95      1.00      0.98       293\n",
            "          12       0.94      0.99      0.97       293\n",
            "          13       0.82      1.00      0.90       293\n",
            "          14       0.87      0.90      0.89       293\n",
            "          15       0.97      0.75      0.85       293\n",
            "          16       0.75      0.99      0.85       293\n",
            "          17       0.97      0.98      0.97       293\n",
            "          18       0.85      0.96      0.90       293\n",
            "          19       0.67      0.77      0.72       293\n",
            "          20       0.94      0.95      0.94       293\n",
            "          21       0.93      0.98      0.95       293\n",
            "          22       0.92      0.97      0.94       293\n",
            "          23       0.96      0.97      0.97       293\n",
            "          24       0.79      0.85      0.82       293\n",
            "          25       0.97      0.92      0.95       293\n",
            "          26       0.96      1.00      0.98       293\n",
            "          27       1.00      0.35      0.52       293\n",
            "          28       0.76      0.14      0.24       293\n",
            "          29       0.93      0.68      0.78       293\n",
            "          30       0.94      0.35      0.51       293\n",
            "          31       0.96      0.26      0.41       293\n",
            "          32       0.96      0.56      0.71       293\n",
            "          33       0.25      0.11      0.15       293\n",
            "          34       0.99      0.99      0.99       293\n",
            "          35       0.25      0.05      0.09       293\n",
            "          36       0.98      1.00      0.99       293\n",
            "          37       0.99      0.98      0.99       293\n",
            "          38       0.92      0.96      0.94       293\n",
            "          39       0.99      0.91      0.95       293\n",
            "          40       0.95      0.99      0.97       293\n",
            "          41       1.00      0.94      0.97       293\n",
            "          42       0.99      1.00      0.99       293\n",
            "\n",
            "    accuracy                           0.83     12599\n",
            "   macro avg       0.86      0.83      0.82     12599\n",
            "weighted avg       0.86      0.83      0.82     12599\n",
            "\n"
          ]
        }
      ],
      "source": [
        "# Generate a classification report\n",
        "class_rep_SCNN = classification_report(true_labels, pred_labels_SCNN, target_names=class_names)\n",
        "\n",
        "print(\"Classification Report:\\n\", class_rep_SCNN)"
      ]
    },
    {
      "cell_type": "markdown",
      "metadata": {
        "id": "o3uVelLFhGIg"
      },
      "source": [
        "Generally, the model is **performing well** with a test accuracy of 82.67% and test precision of 85.92%. However, both value were **slightly lower than the simple CNN** implementation. Given the significantly lesser training time needed for CNN, the **CNN model is prefered**."
      ]
    },
    {
      "cell_type": "markdown",
      "metadata": {
        "id": "me2jCS4-t0Vj"
      },
      "source": [
        "**<h2> Model 2: Adding more complexity to ResNet model</h2>**\n",
        "\n"
      ]
    },
    {
      "cell_type": "markdown",
      "metadata": {
        "id": "jjUFO2mmT4RJ"
      },
      "source": [
        "More complexity is added to the model base on ResNet with regularization added:\n",
        "\n",
        "*   Added more **Dense layers** with increasing filters to capture more complex features\n",
        "\n",
        "*   Added **batch normalization** layers after each convolutional and dense layer to help stabilize training. (Recommended in chapter 7.3.1 Advanced architechtures in Deep Learning with Python, Francois Chollet)\n"
      ]
    },
    {
      "cell_type": "markdown",
      "metadata": {
        "id": "GgHjQxkkh-fr"
      },
      "source": [
        "This implementation is still a **transfered learning** of the original ResNet50 model."
      ]
    },
    {
      "cell_type": "code",
      "execution_count": null,
      "metadata": {
        "id": "auZ9snLUWmoB"
      },
      "outputs": [],
      "source": [
        "# Define the ResNet50 base model\n",
        "input_layer = Input(shape=(160, 160, 3))\n",
        "base_model = ResNet50(weights='imagenet', include_top=False, input_tensor=input_layer)"
      ]
    },
    {
      "cell_type": "code",
      "execution_count": null,
      "metadata": {
        "id": "B57Siq1yYQZL"
      },
      "outputs": [],
      "source": [
        "# Add custom head layers\n",
        "x = base_model.output\n",
        "x = GlobalAveragePooling2D()(x)  # Apply Global Average Pooling to the 4D tensor\n",
        "x = Dense(256, activation='relu', kernel_regularizer=regularizers.l2(0.001))(x)  # Add L2 regularization\n",
        "x = BatchNormalization()(x)  # Add Batch Normalization\n",
        "x = Dropout(0.5)(x)  # Add Dropout for regularization\n",
        "x = Dense(128, activation='relu', kernel_regularizer=regularizers.l2(0.001))(x)  # Another dense layer with regularization\n",
        "x = BatchNormalization()(x)\n",
        "x = Dropout(0.5)(x)\n",
        "output_layer = Dense(num_classes, activation='softmax')(x)  # Use num_classes\n",
        "\n",
        "# Create the model\n",
        "model_resnet_complex = Model(inputs=base_model.input, outputs=output_layer)\n",
        "\n",
        "# Compile the model\n",
        "model_resnet_complex.compile(optimizer=Adam(), loss='categorical_crossentropy', metrics=['accuracy'])"
      ]
    },
    {
      "cell_type": "markdown",
      "metadata": {
        "id": "2zxB5HWViYlT"
      },
      "source": [
        "A simple summary of the model is displayed:"
      ]
    },
    {
      "cell_type": "code",
      "execution_count": null,
      "metadata": {
        "colab": {
          "base_uri": "https://localhost:8080/"
        },
        "id": "BXOBt8CkYt9-",
        "outputId": "ffd158a8-b352-429e-b2b9-3be05fb3b6da"
      },
      "outputs": [
        {
          "name": "stdout",
          "output_type": "stream",
          "text": [
            "Model: \"model_1\"\n",
            "__________________________________________________________________________________________________\n",
            " Layer (type)                Output Shape                 Param #   Connected to                  \n",
            "==================================================================================================\n",
            " input_3 (InputLayer)        [(None, 160, 160, 3)]        0         []                            \n",
            "                                                                                                  \n",
            " conv1_pad (ZeroPadding2D)   (None, 166, 166, 3)          0         ['input_3[0][0]']             \n",
            "                                                                                                  \n",
            " conv1_conv (Conv2D)         (None, 80, 80, 64)           9472      ['conv1_pad[0][0]']           \n",
            "                                                                                                  \n",
            " conv1_bn (BatchNormalizati  (None, 80, 80, 64)           256       ['conv1_conv[0][0]']          \n",
            " on)                                                                                              \n",
            "                                                                                                  \n",
            " conv1_relu (Activation)     (None, 80, 80, 64)           0         ['conv1_bn[0][0]']            \n",
            "                                                                                                  \n",
            " pool1_pad (ZeroPadding2D)   (None, 82, 82, 64)           0         ['conv1_relu[0][0]']          \n",
            "                                                                                                  \n",
            " pool1_pool (MaxPooling2D)   (None, 40, 40, 64)           0         ['pool1_pad[0][0]']           \n",
            "                                                                                                  \n",
            " conv2_block1_1_conv (Conv2  (None, 40, 40, 64)           4160      ['pool1_pool[0][0]']          \n",
            " D)                                                                                               \n",
            "                                                                                                  \n",
            " conv2_block1_1_bn (BatchNo  (None, 40, 40, 64)           256       ['conv2_block1_1_conv[0][0]'] \n",
            " rmalization)                                                                                     \n",
            "                                                                                                  \n",
            " conv2_block1_1_relu (Activ  (None, 40, 40, 64)           0         ['conv2_block1_1_bn[0][0]']   \n",
            " ation)                                                                                           \n",
            "                                                                                                  \n",
            " conv2_block1_2_conv (Conv2  (None, 40, 40, 64)           36928     ['conv2_block1_1_relu[0][0]'] \n",
            " D)                                                                                               \n",
            "                                                                                                  \n",
            " conv2_block1_2_bn (BatchNo  (None, 40, 40, 64)           256       ['conv2_block1_2_conv[0][0]'] \n",
            " rmalization)                                                                                     \n",
            "                                                                                                  \n",
            " conv2_block1_2_relu (Activ  (None, 40, 40, 64)           0         ['conv2_block1_2_bn[0][0]']   \n",
            " ation)                                                                                           \n",
            "                                                                                                  \n",
            " conv2_block1_0_conv (Conv2  (None, 40, 40, 256)          16640     ['pool1_pool[0][0]']          \n",
            " D)                                                                                               \n",
            "                                                                                                  \n",
            " conv2_block1_3_conv (Conv2  (None, 40, 40, 256)          16640     ['conv2_block1_2_relu[0][0]'] \n",
            " D)                                                                                               \n",
            "                                                                                                  \n",
            " conv2_block1_0_bn (BatchNo  (None, 40, 40, 256)          1024      ['conv2_block1_0_conv[0][0]'] \n",
            " rmalization)                                                                                     \n",
            "                                                                                                  \n",
            " conv2_block1_3_bn (BatchNo  (None, 40, 40, 256)          1024      ['conv2_block1_3_conv[0][0]'] \n",
            " rmalization)                                                                                     \n",
            "                                                                                                  \n",
            " conv2_block1_add (Add)      (None, 40, 40, 256)          0         ['conv2_block1_0_bn[0][0]',   \n",
            "                                                                     'conv2_block1_3_bn[0][0]']   \n",
            "                                                                                                  \n",
            " conv2_block1_out (Activati  (None, 40, 40, 256)          0         ['conv2_block1_add[0][0]']    \n",
            " on)                                                                                              \n",
            "                                                                                                  \n",
            " conv2_block2_1_conv (Conv2  (None, 40, 40, 64)           16448     ['conv2_block1_out[0][0]']    \n",
            " D)                                                                                               \n",
            "                                                                                                  \n",
            " conv2_block2_1_bn (BatchNo  (None, 40, 40, 64)           256       ['conv2_block2_1_conv[0][0]'] \n",
            " rmalization)                                                                                     \n",
            "                                                                                                  \n",
            " conv2_block2_1_relu (Activ  (None, 40, 40, 64)           0         ['conv2_block2_1_bn[0][0]']   \n",
            " ation)                                                                                           \n",
            "                                                                                                  \n",
            " conv2_block2_2_conv (Conv2  (None, 40, 40, 64)           36928     ['conv2_block2_1_relu[0][0]'] \n",
            " D)                                                                                               \n",
            "                                                                                                  \n",
            " conv2_block2_2_bn (BatchNo  (None, 40, 40, 64)           256       ['conv2_block2_2_conv[0][0]'] \n",
            " rmalization)                                                                                     \n",
            "                                                                                                  \n",
            " conv2_block2_2_relu (Activ  (None, 40, 40, 64)           0         ['conv2_block2_2_bn[0][0]']   \n",
            " ation)                                                                                           \n",
            "                                                                                                  \n",
            " conv2_block2_3_conv (Conv2  (None, 40, 40, 256)          16640     ['conv2_block2_2_relu[0][0]'] \n",
            " D)                                                                                               \n",
            "                                                                                                  \n",
            " conv2_block2_3_bn (BatchNo  (None, 40, 40, 256)          1024      ['conv2_block2_3_conv[0][0]'] \n",
            " rmalization)                                                                                     \n",
            "                                                                                                  \n",
            " conv2_block2_add (Add)      (None, 40, 40, 256)          0         ['conv2_block1_out[0][0]',    \n",
            "                                                                     'conv2_block2_3_bn[0][0]']   \n",
            "                                                                                                  \n",
            " conv2_block2_out (Activati  (None, 40, 40, 256)          0         ['conv2_block2_add[0][0]']    \n",
            " on)                                                                                              \n",
            "                                                                                                  \n",
            " conv2_block3_1_conv (Conv2  (None, 40, 40, 64)           16448     ['conv2_block2_out[0][0]']    \n",
            " D)                                                                                               \n",
            "                                                                                                  \n",
            " conv2_block3_1_bn (BatchNo  (None, 40, 40, 64)           256       ['conv2_block3_1_conv[0][0]'] \n",
            " rmalization)                                                                                     \n",
            "                                                                                                  \n",
            " conv2_block3_1_relu (Activ  (None, 40, 40, 64)           0         ['conv2_block3_1_bn[0][0]']   \n",
            " ation)                                                                                           \n",
            "                                                                                                  \n",
            " conv2_block3_2_conv (Conv2  (None, 40, 40, 64)           36928     ['conv2_block3_1_relu[0][0]'] \n",
            " D)                                                                                               \n",
            "                                                                                                  \n",
            " conv2_block3_2_bn (BatchNo  (None, 40, 40, 64)           256       ['conv2_block3_2_conv[0][0]'] \n",
            " rmalization)                                                                                     \n",
            "                                                                                                  \n",
            " conv2_block3_2_relu (Activ  (None, 40, 40, 64)           0         ['conv2_block3_2_bn[0][0]']   \n",
            " ation)                                                                                           \n",
            "                                                                                                  \n",
            " conv2_block3_3_conv (Conv2  (None, 40, 40, 256)          16640     ['conv2_block3_2_relu[0][0]'] \n",
            " D)                                                                                               \n",
            "                                                                                                  \n",
            " conv2_block3_3_bn (BatchNo  (None, 40, 40, 256)          1024      ['conv2_block3_3_conv[0][0]'] \n",
            " rmalization)                                                                                     \n",
            "                                                                                                  \n",
            " conv2_block3_add (Add)      (None, 40, 40, 256)          0         ['conv2_block2_out[0][0]',    \n",
            "                                                                     'conv2_block3_3_bn[0][0]']   \n",
            "                                                                                                  \n",
            " conv2_block3_out (Activati  (None, 40, 40, 256)          0         ['conv2_block3_add[0][0]']    \n",
            " on)                                                                                              \n",
            "                                                                                                  \n",
            " conv3_block1_1_conv (Conv2  (None, 20, 20, 128)          32896     ['conv2_block3_out[0][0]']    \n",
            " D)                                                                                               \n",
            "                                                                                                  \n",
            " conv3_block1_1_bn (BatchNo  (None, 20, 20, 128)          512       ['conv3_block1_1_conv[0][0]'] \n",
            " rmalization)                                                                                     \n",
            "                                                                                                  \n",
            " conv3_block1_1_relu (Activ  (None, 20, 20, 128)          0         ['conv3_block1_1_bn[0][0]']   \n",
            " ation)                                                                                           \n",
            "                                                                                                  \n",
            " conv3_block1_2_conv (Conv2  (None, 20, 20, 128)          147584    ['conv3_block1_1_relu[0][0]'] \n",
            " D)                                                                                               \n",
            "                                                                                                  \n",
            " conv3_block1_2_bn (BatchNo  (None, 20, 20, 128)          512       ['conv3_block1_2_conv[0][0]'] \n",
            " rmalization)                                                                                     \n",
            "                                                                                                  \n",
            " conv3_block1_2_relu (Activ  (None, 20, 20, 128)          0         ['conv3_block1_2_bn[0][0]']   \n",
            " ation)                                                                                           \n",
            "                                                                                                  \n",
            " conv3_block1_0_conv (Conv2  (None, 20, 20, 512)          131584    ['conv2_block3_out[0][0]']    \n",
            " D)                                                                                               \n",
            "                                                                                                  \n",
            " conv3_block1_3_conv (Conv2  (None, 20, 20, 512)          66048     ['conv3_block1_2_relu[0][0]'] \n",
            " D)                                                                                               \n",
            "                                                                                                  \n",
            " conv3_block1_0_bn (BatchNo  (None, 20, 20, 512)          2048      ['conv3_block1_0_conv[0][0]'] \n",
            " rmalization)                                                                                     \n",
            "                                                                                                  \n",
            " conv3_block1_3_bn (BatchNo  (None, 20, 20, 512)          2048      ['conv3_block1_3_conv[0][0]'] \n",
            " rmalization)                                                                                     \n",
            "                                                                                                  \n",
            " conv3_block1_add (Add)      (None, 20, 20, 512)          0         ['conv3_block1_0_bn[0][0]',   \n",
            "                                                                     'conv3_block1_3_bn[0][0]']   \n",
            "                                                                                                  \n",
            " conv3_block1_out (Activati  (None, 20, 20, 512)          0         ['conv3_block1_add[0][0]']    \n",
            " on)                                                                                              \n",
            "                                                                                                  \n",
            " conv3_block2_1_conv (Conv2  (None, 20, 20, 128)          65664     ['conv3_block1_out[0][0]']    \n",
            " D)                                                                                               \n",
            "                                                                                                  \n",
            " conv3_block2_1_bn (BatchNo  (None, 20, 20, 128)          512       ['conv3_block2_1_conv[0][0]'] \n",
            " rmalization)                                                                                     \n",
            "                                                                                                  \n",
            " conv3_block2_1_relu (Activ  (None, 20, 20, 128)          0         ['conv3_block2_1_bn[0][0]']   \n",
            " ation)                                                                                           \n",
            "                                                                                                  \n",
            " conv3_block2_2_conv (Conv2  (None, 20, 20, 128)          147584    ['conv3_block2_1_relu[0][0]'] \n",
            " D)                                                                                               \n",
            "                                                                                                  \n",
            " conv3_block2_2_bn (BatchNo  (None, 20, 20, 128)          512       ['conv3_block2_2_conv[0][0]'] \n",
            " rmalization)                                                                                     \n",
            "                                                                                                  \n",
            " conv3_block2_2_relu (Activ  (None, 20, 20, 128)          0         ['conv3_block2_2_bn[0][0]']   \n",
            " ation)                                                                                           \n",
            "                                                                                                  \n",
            " conv3_block2_3_conv (Conv2  (None, 20, 20, 512)          66048     ['conv3_block2_2_relu[0][0]'] \n",
            " D)                                                                                               \n",
            "                                                                                                  \n",
            " conv3_block2_3_bn (BatchNo  (None, 20, 20, 512)          2048      ['conv3_block2_3_conv[0][0]'] \n",
            " rmalization)                                                                                     \n",
            "                                                                                                  \n",
            " conv3_block2_add (Add)      (None, 20, 20, 512)          0         ['conv3_block1_out[0][0]',    \n",
            "                                                                     'conv3_block2_3_bn[0][0]']   \n",
            "                                                                                                  \n",
            " conv3_block2_out (Activati  (None, 20, 20, 512)          0         ['conv3_block2_add[0][0]']    \n",
            " on)                                                                                              \n",
            "                                                                                                  \n",
            " conv3_block3_1_conv (Conv2  (None, 20, 20, 128)          65664     ['conv3_block2_out[0][0]']    \n",
            " D)                                                                                               \n",
            "                                                                                                  \n",
            " conv3_block3_1_bn (BatchNo  (None, 20, 20, 128)          512       ['conv3_block3_1_conv[0][0]'] \n",
            " rmalization)                                                                                     \n",
            "                                                                                                  \n",
            " conv3_block3_1_relu (Activ  (None, 20, 20, 128)          0         ['conv3_block3_1_bn[0][0]']   \n",
            " ation)                                                                                           \n",
            "                                                                                                  \n",
            " conv3_block3_2_conv (Conv2  (None, 20, 20, 128)          147584    ['conv3_block3_1_relu[0][0]'] \n",
            " D)                                                                                               \n",
            "                                                                                                  \n",
            " conv3_block3_2_bn (BatchNo  (None, 20, 20, 128)          512       ['conv3_block3_2_conv[0][0]'] \n",
            " rmalization)                                                                                     \n",
            "                                                                                                  \n",
            " conv3_block3_2_relu (Activ  (None, 20, 20, 128)          0         ['conv3_block3_2_bn[0][0]']   \n",
            " ation)                                                                                           \n",
            "                                                                                                  \n",
            " conv3_block3_3_conv (Conv2  (None, 20, 20, 512)          66048     ['conv3_block3_2_relu[0][0]'] \n",
            " D)                                                                                               \n",
            "                                                                                                  \n",
            " conv3_block3_3_bn (BatchNo  (None, 20, 20, 512)          2048      ['conv3_block3_3_conv[0][0]'] \n",
            " rmalization)                                                                                     \n",
            "                                                                                                  \n",
            " conv3_block3_add (Add)      (None, 20, 20, 512)          0         ['conv3_block2_out[0][0]',    \n",
            "                                                                     'conv3_block3_3_bn[0][0]']   \n",
            "                                                                                                  \n",
            " conv3_block3_out (Activati  (None, 20, 20, 512)          0         ['conv3_block3_add[0][0]']    \n",
            " on)                                                                                              \n",
            "                                                                                                  \n",
            " conv3_block4_1_conv (Conv2  (None, 20, 20, 128)          65664     ['conv3_block3_out[0][0]']    \n",
            " D)                                                                                               \n",
            "                                                                                                  \n",
            " conv3_block4_1_bn (BatchNo  (None, 20, 20, 128)          512       ['conv3_block4_1_conv[0][0]'] \n",
            " rmalization)                                                                                     \n",
            "                                                                                                  \n",
            " conv3_block4_1_relu (Activ  (None, 20, 20, 128)          0         ['conv3_block4_1_bn[0][0]']   \n",
            " ation)                                                                                           \n",
            "                                                                                                  \n",
            " conv3_block4_2_conv (Conv2  (None, 20, 20, 128)          147584    ['conv3_block4_1_relu[0][0]'] \n",
            " D)                                                                                               \n",
            "                                                                                                  \n",
            " conv3_block4_2_bn (BatchNo  (None, 20, 20, 128)          512       ['conv3_block4_2_conv[0][0]'] \n",
            " rmalization)                                                                                     \n",
            "                                                                                                  \n",
            " conv3_block4_2_relu (Activ  (None, 20, 20, 128)          0         ['conv3_block4_2_bn[0][0]']   \n",
            " ation)                                                                                           \n",
            "                                                                                                  \n",
            " conv3_block4_3_conv (Conv2  (None, 20, 20, 512)          66048     ['conv3_block4_2_relu[0][0]'] \n",
            " D)                                                                                               \n",
            "                                                                                                  \n",
            " conv3_block4_3_bn (BatchNo  (None, 20, 20, 512)          2048      ['conv3_block4_3_conv[0][0]'] \n",
            " rmalization)                                                                                     \n",
            "                                                                                                  \n",
            " conv3_block4_add (Add)      (None, 20, 20, 512)          0         ['conv3_block3_out[0][0]',    \n",
            "                                                                     'conv3_block4_3_bn[0][0]']   \n",
            "                                                                                                  \n",
            " conv3_block4_out (Activati  (None, 20, 20, 512)          0         ['conv3_block4_add[0][0]']    \n",
            " on)                                                                                              \n",
            "                                                                                                  \n",
            " conv4_block1_1_conv (Conv2  (None, 10, 10, 256)          131328    ['conv3_block4_out[0][0]']    \n",
            " D)                                                                                               \n",
            "                                                                                                  \n",
            " conv4_block1_1_bn (BatchNo  (None, 10, 10, 256)          1024      ['conv4_block1_1_conv[0][0]'] \n",
            " rmalization)                                                                                     \n",
            "                                                                                                  \n",
            " conv4_block1_1_relu (Activ  (None, 10, 10, 256)          0         ['conv4_block1_1_bn[0][0]']   \n",
            " ation)                                                                                           \n",
            "                                                                                                  \n",
            " conv4_block1_2_conv (Conv2  (None, 10, 10, 256)          590080    ['conv4_block1_1_relu[0][0]'] \n",
            " D)                                                                                               \n",
            "                                                                                                  \n",
            " conv4_block1_2_bn (BatchNo  (None, 10, 10, 256)          1024      ['conv4_block1_2_conv[0][0]'] \n",
            " rmalization)                                                                                     \n",
            "                                                                                                  \n",
            " conv4_block1_2_relu (Activ  (None, 10, 10, 256)          0         ['conv4_block1_2_bn[0][0]']   \n",
            " ation)                                                                                           \n",
            "                                                                                                  \n",
            " conv4_block1_0_conv (Conv2  (None, 10, 10, 1024)         525312    ['conv3_block4_out[0][0]']    \n",
            " D)                                                                                               \n",
            "                                                                                                  \n",
            " conv4_block1_3_conv (Conv2  (None, 10, 10, 1024)         263168    ['conv4_block1_2_relu[0][0]'] \n",
            " D)                                                                                               \n",
            "                                                                                                  \n",
            " conv4_block1_0_bn (BatchNo  (None, 10, 10, 1024)         4096      ['conv4_block1_0_conv[0][0]'] \n",
            " rmalization)                                                                                     \n",
            "                                                                                                  \n",
            " conv4_block1_3_bn (BatchNo  (None, 10, 10, 1024)         4096      ['conv4_block1_3_conv[0][0]'] \n",
            " rmalization)                                                                                     \n",
            "                                                                                                  \n",
            " conv4_block1_add (Add)      (None, 10, 10, 1024)         0         ['conv4_block1_0_bn[0][0]',   \n",
            "                                                                     'conv4_block1_3_bn[0][0]']   \n",
            "                                                                                                  \n",
            " conv4_block1_out (Activati  (None, 10, 10, 1024)         0         ['conv4_block1_add[0][0]']    \n",
            " on)                                                                                              \n",
            "                                                                                                  \n",
            " conv4_block2_1_conv (Conv2  (None, 10, 10, 256)          262400    ['conv4_block1_out[0][0]']    \n",
            " D)                                                                                               \n",
            "                                                                                                  \n",
            " conv4_block2_1_bn (BatchNo  (None, 10, 10, 256)          1024      ['conv4_block2_1_conv[0][0]'] \n",
            " rmalization)                                                                                     \n",
            "                                                                                                  \n",
            " conv4_block2_1_relu (Activ  (None, 10, 10, 256)          0         ['conv4_block2_1_bn[0][0]']   \n",
            " ation)                                                                                           \n",
            "                                                                                                  \n",
            " conv4_block2_2_conv (Conv2  (None, 10, 10, 256)          590080    ['conv4_block2_1_relu[0][0]'] \n",
            " D)                                                                                               \n",
            "                                                                                                  \n",
            " conv4_block2_2_bn (BatchNo  (None, 10, 10, 256)          1024      ['conv4_block2_2_conv[0][0]'] \n",
            " rmalization)                                                                                     \n",
            "                                                                                                  \n",
            " conv4_block2_2_relu (Activ  (None, 10, 10, 256)          0         ['conv4_block2_2_bn[0][0]']   \n",
            " ation)                                                                                           \n",
            "                                                                                                  \n",
            " conv4_block2_3_conv (Conv2  (None, 10, 10, 1024)         263168    ['conv4_block2_2_relu[0][0]'] \n",
            " D)                                                                                               \n",
            "                                                                                                  \n",
            " conv4_block2_3_bn (BatchNo  (None, 10, 10, 1024)         4096      ['conv4_block2_3_conv[0][0]'] \n",
            " rmalization)                                                                                     \n",
            "                                                                                                  \n",
            " conv4_block2_add (Add)      (None, 10, 10, 1024)         0         ['conv4_block1_out[0][0]',    \n",
            "                                                                     'conv4_block2_3_bn[0][0]']   \n",
            "                                                                                                  \n",
            " conv4_block2_out (Activati  (None, 10, 10, 1024)         0         ['conv4_block2_add[0][0]']    \n",
            " on)                                                                                              \n",
            "                                                                                                  \n",
            " conv4_block3_1_conv (Conv2  (None, 10, 10, 256)          262400    ['conv4_block2_out[0][0]']    \n",
            " D)                                                                                               \n",
            "                                                                                                  \n",
            " conv4_block3_1_bn (BatchNo  (None, 10, 10, 256)          1024      ['conv4_block3_1_conv[0][0]'] \n",
            " rmalization)                                                                                     \n",
            "                                                                                                  \n",
            " conv4_block3_1_relu (Activ  (None, 10, 10, 256)          0         ['conv4_block3_1_bn[0][0]']   \n",
            " ation)                                                                                           \n",
            "                                                                                                  \n",
            " conv4_block3_2_conv (Conv2  (None, 10, 10, 256)          590080    ['conv4_block3_1_relu[0][0]'] \n",
            " D)                                                                                               \n",
            "                                                                                                  \n",
            " conv4_block3_2_bn (BatchNo  (None, 10, 10, 256)          1024      ['conv4_block3_2_conv[0][0]'] \n",
            " rmalization)                                                                                     \n",
            "                                                                                                  \n",
            " conv4_block3_2_relu (Activ  (None, 10, 10, 256)          0         ['conv4_block3_2_bn[0][0]']   \n",
            " ation)                                                                                           \n",
            "                                                                                                  \n",
            " conv4_block3_3_conv (Conv2  (None, 10, 10, 1024)         263168    ['conv4_block3_2_relu[0][0]'] \n",
            " D)                                                                                               \n",
            "                                                                                                  \n",
            " conv4_block3_3_bn (BatchNo  (None, 10, 10, 1024)         4096      ['conv4_block3_3_conv[0][0]'] \n",
            " rmalization)                                                                                     \n",
            "                                                                                                  \n",
            " conv4_block3_add (Add)      (None, 10, 10, 1024)         0         ['conv4_block2_out[0][0]',    \n",
            "                                                                     'conv4_block3_3_bn[0][0]']   \n",
            "                                                                                                  \n",
            " conv4_block3_out (Activati  (None, 10, 10, 1024)         0         ['conv4_block3_add[0][0]']    \n",
            " on)                                                                                              \n",
            "                                                                                                  \n",
            " conv4_block4_1_conv (Conv2  (None, 10, 10, 256)          262400    ['conv4_block3_out[0][0]']    \n",
            " D)                                                                                               \n",
            "                                                                                                  \n",
            " conv4_block4_1_bn (BatchNo  (None, 10, 10, 256)          1024      ['conv4_block4_1_conv[0][0]'] \n",
            " rmalization)                                                                                     \n",
            "                                                                                                  \n",
            " conv4_block4_1_relu (Activ  (None, 10, 10, 256)          0         ['conv4_block4_1_bn[0][0]']   \n",
            " ation)                                                                                           \n",
            "                                                                                                  \n",
            " conv4_block4_2_conv (Conv2  (None, 10, 10, 256)          590080    ['conv4_block4_1_relu[0][0]'] \n",
            " D)                                                                                               \n",
            "                                                                                                  \n",
            " conv4_block4_2_bn (BatchNo  (None, 10, 10, 256)          1024      ['conv4_block4_2_conv[0][0]'] \n",
            " rmalization)                                                                                     \n",
            "                                                                                                  \n",
            " conv4_block4_2_relu (Activ  (None, 10, 10, 256)          0         ['conv4_block4_2_bn[0][0]']   \n",
            " ation)                                                                                           \n",
            "                                                                                                  \n",
            " conv4_block4_3_conv (Conv2  (None, 10, 10, 1024)         263168    ['conv4_block4_2_relu[0][0]'] \n",
            " D)                                                                                               \n",
            "                                                                                                  \n",
            " conv4_block4_3_bn (BatchNo  (None, 10, 10, 1024)         4096      ['conv4_block4_3_conv[0][0]'] \n",
            " rmalization)                                                                                     \n",
            "                                                                                                  \n",
            " conv4_block4_add (Add)      (None, 10, 10, 1024)         0         ['conv4_block3_out[0][0]',    \n",
            "                                                                     'conv4_block4_3_bn[0][0]']   \n",
            "                                                                                                  \n",
            " conv4_block4_out (Activati  (None, 10, 10, 1024)         0         ['conv4_block4_add[0][0]']    \n",
            " on)                                                                                              \n",
            "                                                                                                  \n",
            " conv4_block5_1_conv (Conv2  (None, 10, 10, 256)          262400    ['conv4_block4_out[0][0]']    \n",
            " D)                                                                                               \n",
            "                                                                                                  \n",
            " conv4_block5_1_bn (BatchNo  (None, 10, 10, 256)          1024      ['conv4_block5_1_conv[0][0]'] \n",
            " rmalization)                                                                                     \n",
            "                                                                                                  \n",
            " conv4_block5_1_relu (Activ  (None, 10, 10, 256)          0         ['conv4_block5_1_bn[0][0]']   \n",
            " ation)                                                                                           \n",
            "                                                                                                  \n",
            " conv4_block5_2_conv (Conv2  (None, 10, 10, 256)          590080    ['conv4_block5_1_relu[0][0]'] \n",
            " D)                                                                                               \n",
            "                                                                                                  \n",
            " conv4_block5_2_bn (BatchNo  (None, 10, 10, 256)          1024      ['conv4_block5_2_conv[0][0]'] \n",
            " rmalization)                                                                                     \n",
            "                                                                                                  \n",
            " conv4_block5_2_relu (Activ  (None, 10, 10, 256)          0         ['conv4_block5_2_bn[0][0]']   \n",
            " ation)                                                                                           \n",
            "                                                                                                  \n",
            " conv4_block5_3_conv (Conv2  (None, 10, 10, 1024)         263168    ['conv4_block5_2_relu[0][0]'] \n",
            " D)                                                                                               \n",
            "                                                                                                  \n",
            " conv4_block5_3_bn (BatchNo  (None, 10, 10, 1024)         4096      ['conv4_block5_3_conv[0][0]'] \n",
            " rmalization)                                                                                     \n",
            "                                                                                                  \n",
            " conv4_block5_add (Add)      (None, 10, 10, 1024)         0         ['conv4_block4_out[0][0]',    \n",
            "                                                                     'conv4_block5_3_bn[0][0]']   \n",
            "                                                                                                  \n",
            " conv4_block5_out (Activati  (None, 10, 10, 1024)         0         ['conv4_block5_add[0][0]']    \n",
            " on)                                                                                              \n",
            "                                                                                                  \n",
            " conv4_block6_1_conv (Conv2  (None, 10, 10, 256)          262400    ['conv4_block5_out[0][0]']    \n",
            " D)                                                                                               \n",
            "                                                                                                  \n",
            " conv4_block6_1_bn (BatchNo  (None, 10, 10, 256)          1024      ['conv4_block6_1_conv[0][0]'] \n",
            " rmalization)                                                                                     \n",
            "                                                                                                  \n",
            " conv4_block6_1_relu (Activ  (None, 10, 10, 256)          0         ['conv4_block6_1_bn[0][0]']   \n",
            " ation)                                                                                           \n",
            "                                                                                                  \n",
            " conv4_block6_2_conv (Conv2  (None, 10, 10, 256)          590080    ['conv4_block6_1_relu[0][0]'] \n",
            " D)                                                                                               \n",
            "                                                                                                  \n",
            " conv4_block6_2_bn (BatchNo  (None, 10, 10, 256)          1024      ['conv4_block6_2_conv[0][0]'] \n",
            " rmalization)                                                                                     \n",
            "                                                                                                  \n",
            " conv4_block6_2_relu (Activ  (None, 10, 10, 256)          0         ['conv4_block6_2_bn[0][0]']   \n",
            " ation)                                                                                           \n",
            "                                                                                                  \n",
            " conv4_block6_3_conv (Conv2  (None, 10, 10, 1024)         263168    ['conv4_block6_2_relu[0][0]'] \n",
            " D)                                                                                               \n",
            "                                                                                                  \n",
            " conv4_block6_3_bn (BatchNo  (None, 10, 10, 1024)         4096      ['conv4_block6_3_conv[0][0]'] \n",
            " rmalization)                                                                                     \n",
            "                                                                                                  \n",
            " conv4_block6_add (Add)      (None, 10, 10, 1024)         0         ['conv4_block5_out[0][0]',    \n",
            "                                                                     'conv4_block6_3_bn[0][0]']   \n",
            "                                                                                                  \n",
            " conv4_block6_out (Activati  (None, 10, 10, 1024)         0         ['conv4_block6_add[0][0]']    \n",
            " on)                                                                                              \n",
            "                                                                                                  \n",
            " conv5_block1_1_conv (Conv2  (None, 5, 5, 512)            524800    ['conv4_block6_out[0][0]']    \n",
            " D)                                                                                               \n",
            "                                                                                                  \n",
            " conv5_block1_1_bn (BatchNo  (None, 5, 5, 512)            2048      ['conv5_block1_1_conv[0][0]'] \n",
            " rmalization)                                                                                     \n",
            "                                                                                                  \n",
            " conv5_block1_1_relu (Activ  (None, 5, 5, 512)            0         ['conv5_block1_1_bn[0][0]']   \n",
            " ation)                                                                                           \n",
            "                                                                                                  \n",
            " conv5_block1_2_conv (Conv2  (None, 5, 5, 512)            2359808   ['conv5_block1_1_relu[0][0]'] \n",
            " D)                                                                                               \n",
            "                                                                                                  \n",
            " conv5_block1_2_bn (BatchNo  (None, 5, 5, 512)            2048      ['conv5_block1_2_conv[0][0]'] \n",
            " rmalization)                                                                                     \n",
            "                                                                                                  \n",
            " conv5_block1_2_relu (Activ  (None, 5, 5, 512)            0         ['conv5_block1_2_bn[0][0]']   \n",
            " ation)                                                                                           \n",
            "                                                                                                  \n",
            " conv5_block1_0_conv (Conv2  (None, 5, 5, 2048)           2099200   ['conv4_block6_out[0][0]']    \n",
            " D)                                                                                               \n",
            "                                                                                                  \n",
            " conv5_block1_3_conv (Conv2  (None, 5, 5, 2048)           1050624   ['conv5_block1_2_relu[0][0]'] \n",
            " D)                                                                                               \n",
            "                                                                                                  \n",
            " conv5_block1_0_bn (BatchNo  (None, 5, 5, 2048)           8192      ['conv5_block1_0_conv[0][0]'] \n",
            " rmalization)                                                                                     \n",
            "                                                                                                  \n",
            " conv5_block1_3_bn (BatchNo  (None, 5, 5, 2048)           8192      ['conv5_block1_3_conv[0][0]'] \n",
            " rmalization)                                                                                     \n",
            "                                                                                                  \n",
            " conv5_block1_add (Add)      (None, 5, 5, 2048)           0         ['conv5_block1_0_bn[0][0]',   \n",
            "                                                                     'conv5_block1_3_bn[0][0]']   \n",
            "                                                                                                  \n",
            " conv5_block1_out (Activati  (None, 5, 5, 2048)           0         ['conv5_block1_add[0][0]']    \n",
            " on)                                                                                              \n",
            "                                                                                                  \n",
            " conv5_block2_1_conv (Conv2  (None, 5, 5, 512)            1049088   ['conv5_block1_out[0][0]']    \n",
            " D)                                                                                               \n",
            "                                                                                                  \n",
            " conv5_block2_1_bn (BatchNo  (None, 5, 5, 512)            2048      ['conv5_block2_1_conv[0][0]'] \n",
            " rmalization)                                                                                     \n",
            "                                                                                                  \n",
            " conv5_block2_1_relu (Activ  (None, 5, 5, 512)            0         ['conv5_block2_1_bn[0][0]']   \n",
            " ation)                                                                                           \n",
            "                                                                                                  \n",
            " conv5_block2_2_conv (Conv2  (None, 5, 5, 512)            2359808   ['conv5_block2_1_relu[0][0]'] \n",
            " D)                                                                                               \n",
            "                                                                                                  \n",
            " conv5_block2_2_bn (BatchNo  (None, 5, 5, 512)            2048      ['conv5_block2_2_conv[0][0]'] \n",
            " rmalization)                                                                                     \n",
            "                                                                                                  \n",
            " conv5_block2_2_relu (Activ  (None, 5, 5, 512)            0         ['conv5_block2_2_bn[0][0]']   \n",
            " ation)                                                                                           \n",
            "                                                                                                  \n",
            " conv5_block2_3_conv (Conv2  (None, 5, 5, 2048)           1050624   ['conv5_block2_2_relu[0][0]'] \n",
            " D)                                                                                               \n",
            "                                                                                                  \n",
            " conv5_block2_3_bn (BatchNo  (None, 5, 5, 2048)           8192      ['conv5_block2_3_conv[0][0]'] \n",
            " rmalization)                                                                                     \n",
            "                                                                                                  \n",
            " conv5_block2_add (Add)      (None, 5, 5, 2048)           0         ['conv5_block1_out[0][0]',    \n",
            "                                                                     'conv5_block2_3_bn[0][0]']   \n",
            "                                                                                                  \n",
            " conv5_block2_out (Activati  (None, 5, 5, 2048)           0         ['conv5_block2_add[0][0]']    \n",
            " on)                                                                                              \n",
            "                                                                                                  \n",
            " conv5_block3_1_conv (Conv2  (None, 5, 5, 512)            1049088   ['conv5_block2_out[0][0]']    \n",
            " D)                                                                                               \n",
            "                                                                                                  \n",
            " conv5_block3_1_bn (BatchNo  (None, 5, 5, 512)            2048      ['conv5_block3_1_conv[0][0]'] \n",
            " rmalization)                                                                                     \n",
            "                                                                                                  \n",
            " conv5_block3_1_relu (Activ  (None, 5, 5, 512)            0         ['conv5_block3_1_bn[0][0]']   \n",
            " ation)                                                                                           \n",
            "                                                                                                  \n",
            " conv5_block3_2_conv (Conv2  (None, 5, 5, 512)            2359808   ['conv5_block3_1_relu[0][0]'] \n",
            " D)                                                                                               \n",
            "                                                                                                  \n",
            " conv5_block3_2_bn (BatchNo  (None, 5, 5, 512)            2048      ['conv5_block3_2_conv[0][0]'] \n",
            " rmalization)                                                                                     \n",
            "                                                                                                  \n",
            " conv5_block3_2_relu (Activ  (None, 5, 5, 512)            0         ['conv5_block3_2_bn[0][0]']   \n",
            " ation)                                                                                           \n",
            "                                                                                                  \n",
            " conv5_block3_3_conv (Conv2  (None, 5, 5, 2048)           1050624   ['conv5_block3_2_relu[0][0]'] \n",
            " D)                                                                                               \n",
            "                                                                                                  \n",
            " conv5_block3_3_bn (BatchNo  (None, 5, 5, 2048)           8192      ['conv5_block3_3_conv[0][0]'] \n",
            " rmalization)                                                                                     \n",
            "                                                                                                  \n",
            " conv5_block3_add (Add)      (None, 5, 5, 2048)           0         ['conv5_block2_out[0][0]',    \n",
            "                                                                     'conv5_block3_3_bn[0][0]']   \n",
            "                                                                                                  \n",
            " conv5_block3_out (Activati  (None, 5, 5, 2048)           0         ['conv5_block3_add[0][0]']    \n",
            " on)                                                                                              \n",
            "                                                                                                  \n",
            " global_average_pooling2d_1  (None, 2048)                 0         ['conv5_block3_out[0][0]']    \n",
            "  (GlobalAveragePooling2D)                                                                        \n",
            "                                                                                                  \n",
            " dense_2 (Dense)             (None, 256)                  524544    ['global_average_pooling2d_1[0\n",
            "                                                                    ][0]']                        \n",
            "                                                                                                  \n",
            " batch_normalization (Batch  (None, 256)                  1024      ['dense_2[0][0]']             \n",
            " Normalization)                                                                                   \n",
            "                                                                                                  \n",
            " dropout (Dropout)           (None, 256)                  0         ['batch_normalization[0][0]'] \n",
            "                                                                                                  \n",
            " dense_3 (Dense)             (None, 128)                  32896     ['dropout[0][0]']             \n",
            "                                                                                                  \n",
            " batch_normalization_1 (Bat  (None, 128)                  512       ['dense_3[0][0]']             \n",
            " chNormalization)                                                                                 \n",
            "                                                                                                  \n",
            " dropout_1 (Dropout)         (None, 128)                  0         ['batch_normalization_1[0][0]'\n",
            "                                                                    ]                             \n",
            "                                                                                                  \n",
            " dense_4 (Dense)             (None, 43)                   5547      ['dropout_1[0][0]']           \n",
            "                                                                                                  \n",
            "==================================================================================================\n",
            "Total params: 24152235 (92.13 MB)\n",
            "Trainable params: 24098347 (91.93 MB)\n",
            "Non-trainable params: 53888 (210.50 KB)\n",
            "__________________________________________________________________________________________________\n"
          ]
        }
      ],
      "source": [
        "model_resnet_complex.summary()"
      ]
    },
    {
      "cell_type": "markdown",
      "metadata": {
        "id": "1Ts-cFPdibvc"
      },
      "source": [
        "The model is trained with the early stopping callback monitering the validation loss and a step by step decayed learning rate:"
      ]
    },
    {
      "cell_type": "code",
      "execution_count": null,
      "metadata": {
        "colab": {
          "base_uri": "https://localhost:8080/"
        },
        "id": "2YiIxl2kYbXX",
        "outputId": "ef163c6a-d680-49db-d413-21643170a44a"
      },
      "outputs": [
        {
          "name": "stdout",
          "output_type": "stream",
          "text": [
            "Epoch 1/50\n",
            "667/667 [==============================] - 184s 203ms/step - loss: 2.1478 - accuracy: 0.5583 - val_loss: 6.1883 - val_accuracy: 0.0238 - lr: 0.0010\n",
            "Epoch 2/50\n",
            "667/667 [==============================] - 137s 205ms/step - loss: 0.6398 - accuracy: 0.9351 - val_loss: 0.7819 - val_accuracy: 0.8644 - lr: 0.0010\n",
            "Epoch 3/50\n",
            "667/667 [==============================] - 138s 207ms/step - loss: 0.3955 - accuracy: 0.9643 - val_loss: 0.6833 - val_accuracy: 0.8862 - lr: 0.0010\n",
            "Epoch 4/50\n",
            "667/667 [==============================] - 139s 208ms/step - loss: 0.2949 - accuracy: 0.9741 - val_loss: 0.2833 - val_accuracy: 0.9704 - lr: 9.5000e-04\n",
            "Epoch 5/50\n",
            "667/667 [==============================] - 139s 208ms/step - loss: 0.2277 - accuracy: 0.9809 - val_loss: 0.3037 - val_accuracy: 0.9606 - lr: 9.0250e-04\n",
            "Epoch 6/50\n",
            "667/667 [==============================] - 139s 208ms/step - loss: 0.2367 - accuracy: 0.9789 - val_loss: 0.2643 - val_accuracy: 0.9728 - lr: 8.5737e-04\n",
            "Epoch 7/50\n",
            "667/667 [==============================] - 139s 208ms/step - loss: 0.1752 - accuracy: 0.9876 - val_loss: 0.2010 - val_accuracy: 0.9794 - lr: 8.1451e-04\n",
            "Epoch 8/50\n",
            "667/667 [==============================] - 139s 209ms/step - loss: 0.1538 - accuracy: 0.9887 - val_loss: 0.1592 - val_accuracy: 0.9876 - lr: 7.7378e-04\n",
            "Epoch 9/50\n",
            "667/667 [==============================] - 138s 207ms/step - loss: 0.1587 - accuracy: 0.9877 - val_loss: 0.1644 - val_accuracy: 0.9839 - lr: 7.3509e-04\n",
            "Epoch 10/50\n",
            "667/667 [==============================] - 138s 207ms/step - loss: 0.1409 - accuracy: 0.9901 - val_loss: 0.2930 - val_accuracy: 0.9627 - lr: 6.9834e-04\n",
            "Epoch 11/50\n",
            "667/667 [==============================] - 139s 208ms/step - loss: 0.1319 - accuracy: 0.9916 - val_loss: 0.0970 - val_accuracy: 0.9961 - lr: 6.6342e-04\n",
            "Epoch 12/50\n",
            "667/667 [==============================] - 148s 222ms/step - loss: 0.1070 - accuracy: 0.9941 - val_loss: 0.0825 - val_accuracy: 0.9964 - lr: 6.3025e-04\n",
            "Epoch 13/50\n",
            "667/667 [==============================] - 140s 210ms/step - loss: 0.0878 - accuracy: 0.9944 - val_loss: 0.2308 - val_accuracy: 0.9681 - lr: 5.9874e-04\n",
            "Epoch 14/50\n",
            "667/667 [==============================] - 154s 231ms/step - loss: 0.1105 - accuracy: 0.9926 - val_loss: 0.1123 - val_accuracy: 0.9908 - lr: 5.6880e-04\n",
            "Epoch 15/50\n",
            "667/667 [==============================] - 138s 207ms/step - loss: 0.0945 - accuracy: 0.9942 - val_loss: 0.0795 - val_accuracy: 0.9979 - lr: 5.4036e-04\n",
            "Epoch 16/50\n",
            "667/667 [==============================] - 139s 208ms/step - loss: 0.0654 - accuracy: 0.9980 - val_loss: 0.0492 - val_accuracy: 0.9985 - lr: 5.1334e-04\n",
            "Epoch 17/50\n",
            "667/667 [==============================] - 138s 207ms/step - loss: 0.0774 - accuracy: 0.9941 - val_loss: 0.0912 - val_accuracy: 0.9946 - lr: 4.8767e-04\n",
            "Epoch 18/50\n",
            "667/667 [==============================] - 138s 207ms/step - loss: 0.0831 - accuracy: 0.9953 - val_loss: 0.0671 - val_accuracy: 0.9962 - lr: 4.6329e-04\n",
            "Epoch 19/50\n",
            "667/667 [==============================] - 139s 208ms/step - loss: 0.0576 - accuracy: 0.9977 - val_loss: 0.0689 - val_accuracy: 0.9944 - lr: 4.4013e-04\n",
            "Model training completed.\n"
          ]
        }
      ],
      "source": [
        "# Early stopping callback\n",
        "early_stopping = EarlyStopping(monitor='val_loss', patience=3, restore_best_weights=True)\n",
        "\n",
        "# Train the model with data augmentation and early stopping\n",
        "num_epochs = 50\n",
        "history_complex_model = model_resnet_complex.fit(train_generator,\n",
        "                                                 epochs=num_epochs,\n",
        "                                                 validation_data=valid_generator,\n",
        "                                                 callbacks=[early_stopping,  lr_scheduler])\n",
        "\n",
        "print(\"Model training completed.\")"
      ]
    },
    {
      "cell_type": "markdown",
      "metadata": {
        "id": "2YJgCkAVimH3"
      },
      "source": [
        "The training stopped at **epoch 19** as the model started overfitting (shown by the validation loss). This happend 10 epoch before the previous model.\n",
        "\n",
        "The training accuracy and validation accuracy graph are shown below."
      ]
    },
    {
      "cell_type": "code",
      "execution_count": null,
      "metadata": {
        "colab": {
          "base_uri": "https://localhost:8080/",
          "height": 402
        },
        "id": "7LMYWjxCv3Ga",
        "outputId": "fe452e4c-cc68-4c99-ed6b-69cfe29b166e"
      },
      "outputs": [
        {
          "data": {
            "image/png": "[encoded data removed]",
            "text/plain": [
              "<Figure size 1200x600 with 2 Axes>"
            ]
          },
          "metadata": {},
          "output_type": "display_data"
        }
      ],
      "source": [
        "plot_training_history(history_complex_model)"
      ]
    },
    {
      "cell_type": "code",
      "execution_count": null,
      "metadata": {
        "colab": {
          "base_uri": "https://localhost:8080/"
        },
        "id": "MHVWoQyrwTk6",
        "outputId": "d506ae84-eac9-4722-cfd9-e12665d35b4f"
      },
      "outputs": [
        {
          "name": "stdout",
          "output_type": "stream",
          "text": [
            "Training Accuracy Increase Rate: 0.0244071450498369\n",
            "Validation Accuracy Increase Rate: 0.053919731432365045\n"
          ]
        }
      ],
      "source": [
        "# Increasing rate\n",
        "train_rate_complex, val_rate_complex = calculate_accuracy_increase_rate(history_complex_model)\n",
        "print(\"Training Accuracy Increase Rate:\", train_rate_complex)\n",
        "print(\"Validation Accuracy Increase Rate:\", val_rate_complex)"
      ]
    },
    {
      "cell_type": "markdown",
      "metadata": {
        "id": "YOn0VXegi8up"
      },
      "source": [
        "Due to the significant reduction in training epoch, the rate of increase for training increased significantly."
      ]
    },
    {
      "cell_type": "markdown",
      "metadata": {
        "id": "4MKITfhbjeKW"
      },
      "source": [
        "Then, the model is evaluated on the test data"
      ]
    },
    {
      "cell_type": "code",
      "execution_count": null,
      "metadata": {
        "colab": {
          "base_uri": "https://localhost:8080/"
        },
        "id": "u2UhqO-Wv3r4",
        "outputId": "14154268-f9d9-459f-f2aa-0d663f77a00a"
      },
      "outputs": [
        {
          "name": "stdout",
          "output_type": "stream",
          "text": [
            "394/394 [==============================] - 33s 82ms/step - loss: 1.1259 - accuracy: 0.8255\n",
            "Test Loss: 1.1259\n",
            "Test Accuracy: 0.8255\n"
          ]
        }
      ],
      "source": [
        "# Test the model with the test data\n",
        "test_loss_complex, test_accuracy_complex = model_resnet_complex.evaluate(test_generator)\n",
        "\n",
        "print(f\"Test Loss: {test_loss_complex:.4f}\")\n",
        "print(f\"Test Accuracy: {test_accuracy_complex:.4f}\") # 89"
      ]
    },
    {
      "cell_type": "code",
      "execution_count": null,
      "metadata": {
        "colab": {
          "base_uri": "https://localhost:8080/"
        },
        "id": "NGjoJfhUv31a",
        "outputId": "3f31d44b-3748-4e82-c9e5-c270fa312ccf"
      },
      "outputs": [
        {
          "name": "stdout",
          "output_type": "stream",
          "text": [
            "394/394 [==============================] - 34s 84ms/step\n",
            "Precision Score: 0.8388\n"
          ]
        }
      ],
      "source": [
        "# Make predictions on the test data\n",
        "test_pred_complex = model_resnet_complex.predict(test_generator)\n",
        "\n",
        "# Convert one-hot encoded predictions back to class labels\n",
        "predicted_labels_complex = np.argmax(test_pred_complex, axis=1)\n",
        "\n",
        "# Calculate the precision score\n",
        "precision_complex = precision_score(true_labels, predicted_labels_complex, average='weighted')\n",
        "\n",
        "print(f\"Precision Score: {precision_complex:.4f}\")"
      ]
    },
    {
      "cell_type": "code",
      "execution_count": null,
      "metadata": {
        "colab": {
          "base_uri": "https://localhost:8080/"
        },
        "id": "YtZr-SxJwJEQ",
        "outputId": "475a36aa-c8d7-42e6-9a40-73e34bebb329"
      },
      "outputs": [
        {
          "name": "stdout",
          "output_type": "stream",
          "text": [
            "Classification Report:\n",
            "               precision    recall  f1-score   support\n",
            "\n",
            "           0       0.78      1.00      0.88       293\n",
            "           1       0.91      0.97      0.94       293\n",
            "           2       0.56      0.99      0.71       293\n",
            "           3       0.88      0.97      0.92       293\n",
            "           4       0.44      0.71      0.55       293\n",
            "           5       0.96      1.00      0.98       293\n",
            "           6       0.30      0.75      0.43       293\n",
            "           7       1.00      0.98      0.99       293\n",
            "           8       0.94      1.00      0.97       293\n",
            "           9       0.50      0.75      0.60       293\n",
            "          10       0.87      0.96      0.91       293\n",
            "          11       0.99      1.00      0.99       293\n",
            "          12       0.97      0.99      0.98       293\n",
            "          13       0.73      1.00      0.84       293\n",
            "          14       0.96      0.86      0.91       293\n",
            "          15       0.94      0.89      0.92       293\n",
            "          16       0.96      0.96      0.96       293\n",
            "          17       0.97      0.95      0.96       293\n",
            "          18       0.99      0.96      0.97       293\n",
            "          19       0.78      0.77      0.77       293\n",
            "          20       0.97      0.96      0.97       293\n",
            "          21       0.94      0.96      0.95       293\n",
            "          22       0.95      0.90      0.92       293\n",
            "          23       0.96      0.97      0.97       293\n",
            "          24       0.86      0.78      0.82       293\n",
            "          25       0.89      0.94      0.91       293\n",
            "          26       0.89      1.00      0.94       293\n",
            "          27       0.84      0.44      0.57       293\n",
            "          28       0.31      0.02      0.03       293\n",
            "          29       1.00      0.72      0.84       293\n",
            "          30       0.95      0.77      0.85       293\n",
            "          31       0.75      0.04      0.08       293\n",
            "          32       1.00      0.61      0.76       293\n",
            "          33       0.59      0.27      0.37       293\n",
            "          34       0.98      0.97      0.97       293\n",
            "          35       0.26      0.11      0.16       293\n",
            "          36       0.90      0.91      0.91       293\n",
            "          37       0.94      0.87      0.90       293\n",
            "          38       0.89      0.96      0.93       293\n",
            "          39       0.92      0.92      0.92       293\n",
            "          40       0.92      0.99      0.96       293\n",
            "          41       0.94      0.94      0.94       293\n",
            "          42       1.00      0.99      0.99       293\n",
            "\n",
            "    accuracy                           0.83     12599\n",
            "   macro avg       0.84      0.83      0.81     12599\n",
            "weighted avg       0.84      0.83      0.81     12599\n",
            "\n"
          ]
        }
      ],
      "source": [
        "# Generate a classification report\n",
        "class_rep_complex = classification_report(true_labels, predicted_labels_complex, target_names=class_names)\n",
        "\n",
        "print(\"Classification Report:\\n\", class_rep_complex)"
      ]
    },
    {
      "cell_type": "markdown",
      "metadata": {
        "id": "boRrrgXsjg5O"
      },
      "source": [
        "Generally, the model is performing well with a **test accuracy of 82.55%** and **test precision of 83.88%**. However, both value were **slightly lower** than the ResNet implementation. This could be influenced by the reduced number of epoch from overfitting.\n",
        "\n",
        "The new model developed should **learn at a slower rate** so that the training accuracy will approach 100% slower, reducing the likelihood of overfitting.\n",
        "\n",
        "Given the significantly lesser training time needed for CNN and even for the simpler ResNet, the **simple CNN model is prefered**."
      ]
    },
    {
      "cell_type": "markdown",
      "metadata": {
        "id": "NxP02q59wPQ2"
      },
      "source": [
        "**<h2> Model 3: ResNet model with fine-tune and transfered learning </h2>**"
      ]
    },
    {
      "cell_type": "markdown",
      "metadata": {
        "id": "riPyJwoZkZq3"
      },
      "source": [
        "Based on the findings of the previouse two models, a decision has been made to **fine tune the pretrained ResNet50 model** and change it with a **lower learning rate.**"
      ]
    },
    {
      "cell_type": "markdown",
      "metadata": {
        "id": "gy7FsAB7kxvn"
      },
      "source": [
        "The identical model as the model 2 is first deployed:"
      ]
    },
    {
      "cell_type": "code",
      "execution_count": null,
      "metadata": {
        "id": "v7yCUqraioFY"
      },
      "outputs": [],
      "source": [
        "# Define the ResNet50 base model\n",
        "input_layer = Input(shape=(160, 160, 3))\n",
        "base_model = ResNet50(weights='imagenet', include_top=False, input_tensor=input_layer)"
      ]
    },
    {
      "cell_type": "code",
      "execution_count": null,
      "metadata": {
        "id": "Ny_FGGsGc7Cy"
      },
      "outputs": [],
      "source": [
        "# Add custom head layers\n",
        "x = base_model.output\n",
        "x = GlobalAveragePooling2D()(x)  # Apply Global Average Pooling to the 4D tensor\n",
        "x = Dense(256, activation='relu', kernel_regularizer=regularizers.l2(0.001))(x)  # Add L2 regularization\n",
        "x = BatchNormalization()(x)  # Add Batch Normalization\n",
        "x = Dropout(0.5)(x)  # Add Dropout for regularization\n",
        "x = Dense(128, activation='relu', kernel_regularizer=regularizers.l2(0.001))(x)  # Another dense layer with regularization\n",
        "x = BatchNormalization()(x)\n",
        "x = Dropout(0.5)(x)\n",
        "output_layer = Dense(num_classes, activation='softmax')(x)  # Use num_classes\n",
        "\n",
        "# Create a new model with the custom head\n",
        "model_unfrez = Model(inputs=base_model.input, outputs=output_layer)"
      ]
    },
    {
      "cell_type": "markdown",
      "metadata": {
        "id": "8ohGGC94k4Jk"
      },
      "source": [
        "One thing different here is that the last 100 layers from the ResNet50 base model are unfrozen. All layers upto the last 100th layer in the ResNet model are selected and prohibite the model from training them. This effectively allow the training to take place for the last 100 layers.\n",
        "\n",
        "This allows the finetuning of the last 100 layers in ResNet50 before adding more complexity to it.\n",
        "\n",
        "Although the main architechture for ResNet50 only contains 50 layers, there are also **other layers** such as BatchNormalization and Zeropadding which are **not counted inside the 50 layers**. Thus the number 100 is chosen.\n"
      ]
    },
    {
      "cell_type": "code",
      "execution_count": null,
      "metadata": {
        "id": "jkmyUx5qdTGE"
      },
      "outputs": [],
      "source": [
        "# Freeze the earlier layers and fine-tune the later layers\n",
        "for layer in base_model.layers[:-100]:\n",
        "    layer.trainable = False"
      ]
    },
    {
      "cell_type": "markdown",
      "metadata": {
        "id": "i5Cy5y_Epf7S"
      },
      "source": [
        "A summary of the new model is shown:"
      ]
    },
    {
      "cell_type": "code",
      "execution_count": null,
      "metadata": {
        "colab": {
          "base_uri": "https://localhost:8080/"
        },
        "id": "RtwjmB0vkwK6",
        "outputId": "06c3358c-8f36-4c02-d27c-5d539c3306e3"
      },
      "outputs": [
        {
          "name": "stdout",
          "output_type": "stream",
          "text": [
            "Model: \"model_2\"\n",
            "__________________________________________________________________________________________________\n",
            " Layer (type)                Output Shape                 Param #   Connected to                  \n",
            "==================================================================================================\n",
            " input_5 (InputLayer)        [(None, 160, 160, 3)]        0         []                            \n",
            "                                                                                                  \n",
            " conv1_pad (ZeroPadding2D)   (None, 166, 166, 3)          0         ['input_5[0][0]']             \n",
            "                                                                                                  \n",
            " conv1_conv (Conv2D)         (None, 80, 80, 64)           9472      ['conv1_pad[0][0]']           \n",
            "                                                                                                  \n",
            " conv1_bn (BatchNormalizati  (None, 80, 80, 64)           256       ['conv1_conv[0][0]']          \n",
            " on)                                                                                              \n",
            "                                                                                                  \n",
            " conv1_relu (Activation)     (None, 80, 80, 64)           0         ['conv1_bn[0][0]']            \n",
            "                                                                                                  \n",
            " pool1_pad (ZeroPadding2D)   (None, 82, 82, 64)           0         ['conv1_relu[0][0]']          \n",
            "                                                                                                  \n",
            " pool1_pool (MaxPooling2D)   (None, 40, 40, 64)           0         ['pool1_pad[0][0]']           \n",
            "                                                                                                  \n",
            " conv2_block1_1_conv (Conv2  (None, 40, 40, 64)           4160      ['pool1_pool[0][0]']          \n",
            " D)                                                                                               \n",
            "                                                                                                  \n",
            " conv2_block1_1_bn (BatchNo  (None, 40, 40, 64)           256       ['conv2_block1_1_conv[0][0]'] \n",
            " rmalization)                                                                                     \n",
            "                                                                                                  \n",
            " conv2_block1_1_relu (Activ  (None, 40, 40, 64)           0         ['conv2_block1_1_bn[0][0]']   \n",
            " ation)                                                                                           \n",
            "                                                                                                  \n",
            " conv2_block1_2_conv (Conv2  (None, 40, 40, 64)           36928     ['conv2_block1_1_relu[0][0]'] \n",
            " D)                                                                                               \n",
            "                                                                                                  \n",
            " conv2_block1_2_bn (BatchNo  (None, 40, 40, 64)           256       ['conv2_block1_2_conv[0][0]'] \n",
            " rmalization)                                                                                     \n",
            "                                                                                                  \n",
            " conv2_block1_2_relu (Activ  (None, 40, 40, 64)           0         ['conv2_block1_2_bn[0][0]']   \n",
            " ation)                                                                                           \n",
            "                                                                                                  \n",
            " conv2_block1_0_conv (Conv2  (None, 40, 40, 256)          16640     ['pool1_pool[0][0]']          \n",
            " D)                                                                                               \n",
            "                                                                                                  \n",
            " conv2_block1_3_conv (Conv2  (None, 40, 40, 256)          16640     ['conv2_block1_2_relu[0][0]'] \n",
            " D)                                                                                               \n",
            "                                                                                                  \n",
            " conv2_block1_0_bn (BatchNo  (None, 40, 40, 256)          1024      ['conv2_block1_0_conv[0][0]'] \n",
            " rmalization)                                                                                     \n",
            "                                                                                                  \n",
            " conv2_block1_3_bn (BatchNo  (None, 40, 40, 256)          1024      ['conv2_block1_3_conv[0][0]'] \n",
            " rmalization)                                                                                     \n",
            "                                                                                                  \n",
            " conv2_block1_add (Add)      (None, 40, 40, 256)          0         ['conv2_block1_0_bn[0][0]',   \n",
            "                                                                     'conv2_block1_3_bn[0][0]']   \n",
            "                                                                                                  \n",
            " conv2_block1_out (Activati  (None, 40, 40, 256)          0         ['conv2_block1_add[0][0]']    \n",
            " on)                                                                                              \n",
            "                                                                                                  \n",
            " conv2_block2_1_conv (Conv2  (None, 40, 40, 64)           16448     ['conv2_block1_out[0][0]']    \n",
            " D)                                                                                               \n",
            "                                                                                                  \n",
            " conv2_block2_1_bn (BatchNo  (None, 40, 40, 64)           256       ['conv2_block2_1_conv[0][0]'] \n",
            " rmalization)                                                                                     \n",
            "                                                                                                  \n",
            " conv2_block2_1_relu (Activ  (None, 40, 40, 64)           0         ['conv2_block2_1_bn[0][0]']   \n",
            " ation)                                                                                           \n",
            "                                                                                                  \n",
            " conv2_block2_2_conv (Conv2  (None, 40, 40, 64)           36928     ['conv2_block2_1_relu[0][0]'] \n",
            " D)                                                                                               \n",
            "                                                                                                  \n",
            " conv2_block2_2_bn (BatchNo  (None, 40, 40, 64)           256       ['conv2_block2_2_conv[0][0]'] \n",
            " rmalization)                                                                                     \n",
            "                                                                                                  \n",
            " conv2_block2_2_relu (Activ  (None, 40, 40, 64)           0         ['conv2_block2_2_bn[0][0]']   \n",
            " ation)                                                                                           \n",
            "                                                                                                  \n",
            " conv2_block2_3_conv (Conv2  (None, 40, 40, 256)          16640     ['conv2_block2_2_relu[0][0]'] \n",
            " D)                                                                                               \n",
            "                                                                                                  \n",
            " conv2_block2_3_bn (BatchNo  (None, 40, 40, 256)          1024      ['conv2_block2_3_conv[0][0]'] \n",
            " rmalization)                                                                                     \n",
            "                                                                                                  \n",
            " conv2_block2_add (Add)      (None, 40, 40, 256)          0         ['conv2_block1_out[0][0]',    \n",
            "                                                                     'conv2_block2_3_bn[0][0]']   \n",
            "                                                                                                  \n",
            " conv2_block2_out (Activati  (None, 40, 40, 256)          0         ['conv2_block2_add[0][0]']    \n",
            " on)                                                                                              \n",
            "                                                                                                  \n",
            " conv2_block3_1_conv (Conv2  (None, 40, 40, 64)           16448     ['conv2_block2_out[0][0]']    \n",
            " D)                                                                                               \n",
            "                                                                                                  \n",
            " conv2_block3_1_bn (BatchNo  (None, 40, 40, 64)           256       ['conv2_block3_1_conv[0][0]'] \n",
            " rmalization)                                                                                     \n",
            "                                                                                                  \n",
            " conv2_block3_1_relu (Activ  (None, 40, 40, 64)           0         ['conv2_block3_1_bn[0][0]']   \n",
            " ation)                                                                                           \n",
            "                                                                                                  \n",
            " conv2_block3_2_conv (Conv2  (None, 40, 40, 64)           36928     ['conv2_block3_1_relu[0][0]'] \n",
            " D)                                                                                               \n",
            "                                                                                                  \n",
            " conv2_block3_2_bn (BatchNo  (None, 40, 40, 64)           256       ['conv2_block3_2_conv[0][0]'] \n",
            " rmalization)                                                                                     \n",
            "                                                                                                  \n",
            " conv2_block3_2_relu (Activ  (None, 40, 40, 64)           0         ['conv2_block3_2_bn[0][0]']   \n",
            " ation)                                                                                           \n",
            "                                                                                                  \n",
            " conv2_block3_3_conv (Conv2  (None, 40, 40, 256)          16640     ['conv2_block3_2_relu[0][0]'] \n",
            " D)                                                                                               \n",
            "                                                                                                  \n",
            " conv2_block3_3_bn (BatchNo  (None, 40, 40, 256)          1024      ['conv2_block3_3_conv[0][0]'] \n",
            " rmalization)                                                                                     \n",
            "                                                                                                  \n",
            " conv2_block3_add (Add)      (None, 40, 40, 256)          0         ['conv2_block2_out[0][0]',    \n",
            "                                                                     'conv2_block3_3_bn[0][0]']   \n",
            "                                                                                                  \n",
            " conv2_block3_out (Activati  (None, 40, 40, 256)          0         ['conv2_block3_add[0][0]']    \n",
            " on)                                                                                              \n",
            "                                                                                                  \n",
            " conv3_block1_1_conv (Conv2  (None, 20, 20, 128)          32896     ['conv2_block3_out[0][0]']    \n",
            " D)                                                                                               \n",
            "                                                                                                  \n",
            " conv3_block1_1_bn (BatchNo  (None, 20, 20, 128)          512       ['conv3_block1_1_conv[0][0]'] \n",
            " rmalization)                                                                                     \n",
            "                                                                                                  \n",
            " conv3_block1_1_relu (Activ  (None, 20, 20, 128)          0         ['conv3_block1_1_bn[0][0]']   \n",
            " ation)                                                                                           \n",
            "                                                                                                  \n",
            " conv3_block1_2_conv (Conv2  (None, 20, 20, 128)          147584    ['conv3_block1_1_relu[0][0]'] \n",
            " D)                                                                                               \n",
            "                                                                                                  \n",
            " conv3_block1_2_bn (BatchNo  (None, 20, 20, 128)          512       ['conv3_block1_2_conv[0][0]'] \n",
            " rmalization)                                                                                     \n",
            "                                                                                                  \n",
            " conv3_block1_2_relu (Activ  (None, 20, 20, 128)          0         ['conv3_block1_2_bn[0][0]']   \n",
            " ation)                                                                                           \n",
            "                                                                                                  \n",
            " conv3_block1_0_conv (Conv2  (None, 20, 20, 512)          131584    ['conv2_block3_out[0][0]']    \n",
            " D)                                                                                               \n",
            "                                                                                                  \n",
            " conv3_block1_3_conv (Conv2  (None, 20, 20, 512)          66048     ['conv3_block1_2_relu[0][0]'] \n",
            " D)                                                                                               \n",
            "                                                                                                  \n",
            " conv3_block1_0_bn (BatchNo  (None, 20, 20, 512)          2048      ['conv3_block1_0_conv[0][0]'] \n",
            " rmalization)                                                                                     \n",
            "                                                                                                  \n",
            " conv3_block1_3_bn (BatchNo  (None, 20, 20, 512)          2048      ['conv3_block1_3_conv[0][0]'] \n",
            " rmalization)                                                                                     \n",
            "                                                                                                  \n",
            " conv3_block1_add (Add)      (None, 20, 20, 512)          0         ['conv3_block1_0_bn[0][0]',   \n",
            "                                                                     'conv3_block1_3_bn[0][0]']   \n",
            "                                                                                                  \n",
            " conv3_block1_out (Activati  (None, 20, 20, 512)          0         ['conv3_block1_add[0][0]']    \n",
            " on)                                                                                              \n",
            "                                                                                                  \n",
            " conv3_block2_1_conv (Conv2  (None, 20, 20, 128)          65664     ['conv3_block1_out[0][0]']    \n",
            " D)                                                                                               \n",
            "                                                                                                  \n",
            " conv3_block2_1_bn (BatchNo  (None, 20, 20, 128)          512       ['conv3_block2_1_conv[0][0]'] \n",
            " rmalization)                                                                                     \n",
            "                                                                                                  \n",
            " conv3_block2_1_relu (Activ  (None, 20, 20, 128)          0         ['conv3_block2_1_bn[0][0]']   \n",
            " ation)                                                                                           \n",
            "                                                                                                  \n",
            " conv3_block2_2_conv (Conv2  (None, 20, 20, 128)          147584    ['conv3_block2_1_relu[0][0]'] \n",
            " D)                                                                                               \n",
            "                                                                                                  \n",
            " conv3_block2_2_bn (BatchNo  (None, 20, 20, 128)          512       ['conv3_block2_2_conv[0][0]'] \n",
            " rmalization)                                                                                     \n",
            "                                                                                                  \n",
            " conv3_block2_2_relu (Activ  (None, 20, 20, 128)          0         ['conv3_block2_2_bn[0][0]']   \n",
            " ation)                                                                                           \n",
            "                                                                                                  \n",
            " conv3_block2_3_conv (Conv2  (None, 20, 20, 512)          66048     ['conv3_block2_2_relu[0][0]'] \n",
            " D)                                                                                               \n",
            "                                                                                                  \n",
            " conv3_block2_3_bn (BatchNo  (None, 20, 20, 512)          2048      ['conv3_block2_3_conv[0][0]'] \n",
            " rmalization)                                                                                     \n",
            "                                                                                                  \n",
            " conv3_block2_add (Add)      (None, 20, 20, 512)          0         ['conv3_block1_out[0][0]',    \n",
            "                                                                     'conv3_block2_3_bn[0][0]']   \n",
            "                                                                                                  \n",
            " conv3_block2_out (Activati  (None, 20, 20, 512)          0         ['conv3_block2_add[0][0]']    \n",
            " on)                                                                                              \n",
            "                                                                                                  \n",
            " conv3_block3_1_conv (Conv2  (None, 20, 20, 128)          65664     ['conv3_block2_out[0][0]']    \n",
            " D)                                                                                               \n",
            "                                                                                                  \n",
            " conv3_block3_1_bn (BatchNo  (None, 20, 20, 128)          512       ['conv3_block3_1_conv[0][0]'] \n",
            " rmalization)                                                                                     \n",
            "                                                                                                  \n",
            " conv3_block3_1_relu (Activ  (None, 20, 20, 128)          0         ['conv3_block3_1_bn[0][0]']   \n",
            " ation)                                                                                           \n",
            "                                                                                                  \n",
            " conv3_block3_2_conv (Conv2  (None, 20, 20, 128)          147584    ['conv3_block3_1_relu[0][0]'] \n",
            " D)                                                                                               \n",
            "                                                                                                  \n",
            " conv3_block3_2_bn (BatchNo  (None, 20, 20, 128)          512       ['conv3_block3_2_conv[0][0]'] \n",
            " rmalization)                                                                                     \n",
            "                                                                                                  \n",
            " conv3_block3_2_relu (Activ  (None, 20, 20, 128)          0         ['conv3_block3_2_bn[0][0]']   \n",
            " ation)                                                                                           \n",
            "                                                                                                  \n",
            " conv3_block3_3_conv (Conv2  (None, 20, 20, 512)          66048     ['conv3_block3_2_relu[0][0]'] \n",
            " D)                                                                                               \n",
            "                                                                                                  \n",
            " conv3_block3_3_bn (BatchNo  (None, 20, 20, 512)          2048      ['conv3_block3_3_conv[0][0]'] \n",
            " rmalization)                                                                                     \n",
            "                                                                                                  \n",
            " conv3_block3_add (Add)      (None, 20, 20, 512)          0         ['conv3_block2_out[0][0]',    \n",
            "                                                                     'conv3_block3_3_bn[0][0]']   \n",
            "                                                                                                  \n",
            " conv3_block3_out (Activati  (None, 20, 20, 512)          0         ['conv3_block3_add[0][0]']    \n",
            " on)                                                                                              \n",
            "                                                                                                  \n",
            " conv3_block4_1_conv (Conv2  (None, 20, 20, 128)          65664     ['conv3_block3_out[0][0]']    \n",
            " D)                                                                                               \n",
            "                                                                                                  \n",
            " conv3_block4_1_bn (BatchNo  (None, 20, 20, 128)          512       ['conv3_block4_1_conv[0][0]'] \n",
            " rmalization)                                                                                     \n",
            "                                                                                                  \n",
            " conv3_block4_1_relu (Activ  (None, 20, 20, 128)          0         ['conv3_block4_1_bn[0][0]']   \n",
            " ation)                                                                                           \n",
            "                                                                                                  \n",
            " conv3_block4_2_conv (Conv2  (None, 20, 20, 128)          147584    ['conv3_block4_1_relu[0][0]'] \n",
            " D)                                                                                               \n",
            "                                                                                                  \n",
            " conv3_block4_2_bn (BatchNo  (None, 20, 20, 128)          512       ['conv3_block4_2_conv[0][0]'] \n",
            " rmalization)                                                                                     \n",
            "                                                                                                  \n",
            " conv3_block4_2_relu (Activ  (None, 20, 20, 128)          0         ['conv3_block4_2_bn[0][0]']   \n",
            " ation)                                                                                           \n",
            "                                                                                                  \n",
            " conv3_block4_3_conv (Conv2  (None, 20, 20, 512)          66048     ['conv3_block4_2_relu[0][0]'] \n",
            " D)                                                                                               \n",
            "                                                                                                  \n",
            " conv3_block4_3_bn (BatchNo  (None, 20, 20, 512)          2048      ['conv3_block4_3_conv[0][0]'] \n",
            " rmalization)                                                                                     \n",
            "                                                                                                  \n",
            " conv3_block4_add (Add)      (None, 20, 20, 512)          0         ['conv3_block3_out[0][0]',    \n",
            "                                                                     'conv3_block4_3_bn[0][0]']   \n",
            "                                                                                                  \n",
            " conv3_block4_out (Activati  (None, 20, 20, 512)          0         ['conv3_block4_add[0][0]']    \n",
            " on)                                                                                              \n",
            "                                                                                                  \n",
            " conv4_block1_1_conv (Conv2  (None, 10, 10, 256)          131328    ['conv3_block4_out[0][0]']    \n",
            " D)                                                                                               \n",
            "                                                                                                  \n",
            " conv4_block1_1_bn (BatchNo  (None, 10, 10, 256)          1024      ['conv4_block1_1_conv[0][0]'] \n",
            " rmalization)                                                                                     \n",
            "                                                                                                  \n",
            " conv4_block1_1_relu (Activ  (None, 10, 10, 256)          0         ['conv4_block1_1_bn[0][0]']   \n",
            " ation)                                                                                           \n",
            "                                                                                                  \n",
            " conv4_block1_2_conv (Conv2  (None, 10, 10, 256)          590080    ['conv4_block1_1_relu[0][0]'] \n",
            " D)                                                                                               \n",
            "                                                                                                  \n",
            " conv4_block1_2_bn (BatchNo  (None, 10, 10, 256)          1024      ['conv4_block1_2_conv[0][0]'] \n",
            " rmalization)                                                                                     \n",
            "                                                                                                  \n",
            " conv4_block1_2_relu (Activ  (None, 10, 10, 256)          0         ['conv4_block1_2_bn[0][0]']   \n",
            " ation)                                                                                           \n",
            "                                                                                                  \n",
            " conv4_block1_0_conv (Conv2  (None, 10, 10, 1024)         525312    ['conv3_block4_out[0][0]']    \n",
            " D)                                                                                               \n",
            "                                                                                                  \n",
            " conv4_block1_3_conv (Conv2  (None, 10, 10, 1024)         263168    ['conv4_block1_2_relu[0][0]'] \n",
            " D)                                                                                               \n",
            "                                                                                                  \n",
            " conv4_block1_0_bn (BatchNo  (None, 10, 10, 1024)         4096      ['conv4_block1_0_conv[0][0]'] \n",
            " rmalization)                                                                                     \n",
            "                                                                                                  \n",
            " conv4_block1_3_bn (BatchNo  (None, 10, 10, 1024)         4096      ['conv4_block1_3_conv[0][0]'] \n",
            " rmalization)                                                                                     \n",
            "                                                                                                  \n",
            " conv4_block1_add (Add)      (None, 10, 10, 1024)         0         ['conv4_block1_0_bn[0][0]',   \n",
            "                                                                     'conv4_block1_3_bn[0][0]']   \n",
            "                                                                                                  \n",
            " conv4_block1_out (Activati  (None, 10, 10, 1024)         0         ['conv4_block1_add[0][0]']    \n",
            " on)                                                                                              \n",
            "                                                                                                  \n",
            " conv4_block2_1_conv (Conv2  (None, 10, 10, 256)          262400    ['conv4_block1_out[0][0]']    \n",
            " D)                                                                                               \n",
            "                                                                                                  \n",
            " conv4_block2_1_bn (BatchNo  (None, 10, 10, 256)          1024      ['conv4_block2_1_conv[0][0]'] \n",
            " rmalization)                                                                                     \n",
            "                                                                                                  \n",
            " conv4_block2_1_relu (Activ  (None, 10, 10, 256)          0         ['conv4_block2_1_bn[0][0]']   \n",
            " ation)                                                                                           \n",
            "                                                                                                  \n",
            " conv4_block2_2_conv (Conv2  (None, 10, 10, 256)          590080    ['conv4_block2_1_relu[0][0]'] \n",
            " D)                                                                                               \n",
            "                                                                                                  \n",
            " conv4_block2_2_bn (BatchNo  (None, 10, 10, 256)          1024      ['conv4_block2_2_conv[0][0]'] \n",
            " rmalization)                                                                                     \n",
            "                                                                                                  \n",
            " conv4_block2_2_relu (Activ  (None, 10, 10, 256)          0         ['conv4_block2_2_bn[0][0]']   \n",
            " ation)                                                                                           \n",
            "                                                                                                  \n",
            " conv4_block2_3_conv (Conv2  (None, 10, 10, 1024)         263168    ['conv4_block2_2_relu[0][0]'] \n",
            " D)                                                                                               \n",
            "                                                                                                  \n",
            " conv4_block2_3_bn (BatchNo  (None, 10, 10, 1024)         4096      ['conv4_block2_3_conv[0][0]'] \n",
            " rmalization)                                                                                     \n",
            "                                                                                                  \n",
            " conv4_block2_add (Add)      (None, 10, 10, 1024)         0         ['conv4_block1_out[0][0]',    \n",
            "                                                                     'conv4_block2_3_bn[0][0]']   \n",
            "                                                                                                  \n",
            " conv4_block2_out (Activati  (None, 10, 10, 1024)         0         ['conv4_block2_add[0][0]']    \n",
            " on)                                                                                              \n",
            "                                                                                                  \n",
            " conv4_block3_1_conv (Conv2  (None, 10, 10, 256)          262400    ['conv4_block2_out[0][0]']    \n",
            " D)                                                                                               \n",
            "                                                                                                  \n",
            " conv4_block3_1_bn (BatchNo  (None, 10, 10, 256)          1024      ['conv4_block3_1_conv[0][0]'] \n",
            " rmalization)                                                                                     \n",
            "                                                                                                  \n",
            " conv4_block3_1_relu (Activ  (None, 10, 10, 256)          0         ['conv4_block3_1_bn[0][0]']   \n",
            " ation)                                                                                           \n",
            "                                                                                                  \n",
            " conv4_block3_2_conv (Conv2  (None, 10, 10, 256)          590080    ['conv4_block3_1_relu[0][0]'] \n",
            " D)                                                                                               \n",
            "                                                                                                  \n",
            " conv4_block3_2_bn (BatchNo  (None, 10, 10, 256)          1024      ['conv4_block3_2_conv[0][0]'] \n",
            " rmalization)                                                                                     \n",
            "                                                                                                  \n",
            " conv4_block3_2_relu (Activ  (None, 10, 10, 256)          0         ['conv4_block3_2_bn[0][0]']   \n",
            " ation)                                                                                           \n",
            "                                                                                                  \n",
            " conv4_block3_3_conv (Conv2  (None, 10, 10, 1024)         263168    ['conv4_block3_2_relu[0][0]'] \n",
            " D)                                                                                               \n",
            "                                                                                                  \n",
            " conv4_block3_3_bn (BatchNo  (None, 10, 10, 1024)         4096      ['conv4_block3_3_conv[0][0]'] \n",
            " rmalization)                                                                                     \n",
            "                                                                                                  \n",
            " conv4_block3_add (Add)      (None, 10, 10, 1024)         0         ['conv4_block2_out[0][0]',    \n",
            "                                                                     'conv4_block3_3_bn[0][0]']   \n",
            "                                                                                                  \n",
            " conv4_block3_out (Activati  (None, 10, 10, 1024)         0         ['conv4_block3_add[0][0]']    \n",
            " on)                                                                                              \n",
            "                                                                                                  \n",
            " conv4_block4_1_conv (Conv2  (None, 10, 10, 256)          262400    ['conv4_block3_out[0][0]']    \n",
            " D)                                                                                               \n",
            "                                                                                                  \n",
            " conv4_block4_1_bn (BatchNo  (None, 10, 10, 256)          1024      ['conv4_block4_1_conv[0][0]'] \n",
            " rmalization)                                                                                     \n",
            "                                                                                                  \n",
            " conv4_block4_1_relu (Activ  (None, 10, 10, 256)          0         ['conv4_block4_1_bn[0][0]']   \n",
            " ation)                                                                                           \n",
            "                                                                                                  \n",
            " conv4_block4_2_conv (Conv2  (None, 10, 10, 256)          590080    ['conv4_block4_1_relu[0][0]'] \n",
            " D)                                                                                               \n",
            "                                                                                                  \n",
            " conv4_block4_2_bn (BatchNo  (None, 10, 10, 256)          1024      ['conv4_block4_2_conv[0][0]'] \n",
            " rmalization)                                                                                     \n",
            "                                                                                                  \n",
            " conv4_block4_2_relu (Activ  (None, 10, 10, 256)          0         ['conv4_block4_2_bn[0][0]']   \n",
            " ation)                                                                                           \n",
            "                                                                                                  \n",
            " conv4_block4_3_conv (Conv2  (None, 10, 10, 1024)         263168    ['conv4_block4_2_relu[0][0]'] \n",
            " D)                                                                                               \n",
            "                                                                                                  \n",
            " conv4_block4_3_bn (BatchNo  (None, 10, 10, 1024)         4096      ['conv4_block4_3_conv[0][0]'] \n",
            " rmalization)                                                                                     \n",
            "                                                                                                  \n",
            " conv4_block4_add (Add)      (None, 10, 10, 1024)         0         ['conv4_block3_out[0][0]',    \n",
            "                                                                     'conv4_block4_3_bn[0][0]']   \n",
            "                                                                                                  \n",
            " conv4_block4_out (Activati  (None, 10, 10, 1024)         0         ['conv4_block4_add[0][0]']    \n",
            " on)                                                                                              \n",
            "                                                                                                  \n",
            " conv4_block5_1_conv (Conv2  (None, 10, 10, 256)          262400    ['conv4_block4_out[0][0]']    \n",
            " D)                                                                                               \n",
            "                                                                                                  \n",
            " conv4_block5_1_bn (BatchNo  (None, 10, 10, 256)          1024      ['conv4_block5_1_conv[0][0]'] \n",
            " rmalization)                                                                                     \n",
            "                                                                                                  \n",
            " conv4_block5_1_relu (Activ  (None, 10, 10, 256)          0         ['conv4_block5_1_bn[0][0]']   \n",
            " ation)                                                                                           \n",
            "                                                                                                  \n",
            " conv4_block5_2_conv (Conv2  (None, 10, 10, 256)          590080    ['conv4_block5_1_relu[0][0]'] \n",
            " D)                                                                                               \n",
            "                                                                                                  \n",
            " conv4_block5_2_bn (BatchNo  (None, 10, 10, 256)          1024      ['conv4_block5_2_conv[0][0]'] \n",
            " rmalization)                                                                                     \n",
            "                                                                                                  \n",
            " conv4_block5_2_relu (Activ  (None, 10, 10, 256)          0         ['conv4_block5_2_bn[0][0]']   \n",
            " ation)                                                                                           \n",
            "                                                                                                  \n",
            " conv4_block5_3_conv (Conv2  (None, 10, 10, 1024)         263168    ['conv4_block5_2_relu[0][0]'] \n",
            " D)                                                                                               \n",
            "                                                                                                  \n",
            " conv4_block5_3_bn (BatchNo  (None, 10, 10, 1024)         4096      ['conv4_block5_3_conv[0][0]'] \n",
            " rmalization)                                                                                     \n",
            "                                                                                                  \n",
            " conv4_block5_add (Add)      (None, 10, 10, 1024)         0         ['conv4_block4_out[0][0]',    \n",
            "                                                                     'conv4_block5_3_bn[0][0]']   \n",
            "                                                                                                  \n",
            " conv4_block5_out (Activati  (None, 10, 10, 1024)         0         ['conv4_block5_add[0][0]']    \n",
            " on)                                                                                              \n",
            "                                                                                                  \n",
            " conv4_block6_1_conv (Conv2  (None, 10, 10, 256)          262400    ['conv4_block5_out[0][0]']    \n",
            " D)                                                                                               \n",
            "                                                                                                  \n",
            " conv4_block6_1_bn (BatchNo  (None, 10, 10, 256)          1024      ['conv4_block6_1_conv[0][0]'] \n",
            " rmalization)                                                                                     \n",
            "                                                                                                  \n",
            " conv4_block6_1_relu (Activ  (None, 10, 10, 256)          0         ['conv4_block6_1_bn[0][0]']   \n",
            " ation)                                                                                           \n",
            "                                                                                                  \n",
            " conv4_block6_2_conv (Conv2  (None, 10, 10, 256)          590080    ['conv4_block6_1_relu[0][0]'] \n",
            " D)                                                                                               \n",
            "                                                                                                  \n",
            " conv4_block6_2_bn (BatchNo  (None, 10, 10, 256)          1024      ['conv4_block6_2_conv[0][0]'] \n",
            " rmalization)                                                                                     \n",
            "                                                                                                  \n",
            " conv4_block6_2_relu (Activ  (None, 10, 10, 256)          0         ['conv4_block6_2_bn[0][0]']   \n",
            " ation)                                                                                           \n",
            "                                                                                                  \n",
            " conv4_block6_3_conv (Conv2  (None, 10, 10, 1024)         263168    ['conv4_block6_2_relu[0][0]'] \n",
            " D)                                                                                               \n",
            "                                                                                                  \n",
            " conv4_block6_3_bn (BatchNo  (None, 10, 10, 1024)         4096      ['conv4_block6_3_conv[0][0]'] \n",
            " rmalization)                                                                                     \n",
            "                                                                                                  \n",
            " conv4_block6_add (Add)      (None, 10, 10, 1024)         0         ['conv4_block5_out[0][0]',    \n",
            "                                                                     'conv4_block6_3_bn[0][0]']   \n",
            "                                                                                                  \n",
            " conv4_block6_out (Activati  (None, 10, 10, 1024)         0         ['conv4_block6_add[0][0]']    \n",
            " on)                                                                                              \n",
            "                                                                                                  \n",
            " conv5_block1_1_conv (Conv2  (None, 5, 5, 512)            524800    ['conv4_block6_out[0][0]']    \n",
            " D)                                                                                               \n",
            "                                                                                                  \n",
            " conv5_block1_1_bn (BatchNo  (None, 5, 5, 512)            2048      ['conv5_block1_1_conv[0][0]'] \n",
            " rmalization)                                                                                     \n",
            "                                                                                                  \n",
            " conv5_block1_1_relu (Activ  (None, 5, 5, 512)            0         ['conv5_block1_1_bn[0][0]']   \n",
            " ation)                                                                                           \n",
            "                                                                                                  \n",
            " conv5_block1_2_conv (Conv2  (None, 5, 5, 512)            2359808   ['conv5_block1_1_relu[0][0]'] \n",
            " D)                                                                                               \n",
            "                                                                                                  \n",
            " conv5_block1_2_bn (BatchNo  (None, 5, 5, 512)            2048      ['conv5_block1_2_conv[0][0]'] \n",
            " rmalization)                                                                                     \n",
            "                                                                                                  \n",
            " conv5_block1_2_relu (Activ  (None, 5, 5, 512)            0         ['conv5_block1_2_bn[0][0]']   \n",
            " ation)                                                                                           \n",
            "                                                                                                  \n",
            " conv5_block1_0_conv (Conv2  (None, 5, 5, 2048)           2099200   ['conv4_block6_out[0][0]']    \n",
            " D)                                                                                               \n",
            "                                                                                                  \n",
            " conv5_block1_3_conv (Conv2  (None, 5, 5, 2048)           1050624   ['conv5_block1_2_relu[0][0]'] \n",
            " D)                                                                                               \n",
            "                                                                                                  \n",
            " conv5_block1_0_bn (BatchNo  (None, 5, 5, 2048)           8192      ['conv5_block1_0_conv[0][0]'] \n",
            " rmalization)                                                                                     \n",
            "                                                                                                  \n",
            " conv5_block1_3_bn (BatchNo  (None, 5, 5, 2048)           8192      ['conv5_block1_3_conv[0][0]'] \n",
            " rmalization)                                                                                     \n",
            "                                                                                                  \n",
            " conv5_block1_add (Add)      (None, 5, 5, 2048)           0         ['conv5_block1_0_bn[0][0]',   \n",
            "                                                                     'conv5_block1_3_bn[0][0]']   \n",
            "                                                                                                  \n",
            " conv5_block1_out (Activati  (None, 5, 5, 2048)           0         ['conv5_block1_add[0][0]']    \n",
            " on)                                                                                              \n",
            "                                                                                                  \n",
            " conv5_block2_1_conv (Conv2  (None, 5, 5, 512)            1049088   ['conv5_block1_out[0][0]']    \n",
            " D)                                                                                               \n",
            "                                                                                                  \n",
            " conv5_block2_1_bn (BatchNo  (None, 5, 5, 512)            2048      ['conv5_block2_1_conv[0][0]'] \n",
            " rmalization)                                                                                     \n",
            "                                                                                                  \n",
            " conv5_block2_1_relu (Activ  (None, 5, 5, 512)            0         ['conv5_block2_1_bn[0][0]']   \n",
            " ation)                                                                                           \n",
            "                                                                                                  \n",
            " conv5_block2_2_conv (Conv2  (None, 5, 5, 512)            2359808   ['conv5_block2_1_relu[0][0]'] \n",
            " D)                                                                                               \n",
            "                                                                                                  \n",
            " conv5_block2_2_bn (BatchNo  (None, 5, 5, 512)            2048      ['conv5_block2_2_conv[0][0]'] \n",
            " rmalization)                                                                                     \n",
            "                                                                                                  \n",
            " conv5_block2_2_relu (Activ  (None, 5, 5, 512)            0         ['conv5_block2_2_bn[0][0]']   \n",
            " ation)                                                                                           \n",
            "                                                                                                  \n",
            " conv5_block2_3_conv (Conv2  (None, 5, 5, 2048)           1050624   ['conv5_block2_2_relu[0][0]'] \n",
            " D)                                                                                               \n",
            "                                                                                                  \n",
            " conv5_block2_3_bn (BatchNo  (None, 5, 5, 2048)           8192      ['conv5_block2_3_conv[0][0]'] \n",
            " rmalization)                                                                                     \n",
            "                                                                                                  \n",
            " conv5_block2_add (Add)      (None, 5, 5, 2048)           0         ['conv5_block1_out[0][0]',    \n",
            "                                                                     'conv5_block2_3_bn[0][0]']   \n",
            "                                                                                                  \n",
            " conv5_block2_out (Activati  (None, 5, 5, 2048)           0         ['conv5_block2_add[0][0]']    \n",
            " on)                                                                                              \n",
            "                                                                                                  \n",
            " conv5_block3_1_conv (Conv2  (None, 5, 5, 512)            1049088   ['conv5_block2_out[0][0]']    \n",
            " D)                                                                                               \n",
            "                                                                                                  \n",
            " conv5_block3_1_bn (BatchNo  (None, 5, 5, 512)            2048      ['conv5_block3_1_conv[0][0]'] \n",
            " rmalization)                                                                                     \n",
            "                                                                                                  \n",
            " conv5_block3_1_relu (Activ  (None, 5, 5, 512)            0         ['conv5_block3_1_bn[0][0]']   \n",
            " ation)                                                                                           \n",
            "                                                                                                  \n",
            " conv5_block3_2_conv (Conv2  (None, 5, 5, 512)            2359808   ['conv5_block3_1_relu[0][0]'] \n",
            " D)                                                                                               \n",
            "                                                                                                  \n",
            " conv5_block3_2_bn (BatchNo  (None, 5, 5, 512)            2048      ['conv5_block3_2_conv[0][0]'] \n",
            " rmalization)                                                                                     \n",
            "                                                                                                  \n",
            " conv5_block3_2_relu (Activ  (None, 5, 5, 512)            0         ['conv5_block3_2_bn[0][0]']   \n",
            " ation)                                                                                           \n",
            "                                                                                                  \n",
            " conv5_block3_3_conv (Conv2  (None, 5, 5, 2048)           1050624   ['conv5_block3_2_relu[0][0]'] \n",
            " D)                                                                                               \n",
            "                                                                                                  \n",
            " conv5_block3_3_bn (BatchNo  (None, 5, 5, 2048)           8192      ['conv5_block3_3_conv[0][0]'] \n",
            " rmalization)                                                                                     \n",
            "                                                                                                  \n",
            " conv5_block3_add (Add)      (None, 5, 5, 2048)           0         ['conv5_block2_out[0][0]',    \n",
            "                                                                     'conv5_block3_3_bn[0][0]']   \n",
            "                                                                                                  \n",
            " conv5_block3_out (Activati  (None, 5, 5, 2048)           0         ['conv5_block3_add[0][0]']    \n",
            " on)                                                                                              \n",
            "                                                                                                  \n",
            " global_average_pooling2d_3  (None, 2048)                 0         ['conv5_block3_out[0][0]']    \n",
            "  (GlobalAveragePooling2D)                                                                        \n",
            "                                                                                                  \n",
            " dense_8 (Dense)             (None, 256)                  524544    ['global_average_pooling2d_3[0\n",
            "                                                                    ][0]']                        \n",
            "                                                                                                  \n",
            " batch_normalization_4 (Bat  (None, 256)                  1024      ['dense_8[0][0]']             \n",
            " chNormalization)                                                                                 \n",
            "                                                                                                  \n",
            " dropout_4 (Dropout)         (None, 256)                  0         ['batch_normalization_4[0][0]'\n",
            "                                                                    ]                             \n",
            "                                                                                                  \n",
            " dense_9 (Dense)             (None, 128)                  32896     ['dropout_4[0][0]']           \n",
            "                                                                                                  \n",
            " batch_normalization_5 (Bat  (None, 128)                  512       ['dense_9[0][0]']             \n",
            " chNormalization)                                                                                 \n",
            "                                                                                                  \n",
            " dropout_5 (Dropout)         (None, 128)                  0         ['batch_normalization_5[0][0]'\n",
            "                                                                    ]                             \n",
            "                                                                                                  \n",
            " dense_10 (Dense)            (None, 43)                   5547      ['dropout_5[0][0]']           \n",
            "                                                                                                  \n",
            "==================================================================================================\n",
            "Total params: 24152235 (92.13 MB)\n",
            "Trainable params: 22715691 (86.65 MB)\n",
            "Non-trainable params: 1436544 (5.48 MB)\n",
            "__________________________________________________________________________________________________\n"
          ]
        }
      ],
      "source": [
        "model_unfrez.summary()"
      ]
    },
    {
      "cell_type": "markdown",
      "metadata": {
        "id": "Q3QWhKP8pm3r"
      },
      "source": [
        "This model is also deployed in a similar manner as the other models:"
      ]
    },
    {
      "cell_type": "code",
      "execution_count": null,
      "metadata": {
        "colab": {
          "base_uri": "https://localhost:8080/"
        },
        "id": "vjvOOI-fjmqk",
        "outputId": "2e4b5cbc-72fa-4ff7-c60d-556b280a0f48"
      },
      "outputs": [
        {
          "name": "stdout",
          "output_type": "stream",
          "text": [
            "Epoch 1/50\n",
            "667/667 [==============================] - 118s 140ms/step - loss: 2.9734 - accuracy: 0.3337 - val_loss: 2.4741 - val_accuracy: 0.4109 - lr: 1.0000e-04\n",
            "Epoch 2/50\n",
            "667/667 [==============================] - 93s 139ms/step - loss: 1.2116 - accuracy: 0.7990 - val_loss: 0.5554 - val_accuracy: 0.9542 - lr: 1.0000e-04\n",
            "Epoch 3/50\n",
            "667/667 [==============================] - 95s 142ms/step - loss: 0.7081 - accuracy: 0.9287 - val_loss: 0.4292 - val_accuracy: 0.9694 - lr: 1.0000e-04\n",
            "Epoch 4/50\n",
            "667/667 [==============================] - 95s 142ms/step - loss: 0.5249 - accuracy: 0.9626 - val_loss: 0.3541 - val_accuracy: 0.9818 - lr: 9.5000e-05\n",
            "Epoch 5/50\n",
            "667/667 [==============================] - 94s 141ms/step - loss: 0.4125 - accuracy: 0.9779 - val_loss: 0.3514 - val_accuracy: 0.9762 - lr: 9.0250e-05\n",
            "Epoch 6/50\n",
            "667/667 [==============================] - 95s 142ms/step - loss: 0.3595 - accuracy: 0.9834 - val_loss: 0.2776 - val_accuracy: 0.9895 - lr: 8.5737e-05\n",
            "Epoch 7/50\n",
            "667/667 [==============================] - 96s 143ms/step - loss: 0.3198 - accuracy: 0.9855 - val_loss: 0.2555 - val_accuracy: 0.9887 - lr: 8.1451e-05\n",
            "Epoch 8/50\n",
            "667/667 [==============================] - 94s 141ms/step - loss: 0.2845 - accuracy: 0.9874 - val_loss: 0.2309 - val_accuracy: 0.9904 - lr: 7.7378e-05\n",
            "Epoch 9/50\n",
            "667/667 [==============================] - 96s 144ms/step - loss: 0.2436 - accuracy: 0.9924 - val_loss: 0.2099 - val_accuracy: 0.9917 - lr: 7.3509e-05\n",
            "Epoch 10/50\n",
            "667/667 [==============================] - 96s 144ms/step - loss: 0.2062 - accuracy: 0.9958 - val_loss: 0.2245 - val_accuracy: 0.9874 - lr: 6.9834e-05\n",
            "Epoch 11/50\n",
            "667/667 [==============================] - 96s 143ms/step - loss: 0.1942 - accuracy: 0.9945 - val_loss: 0.2214 - val_accuracy: 0.9844 - lr: 6.6342e-05\n",
            "Epoch 12/50\n",
            "667/667 [==============================] - 96s 144ms/step - loss: 0.1840 - accuracy: 0.9931 - val_loss: 0.1679 - val_accuracy: 0.9910 - lr: 6.3025e-05\n",
            "Epoch 13/50\n",
            "667/667 [==============================] - 96s 143ms/step - loss: 0.1558 - accuracy: 0.9963 - val_loss: 0.1745 - val_accuracy: 0.9889 - lr: 5.9874e-05\n",
            "Epoch 14/50\n",
            "667/667 [==============================] - 96s 143ms/step - loss: 0.1498 - accuracy: 0.9952 - val_loss: 0.1480 - val_accuracy: 0.9919 - lr: 5.6880e-05\n",
            "Epoch 15/50\n",
            "667/667 [==============================] - 96s 143ms/step - loss: 0.1414 - accuracy: 0.9952 - val_loss: 0.1412 - val_accuracy: 0.9914 - lr: 5.4036e-05\n",
            "Epoch 16/50\n",
            "667/667 [==============================] - 96s 144ms/step - loss: 0.1217 - accuracy: 0.9974 - val_loss: 0.1301 - val_accuracy: 0.9929 - lr: 5.1334e-05\n",
            "Epoch 17/50\n",
            "667/667 [==============================] - 106s 158ms/step - loss: 0.1110 - accuracy: 0.9978 - val_loss: 0.1305 - val_accuracy: 0.9908 - lr: 4.8767e-05\n",
            "Epoch 18/50\n",
            "667/667 [==============================] - 98s 147ms/step - loss: 0.1107 - accuracy: 0.9965 - val_loss: 0.1150 - val_accuracy: 0.9934 - lr: 4.6329e-05\n",
            "Epoch 19/50\n",
            "667/667 [==============================] - 101s 152ms/step - loss: 0.0979 - accuracy: 0.9977 - val_loss: 0.1115 - val_accuracy: 0.9919 - lr: 4.4013e-05\n",
            "Epoch 20/50\n",
            "667/667 [==============================] - 97s 145ms/step - loss: 0.0844 - accuracy: 0.9996 - val_loss: 0.1119 - val_accuracy: 0.9925 - lr: 4.1812e-05\n",
            "Epoch 21/50\n",
            "667/667 [==============================] - 98s 147ms/step - loss: 0.0898 - accuracy: 0.9972 - val_loss: 0.1020 - val_accuracy: 0.9925 - lr: 3.9721e-05\n",
            "Epoch 22/50\n",
            "667/667 [==============================] - 97s 146ms/step - loss: 0.0817 - accuracy: 0.9985 - val_loss: 0.0952 - val_accuracy: 0.9936 - lr: 3.7735e-05\n",
            "Epoch 23/50\n",
            "667/667 [==============================] - 96s 144ms/step - loss: 0.0725 - accuracy: 0.9992 - val_loss: 0.0935 - val_accuracy: 0.9944 - lr: 3.5849e-05\n",
            "Epoch 24/50\n",
            "667/667 [==============================] - 96s 144ms/step - loss: 0.0681 - accuracy: 0.9992 - val_loss: 0.0911 - val_accuracy: 0.9938 - lr: 3.4056e-05\n",
            "Epoch 25/50\n",
            "667/667 [==============================] - 106s 158ms/step - loss: 0.0689 - accuracy: 0.9985 - val_loss: 0.0929 - val_accuracy: 0.9914 - lr: 3.2353e-05\n",
            "Epoch 26/50\n",
            "667/667 [==============================] - 96s 143ms/step - loss: 0.0623 - accuracy: 0.9989 - val_loss: 0.0960 - val_accuracy: 0.9927 - lr: 3.0736e-05\n",
            "Epoch 27/50\n",
            "667/667 [==============================] - 96s 144ms/step - loss: 0.0567 - accuracy: 0.9996 - val_loss: 0.0792 - val_accuracy: 0.9946 - lr: 2.9199e-05\n",
            "Epoch 28/50\n",
            "667/667 [==============================] - 96s 144ms/step - loss: 0.0518 - accuracy: 1.0000 - val_loss: 0.0754 - val_accuracy: 0.9953 - lr: 2.7739e-05\n",
            "Epoch 29/50\n",
            "667/667 [==============================] - 96s 143ms/step - loss: 0.0485 - accuracy: 1.0000 - val_loss: 0.0690 - val_accuracy: 0.9957 - lr: 2.6352e-05\n",
            "Epoch 30/50\n",
            "667/667 [==============================] - 96s 143ms/step - loss: 0.0450 - accuracy: 0.9999 - val_loss: 0.0986 - val_accuracy: 0.9917 - lr: 2.5034e-05\n",
            "Epoch 31/50\n",
            "667/667 [==============================] - 96s 144ms/step - loss: 0.0489 - accuracy: 0.9987 - val_loss: 0.0683 - val_accuracy: 0.9951 - lr: 2.3783e-05\n",
            "Epoch 32/50\n",
            "667/667 [==============================] - 96s 144ms/step - loss: 0.0409 - accuracy: 0.9999 - val_loss: 0.0613 - val_accuracy: 0.9962 - lr: 2.2594e-05\n",
            "Epoch 33/50\n",
            "667/667 [==============================] - 96s 144ms/step - loss: 0.0385 - accuracy: 1.0000 - val_loss: 0.0631 - val_accuracy: 0.9959 - lr: 2.1464e-05\n",
            "Epoch 34/50\n",
            "667/667 [==============================] - 95s 143ms/step - loss: 0.0377 - accuracy: 0.9998 - val_loss: 0.0647 - val_accuracy: 0.9940 - lr: 2.0391e-05\n",
            "Epoch 35/50\n",
            "667/667 [==============================] - 96s 144ms/step - loss: 0.0379 - accuracy: 0.9993 - val_loss: 0.0662 - val_accuracy: 0.9946 - lr: 1.9371e-05\n",
            "Model training completed.\n"
          ]
        }
      ],
      "source": [
        "# Compile the model with a lower learning rate for fine-tuning\n",
        "model_unfrez.compile(optimizer=Adam(learning_rate=0.0001), loss='categorical_crossentropy', metrics=['accuracy'])\n",
        "\n",
        "# Early stopping callback\n",
        "early_stopping = EarlyStopping(monitor='val_loss', patience=3, restore_best_weights=True)\n",
        "\n",
        "# Fine-tune the model on your dataset\n",
        "num_epochs = 50\n",
        "history_unfrez = model_unfrez.fit(train_generator,\n",
        "                                  epochs=num_epochs,\n",
        "                                  validation_data=valid_generator,\n",
        "                                  callbacks=[early_stopping, lr_scheduler])\n",
        "\n",
        "print(\"Model training completed.\")"
      ]
    },
    {
      "cell_type": "markdown",
      "metadata": {
        "id": "X71BRlAOptD5"
      },
      "source": [
        "It was noted that each Epoch takes **lesser time to train** than model before. The training stopped at **epoch 35** as the model started overfitting (shown by the validation loss). This happend 16 epoch after the previous model. More hidden features could thus be uncovered.\n"
      ]
    },
    {
      "cell_type": "markdown",
      "metadata": {
        "id": "uoKpaGGi_Rlb"
      },
      "source": [
        "\n",
        "The training accuracy and validation accuracy graph are shown below."
      ]
    },
    {
      "cell_type": "code",
      "execution_count": null,
      "metadata": {
        "colab": {
          "base_uri": "https://localhost:8080/",
          "height": 402
        },
        "id": "1ZIG9-9wVd4C",
        "outputId": "c995e081-7a6b-42be-89be-442e5954f799"
      },
      "outputs": [
        {
          "data": {
            "image/png": "[encoded data removed]",
            "text/plain": [
              "<Figure size 1200x600 with 2 Axes>"
            ]
          },
          "metadata": {},
          "output_type": "display_data"
        }
      ],
      "source": [
        "plot_training_history(history_unfrez)"
      ]
    },
    {
      "cell_type": "code",
      "execution_count": null,
      "metadata": {
        "colab": {
          "base_uri": "https://localhost:8080/"
        },
        "id": "BlPptPKHjZOQ",
        "outputId": "968eb3ab-659a-4306-bdd0-32186c859380"
      },
      "outputs": [
        {
          "name": "stdout",
          "output_type": "stream",
          "text": [
            "Training Accuracy Increase Rate: 0.01957796426380382\n",
            "Validation Accuracy Increase Rate: 0.017166056177195382\n"
          ]
        }
      ],
      "source": [
        "# Increasing rate\n",
        "train_rate_unfrez, val_rate_unfrez = calculate_accuracy_increase_rate(history_unfrez)\n",
        "print(\"Training Accuracy Increase Rate:\", train_rate_unfrez)\n",
        "print(\"Validation Accuracy Increase Rate:\", val_rate_unfrez)"
      ]
    },
    {
      "cell_type": "markdown",
      "metadata": {
        "id": "J43-H2x1qLrO"
      },
      "source": [
        "The rate of increase for accuracy significantly decreased, particularly due to more epoch is used."
      ]
    },
    {
      "cell_type": "markdown",
      "metadata": {
        "id": "j8ySSEHqqTSO"
      },
      "source": [
        "Then, the model is evaluated on the test data"
      ]
    },
    {
      "cell_type": "code",
      "execution_count": null,
      "metadata": {
        "colab": {
          "base_uri": "https://localhost:8080/"
        },
        "id": "lOQJcz2duiua",
        "outputId": "31e0aee2-c058-4c3e-cf34-5742df9d0ed0"
      },
      "outputs": [
        {
          "name": "stdout",
          "output_type": "stream",
          "text": [
            "394/394 [==============================] - 31s 79ms/step - loss: 0.3842 - accuracy: 0.9488\n",
            "Test Loss: 0.3842\n",
            "Test Accuracy: 0.9488\n"
          ]
        }
      ],
      "source": [
        "# Test the model with the test data\n",
        "test_loss_unfrez, test_accuracy_unfrez = model_unfrez.evaluate(test_generator)\n",
        "\n",
        "print(f\"Test Loss: {test_loss_unfrez:.4f}\")\n",
        "print(f\"Test Accuracy: {test_accuracy_unfrez:.4f}\")"
      ]
    },
    {
      "cell_type": "code",
      "execution_count": null,
      "metadata": {
        "colab": {
          "base_uri": "https://localhost:8080/"
        },
        "id": "9r6PFojTuqq9",
        "outputId": "85b92915-21b1-490c-9eed-28e7e21ebba0"
      },
      "outputs": [
        {
          "name": "stdout",
          "output_type": "stream",
          "text": [
            "394/394 [==============================] - 43s 108ms/step\n",
            "Precision Score: 0.9506\n"
          ]
        }
      ],
      "source": [
        "# Make predictions on the test data\n",
        "test_pred_unfrez = model_unfrez.predict(test_generator)\n",
        "\n",
        "# Convert one-hot encoded predictions back to class labels\n",
        "predicted_labels_unfrez = np.argmax(test_pred_unfrez, axis=1)\n",
        "\n",
        "# Calculate the precision score\n",
        "precision_unfrez = precision_score(true_labels, predicted_labels_unfrez, average='weighted')\n",
        "\n",
        "print(f\"Precision Score: {precision_unfrez:.4f}\")"
      ]
    },
    {
      "cell_type": "code",
      "execution_count": null,
      "metadata": {
        "colab": {
          "base_uri": "https://localhost:8080/"
        },
        "id": "omduGPdyO7Nz",
        "outputId": "8a83ca2d-fa8f-4942-c2a2-38457d86ee37"
      },
      "outputs": [
        {
          "name": "stdout",
          "output_type": "stream",
          "text": [
            "Classification Report:\n",
            "               precision    recall  f1-score   support\n",
            "\n",
            "           0       0.98      0.99      0.99       293\n",
            "           1       0.94      0.96      0.95       293\n",
            "           2       0.98      0.99      0.99       293\n",
            "           3       0.97      0.95      0.96       293\n",
            "           4       0.98      0.98      0.98       293\n",
            "           5       0.99      1.00      0.99       293\n",
            "           6       1.00      0.97      0.98       293\n",
            "           7       0.94      0.99      0.97       293\n",
            "           8       0.94      0.99      0.97       293\n",
            "           9       0.99      0.93      0.96       293\n",
            "          10       0.95      0.86      0.90       293\n",
            "          11       0.92      0.78      0.85       293\n",
            "          12       0.95      0.99      0.97       293\n",
            "          13       0.94      0.99      0.97       293\n",
            "          14       0.97      0.96      0.97       293\n",
            "          15       0.98      0.94      0.96       293\n",
            "          16       0.77      0.96      0.86       293\n",
            "          17       0.95      0.95      0.95       293\n",
            "          18       0.96      0.95      0.96       293\n",
            "          19       0.83      0.89      0.86       293\n",
            "          20       0.95      0.95      0.95       293\n",
            "          21       0.92      0.97      0.94       293\n",
            "          22       0.91      0.98      0.95       293\n",
            "          23       0.98      0.97      0.97       293\n",
            "          24       0.94      0.85      0.89       293\n",
            "          25       0.98      0.95      0.96       293\n",
            "          26       0.99      0.99      0.99       293\n",
            "          27       1.00      0.99      0.99       293\n",
            "          28       0.98      1.00      0.99       293\n",
            "          29       1.00      0.97      0.98       293\n",
            "          30       0.95      0.91      0.93       293\n",
            "          31       0.96      0.96      0.96       293\n",
            "          32       0.99      0.96      0.97       293\n",
            "          33       0.92      0.92      0.92       293\n",
            "          34       0.98      0.97      0.97       293\n",
            "          35       0.96      0.79      0.87       293\n",
            "          36       0.90      0.94      0.92       293\n",
            "          37       0.94      0.94      0.94       293\n",
            "          38       0.96      0.94      0.95       293\n",
            "          39       0.96      0.89      0.93       293\n",
            "          40       0.85      0.97      0.90       293\n",
            "          41       0.94      0.98      0.96       293\n",
            "          42       0.97      1.00      0.98       293\n",
            "\n",
            "    accuracy                           0.95     12599\n",
            "   macro avg       0.95      0.95      0.95     12599\n",
            "weighted avg       0.95      0.95      0.95     12599\n",
            "\n"
          ]
        }
      ],
      "source": [
        "# Generate a classification report\n",
        "class_rep_unfrez = classification_report(true_labels, predicted_labels_unfrez, target_names=class_names)\n",
        "\n",
        "print(\"Classification Report:\\n\", class_rep_unfrez)"
      ]
    },
    {
      "cell_type": "markdown",
      "metadata": {
        "id": "0UuBbH_QqdsZ"
      },
      "source": [
        "This model achived a **much higher result** on testing accuracy and precision than the models before. suggesting that **fine tuning resnet50 model** is a possible way to achive a much higher accuracy.\n",
        "\n",
        "Generally, the model is performing very well with a test accuracy of 94.88% and test precision of 95.06%. Both matrix increased for more than 10% as compared to using ResNet50 as transfered learning. The worst performing class is class 17 with precision of 77%. Majority of the classes has a F**1-score of higher than 90%.**"
      ]
    },
    {
      "cell_type": "markdown",
      "metadata": {
        "id": "9g-i58ICrZHX"
      },
      "source": [
        "This model is the best performing model so far."
      ]
    },
    {
      "cell_type": "markdown",
      "metadata": {
        "id": "z5CMJBz0r7HO"
      },
      "source": [
        "<h1> 6.3 Saving the model</h1>"
      ]
    },
    {
      "cell_type": "markdown",
      "metadata": {
        "id": "tDof4y-VsCI3"
      },
      "source": [
        "The training history, raw preditions and the best performing models are saved to google drive for future analysis and comparison below:"
      ]
    },
    {
      "cell_type": "code",
      "execution_count": null,
      "metadata": {
        "colab": {
          "base_uri": "https://localhost:8080/"
        },
        "id": "g478lq5usCrE",
        "outputId": "02a217e4-8acd-418d-b608-39764649ac68"
      },
      "outputs": [
        {
          "name": "stdout",
          "output_type": "stream",
          "text": [
            "Raw predictions saved to 'best_test_predictions_resnet50_RRDB.npy'.\n"
          ]
        }
      ],
      "source": [
        "# Define the file path where you want to save the raw predictions\n",
        "save_path = \"best_test_predictions_resnet50_RRDB.npy\"\n",
        "\n",
        "# Save the raw predictions to the specified file\n",
        "np.save(save_path, test_pred_unfrez)\n",
        "\n",
        "print(f\"Raw predictions saved to '{save_path}'.\")"
      ]
    },
    {
      "cell_type": "markdown",
      "metadata": {
        "id": "gvEQz9-7BDDf"
      },
      "source": [
        "Keras model is saved"
      ]
    },
    {
      "cell_type": "code",
      "execution_count": null,
      "metadata": {
        "id": "D8KGhSFTsGf-"
      },
      "outputs": [],
      "source": [
        "model_unfrez.save(\"final_resnet_model_RRDB.keras\")"
      ]
    },
    {
      "cell_type": "markdown",
      "metadata": {
        "id": "cHBMFn0YrtGK"
      },
      "source": [
        "saving training history:"
      ]
    },
    {
      "cell_type": "code",
      "execution_count": null,
      "metadata": {
        "id": "qAtoI-D8sIkf"
      },
      "outputs": [],
      "source": [
        "def save_training_history(history, filename):\n",
        "    # Create a DataFrame from the training history\n",
        "    history_df = pd.DataFrame(history.history)\n",
        "\n",
        "    # Save the DataFrame to a CSV file\n",
        "    history_df.to_csv(filename, index=False)\n",
        "\n",
        "    # Print the first few rows of the history DataFrame\n",
        "    print(history_df.head())"
      ]
    },
    {
      "cell_type": "code",
      "execution_count": null,
      "metadata": {
        "colab": {
          "base_uri": "https://localhost:8080/"
        },
        "id": "Hmj3vnROsLpp",
        "outputId": "276eaada-5176-429a-e898-66c7f1e1309d"
      },
      "outputs": [
        {
          "name": "stdout",
          "output_type": "stream",
          "text": [
            "       loss  accuracy  val_loss  val_accuracy        lr\n",
            "0  0.455107  0.867545  2.903383      0.256752  0.001000\n",
            "1  0.095352  0.973275  0.490514      0.878282  0.001000\n",
            "2  0.056762  0.983824  0.230996      0.931920  0.001000\n",
            "3  0.053299  0.985324  0.114025      0.967367  0.000950\n",
            "4  0.033146  0.991279  0.067952      0.980495  0.000903\n",
            "       loss  accuracy  val_loss  val_accuracy        lr\n",
            "0  2.147796  0.558327  6.188314      0.023818  0.001000\n",
            "1  0.639759  0.935109  0.781878      0.864404  0.001000\n",
            "2  0.395458  0.964319  0.683255      0.886159  0.001000\n",
            "3  0.294947  0.974119  0.283317      0.970368  0.000950\n",
            "4  0.227669  0.980870  0.303719      0.960615  0.000903\n",
            "       loss  accuracy  val_loss  val_accuracy        lr\n",
            "0  2.973420  0.333693  2.474138      0.410915  0.000100\n",
            "1  1.211578  0.799044  0.555396      0.954239  0.000100\n",
            "2  0.708134  0.928685  0.429177      0.969430  0.000100\n",
            "3  0.524914  0.962631  0.354136      0.981808  0.000095\n",
            "4  0.412509  0.977869  0.351432      0.976182  0.000090\n"
          ]
        }
      ],
      "source": [
        "save_training_history(history_simpleRes, 'training_history_simpleResnet_RRDB.csv')\n",
        "save_training_history(history_complex_model, 'training_history_complexResnet_RRDB.csv')\n",
        "save_training_history(history_unfrez, 'training_history_complexResnet_unfrez_RRDB.csv')"
      ]
    },
    {
      "cell_type": "markdown",
      "metadata": {
        "id": "PAt-WXVdrvvr"
      },
      "source": [
        "Moving to google drive:"
      ]
    },
    {
      "cell_type": "code",
      "execution_count": null,
      "metadata": {
        "colab": {
          "base_uri": "https://localhost:8080/"
        },
        "id": "sSxh-jt7sO95",
        "outputId": "fd32ef16-a543-4c0b-95b2-fac4a34dfb2b"
      },
      "outputs": [
        {
          "name": "stdout",
          "output_type": "stream",
          "text": [
            "Files copied to Google Drive successfully.\n"
          ]
        }
      ],
      "source": [
        "import shutil\n",
        "import os\n",
        "\n",
        "# Define the destination directory in Google Drive\n",
        "dest_dir = 'drive/MyDrive/final/training_models/resnet50/Simple/'\n",
        "\n",
        "# Create the destination directory if it doesn't exist\n",
        "os.makedirs(dest_dir, exist_ok=True)\n",
        "\n",
        "# Define the source paths\n",
        "src_paths = [\n",
        "    'final_resnet_model_simple.keras',\n",
        "    'final_resnet_model_simple.h5',\n",
        "    'training_history_simpleResnet_simple.csv',\n",
        "    'training_history_complexResnet_simple.csv',\n",
        "    'training_history_complexResnet_unfrez_simple.csv',\n",
        "    'best_test_predictions_resnet50_simple.npy'\n",
        "]\n",
        "\n",
        "# Copy files to Google Drive\n",
        "for src_path in src_paths:\n",
        "    shutil.copy(src_path, dest_dir)\n",
        "\n",
        "print(\"Files copied to Google Drive successfully.\")"
      ]
    }
  ],
  "metadata": {
    "accelerator": "GPU",
    "colab": {
      "authorship_tag": "ABX9TyOt9d+86oxJ0lzjY5cd0JxW",
      "gpuType": "T4",
      "include_colab_link": true,
      "provenance": []
    },
    "kernelspec": {
      "display_name": "Python 3",
      "name": "python3"
    },
    "language_info": {
      "name": "python"
    }
  },
  "nbformat": 4,
  "nbformat_minor": 0
}
