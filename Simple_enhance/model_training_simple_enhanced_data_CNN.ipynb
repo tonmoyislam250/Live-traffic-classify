{
  "cells": [
    {
      "cell_type": "markdown",
      "metadata": {
        "id": "DYBNIWx1Km-Q"
      },
      "source": [
        "The libraries used in this notebook are listed below."
      ]
    },
    {
      "cell_type": "code",
      "execution_count": 1,
      "metadata": {
        "id": "VEemnXizTEw4"
      },
      "outputs": [],
      "source": [
        "import zipfile\n",
        "import os\n",
        "import os\n",
        "import cv2\n",
        "import numpy as np\n",
        "import pandas as pd\n",
        "import matplotlib.pyplot as plt\n",
        "\n",
        "from PIL import Image\n",
        "from shutil import copyfile\n",
        "from sklearn.model_selection import train_test_split\n",
        "\n",
        "# importing library for ML processing\n",
        "import tensorflow as tf\n",
        "from tensorflow.keras.preprocessing.image import ImageDataGenerator\n",
        "\n",
        "# CNN layers\n",
        "from tensorflow.keras.layers import Input, Conv2D, MaxPooling2D, Flatten, Dense, Dropout, BatchNormalization\n",
        "from tensorflow.keras.models import Model\n",
        "from tensorflow.keras.optimizers import Adam,RMSprop\n",
        "from tensorflow.keras.callbacks import EarlyStopping\n",
        "\n",
        "# Regularization\n",
        "from tensorflow.keras import regularizers\n",
        "\n",
        "# Saving the model\n",
        "from tensorflow.keras.models import save_model\n",
        "\n",
        "# Metrics for evaluation\n",
        "from sklearn.metrics import classification_report\n",
        "from sklearn.metrics import precision_score"
      ]
    },
    {
      "cell_type": "markdown",
      "metadata": {
        "id": "d_ycXAdhSGV7"
      },
      "source": [
        "<h2>5.1.2 Data preparation for Machine Learning</h2>"
      ]
    },
    {
      "cell_type": "markdown",
      "metadata": {
        "id": "znQglMe3mU_p"
      },
      "source": [
        "Firstly, pre-porcessed training data is obtained and prepared for machine learning:\n"
      ]
    },
    {
      "cell_type": "markdown",
      "metadata": {
        "id": "_RWYzZpNM_LA"
      },
      "source": [
        "The labels for all the images is in the <code>image_enhanced_simple_data.csv</code> file. It is first extracted in the code below."
      ]
    },
    {
      "cell_type": "code",
      "execution_count": null,
      "metadata": {
        "colab": {
          "base_uri": "https://localhost:8080/"
        },
        "id": "i94oSVmWCYpC",
        "outputId": "fd0dbc8c-66f0-4d5c-adc5-9ca8e74e14e2"
      },
      "outputs": [],
      "source": [
        "csv_file = 'augmented_images.csv'\n",
        "\n",
        "# Read the CSV file into a pandas DataFrame\n",
        "df_classes = pd.read_csv(csv_file)\n",
        "df_classes.info"
      ]
    },
    {
      "cell_type": "markdown",
      "metadata": {
        "id": "tKBDwP7kNu-L"
      },
      "source": [
        "Then the images are extracted from the <code>image_enhanced_PIL_simple.zip</code> file."
      ]
    },
    {
      "cell_type": "code",
      "execution_count": null,
      "metadata": {
        "colab": {
          "base_uri": "https://localhost:8080/"
        },
        "id": "aegfPAhacJRR",
        "outputId": "ff67f26b-1381-4c2a-d1e3-f10ad1c25842"
      },
      "outputs": [
        {
          "name": "stdout",
          "output_type": "stream",
          "text": [
            "Number of extracted images: 26660\n",
            "Extraction completed.\n"
          ]
        }
      ],
      "source": [
        "# Paths\n",
        "extracted_dir = 'augmented_images'\n",
        "\n",
        "# Check the length of the extracted images\n",
        "num_extracted_images = len(os.listdir(extracted_dir))\n",
        "print(f\"Number of extracted images: {num_extracted_images}\")\n",
        "print(\"Extraction completed.\")"
      ]
    },
    {
      "cell_type": "markdown",
      "metadata": {
        "id": "UgAfoUUON3vh"
      },
      "source": [
        "Both images and there labels extracted contains the same number of entries."
      ]
    },
    {
      "cell_type": "markdown",
      "metadata": {
        "id": "ZrskEW6ON0Zc"
      },
      "source": [
        "The distribution of the final classes is shown below."
      ]
    },
    {
      "cell_type": "code",
      "execution_count": null,
      "metadata": {
        "colab": {
          "base_uri": "https://localhost:8080/",
          "height": 516
        },
        "id": "s28B6914YyMd",
        "outputId": "b4fad0da-f634-4213-bc8b-db6654ebe2c9"
      },
      "outputs": [
        {
          "data": {
            "image/png": "[encoded data removed]",
            "text/plain": [
              "<Figure size 1000x600 with 1 Axes>"
            ]
          },
          "metadata": {},
          "output_type": "display_data"
        }
      ],
      "source": [
        "# Count the occurrences of each class in the DataFrame\n",
        "class_counts = df_classes['class'].value_counts()\n",
        "\n",
        "# Sort the unique class IDs\n",
        "unique_classes = np.sort(df_classes['class'].unique())\n",
        "\n",
        "# Create a bar chart\n",
        "plt.figure(figsize=(10, 6))\n",
        "plt.bar(unique_classes, class_counts[unique_classes])\n",
        "plt.xlabel('Class')\n",
        "plt.ylabel('Count')\n",
        "plt.title('Class Distribution')\n",
        "plt.xticks(unique_classes)\n",
        "plt.show()"
      ]
    },
    {
      "cell_type": "code",
      "execution_count": null,
      "metadata": {},
      "outputs": [],
      "source": [
        "extracted_dir ='augmented_images'"
      ]
    },
    {
      "cell_type": "code",
      "execution_count": null,
      "metadata": {
        "colab": {
          "base_uri": "https://localhost:8080/"
        },
        "id": "husZ2lw6dYyC",
        "outputId": "23416fee-c7b7-403d-a73c-469132d2abf4"
      },
      "outputs": [
        {
          "name": "stdout",
          "output_type": "stream",
          "text": [
            "Data preparation for ML completed.\n"
          ]
        }
      ],
      "source": [
        "train_dir = 'train_images'\n",
        "valid_dir = 'valid_images'\n",
        "\n",
        "# Create directories for training and validation images\n",
        "os.makedirs(train_dir, exist_ok=True)\n",
        "os.makedirs(valid_dir, exist_ok=True)\n",
        "\n",
        "# Split the data into training and validation sets\n",
        "train_df, valid_df = train_test_split(df_classes, test_size=0.2, random_state=42, stratify=df_classes['class'])\n",
        "\n",
        "# Copy images to directories based on classes for training set\n",
        "for index, row in train_df.iterrows():\n",
        "    src_path = os.path.join(extracted_dir, row['filename'])\n",
        "    dst_path = os.path.join(train_dir, str(row['class']), row['filename'])\n",
        "    os.makedirs(os.path.dirname(dst_path), exist_ok=True)\n",
        "    copyfile(src_path, dst_path)\n",
        "\n",
        "# Copy images to directories based on classes for validation set\n",
        "for index, row in valid_df.iterrows():\n",
        "    src_path = os.path.join(extracted_dir, row['filename'])\n",
        "    dst_path = os.path.join(valid_dir, str(row['class']), row['filename'])\n",
        "    os.makedirs(os.path.dirname(dst_path), exist_ok=True)\n",
        "    copyfile(src_path, dst_path)\n",
        "\n",
        "print(\"Data preparation for ML completed.\")"
      ]
    },
    {
      "cell_type": "markdown",
      "metadata": {
        "id": "-F61JPGGOoN2"
      },
      "source": [
        "<h1> 5.2 Machine Learning</h1>"
      ]
    },
    {
      "cell_type": "markdown",
      "metadata": {
        "id": "kumuDOWeSTrX"
      },
      "source": [
        "<h2>5.2.1 Data pipeline</h2>"
      ]
    },
    {
      "cell_type": "markdown",
      "metadata": {
        "id": "XEkNgAgcRWjj"
      },
      "source": [
        "<code>flow_from_directory()</code> from Keras ImageDataGenerator is used to load the images with rescaling to 1/255. batch size and image size are pre-set to 32 and (160, 160), respectively. These number were based on the upscaling of images in image enhancement."
      ]
    },
    {
      "cell_type": "code",
      "execution_count": 2,
      "metadata": {
        "colab": {
          "base_uri": "https://localhost:8080/"
        },
        "id": "ICEfnqPEeJBl",
        "outputId": "d46b0d9a-4364-4554-d907-76c1b7456ae2"
      },
      "outputs": [
        {
          "name": "stdout",
          "output_type": "stream",
          "text": [
            "Found 21328 images belonging to 43 classes.\n",
            "Found 5332 images belonging to 43 classes.\n"
          ]
        }
      ],
      "source": [
        "# Define paths\n",
        "train_dir = 'train_images'\n",
        "valid_dir = 'valid_images'\n",
        "\n",
        "# Define image dimensions and batch size\n",
        "image_size = (160,160)\n",
        "batch_size = 32\n",
        "\n",
        "# Create data generators and rescale image for ML on training and validation\n",
        "train_datagen = ImageDataGenerator(rescale=1.0/255)\n",
        "valid_datagen = ImageDataGenerator(rescale=1.0/255)\n",
        "\n",
        "train_generator = train_datagen.flow_from_directory(\n",
        "    train_dir,\n",
        "    target_size=image_size,\n",
        "    batch_size=batch_size,\n",
        "    class_mode='categorical',\n",
        "    color_mode='grayscale',  # Load images as grayscale\n",
        "    shuffle=True  # Set shuffle to True for training data\n",
        ")\n",
        "\n",
        "valid_generator = valid_datagen.flow_from_directory(\n",
        "    valid_dir,\n",
        "    target_size=image_size,\n",
        "    batch_size=batch_size,\n",
        "    class_mode='categorical',\n",
        "    color_mode='grayscale',  # Load images as grayscale\n",
        "    shuffle=False  # Set shuffle to False for validation data\n",
        ")\n",
        "\n",
        "# Get the number of classes from the training generator\n",
        "num_classes = len(train_generator.class_indices)"
      ]
    },
    {
      "cell_type": "markdown",
      "metadata": {
        "id": "BGdLiXc9TI2J"
      },
      "source": [
        "Total <b>21328</b> images are loaded into the training data and <b>5332</b> images are loaded into the validation data."
      ]
    },
    {
      "cell_type": "markdown",
      "metadata": {
        "id": "AFiJylAImhVR"
      },
      "source": [
        "Next, the test data is also obtained and prepared for machine learning."
      ]
    },
    {
      "cell_type": "code",
      "execution_count": 3,
      "metadata": {
        "id": "wjQBx8gQmnaV"
      },
      "outputs": [],
      "source": [
        "test_extracted_dir ='augmented_images_test'\n",
        "test_dir = 'test_images'"
      ]
    },
    {
      "cell_type": "code",
      "execution_count": 4,
      "metadata": {
        "id": "V7txY676psmN"
      },
      "outputs": [],
      "source": [
        "# Move the test images to the test directory while renaming them with their true labels\n",
        "for filename in os.listdir(test_extracted_dir):\n",
        "    src_path = os.path.join(test_extracted_dir, filename)\n",
        "    true_label = filename.split('_')[0]\n",
        "    dst_path = os.path.join(test_dir, true_label, filename)\n",
        "    os.makedirs(os.path.dirname(dst_path), exist_ok=True)\n",
        "    copyfile(src_path, dst_path)"
      ]
    },
    {
      "cell_type": "markdown",
      "metadata": {
        "id": "wON1wKvsK6Xn"
      },
      "source": [
        "Data generator is used for loading images into the model."
      ]
    },
    {
      "cell_type": "code",
      "execution_count": 5,
      "metadata": {
        "colab": {
          "base_uri": "https://localhost:8080/"
        },
        "id": "oelcW3EtnlSz",
        "outputId": "a4a9bc0c-ec2d-49d0-84ad-5a36c51e678c"
      },
      "outputs": [
        {
          "name": "stdout",
          "output_type": "stream",
          "text": [
            "Found 12599 images belonging to 43 classes.\n"
          ]
        }
      ],
      "source": [
        "# Create a data generator for the test data\n",
        "test_datagen = ImageDataGenerator(rescale=1.0/255)\n",
        "\n",
        "test_generator = test_datagen.flow_from_directory(\n",
        "    test_dir,\n",
        "    target_size=image_size,\n",
        "    batch_size=batch_size,\n",
        "    class_mode='categorical',\n",
        "    color_mode='grayscale',  # Load images as grayscale\n",
        "    shuffle=False  # Set shuffle to False for testing data\n",
        ")"
      ]
    },
    {
      "cell_type": "markdown",
      "metadata": {
        "id": "EJUQK66CaB8W"
      },
      "source": [
        "<h2>5.2.2 Training the CNN model</h2>"
      ]
    },
    {
      "cell_type": "markdown",
      "metadata": {
        "id": "xsMRTT06SepR"
      },
      "source": [
        "As there are many models training at the same time, the first image in the training data is inspected on size to confirm the shape of the nerual network."
      ]
    },
    {
      "cell_type": "code",
      "execution_count": 6,
      "metadata": {
        "colab": {
          "base_uri": "https://localhost:8080/"
        },
        "id": "rOC7HwpRYjjM",
        "outputId": "ea679aa5-68b5-494a-e589-f21afc8070ff"
      },
      "outputs": [
        {
          "name": "stdout",
          "output_type": "stream",
          "text": [
            "Size of '0_0.png' in folder '0': (160, 160)\n"
          ]
        }
      ],
      "source": [
        "# Define the path to the image file\n",
        "image_path = os.path.join('train_images', '0', '0_0.png')\n",
        "\n",
        "# Open the image using PIL\n",
        "image = Image.open(image_path)\n",
        "\n",
        "# Get the size (dimensions) of the image\n",
        "image_size = image.size\n",
        "\n",
        "# Close the image file\n",
        "image.close()\n",
        "\n",
        "# Print the size of the image\n",
        "print(\"Size of '0_0.png' in folder '0':\", image_size)\n"
      ]
    },
    {
      "cell_type": "code",
      "execution_count": 7,
      "metadata": {
        "colab": {
          "base_uri": "https://localhost:8080/"
        },
        "id": "H-3iuxp0YNem",
        "outputId": "e6390c4b-860d-4ab1-cd82-0f2a75538b2f"
      },
      "outputs": [
        {
          "name": "stdout",
          "output_type": "stream",
          "text": [
            "Shape of the first image: (160, 160, 1)\n"
          ]
        }
      ],
      "source": [
        "# Retrieve the first batch from the training generator\n",
        "images, labels = next(train_generator)\n",
        "\n",
        "# Get the first image from the batch\n",
        "first_image = images[0]\n",
        "\n",
        "# Check the shape of the first image\n",
        "print(\"Shape of the first image:\", first_image.shape)\n"
      ]
    },
    {
      "cell_type": "markdown",
      "metadata": {
        "id": "gDns-klNe0fJ"
      },
      "source": [
        "The size of image accurate reflects the simple enhanced data with all three channels."
      ]
    },
    {
      "cell_type": "markdown",
      "metadata": {
        "id": "8EtGb5aNe2az"
      },
      "source": [
        "The GPU avaliability is also double checked."
      ]
    },
    {
      "cell_type": "code",
      "execution_count": 8,
      "metadata": {
        "colab": {
          "base_uri": "https://localhost:8080/"
        },
        "id": "42FI4zL2feiP",
        "outputId": "3bb8ec26-72cb-44b4-9975-94478c047477"
      },
      "outputs": [
        {
          "name": "stdout",
          "output_type": "stream",
          "text": [
            "Num GPUs Available:  1\n"
          ]
        }
      ],
      "source": [
        "# Check GPU availability\n",
        "print(\"Num GPUs Available: \", len(tf.config.list_physical_devices('GPU')))\n",
        "\n",
        "# Specify GPU device\n",
        "physical_devices = tf.config.list_physical_devices('GPU')\n",
        "if len(physical_devices) > 0:\n",
        "    tf.config.experimental.set_memory_growth(physical_devices[0], True)\n",
        "gpu_options = tf.compat.v1.GPUOptions(per_process_gpu_memory_fraction=0.95)\n",
        "session = tf.compat.v1.InteractiveSession(config=tf.compat.v1.ConfigProto(gpu_options=gpu_options))"
      ]
    },
    {
      "cell_type": "markdown",
      "metadata": {
        "id": "VSCR24GDSyqc"
      },
      "source": [
        "A function is defined to plot the training history and calculate the changes in accuracy and loss."
      ]
    },
    {
      "cell_type": "code",
      "execution_count": 9,
      "metadata": {
        "id": "U_5cFB1DjMZ4"
      },
      "outputs": [],
      "source": [
        "def calculate_accuracy_increase_rate(history):\n",
        "    train_accuracy = history.history['accuracy']\n",
        "    val_accuracy = history.history['val_accuracy']\n",
        "\n",
        "    train_rate = np.mean(np.diff(train_accuracy))\n",
        "    val_rate = np.mean(np.diff(val_accuracy))\n",
        "\n",
        "    return train_rate, val_rate"
      ]
    },
    {
      "cell_type": "code",
      "execution_count": 10,
      "metadata": {
        "id": "0ZcwYOoBef3J"
      },
      "outputs": [],
      "source": [
        "def plot_training_history(history):\n",
        "    # Access the training history\n",
        "    training_loss = history.history['loss']\n",
        "    training_accuracy = history.history['accuracy']\n",
        "    validation_loss = history.history['val_loss']\n",
        "    validation_accuracy = history.history['val_accuracy']\n",
        "\n",
        "    # Create a figure with two subplots\n",
        "    fig, (ax1, ax2) = plt.subplots(1, 2, figsize=(12, 6))\n",
        "\n",
        "    # Plotting the training and validation accuracy\n",
        "    ax1.plot(training_accuracy)\n",
        "    ax1.plot(validation_accuracy)\n",
        "    ax1.set_title('Model Accuracy')\n",
        "    ax1.set_xlabel('Epoch')\n",
        "    ax1.set_ylabel('Accuracy')\n",
        "    ax1.legend(['Train', 'Validation'], loc='upper left')\n",
        "\n",
        "    # Plotting the training and validation loss\n",
        "    ax2.plot(training_loss)\n",
        "    ax2.plot(validation_loss)\n",
        "    ax2.set_title('Model Loss')\n",
        "    ax2.set_xlabel('Epoch')\n",
        "    ax2.set_ylabel('Loss')\n",
        "    ax2.legend(['Train', 'Validation'], loc='upper right')\n",
        "\n",
        "    # Adjust the spacing between subplots\n",
        "    plt.tight_layout()\n",
        "\n",
        "    # Show the figure\n",
        "    plt.show()"
      ]
    },
    {
      "cell_type": "markdown",
      "metadata": {
        "id": "dqnT4TtvKs30"
      },
      "source": [
        "Then, true labels are extracted from the test generator for testing later."
      ]
    },
    {
      "cell_type": "code",
      "execution_count": 11,
      "metadata": {
        "id": "Ra0sBmAbv8QP"
      },
      "outputs": [],
      "source": [
        "# Get true labels from the test generator\n",
        "true_labels = test_generator.classes\n",
        "\n",
        "# Get unique true labels\n",
        "class_names = [str(label) for label in range(43)]"
      ]
    },
    {
      "cell_type": "markdown",
      "metadata": {
        "id": "R3jYMPdgg1Ri"
      },
      "source": [
        "The model development will start from developing a simple model that serves as a baseline in this development cycle. It is different from the basline of the whole project as this is trained on enhanced and augmented data."
      ]
    },
    {
      "cell_type": "markdown",
      "metadata": {
        "id": "kOkTitWY6R32"
      },
      "source": [
        "<h2> Model 4: Even more complex CNN with regularization and more layers</h2>\n"
      ]
    },
    {
      "cell_type": "markdown",
      "metadata": {
        "id": "Hq7fyLpuUhbv"
      },
      "source": [
        "As the previous model not performing well, an attempt has been made to add more layers to the model so that it could potentially allow a **more complexed model** with less likelihood of overfitting, at a cost of **increased training time**."
      ]
    },
    {
      "cell_type": "code",
      "execution_count": 12,
      "metadata": {
        "id": "v7zUnmfG4p-a"
      },
      "outputs": [],
      "source": [
        "# Define a more complex CNN architecture\n",
        "input_layer = Input(shape=(160, 160, 1))\n",
        "x = Conv2D(64, (3, 3), activation='relu', kernel_regularizer=regularizers.l2(0.01))(input_layer)\n",
        "x = BatchNormalization()(x)\n",
        "x = MaxPooling2D(2, 2)(x)\n",
        "\n",
        "x = Conv2D(128, (3, 3), activation='relu', kernel_regularizer=regularizers.l2(0.01))(x)\n",
        "x = BatchNormalization()(x)\n",
        "x = MaxPooling2D(2, 2)(x)\n",
        "\n",
        "x = Conv2D(256, (3, 3), activation='relu', kernel_regularizer=regularizers.l2(0.01))(x)\n",
        "x = BatchNormalization()(x)\n",
        "x = MaxPooling2D(2, 2)(x)\n",
        "\n",
        "x = Flatten()(x)\n",
        "x = Dense(512, activation='relu', kernel_regularizer=regularizers.l2(0.01))(x)\n",
        "x = Dropout(0.5)(x)\n",
        "\n",
        "# Add another dense layer with dropout\n",
        "x = Dense(256, activation='relu', kernel_regularizer=regularizers.l2(0.01))(x)\n",
        "x = Dropout(0.4)(x)\n",
        "\n",
        "output_layer = Dense(num_classes, activation='softmax')(x)\n",
        "\n",
        "# Create the model\n",
        "model_modified = Model(inputs=input_layer, outputs=output_layer)\n",
        "\n",
        "# Compile the model with a lower learning rate\n",
        "model_modified.compile(optimizer=RMSprop(learning_rate=0.0001), loss='categorical_crossentropy', metrics=['accuracy'])\n"
      ]
    },
    {
      "cell_type": "markdown",
      "metadata": {
        "id": "tDPDg4LYU5vf"
      },
      "source": [
        "The above model is revised from all previous models. It added more omore set of dense layers and dropout layers with regularization. It also had a lower learning rate."
      ]
    },
    {
      "cell_type": "code",
      "execution_count": null,
      "metadata": {
        "colab": {
          "base_uri": "https://localhost:8080/"
        },
        "id": "WaUAF2Uv6jUu",
        "outputId": "206f2d77-b979-480c-9c01-4f7f70bb35d2"
      },
      "outputs": [],
      "source": [
        "# Early stopping callback\n",
        "early_stopping = EarlyStopping(monitor='val_loss', patience=3, restore_best_weights=True)\n",
        "\n",
        "# Train the model\n",
        "num_epochs = 50\n",
        "history_modified_model = model_modified.fit(train_generator,\n",
        "                                            epochs=num_epochs,\n",
        "                                            validation_data=valid_generator,\n",
        "                                            callbacks=[early_stopping])\n",
        "\n",
        "print(\"Model training completed.\")"
      ]
    },
    {
      "cell_type": "markdown",
      "metadata": {
        "id": "Fbl-NjRIWdxY"
      },
      "source": [
        "The training stopped at **epoch 26** as the model started overfitting (shown by the validation loss). This happend 12 epoch before the previous model. The training accuracy and validation accuracy graph are shown below. It was noted that the **training accuracy** and the **validation accuracy** are both **still very high**."
      ]
    },
    {
      "cell_type": "code",
      "execution_count": null,
      "metadata": {
        "colab": {
          "base_uri": "https://localhost:8080/",
          "height": 402
        },
        "id": "WR_38VwwIKeu",
        "outputId": "f78469f3-c7fe-4dfa-a30a-a29904b996df"
      },
      "outputs": [
        {
          "data": {
            "image/png": "[encoded data removed]",
            "text/plain": [
              "<Figure size 1200x600 with 2 Axes>"
            ]
          },
          "metadata": {},
          "output_type": "display_data"
        }
      ],
      "source": [
        "plot_training_history(history_modified_model)"
      ]
    },
    {
      "cell_type": "markdown",
      "metadata": {
        "id": "4MVfSJ8YWnwd"
      },
      "source": [
        "This model has a similar training accuracy than validation accuracy. UnLike the previous model, validation accuracy did **not experienced significant fluctuations**. The model is thus much more **stable**. Moreover, it is still no indications of overfitting."
      ]
    },
    {
      "cell_type": "code",
      "execution_count": null,
      "metadata": {
        "colab": {
          "base_uri": "https://localhost:8080/"
        },
        "id": "fqa7qLr162ml",
        "outputId": "c8af76a6-4f71-46d0-c6b3-a270aaff0e67"
      },
      "outputs": [
        {
          "name": "stdout",
          "output_type": "stream",
          "text": [
            "394/394 [==============================] - 27s 68ms/step - loss: 0.6445 - accuracy: 0.9296\n",
            "Test Loss: 0.6445\n",
            "Test Accuracy: 0.9296\n"
          ]
        }
      ],
      "source": [
        "# Test the model with the test data\n",
        "test_loss_mComplex, test_accuracy_mComplex = model_modified.evaluate(test_generator)\n",
        "\n",
        "print(f\"Test Loss: {test_loss_mComplex:.4f}\")\n",
        "print(f\"Test Accuracy: {test_accuracy_mComplex:.4f}\")"
      ]
    },
    {
      "cell_type": "code",
      "execution_count": null,
      "metadata": {
        "colab": {
          "base_uri": "https://localhost:8080/"
        },
        "id": "hPpBgVZHIRv5",
        "outputId": "91272d56-1f0a-4c30-dc99-c1ad6293699f"
      },
      "outputs": [
        {
          "name": "stdout",
          "output_type": "stream",
          "text": [
            "394/394 [==============================] - 26s 65ms/step\n",
            "Precision Score: 0.9337\n"
          ]
        }
      ],
      "source": [
        "# Make predictions on the test data\n",
        "test_pred_modified = model_modified.predict(test_generator)\n",
        "\n",
        "# Convert one-hot encoded predictions back to class labels\n",
        "predicted_labels_modified = np.argmax(test_pred_modified, axis=1)\n",
        "\n",
        "# Calculate the precision score\n",
        "precision_modified = precision_score(true_labels, predicted_labels_modified, average='weighted')\n",
        "\n",
        "print(f\"Precision Score: {precision_modified:.4f}\") # 85 87"
      ]
    },
    {
      "cell_type": "markdown",
      "metadata": {
        "id": "U8mYMIc5WtBd"
      },
      "source": [
        "After this adjustment, the new model did **not perform better** than the previous model. Thus, the exploration of model structure is concluded.\n",
        "\n",
        "The project will more on to saving this model and training of other models."
      ]
    },
    {
      "cell_type": "markdown",
      "metadata": {
        "id": "hPIoN9AEBbSc"
      },
      "source": [
        " <h1> 5.3 Saving the model</h1>"
      ]
    },
    {
      "cell_type": "markdown",
      "metadata": {
        "id": "Q5aU252hWz9w"
      },
      "source": [
        "The raw predictions, training history, and model are saved below. They were all saved to google drive for reusing and analysis in the future.\n",
        "\n"
      ]
    },
    {
      "cell_type": "code",
      "execution_count": null,
      "metadata": {
        "colab": {
          "base_uri": "https://localhost:8080/"
        },
        "id": "tjpXm_g0TEmN",
        "outputId": "6d6ebe08-776c-49f5-ed4f-7ead38590c7d"
      },
      "outputs": [
        {
          "name": "stdout",
          "output_type": "stream",
          "text": [
            "Raw predictions saved to 'best_test_predictions_CNN.npy'.\n"
          ]
        }
      ],
      "source": [
        "# Define the file path where you want to save the raw predictions\n",
        "save_path = \"best_test_predictions_CNN.npy\"\n",
        "\n",
        "# Save the raw predictions to the specified file\n",
        "np.save(save_path, test_pred_modified)\n",
        "\n",
        "print(f\"Raw predictions saved to '{save_path}'.\")"
      ]
    },
    {
      "cell_type": "code",
      "execution_count": null,
      "metadata": {
        "id": "Xfuln5m4C3R7"
      },
      "outputs": [],
      "source": [
        "model_modified.save(\"final_CNN_model.keras\")"
      ]
    },
    {
      "cell_type": "code",
      "execution_count": null,
      "metadata": {
        "id": "jD8a_DTcBd5C"
      },
      "outputs": [],
      "source": [
        "def save_training_history(history, filename):\n",
        "    # Create a DataFrame from the training history\n",
        "    history_df = pd.DataFrame(history.history)\n",
        "\n",
        "    # Save the DataFrame to a CSV file\n",
        "    history_df.to_csv(filename, index=False)\n",
        "\n",
        "    # Print the first few rows of the history DataFrame\n",
        "    print(history_df.head())"
      ]
    },
    {
      "cell_type": "code",
      "execution_count": null,
      "metadata": {
        "colab": {
          "base_uri": "https://localhost:8080/"
        },
        "id": "hIWdpGeiBwBV",
        "outputId": "0a30d176-a098-4516-9ae8-4bb2b09e3e8d"
      },
      "outputs": [
        {
          "name": "stdout",
          "output_type": "stream",
          "text": [
            "       loss  accuracy  val_loss  val_accuracy\n",
            "0  1.793514  0.499156  0.590471      0.832333\n",
            "1  0.698569  0.784649  0.328200      0.907914\n",
            "2  0.468224  0.851604  0.297311      0.915979\n",
            "3  0.345081  0.888878  0.226612      0.931920\n",
            "4  0.275400  0.911619  0.232147      0.927794\n",
            "        loss  accuracy  val_loss  val_accuracy\n",
            "0  13.842560  0.296418  7.928982      0.650413\n",
            "1   6.911101  0.561750  4.887598      0.810953\n",
            "2   4.727787  0.692564  3.526845      0.878845\n",
            "3   3.482876  0.784555  2.701056      0.916354\n",
            "4   2.685626  0.843445  2.153270      0.936047\n"
          ]
        }
      ],
      "source": [
        "save_training_history(history_simpleCNN, 'training_history_simpleCNN.csv')\n",
        "save_training_history(history_modified_model, 'training_history_complexCNN.csv')"
      ]
    },
    {
      "cell_type": "code",
      "execution_count": null,
      "metadata": {
        "colab": {
          "base_uri": "https://localhost:8080/"
        },
        "id": "INCKfh3KDhys",
        "outputId": "d126d770-54ff-4a9c-e129-048ecf4a2ca6"
      },
      "outputs": [
        {
          "name": "stdout",
          "output_type": "stream",
          "text": [
            "Files copied to Google Drive successfully.\n"
          ]
        }
      ],
      "source": [
        "import shutil\n",
        "import os\n",
        "\n",
        "# Define the destination directory in Google Drive\n",
        "dest_dir = 'models'\n",
        "\n",
        "# Create the destination directory if it doesn't exist\n",
        "os.makedirs(dest_dir, exist_ok=True)\n",
        "\n",
        "# Define the source paths\n",
        "src_paths = [\n",
        "    'final_CNN_model.h5',\n",
        "    'final_CNN_model.keras',\n",
        "    'training_history_simpleCNN.csv',\n",
        "    'training_history_complexCNN.csv',\n",
        "    'best_test_predictions_CNN.npy'\n",
        "]\n",
        "\n",
        "# Copy files to Google Drive\n",
        "for src_path in src_paths:\n",
        "    shutil.copy(src_path, dest_dir)\n",
        "\n",
        "print(\"Files copied to Google Drive successfully.\")"
      ]
    }
  ],
  "metadata": {
    "accelerator": "GPU",
    "colab": {
      "authorship_tag": "ABX9TyO0Y4sm4zL66AXqhwnSqosP",
      "gpuType": "T4",
      "include_colab_link": true,
      "provenance": []
    },
    "kernelspec": {
      "display_name": "tf",
      "language": "python",
      "name": "python3"
    },
    "language_info": {
      "codemirror_mode": {
        "name": "ipython",
        "version": 3
      },
      "file_extension": ".py",
      "mimetype": "text/x-python",
      "name": "python",
      "nbconvert_exporter": "python",
      "pygments_lexer": "ipython3",
      "version": "3.9.21"
    }
  },
  "nbformat": 4,
  "nbformat_minor": 0
}
