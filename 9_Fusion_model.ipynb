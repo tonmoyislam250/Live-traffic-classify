{
  "nbformat": 4,
  "nbformat_minor": 0,
  "metadata": {
    "colab": {
      "provenance": [],
      "gpuType": "T4",
      "authorship_tag": "ABX9TyPz6wRWpp/bb1pqh49cF0YT",
      "include_colab_link": true
    },
    "kernelspec": {
      "name": "python3",
      "display_name": "Python 3"
    },
    "language_info": {
      "name": "python"
    },
    "accelerator": "GPU"
  },
  "cells": [
    {
      "cell_type": "markdown",
      "metadata": {
        "id": "view-in-github",
        "colab_type": "text"
      },
      "source": [
        "<a href=\"https://colab.research.google.com/github/Jieoi/traffic_sign_recognition/blob/main/9_Fusion_model.ipynb\" target=\"_parent\"><img src=\"https://colab.research.google.com/assets/colab-badge.svg\" alt=\"Open In Colab\"/></a>"
      ]
    },
    {
      "cell_type": "markdown",
      "source": [
        "<h1>9. Development of final model and evaluating</h1>"
      ],
      "metadata": {
        "id": "BcMAoMWHG_EQ"
      }
    },
    {
      "cell_type": "markdown",
      "source": [
        "Like previous notebooks, Google Colab is first used to mount the drive"
      ],
      "metadata": {
        "id": "dn5VgFTvuTOz"
      }
    },
    {
      "cell_type": "code",
      "source": [
        "from google.colab import drive\n",
        "\n",
        "# Mount Google Drive\n",
        "drive.mount('drive', force_remount=True)"
      ],
      "metadata": {
        "colab": {
          "base_uri": "https://localhost:8080/"
        },
        "id": "NsKZliZOHbr-",
        "outputId": "909f65f1-86c5-4a37-babb-08437432db11"
      },
      "execution_count": null,
      "outputs": [
        {
          "output_type": "stream",
          "name": "stdout",
          "text": [
            "Mounted at drive\n"
          ]
        }
      ]
    },
    {
      "cell_type": "markdown",
      "source": [
        "A similar set of libraries is then imported"
      ],
      "metadata": {
        "id": "1cy4L_vTuicC"
      }
    },
    {
      "cell_type": "code",
      "source": [
        "import os\n",
        "import zipfile\n",
        "from shutil import copyfile\n",
        "\n",
        "from tensorflow.keras.preprocessing.image import ImageDataGenerator\n",
        "\n",
        "# Metrics for evaluation\n",
        "from sklearn.metrics import classification_report\n",
        "from sklearn.metrics import accuracy_score, precision_score, f1_score, recall_score, confusion_matrix, matthews_corrcoef\n",
        "\n",
        "from tensorflow.keras.models import load_model\n",
        "import numpy as np\n",
        "\n",
        "from scipy.stats import mode"
      ],
      "metadata": {
        "id": "XC4w-khEHg72"
      },
      "execution_count": null,
      "outputs": []
    },
    {
      "cell_type": "markdown",
      "source": [
        "# 9.1 Test data preparation"
      ],
      "metadata": {
        "id": "QyhfLG9Puqaj"
      }
    },
    {
      "cell_type": "code",
      "execution_count": null,
      "metadata": {
        "id": "qvk2E-H9GxWz"
      },
      "outputs": [],
      "source": [
        "# Define a function to extract the class label from the image file name\n",
        "def extract_label(filename):\n",
        "    parts = filename.split('_')\n",
        "    if len(parts) >= 3:\n",
        "        return parts[-2]  # Extract the label number\n",
        "    else:\n",
        "        return None"
      ]
    },
    {
      "cell_type": "markdown",
      "source": [
        "Test data is extracted from the file in drive"
      ],
      "metadata": {
        "id": "sHr6TEm0uu-9"
      }
    },
    {
      "cell_type": "code",
      "source": [
        "# Define the paths\n",
        "test_zip_path = 'drive/MyDrive/final/test_data/test_images_enhanced_PIL_RRDB.zip'\n",
        "test_extracted_dir = 'extracted_test_images'\n",
        "test_dir = 'test_images'\n",
        "\n",
        "# Create the directory for extracted test images if it doesn't exist\n",
        "os.makedirs(test_extracted_dir, exist_ok=True)\n",
        "\n",
        "# Open the ZIP file and extract its contents\n",
        "with zipfile.ZipFile(test_zip_path, 'r') as zip_ref:\n",
        "    zip_ref.extractall(test_extracted_dir)"
      ],
      "metadata": {
        "id": "7YMZf4vEHQxh"
      },
      "execution_count": null,
      "outputs": []
    },
    {
      "cell_type": "markdown",
      "source": [
        "They are first saved in the local directory"
      ],
      "metadata": {
        "id": "Db5WwYAquzok"
      }
    },
    {
      "cell_type": "code",
      "source": [
        "# List all files in the extracted directory\n",
        "test_image_files = os.listdir(test_extracted_dir)\n",
        "\n",
        "# Create subdirectories based on class labels and move images\n",
        "for filename in test_image_files:\n",
        "    if filename.endswith('.png'):\n",
        "        label = extract_label(filename)\n",
        "        if label is not None:\n",
        "            class_dir = os.path.join(test_dir, label)\n",
        "            os.makedirs(class_dir, exist_ok=True)\n",
        "            src_path = os.path.join(test_extracted_dir, filename)\n",
        "            dst_path = os.path.join(class_dir, filename)\n",
        "            copyfile(src_path, dst_path) # shutil"
      ],
      "metadata": {
        "id": "Uv22rD9NHT5S"
      },
      "execution_count": null,
      "outputs": []
    },
    {
      "cell_type": "markdown",
      "source": [
        "Then fed to the data generator"
      ],
      "metadata": {
        "id": "W5pMXF4Uu3aF"
      }
    },
    {
      "cell_type": "code",
      "source": [
        "# Create a data generator for the test data\n",
        "test_datagen = ImageDataGenerator(rescale=1.0/255)\n",
        "\n",
        "test_generator = test_datagen.flow_from_directory(\n",
        "    test_dir,\n",
        "    target_size=(128,128),\n",
        "    batch_size=32,\n",
        "    class_mode='categorical',\n",
        "    shuffle=False  # Set shuffle to False for testing data\n",
        ")"
      ],
      "metadata": {
        "colab": {
          "base_uri": "https://localhost:8080/"
        },
        "id": "MLOPTGuMHXFa",
        "outputId": "0d61ab11-a109-47d1-f9d6-80c3f23cd8b7"
      },
      "execution_count": null,
      "outputs": [
        {
          "output_type": "stream",
          "name": "stdout",
          "text": [
            "Found 12599 images belonging to 43 classes.\n"
          ]
        }
      ]
    },
    {
      "cell_type": "markdown",
      "source": [
        "True labels are extracted"
      ],
      "metadata": {
        "id": "a0k57i5ju7PE"
      }
    },
    {
      "cell_type": "code",
      "source": [
        "# Get the true labels from the test generator\n",
        "true_labels = test_generator.classes"
      ],
      "metadata": {
        "id": "XAbW6eSFKQ24"
      },
      "execution_count": null,
      "outputs": []
    },
    {
      "cell_type": "markdown",
      "source": [
        "## 9.2 Preparing the source models"
      ],
      "metadata": {
        "id": "OvxhULHzu-jY"
      }
    },
    {
      "cell_type": "markdown",
      "source": [
        "**<h2> Source model 1 - ResNet50 model with RRDB enhanced data:</h2>**"
      ],
      "metadata": {
        "id": "6j8pbjJoIlP8"
      }
    },
    {
      "cell_type": "markdown",
      "source": [
        "The best performing models are loaded and used to do predictions on test data:"
      ],
      "metadata": {
        "id": "flYO4JCgvKAt"
      }
    },
    {
      "cell_type": "code",
      "source": [
        "# Load the trained model\n",
        "model_path_RR = '/content/drive/My Drive/final/training_models/resnet50/RRDB/final_resnet_model_RRDB.keras'\n",
        "model_RR = load_model(model_path_RR)\n",
        "\n",
        "# Make predictions on the test data\n",
        "predictions_RR = model_RR.predict(test_generator)\n",
        "\n",
        "# Convert predictions to class labels\n",
        "predicted_labels_RR = np.argmax(predictions_RR, axis=1)"
      ],
      "metadata": {
        "colab": {
          "base_uri": "https://localhost:8080/"
        },
        "id": "KfYyNDYUHpXA",
        "outputId": "026e671e-598b-4982-dd0d-572b0935e184"
      },
      "execution_count": null,
      "outputs": [
        {
          "output_type": "stream",
          "name": "stdout",
          "text": [
            "394/394 [==============================] - 37s 69ms/step\n"
          ]
        }
      ]
    },
    {
      "cell_type": "markdown",
      "source": [
        "Evaluation matrics are calculated"
      ],
      "metadata": {
        "id": "XmCUm6Z6vR6T"
      }
    },
    {
      "cell_type": "code",
      "source": [
        "# Calculate accuracy\n",
        "accuracy_RR = accuracy_score(true_labels, predicted_labels_RR)\n",
        "print(\"Accuracy:\", accuracy_RR)\n",
        "\n",
        "# Calculate F1-score and recall\n",
        "f1_RR = f1_score(true_labels, predicted_labels_RR, average='weighted')\n",
        "recall_RR = recall_score(true_labels, predicted_labels_RR, average='weighted')\n",
        "\n",
        "print(\"F1-score:\", f1_RR)\n",
        "print(\"Recall:\", recall_RR)\n",
        "\n",
        "report_RR = classification_report(true_labels, predicted_labels_RR)\n",
        "print(report_RR)"
      ],
      "metadata": {
        "colab": {
          "base_uri": "https://localhost:8080/"
        },
        "id": "7a_g_8S6IhON",
        "outputId": "e7d74bcf-c311-446a-fcae-57b4c99881ff"
      },
      "execution_count": null,
      "outputs": [
        {
          "output_type": "stream",
          "name": "stdout",
          "text": [
            "Accuracy: 0.9847606952932773\n",
            "F1-score: 0.9846397264412138\n",
            "Recall: 0.9847606952932773\n",
            "              precision    recall  f1-score   support\n",
            "\n",
            "           0       1.00      1.00      1.00       293\n",
            "           1       0.99      1.00      0.99       293\n",
            "           2       1.00      1.00      1.00       293\n",
            "           3       0.96      1.00      0.98       293\n",
            "           4       1.00      1.00      1.00       293\n",
            "           5       1.00      1.00      1.00       293\n",
            "           6       1.00      1.00      1.00       293\n",
            "           7       1.00      0.99      1.00       293\n",
            "           8       1.00      1.00      1.00       293\n",
            "           9       1.00      1.00      1.00       293\n",
            "          10       1.00      0.99      0.99       293\n",
            "          11       1.00      1.00      1.00       293\n",
            "          12       0.99      0.99      0.99       293\n",
            "          13       0.99      1.00      0.99       293\n",
            "          14       0.94      0.99      0.97       293\n",
            "          15       0.96      0.97      0.96       293\n",
            "          16       0.87      1.00      0.93       293\n",
            "          17       0.99      0.98      0.98       293\n",
            "          18       1.00      0.97      0.98       293\n",
            "          19       0.98      0.96      0.97       293\n",
            "          20       1.00      0.82      0.90       293\n",
            "          21       0.96      1.00      0.98       293\n",
            "          22       0.97      0.95      0.96       293\n",
            "          23       0.99      0.97      0.98       293\n",
            "          24       0.99      0.92      0.95       293\n",
            "          25       0.97      0.99      0.98       293\n",
            "          26       1.00      1.00      1.00       293\n",
            "          27       1.00      1.00      1.00       293\n",
            "          28       0.99      1.00      0.99       293\n",
            "          29       0.99      1.00      1.00       293\n",
            "          30       0.99      0.99      0.99       293\n",
            "          31       0.98      0.99      0.98       293\n",
            "          32       1.00      1.00      1.00       293\n",
            "          33       0.99      1.00      1.00       293\n",
            "          34       1.00      0.99      0.99       293\n",
            "          35       1.00      0.95      0.97       293\n",
            "          36       1.00      0.99      0.99       293\n",
            "          37       0.98      1.00      0.99       293\n",
            "          38       0.96      0.98      0.97       293\n",
            "          39       0.99      1.00      0.99       293\n",
            "          40       1.00      1.00      1.00       293\n",
            "          41       1.00      0.98      0.99       293\n",
            "          42       0.99      1.00      0.99       293\n",
            "\n",
            "    accuracy                           0.98     12599\n",
            "   macro avg       0.99      0.98      0.98     12599\n",
            "weighted avg       0.99      0.98      0.98     12599\n",
            "\n"
          ]
        }
      ]
    },
    {
      "cell_type": "code",
      "source": [
        "mcc_rr = matthews_corrcoef(true_labels, predicted_labels_RR)\n",
        "print(\"Matthews Correlation Coefficient (RR Model):\", mcc_rr)"
      ],
      "metadata": {
        "colab": {
          "base_uri": "https://localhost:8080/"
        },
        "id": "ayjnc8sXXEdx",
        "outputId": "64de8cb4-3524-42be-8a1d-f7b514875c6f"
      },
      "execution_count": null,
      "outputs": [
        {
          "output_type": "stream",
          "name": "stdout",
          "text": [
            "Matthews Correlation Coefficient (RR Model): 0.9844173536175891\n"
          ]
        }
      ]
    },
    {
      "cell_type": "markdown",
      "source": [
        "**<h2> Source model 2 - CNN model with RRDB enhanced data:</h2>**"
      ],
      "metadata": {
        "id": "nAUN8QC2Kx2B"
      }
    },
    {
      "cell_type": "markdown",
      "source": [
        "A different model is loaded with a different data generator as the CNN model were developed with grey scaled images"
      ],
      "metadata": {
        "id": "rQfOVZbkvXXu"
      }
    },
    {
      "cell_type": "code",
      "source": [
        "test_datagen = ImageDataGenerator(rescale=1.0/255)\n",
        "\n",
        "test_generator = test_datagen.flow_from_directory(\n",
        "    test_dir,\n",
        "    target_size=(128,128),\n",
        "    batch_size=32,\n",
        "    class_mode='categorical',\n",
        "    color_mode='grayscale',\n",
        "    shuffle=False  # Set shuffle to False for testing data\n",
        ")"
      ],
      "metadata": {
        "colab": {
          "base_uri": "https://localhost:8080/"
        },
        "id": "l5U9ZZQKVMhJ",
        "outputId": "d784a780-5247-4e6c-d1ab-763b96a943a8"
      },
      "execution_count": null,
      "outputs": [
        {
          "output_type": "stream",
          "name": "stdout",
          "text": [
            "Found 12599 images belonging to 43 classes.\n"
          ]
        }
      ]
    },
    {
      "cell_type": "markdown",
      "source": [
        "The model is used to do preditions on test data"
      ],
      "metadata": {
        "id": "Zr6SUiKdvjQj"
      }
    },
    {
      "cell_type": "code",
      "source": [
        "model_path_CNN = '/content/drive/My Drive/final/training_models/CNN/RRDB/final_CNN_model_RRDB.keras'\n",
        "model_CNN = load_model(model_path_CNN)\n",
        "\n",
        "# Make predictions on the test data using the second model\n",
        "predictions_CNN = model_CNN.predict(test_generator)\n",
        "\n",
        "# Convert predictions to class labels\n",
        "predicted_labels_CNN = np.argmax(predictions_CNN, axis=1)"
      ],
      "metadata": {
        "colab": {
          "base_uri": "https://localhost:8080/"
        },
        "id": "4T4vCqLtKx_Y",
        "outputId": "afb7548f-8247-493c-a33c-74ce0dcb67e0"
      },
      "execution_count": null,
      "outputs": [
        {
          "output_type": "stream",
          "name": "stdout",
          "text": [
            "394/394 [==============================] - 18s 44ms/step\n"
          ]
        }
      ]
    },
    {
      "cell_type": "markdown",
      "source": [
        "Evaluation matrics are calculated"
      ],
      "metadata": {
        "id": "QhuvQkzWvmLj"
      }
    },
    {
      "cell_type": "code",
      "source": [
        "# Calculate accuracy for the second model\n",
        "accuracy_CNN = accuracy_score(true_labels, predicted_labels_CNN)\n",
        "print(\"Accuracy for CNN model:\", accuracy_CNN)\n",
        "\n",
        "# Calculate F1-score and recall for the second model\n",
        "f1_CNN = f1_score(true_labels, predicted_labels_CNN, average='weighted')\n",
        "recall_CNN = recall_score(true_labels, predicted_labels_CNN, average='weighted')\n",
        "\n",
        "print(\"F1-score for CNN model:\", f1_CNN)\n",
        "print(\"Recall for CNN model:\", recall_CNN)\n",
        "\n",
        "report_CNN = classification_report(true_labels, predicted_labels_CNN)\n",
        "print(\"Classification Report for CNN model:\\n\", report_CNN)"
      ],
      "metadata": {
        "id": "eyPJu3YpLXtY",
        "colab": {
          "base_uri": "https://localhost:8080/"
        },
        "outputId": "472efe42-996c-4ccf-d76a-9579cddd4f32"
      },
      "execution_count": null,
      "outputs": [
        {
          "output_type": "stream",
          "name": "stdout",
          "text": [
            "Accuracy for CNN model: 0.927057702992301\n",
            "F1-score for CNN model: 0.9272350610183079\n",
            "Recall for CNN model: 0.927057702992301\n",
            "Classification Report for CNN model:\n",
            "               precision    recall  f1-score   support\n",
            "\n",
            "           0       0.98      0.95      0.96       293\n",
            "           1       0.98      0.97      0.97       293\n",
            "           2       0.98      1.00      0.99       293\n",
            "           3       0.95      0.99      0.97       293\n",
            "           4       1.00      0.96      0.98       293\n",
            "           5       1.00      1.00      1.00       293\n",
            "           6       0.99      0.98      0.99       293\n",
            "           7       0.96      0.99      0.98       293\n",
            "           8       0.94      0.98      0.96       293\n",
            "           9       1.00      0.96      0.98       293\n",
            "          10       0.98      0.94      0.96       293\n",
            "          11       0.70      0.96      0.81       293\n",
            "          12       0.97      0.99      0.98       293\n",
            "          13       0.81      0.89      0.85       293\n",
            "          14       0.84      0.89      0.87       293\n",
            "          15       0.91      0.91      0.91       293\n",
            "          16       0.86      0.73      0.79       293\n",
            "          17       0.98      0.87      0.92       293\n",
            "          18       1.00      0.94      0.97       293\n",
            "          19       0.86      0.78      0.82       293\n",
            "          20       0.81      0.81      0.81       293\n",
            "          21       0.87      0.92      0.90       293\n",
            "          22       0.97      0.96      0.97       293\n",
            "          23       1.00      0.90      0.95       293\n",
            "          24       0.82      0.76      0.79       293\n",
            "          25       0.89      0.96      0.92       293\n",
            "          26       0.96      0.97      0.97       293\n",
            "          27       0.99      0.97      0.98       293\n",
            "          28       0.95      0.99      0.97       293\n",
            "          29       1.00      0.98      0.99       293\n",
            "          30       0.93      0.89      0.91       293\n",
            "          31       0.87      0.91      0.89       293\n",
            "          32       0.98      1.00      0.99       293\n",
            "          33       0.94      0.97      0.95       293\n",
            "          34       0.98      0.97      0.97       293\n",
            "          35       0.93      0.80      0.86       293\n",
            "          36       0.83      0.89      0.86       293\n",
            "          37       0.94      0.88      0.91       293\n",
            "          38       0.82      0.94      0.88       293\n",
            "          39       0.98      0.84      0.90       293\n",
            "          40       0.94      0.96      0.95       293\n",
            "          41       0.91      0.94      0.92       293\n",
            "          42       0.99      0.98      0.99       293\n",
            "\n",
            "    accuracy                           0.93     12599\n",
            "   macro avg       0.93      0.93      0.93     12599\n",
            "weighted avg       0.93      0.93      0.93     12599\n",
            "\n"
          ]
        }
      ]
    },
    {
      "cell_type": "code",
      "source": [
        "mcc_cnn = matthews_corrcoef(true_labels, predicted_labels_CNN)\n",
        "print(\"Matthews Correlation Coefficient (CNN Model):\", mcc_cnn)"
      ],
      "metadata": {
        "colab": {
          "base_uri": "https://localhost:8080/"
        },
        "id": "IDyHCdqjXIMb",
        "outputId": "9a3efac8-7a8d-42e3-8c74-a94643e9d853"
      },
      "execution_count": null,
      "outputs": [
        {
          "output_type": "stream",
          "name": "stdout",
          "text": [
            "Matthews Correlation Coefficient (CNN Model): 0.9253989832259155\n"
          ]
        }
      ]
    },
    {
      "cell_type": "markdown",
      "source": [
        "## 9.3 Ensemble"
      ],
      "metadata": {
        "id": "AEK7KuXhVXqz"
      }
    },
    {
      "cell_type": "markdown",
      "source": [
        "The results are combined using a majority voting"
      ],
      "metadata": {
        "id": "RfzE8y0OvsBV"
      }
    },
    {
      "cell_type": "code",
      "source": [
        "# Combine predictions from both models using majority voting\n",
        "combined_predictions = np.vstack((predicted_labels_RR, predicted_labels_CNN)).T\n",
        "ensemble_predictions = mode(combined_predictions, axis=1).mode.flatten()"
      ],
      "metadata": {
        "id": "DLgP8buWVY4a"
      },
      "execution_count": null,
      "outputs": []
    },
    {
      "cell_type": "markdown",
      "source": [
        "Evaluation matrics are calculated"
      ],
      "metadata": {
        "id": "wv3bIcIMvtxk"
      }
    },
    {
      "cell_type": "code",
      "source": [
        "accuracy = accuracy_score(true_labels, ensemble_predictions)\n",
        "print(\"Accuracy:\", accuracy)"
      ],
      "metadata": {
        "colab": {
          "base_uri": "https://localhost:8080/"
        },
        "id": "GIyXTeNzWOjt",
        "outputId": "fded423f-48ef-4d7c-8d74-8290e9869e78"
      },
      "execution_count": null,
      "outputs": [
        {
          "output_type": "stream",
          "name": "stdout",
          "text": [
            "Accuracy: 0.9516628303833637\n"
          ]
        }
      ]
    },
    {
      "cell_type": "code",
      "source": [
        "report = classification_report(true_labels, ensemble_predictions)\n",
        "print(\"Classification Report:\\n\", report)"
      ],
      "metadata": {
        "colab": {
          "base_uri": "https://localhost:8080/"
        },
        "id": "rULZJQQwWQz8",
        "outputId": "97c29ba6-9526-4dfb-fb70-977ea1a8e9ed"
      },
      "execution_count": null,
      "outputs": [
        {
          "output_type": "stream",
          "name": "stdout",
          "text": [
            "Classification Report:\n",
            "               precision    recall  f1-score   support\n",
            "\n",
            "           0       0.97      1.00      0.99       293\n",
            "           1       0.98      1.00      0.99       293\n",
            "           2       0.98      1.00      0.99       293\n",
            "           3       0.94      1.00      0.97       293\n",
            "           4       0.99      0.99      0.99       293\n",
            "           5       1.00      1.00      1.00       293\n",
            "           6       0.99      1.00      0.99       293\n",
            "           7       0.99      1.00      0.99       293\n",
            "           8       0.94      1.00      0.97       293\n",
            "           9       1.00      0.99      0.99       293\n",
            "          10       0.98      0.99      0.99       293\n",
            "          11       0.72      1.00      0.84       293\n",
            "          12       0.97      1.00      0.98       293\n",
            "          13       0.82      0.97      0.89       293\n",
            "          14       0.85      0.94      0.89       293\n",
            "          15       0.91      0.96      0.94       293\n",
            "          16       0.85      0.77      0.81       293\n",
            "          17       0.98      0.98      0.98       293\n",
            "          18       0.99      0.96      0.98       293\n",
            "          19       0.89      0.87      0.88       293\n",
            "          20       0.95      0.74      0.83       293\n",
            "          21       0.93      0.96      0.94       293\n",
            "          22       0.99      0.93      0.96       293\n",
            "          23       1.00      0.96      0.98       293\n",
            "          24       0.93      0.79      0.85       293\n",
            "          25       1.00      0.96      0.98       293\n",
            "          26       0.97      0.98      0.98       293\n",
            "          27       1.00      1.00      1.00       293\n",
            "          28       0.95      1.00      0.97       293\n",
            "          29       1.00      1.00      1.00       293\n",
            "          30       0.96      0.95      0.96       293\n",
            "          31       0.95      0.96      0.96       293\n",
            "          32       1.00      1.00      1.00       293\n",
            "          33       0.99      0.97      0.98       293\n",
            "          34       0.99      0.98      0.99       293\n",
            "          35       1.00      0.86      0.92       293\n",
            "          36       0.86      0.90      0.88       293\n",
            "          37       0.99      0.88      0.93       293\n",
            "          38       0.91      0.96      0.93       293\n",
            "          39       1.00      0.86      0.93       293\n",
            "          40       0.99      0.97      0.98       293\n",
            "          41       1.00      0.93      0.96       293\n",
            "          42       1.00      0.98      0.99       293\n",
            "\n",
            "    accuracy                           0.95     12599\n",
            "   macro avg       0.96      0.95      0.95     12599\n",
            "weighted avg       0.96      0.95      0.95     12599\n",
            "\n"
          ]
        }
      ]
    },
    {
      "cell_type": "code",
      "source": [
        "macro_precision = precision_score(true_labels, ensemble_predictions, average='macro')\n",
        "macro_recall = recall_score(true_labels, ensemble_predictions, average='macro')\n",
        "macro_f1 = f1_score(true_labels, ensemble_predictions, average='macro')\n",
        "\n",
        "micro_precision = precision_score(true_labels, ensemble_predictions, average='micro')\n",
        "micro_recall = recall_score(true_labels, ensemble_predictions, average='micro')\n",
        "micro_f1 = f1_score(true_labels, ensemble_predictions, average='micro')\n"
      ],
      "metadata": {
        "id": "On2uVGfkWeur"
      },
      "execution_count": null,
      "outputs": []
    },
    {
      "cell_type": "code",
      "source": [
        "print(\"Macro Precision:\", macro_precision)\n",
        "print(\"Macro Recall:\", macro_recall)\n",
        "print(\"Macro F1-Score:\", macro_f1)\n",
        "\n",
        "print(\"Micro Precision:\", micro_precision)\n",
        "print(\"Micro Recall:\", micro_recall)\n",
        "print(\"Micro F1-Score:\", micro_f1)"
      ],
      "metadata": {
        "colab": {
          "base_uri": "https://localhost:8080/"
        },
        "id": "WHYZIHp9Wb5R",
        "outputId": "1cc80edf-0d49-45d3-d04a-9554a61b4c39"
      },
      "execution_count": null,
      "outputs": [
        {
          "output_type": "stream",
          "name": "stdout",
          "text": [
            "Macro Precision: 0.9552085583707138\n",
            "Macro Recall: 0.9516628303833637\n",
            "Macro F1-Score: 0.9517023161113864\n",
            "Micro Precision: 0.9516628303833637\n",
            "Micro Recall: 0.9516628303833637\n",
            "Micro F1-Score: 0.9516628303833637\n"
          ]
        }
      ]
    },
    {
      "cell_type": "code",
      "source": [
        "mcc = matthews_corrcoef(true_labels, ensemble_predictions)\n",
        "print(\"Matthews Correlation Coefficient:\", mcc)"
      ],
      "metadata": {
        "colab": {
          "base_uri": "https://localhost:8080/"
        },
        "id": "J3i6YT55W5p2",
        "outputId": "f828ea03-3bb9-419f-a538-1725f0914afb"
      },
      "execution_count": null,
      "outputs": [
        {
          "output_type": "stream",
          "name": "stdout",
          "text": [
            "Matthews Correlation Coefficient: 0.9506084499589846\n"
          ]
        }
      ]
    },
    {
      "cell_type": "markdown",
      "source": [
        "The combine result is not as good as the individual best performing model. This is expected as the **ResNet model is significantly better than the CNN model**"
      ],
      "metadata": {
        "id": "560cGKCBvxqL"
      }
    }
  ]
}