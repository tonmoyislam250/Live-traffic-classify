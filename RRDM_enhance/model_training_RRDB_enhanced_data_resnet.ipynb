{
  "nbformat": 4,
  "nbformat_minor": 0,
  "metadata": {
    "colab": {
      "provenance": [],
      "gpuType": "T4",
      "authorship_tag": "ABX9TyOnbTSIMeWY45nJmbQL+7te",
      "include_colab_link": true
    },
    "kernelspec": {
      "name": "python3",
      "display_name": "Python 3"
    },
    "language_info": {
      "name": "python"
    },
    "accelerator": "GPU"
  },
  "cells": [
    {
      "cell_type": "markdown",
      "metadata": {
        "id": "view-in-github",
        "colab_type": "text"
      },
      "source": [
        "<a href=\"https://colab.research.google.com/github/Jieoi/traffic_sign_recognition/blob/updating/8_model_training_RRDB_enhanced_data_resnet.ipynb\" target=\"_parent\"><img src=\"https://colab.research.google.com/assets/colab-badge.svg\" alt=\"Open In Colab\"/></a>"
      ]
    },
    {
      "cell_type": "markdown",
      "source": [
        "Note: This instance of Google Colab has been configured to use T4 GPU. It is possible to run all other sections at a slower rate on CPU."
      ],
      "metadata": {
        "id": "n4bbpXqXE-ys"
      }
    },
    {
      "cell_type": "markdown",
      "source": [
        "Note: The code below has been configured to run on Google colab with python scripts and data imported from google drive. Please download the scripts and data from [here](https://drive.google.com/drive/folders/1nViTcpc952b0ftRGqkDBFqbSEC01t0a8). Files required including all scripts and helper files under data_preparation folder and data_augmentation folder. Alternatively, vist my github repository to [download](https://github.com/Jieoi/traffic_sign_recognition/tree/main) the scripts and helper files."
      ],
      "metadata": {
        "id": "dGeJSyPpFI_t"
      }
    },
    {
      "cell_type": "markdown",
      "source": [
        "<h2>8. Machine Learning on ESR-GAN Enhanced Images using ResNet</h2>"
      ],
      "metadata": {
        "id": "7xdh_J8t2dxa"
      }
    },
    {
      "cell_type": "markdown",
      "source": [
        "Based on Notebook 2 [Training data preparation using RRDB](https://github.com/Jieoi/traffic_sign_recognition/blob/main/2_train_data_preparation_RRDB.ipynb), this notebook is used to train a CNN model on the enhanced training data.\n",
        "\n",
        "The testing data is also loaded to evaluate the models as they are being developed.\n",
        "\n",
        "The testing data is from Notebook 4 [Testing data preparation using simple technic](https://github.com/Jieoi/traffic_sign_recognition/blob/main/4_test_data_preparation_RRDB.ipynb).\n",
        "\n",
        "There is **no need to run the notebooks named above**, a copy of the prepared data is saved in the Google drive which will be loaded in 7.1.1."
      ],
      "metadata": {
        "id": "YS4MwxCW2d7j"
      }
    },
    {
      "cell_type": "markdown",
      "source": [
        "<h1> 8.1 Data Preparation for Machine Learning</h1>"
      ],
      "metadata": {
        "id": "cX68P2z6KqgN"
      }
    },
    {
      "cell_type": "markdown",
      "source": [
        "Firstly, the data that were enhanced and augmented were loaded from the Google drive. As this colab instance is configured to use T4 GPU, some configuration checks are conducted to ensure the GPU is available. Libraries that are needed for machine learning were also imported."
      ],
      "metadata": {
        "id": "n_P4qfyp2uzC"
      }
    },
    {
      "cell_type": "markdown",
      "source": [
        "<h2>2.1.1 Preparing the notebook</h2>"
      ],
      "metadata": {
        "id": "M5uxRK7kKx_U"
      }
    },
    {
      "cell_type": "markdown",
      "source": [
        "The first step is to connect to Google Drive so that the data enhanced in the previouse notebook can be used.\n",
        "\n",
        "The exact files that the notebook needs to  access are <code>image_enhanced_PIL_RRDB.zip</code> and <code>image_dataRRDB.csv</code>.\n",
        "They can be found in the train_data and test_data folders <a href=\"https://drive.google.com/drive/folders/1nViTcpc952b0ftRGqkDBFqbSEC01t0a8\">here</a>.\n",
        "\n",
        "\n",
        "Ideally, the notebook should be run in Google Colab with high RAM and GPU support. However, the code can be excuted on CPU only mode with a longer training time."
      ],
      "metadata": {
        "id": "COiJJylxK30z"
      }
    },
    {
      "cell_type": "code",
      "source": [
        "# Checking GPU availability\n",
        "!nvidia-smi"
      ],
      "metadata": {
        "colab": {
          "base_uri": "https://localhost:8080/"
        },
        "id": "NKBTqdfmQUr1",
        "outputId": "9b2bea09-881f-4d0c-9f90-dcdb54640ea8"
      },
      "execution_count": null,
      "outputs": [
        {
          "output_type": "stream",
          "name": "stdout",
          "text": [
            "Mon Sep 11 07:33:52 2023       \n",
            "+-----------------------------------------------------------------------------+\n",
            "| NVIDIA-SMI 525.105.17   Driver Version: 525.105.17   CUDA Version: 12.0     |\n",
            "|-------------------------------+----------------------+----------------------+\n",
            "| GPU  Name        Persistence-M| Bus-Id        Disp.A | Volatile Uncorr. ECC |\n",
            "| Fan  Temp  Perf  Pwr:Usage/Cap|         Memory-Usage | GPU-Util  Compute M. |\n",
            "|                               |                      |               MIG M. |\n",
            "|===============================+======================+======================|\n",
            "|   0  Tesla T4            Off  | 00000000:00:04.0 Off |                    0 |\n",
            "| N/A   45C    P8     9W /  70W |      0MiB / 15360MiB |      0%      Default |\n",
            "|                               |                      |                  N/A |\n",
            "+-------------------------------+----------------------+----------------------+\n",
            "                                                                               \n",
            "+-----------------------------------------------------------------------------+\n",
            "| Processes:                                                                  |\n",
            "|  GPU   GI   CI        PID   Type   Process name                  GPU Memory |\n",
            "|        ID   ID                                                   Usage      |\n",
            "|=============================================================================|\n",
            "|  No running processes found                                                 |\n",
            "+-----------------------------------------------------------------------------+\n"
          ]
        }
      ]
    },
    {
      "cell_type": "markdown",
      "source": [
        "The output above shows that the GPU is available.\n",
        "\n",
        "Google drive is also mounted to the colab instance, allowing access to the data. Relative path is used unless specified."
      ],
      "metadata": {
        "id": "xX5EVsRu2-JC"
      }
    },
    {
      "cell_type": "code",
      "execution_count": null,
      "metadata": {
        "colab": {
          "base_uri": "https://localhost:8080/"
        },
        "id": "_hnGCcs_4sNy",
        "outputId": "0f7ed023-171e-4323-c528-8053263693fa"
      },
      "outputs": [
        {
          "output_type": "stream",
          "name": "stdout",
          "text": [
            "Mounted at drive\n"
          ]
        }
      ],
      "source": [
        "from google.colab import drive\n",
        "\n",
        "# Mount Google Drive\n",
        "drive.mount('drive', force_remount=True)"
      ]
    },
    {
      "cell_type": "markdown",
      "source": [
        "The libraries used in this notebook are listed below."
      ],
      "metadata": {
        "id": "DYBNIWx1Km-Q"
      }
    },
    {
      "cell_type": "code",
      "source": [
        "# Zip file handling\n",
        "import zipfile\n",
        "import os\n",
        "\n",
        "# Data handling and visualization\n",
        "import os\n",
        "import cv2\n",
        "import numpy as np\n",
        "import pandas as pd\n",
        "import matplotlib.pyplot as plt\n",
        "\n",
        "# Image data handling\n",
        "from PIL import Image\n",
        "\n",
        "# File handling and management for training and validation data\n",
        "from shutil import copyfile\n",
        "from sklearn.model_selection import train_test_split\n",
        "\n",
        "# importing library for ML processing\n",
        "import tensorflow as tf\n",
        "from tensorflow.keras.preprocessing.image import ImageDataGenerator\n",
        "\n",
        "# Resnet layers\n",
        "from tensorflow.keras.layers import Input, Conv2D, MaxPooling2D, Flatten, Dense, Dropout, BatchNormalization\n",
        "from tensorflow.keras.layers import Dense, GlobalAveragePooling2D\n",
        "from tensorflow.keras.applications import ResNet50\n",
        "from tensorflow.keras.models import Model\n",
        "from tensorflow.keras.optimizers import Adam,RMSprop\n",
        "from tensorflow.keras.callbacks import EarlyStopping, LearningRateScheduler\n",
        "\n",
        "# Regularization\n",
        "from tensorflow.keras import regularizers\n",
        "\n",
        "# Saving the model\n",
        "from tensorflow.keras.models import save_model\n",
        "\n",
        "# Metrics for evaluation\n",
        "from sklearn.metrics import classification_report\n",
        "from sklearn.metrics import precision_score"
      ],
      "metadata": {
        "id": "VEemnXizTEw4"
      },
      "execution_count": null,
      "outputs": []
    },
    {
      "cell_type": "markdown",
      "source": [
        "<h2>8.1.2 Data preparation for Machine Learning</h2>"
      ],
      "metadata": {
        "id": "d_ycXAdhSGV7"
      }
    },
    {
      "cell_type": "markdown",
      "source": [
        "Firstly, pre-porcessed training data is obtained and prepared for machine learning:\n"
      ],
      "metadata": {
        "id": "znQglMe3mU_p"
      }
    },
    {
      "cell_type": "markdown",
      "source": [
        "The images are extracted from the <code>image_enhanced_PIL_simple.zip</code> file."
      ],
      "metadata": {
        "id": "_RWYzZpNM_LA"
      }
    },
    {
      "cell_type": "code",
      "source": [
        "# Paths\n",
        "zip_file_path = 'drive/MyDrive/final/train_data/image_enhanced_PIL_RRDB.zip'\n",
        "extracted_dir = 'extracted_images'\n",
        "\n",
        "# Create the directory for extracted images if it doesn't exist\n",
        "os.makedirs(extracted_dir, exist_ok=True)\n",
        "\n",
        "\n",
        "# Open the ZIP file and extract its contents\n",
        "with zipfile.ZipFile(zip_file_path, 'r') as zip_ref:\n",
        "    zip_ref.extractall(extracted_dir)\n",
        "\n",
        "# Check the length of the extracted images\n",
        "num_extracted_images = len(os.listdir(extracted_dir))\n",
        "print(f\"Number of extracted images: {num_extracted_images}\")\n",
        "print(\"Extraction completed.\")"
      ],
      "metadata": {
        "colab": {
          "base_uri": "https://localhost:8080/"
        },
        "id": "aegfPAhacJRR",
        "outputId": "fa20e61e-bf0f-4058-db56-d27b5020226a"
      },
      "execution_count": null,
      "outputs": [
        {
          "output_type": "stream",
          "name": "stdout",
          "text": [
            "Number of extracted images: 26660\n",
            "Extraction completed.\n"
          ]
        }
      ]
    },
    {
      "cell_type": "markdown",
      "source": [
        "As the labels were saved in the file name in the image files during enhancement and augmentation, the class labels are extracted from file name and printed below:"
      ],
      "metadata": {
        "id": "tKBDwP7kNu-L"
      }
    },
    {
      "cell_type": "code",
      "source": [
        "# Define the directory where the images are extracted\n",
        "extracted_dir = 'extracted_images'\n",
        "\n",
        "# Get a list of all extracted image files\n",
        "image_files = os.listdir(extracted_dir)\n",
        "\n",
        "# Initialize lists to store image names and label numbers\n",
        "image_names = []\n",
        "label_numbers = []\n",
        "\n",
        "# Loop through the image files and extract image names and label numbers\n",
        "for image_file in image_files:\n",
        "    if image_file.endswith('.png'):\n",
        "        # Split the image file name to extract label number\n",
        "        parts = image_file.split('_')\n",
        "        if len(parts) >= 3:\n",
        "            label_number = int(parts[-1].split('.')[0])  # Extract the label number\n",
        "            image_names.append(image_file)\n",
        "            label_numbers.append(label_number)\n",
        "\n",
        "# Create a pandas DataFrame\n",
        "data = {'filename': image_names, 'class': label_numbers}\n",
        "df_classes = pd.DataFrame(data)\n",
        "\n",
        "# Print the first few rows of the DataFrame\n",
        "df_classes.head()"
      ],
      "metadata": {
        "colab": {
          "base_uri": "https://localhost:8080/",
          "height": 206
        },
        "id": "DcZpKxb5bREV",
        "outputId": "48a995db-5831-47fe-8a54-f322674f96c4"
      },
      "execution_count": null,
      "outputs": [
        {
          "output_type": "execute_result",
          "data": {
            "text/plain": [
              "                   filename  class\n",
              "0  image_23125_label_30.png     30\n",
              "1     image_887_label_3.png      3\n",
              "2   image_1006_label_10.png     10\n",
              "3  image_13641_label_12.png     12\n",
              "4  image_14748_label_17.png     17"
            ],
            "text/html": [
              "\n",
              "  <div id=\"df-0fd5646d-6b7d-4711-bd69-15b3800bfc99\" class=\"colab-df-container\">\n",
              "    <div>\n",
              "<style scoped>\n",
              "    .dataframe tbody tr th:only-of-type {\n",
              "        vertical-align: middle;\n",
              "    }\n",
              "\n",
              "    .dataframe tbody tr th {\n",
              "        vertical-align: top;\n",
              "    }\n",
              "\n",
              "    .dataframe thead th {\n",
              "        text-align: right;\n",
              "    }\n",
              "</style>\n",
              "<table border=\"1\" class=\"dataframe\">\n",
              "  <thead>\n",
              "    <tr style=\"text-align: right;\">\n",
              "      <th></th>\n",
              "      <th>filename</th>\n",
              "      <th>class</th>\n",
              "    </tr>\n",
              "  </thead>\n",
              "  <tbody>\n",
              "    <tr>\n",
              "      <th>0</th>\n",
              "      <td>image_23125_label_30.png</td>\n",
              "      <td>30</td>\n",
              "    </tr>\n",
              "    <tr>\n",
              "      <th>1</th>\n",
              "      <td>image_887_label_3.png</td>\n",
              "      <td>3</td>\n",
              "    </tr>\n",
              "    <tr>\n",
              "      <th>2</th>\n",
              "      <td>image_1006_label_10.png</td>\n",
              "      <td>10</td>\n",
              "    </tr>\n",
              "    <tr>\n",
              "      <th>3</th>\n",
              "      <td>image_13641_label_12.png</td>\n",
              "      <td>12</td>\n",
              "    </tr>\n",
              "    <tr>\n",
              "      <th>4</th>\n",
              "      <td>image_14748_label_17.png</td>\n",
              "      <td>17</td>\n",
              "    </tr>\n",
              "  </tbody>\n",
              "</table>\n",
              "</div>\n",
              "    <div class=\"colab-df-buttons\">\n",
              "\n",
              "  <div class=\"colab-df-container\">\n",
              "    <button class=\"colab-df-convert\" onclick=\"convertToInteractive('df-0fd5646d-6b7d-4711-bd69-15b3800bfc99')\"\n",
              "            title=\"Convert this dataframe to an interactive table.\"\n",
              "            style=\"display:none;\">\n",
              "\n",
              "  <svg xmlns=\"http://www.w3.org/2000/svg\" height=\"24px\" viewBox=\"0 -960 960 960\">\n",
              "    <path d=\"M120-120v-720h720v720H120Zm60-500h600v-160H180v160Zm220 220h160v-160H400v160Zm0 220h160v-160H400v160ZM180-400h160v-160H180v160Zm440 0h160v-160H620v160ZM180-180h160v-160H180v160Zm440 0h160v-160H620v160Z\"/>\n",
              "  </svg>\n",
              "    </button>\n",
              "\n",
              "  <style>\n",
              "    .colab-df-container {\n",
              "      display:flex;\n",
              "      gap: 12px;\n",
              "    }\n",
              "\n",
              "    .colab-df-convert {\n",
              "      background-color: #E8F0FE;\n",
              "      border: none;\n",
              "      border-radius: 50%;\n",
              "      cursor: pointer;\n",
              "      display: none;\n",
              "      fill: #1967D2;\n",
              "      height: 32px;\n",
              "      padding: 0 0 0 0;\n",
              "      width: 32px;\n",
              "    }\n",
              "\n",
              "    .colab-df-convert:hover {\n",
              "      background-color: #E2EBFA;\n",
              "      box-shadow: 0px 1px 2px rgba(60, 64, 67, 0.3), 0px 1px 3px 1px rgba(60, 64, 67, 0.15);\n",
              "      fill: #174EA6;\n",
              "    }\n",
              "\n",
              "    .colab-df-buttons div {\n",
              "      margin-bottom: 4px;\n",
              "    }\n",
              "\n",
              "    [theme=dark] .colab-df-convert {\n",
              "      background-color: #3B4455;\n",
              "      fill: #D2E3FC;\n",
              "    }\n",
              "\n",
              "    [theme=dark] .colab-df-convert:hover {\n",
              "      background-color: #434B5C;\n",
              "      box-shadow: 0px 1px 3px 1px rgba(0, 0, 0, 0.15);\n",
              "      filter: drop-shadow(0px 1px 2px rgba(0, 0, 0, 0.3));\n",
              "      fill: #FFFFFF;\n",
              "    }\n",
              "  </style>\n",
              "\n",
              "    <script>\n",
              "      const buttonEl =\n",
              "        document.querySelector('#df-0fd5646d-6b7d-4711-bd69-15b3800bfc99 button.colab-df-convert');\n",
              "      buttonEl.style.display =\n",
              "        google.colab.kernel.accessAllowed ? 'block' : 'none';\n",
              "\n",
              "      async function convertToInteractive(key) {\n",
              "        const element = document.querySelector('#df-0fd5646d-6b7d-4711-bd69-15b3800bfc99');\n",
              "        const dataTable =\n",
              "          await google.colab.kernel.invokeFunction('convertToInteractive',\n",
              "                                                    [key], {});\n",
              "        if (!dataTable) return;\n",
              "\n",
              "        const docLinkHtml = 'Like what you see? Visit the ' +\n",
              "          '<a target=\"_blank\" href=https://colab.research.google.com/notebooks/data_table.ipynb>data table notebook</a>'\n",
              "          + ' to learn more about interactive tables.';\n",
              "        element.innerHTML = '';\n",
              "        dataTable['output_type'] = 'display_data';\n",
              "        await google.colab.output.renderOutput(dataTable, element);\n",
              "        const docLink = document.createElement('div');\n",
              "        docLink.innerHTML = docLinkHtml;\n",
              "        element.appendChild(docLink);\n",
              "      }\n",
              "    </script>\n",
              "  </div>\n",
              "\n",
              "\n",
              "<div id=\"df-6852ebc1-5791-424c-892d-587ea9d94c93\">\n",
              "  <button class=\"colab-df-quickchart\" onclick=\"quickchart('df-6852ebc1-5791-424c-892d-587ea9d94c93')\"\n",
              "            title=\"Suggest charts.\"\n",
              "            style=\"display:none;\">\n",
              "\n",
              "<svg xmlns=\"http://www.w3.org/2000/svg\" height=\"24px\"viewBox=\"0 0 24 24\"\n",
              "     width=\"24px\">\n",
              "    <g>\n",
              "        <path d=\"M19 3H5c-1.1 0-2 .9-2 2v14c0 1.1.9 2 2 2h14c1.1 0 2-.9 2-2V5c0-1.1-.9-2-2-2zM9 17H7v-7h2v7zm4 0h-2V7h2v10zm4 0h-2v-4h2v4z\"/>\n",
              "    </g>\n",
              "</svg>\n",
              "  </button>\n",
              "\n",
              "<style>\n",
              "  .colab-df-quickchart {\n",
              "      --bg-color: #E8F0FE;\n",
              "      --fill-color: #1967D2;\n",
              "      --hover-bg-color: #E2EBFA;\n",
              "      --hover-fill-color: #174EA6;\n",
              "      --disabled-fill-color: #AAA;\n",
              "      --disabled-bg-color: #DDD;\n",
              "  }\n",
              "\n",
              "  [theme=dark] .colab-df-quickchart {\n",
              "      --bg-color: #3B4455;\n",
              "      --fill-color: #D2E3FC;\n",
              "      --hover-bg-color: #434B5C;\n",
              "      --hover-fill-color: #FFFFFF;\n",
              "      --disabled-bg-color: #3B4455;\n",
              "      --disabled-fill-color: #666;\n",
              "  }\n",
              "\n",
              "  .colab-df-quickchart {\n",
              "    background-color: var(--bg-color);\n",
              "    border: none;\n",
              "    border-radius: 50%;\n",
              "    cursor: pointer;\n",
              "    display: none;\n",
              "    fill: var(--fill-color);\n",
              "    height: 32px;\n",
              "    padding: 0;\n",
              "    width: 32px;\n",
              "  }\n",
              "\n",
              "  .colab-df-quickchart:hover {\n",
              "    background-color: var(--hover-bg-color);\n",
              "    box-shadow: 0 1px 2px rgba(60, 64, 67, 0.3), 0 1px 3px 1px rgba(60, 64, 67, 0.15);\n",
              "    fill: var(--button-hover-fill-color);\n",
              "  }\n",
              "\n",
              "  .colab-df-quickchart-complete:disabled,\n",
              "  .colab-df-quickchart-complete:disabled:hover {\n",
              "    background-color: var(--disabled-bg-color);\n",
              "    fill: var(--disabled-fill-color);\n",
              "    box-shadow: none;\n",
              "  }\n",
              "\n",
              "  .colab-df-spinner {\n",
              "    border: 2px solid var(--fill-color);\n",
              "    border-color: transparent;\n",
              "    border-bottom-color: var(--fill-color);\n",
              "    animation:\n",
              "      spin 1s steps(1) infinite;\n",
              "  }\n",
              "\n",
              "  @keyframes spin {\n",
              "    0% {\n",
              "      border-color: transparent;\n",
              "      border-bottom-color: var(--fill-color);\n",
              "      border-left-color: var(--fill-color);\n",
              "    }\n",
              "    20% {\n",
              "      border-color: transparent;\n",
              "      border-left-color: var(--fill-color);\n",
              "      border-top-color: var(--fill-color);\n",
              "    }\n",
              "    30% {\n",
              "      border-color: transparent;\n",
              "      border-left-color: var(--fill-color);\n",
              "      border-top-color: var(--fill-color);\n",
              "      border-right-color: var(--fill-color);\n",
              "    }\n",
              "    40% {\n",
              "      border-color: transparent;\n",
              "      border-right-color: var(--fill-color);\n",
              "      border-top-color: var(--fill-color);\n",
              "    }\n",
              "    60% {\n",
              "      border-color: transparent;\n",
              "      border-right-color: var(--fill-color);\n",
              "    }\n",
              "    80% {\n",
              "      border-color: transparent;\n",
              "      border-right-color: var(--fill-color);\n",
              "      border-bottom-color: var(--fill-color);\n",
              "    }\n",
              "    90% {\n",
              "      border-color: transparent;\n",
              "      border-bottom-color: var(--fill-color);\n",
              "    }\n",
              "  }\n",
              "</style>\n",
              "\n",
              "  <script>\n",
              "    async function quickchart(key) {\n",
              "      const quickchartButtonEl =\n",
              "        document.querySelector('#' + key + ' button');\n",
              "      quickchartButtonEl.disabled = true;  // To prevent multiple clicks.\n",
              "      quickchartButtonEl.classList.add('colab-df-spinner');\n",
              "      try {\n",
              "        const charts = await google.colab.kernel.invokeFunction(\n",
              "            'suggestCharts', [key], {});\n",
              "      } catch (error) {\n",
              "        console.error('Error during call to suggestCharts:', error);\n",
              "      }\n",
              "      quickchartButtonEl.classList.remove('colab-df-spinner');\n",
              "      quickchartButtonEl.classList.add('colab-df-quickchart-complete');\n",
              "    }\n",
              "    (() => {\n",
              "      let quickchartButtonEl =\n",
              "        document.querySelector('#df-6852ebc1-5791-424c-892d-587ea9d94c93 button');\n",
              "      quickchartButtonEl.style.display =\n",
              "        google.colab.kernel.accessAllowed ? 'block' : 'none';\n",
              "    })();\n",
              "  </script>\n",
              "</div>\n",
              "    </div>\n",
              "  </div>\n"
            ]
          },
          "metadata": {},
          "execution_count": 5
        }
      ]
    },
    {
      "cell_type": "markdown",
      "source": [
        "Both images and there labels extracted contains the same number of entries."
      ],
      "metadata": {
        "id": "UgAfoUUON3vh"
      }
    },
    {
      "cell_type": "markdown",
      "source": [
        "The distribution of the final classes is shown below."
      ],
      "metadata": {
        "id": "ZrskEW6ON0Zc"
      }
    },
    {
      "cell_type": "code",
      "source": [
        "# Count the occurrences of each class in the DataFrame\n",
        "class_counts = df_classes['class'].value_counts()\n",
        "\n",
        "# Sort the unique class IDs\n",
        "unique_classes = np.sort(df_classes['class'].unique())\n",
        "\n",
        "# Create a bar chart\n",
        "plt.figure(figsize=(10, 6))\n",
        "plt.bar(unique_classes, class_counts[unique_classes])\n",
        "plt.xlabel('Class')\n",
        "plt.ylabel('Count')\n",
        "plt.title('Class Distribution')\n",
        "plt.xticks(unique_classes)\n",
        "plt.show()"
      ],
      "metadata": {
        "colab": {
          "base_uri": "https://localhost:8080/",
          "height": 433
        },
        "id": "s28B6914YyMd",
        "outputId": "3f33d7ff-4668-4405-a9fc-279d20ffbc6b"
      },
      "execution_count": null,
      "outputs": [
        {
          "output_type": "display_data",
          "data": {
            "text/plain": [
              "<Figure size 1000x600 with 1 Axes>"
            ],
            "image/png": "[encoded data removed]"
          },
          "metadata": {}
        }
      ]
    },
    {
      "cell_type": "markdown",
      "source": [
        "This shows that the images were equally distributed among the classes as what has being prepared in the previous notebook."
      ],
      "metadata": {
        "id": "CkIJ0FYf3ue3"
      }
    },
    {
      "cell_type": "markdown",
      "source": [
        "Both images are first split into training and validation sets. They are grouped by their classes and stored in individual directories for every classes."
      ],
      "metadata": {
        "id": "obTCtr8vORqc"
      }
    },
    {
      "cell_type": "code",
      "source": [
        "train_dir = 'train_images'\n",
        "valid_dir = 'valid_images'\n",
        "\n",
        "# Create directories for training and validation images\n",
        "os.makedirs(train_dir, exist_ok=True)\n",
        "os.makedirs(valid_dir, exist_ok=True)\n",
        "\n",
        "# Split the data into training and validation sets\n",
        "train_df, valid_df = train_test_split(df_classes, test_size=0.2, random_state=42, stratify=df_classes['class'])\n",
        "\n",
        "# Copy images to directories based on classes for training set\n",
        "for index, row in train_df.iterrows():\n",
        "    src_path = os.path.join(extracted_dir, row['filename'])\n",
        "    dst_path = os.path.join(train_dir, str(row['class']), row['filename'])\n",
        "    os.makedirs(os.path.dirname(dst_path), exist_ok=True)\n",
        "    copyfile(src_path, dst_path)\n",
        "\n",
        "# Copy images to directories based on classes for validation set\n",
        "for index, row in valid_df.iterrows():\n",
        "    src_path = os.path.join(extracted_dir, row['filename'])\n",
        "    dst_path = os.path.join(valid_dir, str(row['class']), row['filename'])\n",
        "    os.makedirs(os.path.dirname(dst_path), exist_ok=True)\n",
        "    copyfile(src_path, dst_path)\n",
        "\n",
        "print(\"Data preparation for ML completed.\")"
      ],
      "metadata": {
        "colab": {
          "base_uri": "https://localhost:8080/"
        },
        "id": "husZ2lw6dYyC",
        "outputId": "98b9ce0d-c4b7-48f1-d197-835778f08b1b"
      },
      "execution_count": null,
      "outputs": [
        {
          "output_type": "stream",
          "name": "stdout",
          "text": [
            "Data preparation for ML completed.\n"
          ]
        }
      ]
    },
    {
      "cell_type": "markdown",
      "source": [
        " <h1> 8.2 Machine Learning</h1>"
      ],
      "metadata": {
        "id": "-F61JPGGOoN2"
      }
    },
    {
      "cell_type": "markdown",
      "source": [
        "<h2>8.2.1 Data pipeline</h2>"
      ],
      "metadata": {
        "id": "kumuDOWeSTrX"
      }
    },
    {
      "cell_type": "markdown",
      "source": [
        "<code>flow_from_directory()</code> from Keras ImageDataGenerator is used to load the images with rescaling to 1/255. batch size and image size are pre-set to 32 and (128, 128), respectively. These number were based on the upscaling of images in image enhancement."
      ],
      "metadata": {
        "id": "XEkNgAgcRWjj"
      }
    },
    {
      "cell_type": "code",
      "source": [
        "# Define image dimensions and batch size\n",
        "image_size = (128,128)\n",
        "batch_size = 32\n",
        "\n",
        "# Create data generators and rescale image for ML on training and validation\n",
        "train_datagen = ImageDataGenerator(rescale=1.0/255)\n",
        "valid_datagen = ImageDataGenerator(rescale=1.0/255)\n",
        "\n",
        "train_generator = train_datagen.flow_from_directory(\n",
        "    train_dir,\n",
        "    target_size=image_size,\n",
        "    batch_size=batch_size,\n",
        "    class_mode='categorical',\n",
        "    shuffle=True  # Set shuffle to True for training data\n",
        ")\n",
        "\n",
        "valid_generator = valid_datagen.flow_from_directory(\n",
        "    valid_dir,\n",
        "    target_size=image_size,\n",
        "    batch_size=batch_size,\n",
        "    class_mode='categorical',\n",
        "    shuffle=False  # Set shuffle to False for validation data\n",
        ")\n",
        "\n",
        "# Get the number of classes from the training generator\n",
        "num_classes = len(train_generator.class_indices)"
      ],
      "metadata": {
        "colab": {
          "base_uri": "https://localhost:8080/"
        },
        "id": "ICEfnqPEeJBl",
        "outputId": "39937acb-b9e4-410e-a74e-f91b03591444"
      },
      "execution_count": null,
      "outputs": [
        {
          "output_type": "stream",
          "name": "stdout",
          "text": [
            "Found 21328 images belonging to 43 classes.\n",
            "Found 5332 images belonging to 43 classes.\n"
          ]
        }
      ]
    },
    {
      "cell_type": "markdown",
      "source": [
        "Total <b>21328</b> images are loaded into the training data and <b>5332</b> images are loaded into the validation data."
      ],
      "metadata": {
        "id": "GV-GYi2x35CA"
      }
    },
    {
      "cell_type": "markdown",
      "source": [
        "Next, the **test data** is also obtained and prepared for machine learning."
      ],
      "metadata": {
        "id": "AFiJylAImhVR"
      }
    },
    {
      "cell_type": "markdown",
      "source": [
        "Firstly, the class labels are extracted from the <code>test_image_enhanced_PIL_RRDB.zip</code> file. As in the preparation of the testing data, the class labels were saved directly into the filenames of each images"
      ],
      "metadata": {
        "id": "GBYgjamN39FT"
      }
    },
    {
      "cell_type": "code",
      "source": [
        "# Define a function to extract the class label from the image file name\n",
        "def extract_label(filename):\n",
        "    parts = filename.split('_')\n",
        "    if len(parts) >= 3:\n",
        "        return parts[-2]  # Extract the label number\n",
        "    else:\n",
        "        return None"
      ],
      "metadata": {
        "id": "s_EztXSRduQJ"
      },
      "execution_count": null,
      "outputs": []
    },
    {
      "cell_type": "code",
      "source": [
        "# Define the paths\n",
        "test_zip_path = 'drive/MyDrive/final/test_data/test_images_enhanced_PIL_RRDB.zip'\n",
        "test_extracted_dir = 'extracted_test_images'\n",
        "test_dir = 'test_images'\n",
        "\n",
        "# Create the directory for extracted test images if it doesn't exist\n",
        "os.makedirs(test_extracted_dir, exist_ok=True)\n",
        "\n",
        "# Open the ZIP file and extract its contents\n",
        "with zipfile.ZipFile(test_zip_path, 'r') as zip_ref:\n",
        "    zip_ref.extractall(test_extracted_dir)"
      ],
      "metadata": {
        "id": "wjQBx8gQmnaV"
      },
      "execution_count": null,
      "outputs": []
    },
    {
      "cell_type": "code",
      "source": [
        "# List all files in the extracted directory\n",
        "test_image_files = os.listdir(test_extracted_dir)\n",
        "\n",
        "# Create subdirectories based on class labels and move images\n",
        "for filename in test_image_files:\n",
        "    if filename.endswith('.png'):\n",
        "        label = extract_label(filename)\n",
        "        if label is not None:\n",
        "            class_dir = os.path.join(test_dir, label)\n",
        "            os.makedirs(class_dir, exist_ok=True)\n",
        "            src_path = os.path.join(test_extracted_dir, filename)\n",
        "            dst_path = os.path.join(class_dir, filename)\n",
        "            copyfile(src_path, dst_path) # shutil"
      ],
      "metadata": {
        "id": "V7txY676psmN"
      },
      "execution_count": null,
      "outputs": []
    },
    {
      "cell_type": "markdown",
      "source": [
        "Data generator is used for loading images into the model."
      ],
      "metadata": {
        "id": "Pxg86iLj4C17"
      }
    },
    {
      "cell_type": "code",
      "source": [
        "# Create a data generator for the test data\n",
        "test_datagen = ImageDataGenerator(rescale=1.0/255)\n",
        "\n",
        "test_generator = test_datagen.flow_from_directory(\n",
        "    test_dir,\n",
        "    target_size=image_size,\n",
        "    batch_size=batch_size,\n",
        "    class_mode='categorical',\n",
        "    shuffle=False  # Set shuffle to False for testing data\n",
        ")"
      ],
      "metadata": {
        "colab": {
          "base_uri": "https://localhost:8080/"
        },
        "id": "oelcW3EtnlSz",
        "outputId": "e232a965-28d1-4d09-c136-56d4b7a17eae"
      },
      "execution_count": null,
      "outputs": [
        {
          "output_type": "stream",
          "name": "stdout",
          "text": [
            "Found 12599 images belonging to 43 classes.\n"
          ]
        }
      ]
    },
    {
      "cell_type": "markdown",
      "source": [
        "<h2>8.2.2 Training the CNN model</h2>"
      ],
      "metadata": {
        "id": "EJUQK66CaB8W"
      }
    },
    {
      "cell_type": "markdown",
      "source": [
        "Double checking the GPU availability and set the GPU device if it is available"
      ],
      "metadata": {
        "id": "xsMRTT06SepR"
      }
    },
    {
      "cell_type": "code",
      "source": [
        "# Check GPU availability\n",
        "print(\"Num GPUs Available: \", len(tf.config.list_physical_devices('GPU')))\n",
        "\n",
        "# Specify GPU device\n",
        "physical_devices = tf.config.list_physical_devices('GPU')\n",
        "if len(physical_devices) > 0:\n",
        "    tf.config.experimental.set_memory_growth(physical_devices[0], True)"
      ],
      "metadata": {
        "colab": {
          "base_uri": "https://localhost:8080/"
        },
        "id": "42FI4zL2feiP",
        "outputId": "5e7ff8e7-6227-4805-c9ca-98a880dfc722"
      },
      "execution_count": null,
      "outputs": [
        {
          "output_type": "stream",
          "name": "stdout",
          "text": [
            "Num GPUs Available:  1\n"
          ]
        }
      ]
    },
    {
      "cell_type": "markdown",
      "source": [
        "A function is defined to plot the training history and calculate the changes in accuracy and loss."
      ],
      "metadata": {
        "id": "VSCR24GDSyqc"
      }
    },
    {
      "cell_type": "code",
      "source": [
        "def calculate_accuracy_increase_rate(history):\n",
        "    train_accuracy = history.history['accuracy']\n",
        "    val_accuracy = history.history['val_accuracy']\n",
        "\n",
        "    train_rate = np.mean(np.diff(train_accuracy))\n",
        "    val_rate = np.mean(np.diff(val_accuracy))\n",
        "\n",
        "    return train_rate, val_rate"
      ],
      "metadata": {
        "id": "U_5cFB1DjMZ4"
      },
      "execution_count": null,
      "outputs": []
    },
    {
      "cell_type": "code",
      "source": [
        "def plot_training_history(history):\n",
        "    # Access the training history\n",
        "    training_loss = history.history['loss']\n",
        "    training_accuracy = history.history['accuracy']\n",
        "    validation_loss = history.history['val_loss']\n",
        "    validation_accuracy = history.history['val_accuracy']\n",
        "\n",
        "    # Create a figure with two subplots\n",
        "    fig, (ax1, ax2) = plt.subplots(1, 2, figsize=(12, 6))\n",
        "\n",
        "    # Plotting the training and validation accuracy\n",
        "    ax1.plot(training_accuracy)\n",
        "    ax1.plot(validation_accuracy)\n",
        "    ax1.set_title('Model Accuracy')\n",
        "    ax1.set_xlabel('Epoch')\n",
        "    ax1.set_ylabel('Accuracy')\n",
        "    ax1.legend(['Train', 'Validation'], loc='upper left')\n",
        "\n",
        "    # Plotting the training and validation loss\n",
        "    ax2.plot(training_loss)\n",
        "    ax2.plot(validation_loss)\n",
        "    ax2.set_title('Model Loss')\n",
        "    ax2.set_xlabel('Epoch')\n",
        "    ax2.set_ylabel('Loss')\n",
        "    ax2.legend(['Train', 'Validation'], loc='upper right')\n",
        "\n",
        "    # Adjust the spacing between subplots\n",
        "    plt.tight_layout()\n",
        "\n",
        "    # Show the figure\n",
        "    plt.show()"
      ],
      "metadata": {
        "id": "0ZcwYOoBef3J"
      },
      "execution_count": null,
      "outputs": []
    },
    {
      "cell_type": "markdown",
      "source": [
        "Then, true labels are extracted from the test generator for testing later."
      ],
      "metadata": {
        "id": "Wshe5FWH4PA7"
      }
    },
    {
      "cell_type": "code",
      "source": [
        "# Get true labels from the test generator\n",
        "true_labels = test_generator.classes\n",
        "\n",
        "# Get unique true labels\n",
        "class_names = [str(label) for label in range(43)]"
      ],
      "metadata": {
        "id": "Ra0sBmAbv8QP"
      },
      "execution_count": null,
      "outputs": []
    },
    {
      "cell_type": "markdown",
      "source": [
        "The model development will start from developing a simple model that serves as a baseline in this development cycle. It is different from the basline of the whole project as this is trained on enhanced and augmented data."
      ],
      "metadata": {
        "id": "xsT1pZ2L4VK_"
      }
    },
    {
      "cell_type": "markdown",
      "source": [
        "**<h2> Model 1: Simple Resnet baseline</h2>**\n"
      ],
      "metadata": {
        "id": "OgUFRqk4uAFq"
      }
    },
    {
      "cell_type": "markdown",
      "source": [
        "Firstly, the ResNet model is downloaded and used as a base model:"
      ],
      "metadata": {
        "id": "RkD3X7gT4dl7"
      }
    },
    {
      "cell_type": "code",
      "source": [
        "# Load the pre-trained ResNet50 model\n",
        "base_model = ResNet50(weights='imagenet', include_top=False)"
      ],
      "metadata": {
        "id": "ZJfJ3fBOhMQR"
      },
      "execution_count": null,
      "outputs": []
    },
    {
      "cell_type": "markdown",
      "source": [
        "A simple implementation of the resnet mddel is developed below with some custom head layers. In this case, **transfered learning** is applied to the ResNet model."
      ],
      "metadata": {
        "id": "eXwyIjLpS3Em"
      }
    },
    {
      "cell_type": "code",
      "source": [
        "# Define the ResNet50 base model\n",
        "input_layer = Input(shape=(128, 128, 3))\n",
        "base_model = ResNet50(weights='imagenet', include_top=False, input_tensor=input_layer)\n",
        "\n",
        "# Add custom head layers\n",
        "x = base_model.output\n",
        "x = GlobalAveragePooling2D()(x)  # Apply Global Average Pooling to the 4D tensor\n",
        "x = Dense(256, activation='relu')(x)\n",
        "output_layer = Dense(num_classes, activation='softmax')(x)  # Use num_classes\n",
        "\n",
        "# Create the model\n",
        "model_resnet = Model(inputs=base_model.input, outputs=output_layer)\n",
        "\n",
        "# Compile the model\n",
        "model_resnet.compile(optimizer=Adam(), loss='categorical_crossentropy', metrics=['accuracy'])"
      ],
      "metadata": {
        "id": "S2FXPHyGS1vm"
      },
      "execution_count": null,
      "outputs": []
    },
    {
      "cell_type": "markdown",
      "source": [
        "A simple summary of the model is displayed:"
      ],
      "metadata": {
        "id": "UiFnOHs04iAD"
      }
    },
    {
      "cell_type": "code",
      "source": [
        "model_resnet.summary()"
      ],
      "metadata": {
        "colab": {
          "base_uri": "https://localhost:8080/"
        },
        "id": "J1A1_tc-UtXG",
        "outputId": "badf29c1-5823-4bcf-a8b4-2d2ae7f7a2bc"
      },
      "execution_count": null,
      "outputs": [
        {
          "output_type": "stream",
          "name": "stdout",
          "text": [
            "Model: \"model\"\n",
            "__________________________________________________________________________________________________\n",
            " Layer (type)                Output Shape                 Param #   Connected to                  \n",
            "==================================================================================================\n",
            " input_3 (InputLayer)        [(None, 128, 128, 3)]        0         []                            \n",
            "                                                                                                  \n",
            " conv1_pad (ZeroPadding2D)   (None, 134, 134, 3)          0         ['input_3[0][0]']             \n",
            "                                                                                                  \n",
            " conv1_conv (Conv2D)         (None, 64, 64, 64)           9472      ['conv1_pad[0][0]']           \n",
            "                                                                                                  \n",
            " conv1_bn (BatchNormalizati  (None, 64, 64, 64)           256       ['conv1_conv[0][0]']          \n",
            " on)                                                                                              \n",
            "                                                                                                  \n",
            " conv1_relu (Activation)     (None, 64, 64, 64)           0         ['conv1_bn[0][0]']            \n",
            "                                                                                                  \n",
            " pool1_pad (ZeroPadding2D)   (None, 66, 66, 64)           0         ['conv1_relu[0][0]']          \n",
            "                                                                                                  \n",
            " pool1_pool (MaxPooling2D)   (None, 32, 32, 64)           0         ['pool1_pad[0][0]']           \n",
            "                                                                                                  \n",
            " conv2_block1_1_conv (Conv2  (None, 32, 32, 64)           4160      ['pool1_pool[0][0]']          \n",
            " D)                                                                                               \n",
            "                                                                                                  \n",
            " conv2_block1_1_bn (BatchNo  (None, 32, 32, 64)           256       ['conv2_block1_1_conv[0][0]'] \n",
            " rmalization)                                                                                     \n",
            "                                                                                                  \n",
            " conv2_block1_1_relu (Activ  (None, 32, 32, 64)           0         ['conv2_block1_1_bn[0][0]']   \n",
            " ation)                                                                                           \n",
            "                                                                                                  \n",
            " conv2_block1_2_conv (Conv2  (None, 32, 32, 64)           36928     ['conv2_block1_1_relu[0][0]'] \n",
            " D)                                                                                               \n",
            "                                                                                                  \n",
            " conv2_block1_2_bn (BatchNo  (None, 32, 32, 64)           256       ['conv2_block1_2_conv[0][0]'] \n",
            " rmalization)                                                                                     \n",
            "                                                                                                  \n",
            " conv2_block1_2_relu (Activ  (None, 32, 32, 64)           0         ['conv2_block1_2_bn[0][0]']   \n",
            " ation)                                                                                           \n",
            "                                                                                                  \n",
            " conv2_block1_0_conv (Conv2  (None, 32, 32, 256)          16640     ['pool1_pool[0][0]']          \n",
            " D)                                                                                               \n",
            "                                                                                                  \n",
            " conv2_block1_3_conv (Conv2  (None, 32, 32, 256)          16640     ['conv2_block1_2_relu[0][0]'] \n",
            " D)                                                                                               \n",
            "                                                                                                  \n",
            " conv2_block1_0_bn (BatchNo  (None, 32, 32, 256)          1024      ['conv2_block1_0_conv[0][0]'] \n",
            " rmalization)                                                                                     \n",
            "                                                                                                  \n",
            " conv2_block1_3_bn (BatchNo  (None, 32, 32, 256)          1024      ['conv2_block1_3_conv[0][0]'] \n",
            " rmalization)                                                                                     \n",
            "                                                                                                  \n",
            " conv2_block1_add (Add)      (None, 32, 32, 256)          0         ['conv2_block1_0_bn[0][0]',   \n",
            "                                                                     'conv2_block1_3_bn[0][0]']   \n",
            "                                                                                                  \n",
            " conv2_block1_out (Activati  (None, 32, 32, 256)          0         ['conv2_block1_add[0][0]']    \n",
            " on)                                                                                              \n",
            "                                                                                                  \n",
            " conv2_block2_1_conv (Conv2  (None, 32, 32, 64)           16448     ['conv2_block1_out[0][0]']    \n",
            " D)                                                                                               \n",
            "                                                                                                  \n",
            " conv2_block2_1_bn (BatchNo  (None, 32, 32, 64)           256       ['conv2_block2_1_conv[0][0]'] \n",
            " rmalization)                                                                                     \n",
            "                                                                                                  \n",
            " conv2_block2_1_relu (Activ  (None, 32, 32, 64)           0         ['conv2_block2_1_bn[0][0]']   \n",
            " ation)                                                                                           \n",
            "                                                                                                  \n",
            " conv2_block2_2_conv (Conv2  (None, 32, 32, 64)           36928     ['conv2_block2_1_relu[0][0]'] \n",
            " D)                                                                                               \n",
            "                                                                                                  \n",
            " conv2_block2_2_bn (BatchNo  (None, 32, 32, 64)           256       ['conv2_block2_2_conv[0][0]'] \n",
            " rmalization)                                                                                     \n",
            "                                                                                                  \n",
            " conv2_block2_2_relu (Activ  (None, 32, 32, 64)           0         ['conv2_block2_2_bn[0][0]']   \n",
            " ation)                                                                                           \n",
            "                                                                                                  \n",
            " conv2_block2_3_conv (Conv2  (None, 32, 32, 256)          16640     ['conv2_block2_2_relu[0][0]'] \n",
            " D)                                                                                               \n",
            "                                                                                                  \n",
            " conv2_block2_3_bn (BatchNo  (None, 32, 32, 256)          1024      ['conv2_block2_3_conv[0][0]'] \n",
            " rmalization)                                                                                     \n",
            "                                                                                                  \n",
            " conv2_block2_add (Add)      (None, 32, 32, 256)          0         ['conv2_block1_out[0][0]',    \n",
            "                                                                     'conv2_block2_3_bn[0][0]']   \n",
            "                                                                                                  \n",
            " conv2_block2_out (Activati  (None, 32, 32, 256)          0         ['conv2_block2_add[0][0]']    \n",
            " on)                                                                                              \n",
            "                                                                                                  \n",
            " conv2_block3_1_conv (Conv2  (None, 32, 32, 64)           16448     ['conv2_block2_out[0][0]']    \n",
            " D)                                                                                               \n",
            "                                                                                                  \n",
            " conv2_block3_1_bn (BatchNo  (None, 32, 32, 64)           256       ['conv2_block3_1_conv[0][0]'] \n",
            " rmalization)                                                                                     \n",
            "                                                                                                  \n",
            " conv2_block3_1_relu (Activ  (None, 32, 32, 64)           0         ['conv2_block3_1_bn[0][0]']   \n",
            " ation)                                                                                           \n",
            "                                                                                                  \n",
            " conv2_block3_2_conv (Conv2  (None, 32, 32, 64)           36928     ['conv2_block3_1_relu[0][0]'] \n",
            " D)                                                                                               \n",
            "                                                                                                  \n",
            " conv2_block3_2_bn (BatchNo  (None, 32, 32, 64)           256       ['conv2_block3_2_conv[0][0]'] \n",
            " rmalization)                                                                                     \n",
            "                                                                                                  \n",
            " conv2_block3_2_relu (Activ  (None, 32, 32, 64)           0         ['conv2_block3_2_bn[0][0]']   \n",
            " ation)                                                                                           \n",
            "                                                                                                  \n",
            " conv2_block3_3_conv (Conv2  (None, 32, 32, 256)          16640     ['conv2_block3_2_relu[0][0]'] \n",
            " D)                                                                                               \n",
            "                                                                                                  \n",
            " conv2_block3_3_bn (BatchNo  (None, 32, 32, 256)          1024      ['conv2_block3_3_conv[0][0]'] \n",
            " rmalization)                                                                                     \n",
            "                                                                                                  \n",
            " conv2_block3_add (Add)      (None, 32, 32, 256)          0         ['conv2_block2_out[0][0]',    \n",
            "                                                                     'conv2_block3_3_bn[0][0]']   \n",
            "                                                                                                  \n",
            " conv2_block3_out (Activati  (None, 32, 32, 256)          0         ['conv2_block3_add[0][0]']    \n",
            " on)                                                                                              \n",
            "                                                                                                  \n",
            " conv3_block1_1_conv (Conv2  (None, 16, 16, 128)          32896     ['conv2_block3_out[0][0]']    \n",
            " D)                                                                                               \n",
            "                                                                                                  \n",
            " conv3_block1_1_bn (BatchNo  (None, 16, 16, 128)          512       ['conv3_block1_1_conv[0][0]'] \n",
            " rmalization)                                                                                     \n",
            "                                                                                                  \n",
            " conv3_block1_1_relu (Activ  (None, 16, 16, 128)          0         ['conv3_block1_1_bn[0][0]']   \n",
            " ation)                                                                                           \n",
            "                                                                                                  \n",
            " conv3_block1_2_conv (Conv2  (None, 16, 16, 128)          147584    ['conv3_block1_1_relu[0][0]'] \n",
            " D)                                                                                               \n",
            "                                                                                                  \n",
            " conv3_block1_2_bn (BatchNo  (None, 16, 16, 128)          512       ['conv3_block1_2_conv[0][0]'] \n",
            " rmalization)                                                                                     \n",
            "                                                                                                  \n",
            " conv3_block1_2_relu (Activ  (None, 16, 16, 128)          0         ['conv3_block1_2_bn[0][0]']   \n",
            " ation)                                                                                           \n",
            "                                                                                                  \n",
            " conv3_block1_0_conv (Conv2  (None, 16, 16, 512)          131584    ['conv2_block3_out[0][0]']    \n",
            " D)                                                                                               \n",
            "                                                                                                  \n",
            " conv3_block1_3_conv (Conv2  (None, 16, 16, 512)          66048     ['conv3_block1_2_relu[0][0]'] \n",
            " D)                                                                                               \n",
            "                                                                                                  \n",
            " conv3_block1_0_bn (BatchNo  (None, 16, 16, 512)          2048      ['conv3_block1_0_conv[0][0]'] \n",
            " rmalization)                                                                                     \n",
            "                                                                                                  \n",
            " conv3_block1_3_bn (BatchNo  (None, 16, 16, 512)          2048      ['conv3_block1_3_conv[0][0]'] \n",
            " rmalization)                                                                                     \n",
            "                                                                                                  \n",
            " conv3_block1_add (Add)      (None, 16, 16, 512)          0         ['conv3_block1_0_bn[0][0]',   \n",
            "                                                                     'conv3_block1_3_bn[0][0]']   \n",
            "                                                                                                  \n",
            " conv3_block1_out (Activati  (None, 16, 16, 512)          0         ['conv3_block1_add[0][0]']    \n",
            " on)                                                                                              \n",
            "                                                                                                  \n",
            " conv3_block2_1_conv (Conv2  (None, 16, 16, 128)          65664     ['conv3_block1_out[0][0]']    \n",
            " D)                                                                                               \n",
            "                                                                                                  \n",
            " conv3_block2_1_bn (BatchNo  (None, 16, 16, 128)          512       ['conv3_block2_1_conv[0][0]'] \n",
            " rmalization)                                                                                     \n",
            "                                                                                                  \n",
            " conv3_block2_1_relu (Activ  (None, 16, 16, 128)          0         ['conv3_block2_1_bn[0][0]']   \n",
            " ation)                                                                                           \n",
            "                                                                                                  \n",
            " conv3_block2_2_conv (Conv2  (None, 16, 16, 128)          147584    ['conv3_block2_1_relu[0][0]'] \n",
            " D)                                                                                               \n",
            "                                                                                                  \n",
            " conv3_block2_2_bn (BatchNo  (None, 16, 16, 128)          512       ['conv3_block2_2_conv[0][0]'] \n",
            " rmalization)                                                                                     \n",
            "                                                                                                  \n",
            " conv3_block2_2_relu (Activ  (None, 16, 16, 128)          0         ['conv3_block2_2_bn[0][0]']   \n",
            " ation)                                                                                           \n",
            "                                                                                                  \n",
            " conv3_block2_3_conv (Conv2  (None, 16, 16, 512)          66048     ['conv3_block2_2_relu[0][0]'] \n",
            " D)                                                                                               \n",
            "                                                                                                  \n",
            " conv3_block2_3_bn (BatchNo  (None, 16, 16, 512)          2048      ['conv3_block2_3_conv[0][0]'] \n",
            " rmalization)                                                                                     \n",
            "                                                                                                  \n",
            " conv3_block2_add (Add)      (None, 16, 16, 512)          0         ['conv3_block1_out[0][0]',    \n",
            "                                                                     'conv3_block2_3_bn[0][0]']   \n",
            "                                                                                                  \n",
            " conv3_block2_out (Activati  (None, 16, 16, 512)          0         ['conv3_block2_add[0][0]']    \n",
            " on)                                                                                              \n",
            "                                                                                                  \n",
            " conv3_block3_1_conv (Conv2  (None, 16, 16, 128)          65664     ['conv3_block2_out[0][0]']    \n",
            " D)                                                                                               \n",
            "                                                                                                  \n",
            " conv3_block3_1_bn (BatchNo  (None, 16, 16, 128)          512       ['conv3_block3_1_conv[0][0]'] \n",
            " rmalization)                                                                                     \n",
            "                                                                                                  \n",
            " conv3_block3_1_relu (Activ  (None, 16, 16, 128)          0         ['conv3_block3_1_bn[0][0]']   \n",
            " ation)                                                                                           \n",
            "                                                                                                  \n",
            " conv3_block3_2_conv (Conv2  (None, 16, 16, 128)          147584    ['conv3_block3_1_relu[0][0]'] \n",
            " D)                                                                                               \n",
            "                                                                                                  \n",
            " conv3_block3_2_bn (BatchNo  (None, 16, 16, 128)          512       ['conv3_block3_2_conv[0][0]'] \n",
            " rmalization)                                                                                     \n",
            "                                                                                                  \n",
            " conv3_block3_2_relu (Activ  (None, 16, 16, 128)          0         ['conv3_block3_2_bn[0][0]']   \n",
            " ation)                                                                                           \n",
            "                                                                                                  \n",
            " conv3_block3_3_conv (Conv2  (None, 16, 16, 512)          66048     ['conv3_block3_2_relu[0][0]'] \n",
            " D)                                                                                               \n",
            "                                                                                                  \n",
            " conv3_block3_3_bn (BatchNo  (None, 16, 16, 512)          2048      ['conv3_block3_3_conv[0][0]'] \n",
            " rmalization)                                                                                     \n",
            "                                                                                                  \n",
            " conv3_block3_add (Add)      (None, 16, 16, 512)          0         ['conv3_block2_out[0][0]',    \n",
            "                                                                     'conv3_block3_3_bn[0][0]']   \n",
            "                                                                                                  \n",
            " conv3_block3_out (Activati  (None, 16, 16, 512)          0         ['conv3_block3_add[0][0]']    \n",
            " on)                                                                                              \n",
            "                                                                                                  \n",
            " conv3_block4_1_conv (Conv2  (None, 16, 16, 128)          65664     ['conv3_block3_out[0][0]']    \n",
            " D)                                                                                               \n",
            "                                                                                                  \n",
            " conv3_block4_1_bn (BatchNo  (None, 16, 16, 128)          512       ['conv3_block4_1_conv[0][0]'] \n",
            " rmalization)                                                                                     \n",
            "                                                                                                  \n",
            " conv3_block4_1_relu (Activ  (None, 16, 16, 128)          0         ['conv3_block4_1_bn[0][0]']   \n",
            " ation)                                                                                           \n",
            "                                                                                                  \n",
            " conv3_block4_2_conv (Conv2  (None, 16, 16, 128)          147584    ['conv3_block4_1_relu[0][0]'] \n",
            " D)                                                                                               \n",
            "                                                                                                  \n",
            " conv3_block4_2_bn (BatchNo  (None, 16, 16, 128)          512       ['conv3_block4_2_conv[0][0]'] \n",
            " rmalization)                                                                                     \n",
            "                                                                                                  \n",
            " conv3_block4_2_relu (Activ  (None, 16, 16, 128)          0         ['conv3_block4_2_bn[0][0]']   \n",
            " ation)                                                                                           \n",
            "                                                                                                  \n",
            " conv3_block4_3_conv (Conv2  (None, 16, 16, 512)          66048     ['conv3_block4_2_relu[0][0]'] \n",
            " D)                                                                                               \n",
            "                                                                                                  \n",
            " conv3_block4_3_bn (BatchNo  (None, 16, 16, 512)          2048      ['conv3_block4_3_conv[0][0]'] \n",
            " rmalization)                                                                                     \n",
            "                                                                                                  \n",
            " conv3_block4_add (Add)      (None, 16, 16, 512)          0         ['conv3_block3_out[0][0]',    \n",
            "                                                                     'conv3_block4_3_bn[0][0]']   \n",
            "                                                                                                  \n",
            " conv3_block4_out (Activati  (None, 16, 16, 512)          0         ['conv3_block4_add[0][0]']    \n",
            " on)                                                                                              \n",
            "                                                                                                  \n",
            " conv4_block1_1_conv (Conv2  (None, 8, 8, 256)            131328    ['conv3_block4_out[0][0]']    \n",
            " D)                                                                                               \n",
            "                                                                                                  \n",
            " conv4_block1_1_bn (BatchNo  (None, 8, 8, 256)            1024      ['conv4_block1_1_conv[0][0]'] \n",
            " rmalization)                                                                                     \n",
            "                                                                                                  \n",
            " conv4_block1_1_relu (Activ  (None, 8, 8, 256)            0         ['conv4_block1_1_bn[0][0]']   \n",
            " ation)                                                                                           \n",
            "                                                                                                  \n",
            " conv4_block1_2_conv (Conv2  (None, 8, 8, 256)            590080    ['conv4_block1_1_relu[0][0]'] \n",
            " D)                                                                                               \n",
            "                                                                                                  \n",
            " conv4_block1_2_bn (BatchNo  (None, 8, 8, 256)            1024      ['conv4_block1_2_conv[0][0]'] \n",
            " rmalization)                                                                                     \n",
            "                                                                                                  \n",
            " conv4_block1_2_relu (Activ  (None, 8, 8, 256)            0         ['conv4_block1_2_bn[0][0]']   \n",
            " ation)                                                                                           \n",
            "                                                                                                  \n",
            " conv4_block1_0_conv (Conv2  (None, 8, 8, 1024)           525312    ['conv3_block4_out[0][0]']    \n",
            " D)                                                                                               \n",
            "                                                                                                  \n",
            " conv4_block1_3_conv (Conv2  (None, 8, 8, 1024)           263168    ['conv4_block1_2_relu[0][0]'] \n",
            " D)                                                                                               \n",
            "                                                                                                  \n",
            " conv4_block1_0_bn (BatchNo  (None, 8, 8, 1024)           4096      ['conv4_block1_0_conv[0][0]'] \n",
            " rmalization)                                                                                     \n",
            "                                                                                                  \n",
            " conv4_block1_3_bn (BatchNo  (None, 8, 8, 1024)           4096      ['conv4_block1_3_conv[0][0]'] \n",
            " rmalization)                                                                                     \n",
            "                                                                                                  \n",
            " conv4_block1_add (Add)      (None, 8, 8, 1024)           0         ['conv4_block1_0_bn[0][0]',   \n",
            "                                                                     'conv4_block1_3_bn[0][0]']   \n",
            "                                                                                                  \n",
            " conv4_block1_out (Activati  (None, 8, 8, 1024)           0         ['conv4_block1_add[0][0]']    \n",
            " on)                                                                                              \n",
            "                                                                                                  \n",
            " conv4_block2_1_conv (Conv2  (None, 8, 8, 256)            262400    ['conv4_block1_out[0][0]']    \n",
            " D)                                                                                               \n",
            "                                                                                                  \n",
            " conv4_block2_1_bn (BatchNo  (None, 8, 8, 256)            1024      ['conv4_block2_1_conv[0][0]'] \n",
            " rmalization)                                                                                     \n",
            "                                                                                                  \n",
            " conv4_block2_1_relu (Activ  (None, 8, 8, 256)            0         ['conv4_block2_1_bn[0][0]']   \n",
            " ation)                                                                                           \n",
            "                                                                                                  \n",
            " conv4_block2_2_conv (Conv2  (None, 8, 8, 256)            590080    ['conv4_block2_1_relu[0][0]'] \n",
            " D)                                                                                               \n",
            "                                                                                                  \n",
            " conv4_block2_2_bn (BatchNo  (None, 8, 8, 256)            1024      ['conv4_block2_2_conv[0][0]'] \n",
            " rmalization)                                                                                     \n",
            "                                                                                                  \n",
            " conv4_block2_2_relu (Activ  (None, 8, 8, 256)            0         ['conv4_block2_2_bn[0][0]']   \n",
            " ation)                                                                                           \n",
            "                                                                                                  \n",
            " conv4_block2_3_conv (Conv2  (None, 8, 8, 1024)           263168    ['conv4_block2_2_relu[0][0]'] \n",
            " D)                                                                                               \n",
            "                                                                                                  \n",
            " conv4_block2_3_bn (BatchNo  (None, 8, 8, 1024)           4096      ['conv4_block2_3_conv[0][0]'] \n",
            " rmalization)                                                                                     \n",
            "                                                                                                  \n",
            " conv4_block2_add (Add)      (None, 8, 8, 1024)           0         ['conv4_block1_out[0][0]',    \n",
            "                                                                     'conv4_block2_3_bn[0][0]']   \n",
            "                                                                                                  \n",
            " conv4_block2_out (Activati  (None, 8, 8, 1024)           0         ['conv4_block2_add[0][0]']    \n",
            " on)                                                                                              \n",
            "                                                                                                  \n",
            " conv4_block3_1_conv (Conv2  (None, 8, 8, 256)            262400    ['conv4_block2_out[0][0]']    \n",
            " D)                                                                                               \n",
            "                                                                                                  \n",
            " conv4_block3_1_bn (BatchNo  (None, 8, 8, 256)            1024      ['conv4_block3_1_conv[0][0]'] \n",
            " rmalization)                                                                                     \n",
            "                                                                                                  \n",
            " conv4_block3_1_relu (Activ  (None, 8, 8, 256)            0         ['conv4_block3_1_bn[0][0]']   \n",
            " ation)                                                                                           \n",
            "                                                                                                  \n",
            " conv4_block3_2_conv (Conv2  (None, 8, 8, 256)            590080    ['conv4_block3_1_relu[0][0]'] \n",
            " D)                                                                                               \n",
            "                                                                                                  \n",
            " conv4_block3_2_bn (BatchNo  (None, 8, 8, 256)            1024      ['conv4_block3_2_conv[0][0]'] \n",
            " rmalization)                                                                                     \n",
            "                                                                                                  \n",
            " conv4_block3_2_relu (Activ  (None, 8, 8, 256)            0         ['conv4_block3_2_bn[0][0]']   \n",
            " ation)                                                                                           \n",
            "                                                                                                  \n",
            " conv4_block3_3_conv (Conv2  (None, 8, 8, 1024)           263168    ['conv4_block3_2_relu[0][0]'] \n",
            " D)                                                                                               \n",
            "                                                                                                  \n",
            " conv4_block3_3_bn (BatchNo  (None, 8, 8, 1024)           4096      ['conv4_block3_3_conv[0][0]'] \n",
            " rmalization)                                                                                     \n",
            "                                                                                                  \n",
            " conv4_block3_add (Add)      (None, 8, 8, 1024)           0         ['conv4_block2_out[0][0]',    \n",
            "                                                                     'conv4_block3_3_bn[0][0]']   \n",
            "                                                                                                  \n",
            " conv4_block3_out (Activati  (None, 8, 8, 1024)           0         ['conv4_block3_add[0][0]']    \n",
            " on)                                                                                              \n",
            "                                                                                                  \n",
            " conv4_block4_1_conv (Conv2  (None, 8, 8, 256)            262400    ['conv4_block3_out[0][0]']    \n",
            " D)                                                                                               \n",
            "                                                                                                  \n",
            " conv4_block4_1_bn (BatchNo  (None, 8, 8, 256)            1024      ['conv4_block4_1_conv[0][0]'] \n",
            " rmalization)                                                                                     \n",
            "                                                                                                  \n",
            " conv4_block4_1_relu (Activ  (None, 8, 8, 256)            0         ['conv4_block4_1_bn[0][0]']   \n",
            " ation)                                                                                           \n",
            "                                                                                                  \n",
            " conv4_block4_2_conv (Conv2  (None, 8, 8, 256)            590080    ['conv4_block4_1_relu[0][0]'] \n",
            " D)                                                                                               \n",
            "                                                                                                  \n",
            " conv4_block4_2_bn (BatchNo  (None, 8, 8, 256)            1024      ['conv4_block4_2_conv[0][0]'] \n",
            " rmalization)                                                                                     \n",
            "                                                                                                  \n",
            " conv4_block4_2_relu (Activ  (None, 8, 8, 256)            0         ['conv4_block4_2_bn[0][0]']   \n",
            " ation)                                                                                           \n",
            "                                                                                                  \n",
            " conv4_block4_3_conv (Conv2  (None, 8, 8, 1024)           263168    ['conv4_block4_2_relu[0][0]'] \n",
            " D)                                                                                               \n",
            "                                                                                                  \n",
            " conv4_block4_3_bn (BatchNo  (None, 8, 8, 1024)           4096      ['conv4_block4_3_conv[0][0]'] \n",
            " rmalization)                                                                                     \n",
            "                                                                                                  \n",
            " conv4_block4_add (Add)      (None, 8, 8, 1024)           0         ['conv4_block3_out[0][0]',    \n",
            "                                                                     'conv4_block4_3_bn[0][0]']   \n",
            "                                                                                                  \n",
            " conv4_block4_out (Activati  (None, 8, 8, 1024)           0         ['conv4_block4_add[0][0]']    \n",
            " on)                                                                                              \n",
            "                                                                                                  \n",
            " conv4_block5_1_conv (Conv2  (None, 8, 8, 256)            262400    ['conv4_block4_out[0][0]']    \n",
            " D)                                                                                               \n",
            "                                                                                                  \n",
            " conv4_block5_1_bn (BatchNo  (None, 8, 8, 256)            1024      ['conv4_block5_1_conv[0][0]'] \n",
            " rmalization)                                                                                     \n",
            "                                                                                                  \n",
            " conv4_block5_1_relu (Activ  (None, 8, 8, 256)            0         ['conv4_block5_1_bn[0][0]']   \n",
            " ation)                                                                                           \n",
            "                                                                                                  \n",
            " conv4_block5_2_conv (Conv2  (None, 8, 8, 256)            590080    ['conv4_block5_1_relu[0][0]'] \n",
            " D)                                                                                               \n",
            "                                                                                                  \n",
            " conv4_block5_2_bn (BatchNo  (None, 8, 8, 256)            1024      ['conv4_block5_2_conv[0][0]'] \n",
            " rmalization)                                                                                     \n",
            "                                                                                                  \n",
            " conv4_block5_2_relu (Activ  (None, 8, 8, 256)            0         ['conv4_block5_2_bn[0][0]']   \n",
            " ation)                                                                                           \n",
            "                                                                                                  \n",
            " conv4_block5_3_conv (Conv2  (None, 8, 8, 1024)           263168    ['conv4_block5_2_relu[0][0]'] \n",
            " D)                                                                                               \n",
            "                                                                                                  \n",
            " conv4_block5_3_bn (BatchNo  (None, 8, 8, 1024)           4096      ['conv4_block5_3_conv[0][0]'] \n",
            " rmalization)                                                                                     \n",
            "                                                                                                  \n",
            " conv4_block5_add (Add)      (None, 8, 8, 1024)           0         ['conv4_block4_out[0][0]',    \n",
            "                                                                     'conv4_block5_3_bn[0][0]']   \n",
            "                                                                                                  \n",
            " conv4_block5_out (Activati  (None, 8, 8, 1024)           0         ['conv4_block5_add[0][0]']    \n",
            " on)                                                                                              \n",
            "                                                                                                  \n",
            " conv4_block6_1_conv (Conv2  (None, 8, 8, 256)            262400    ['conv4_block5_out[0][0]']    \n",
            " D)                                                                                               \n",
            "                                                                                                  \n",
            " conv4_block6_1_bn (BatchNo  (None, 8, 8, 256)            1024      ['conv4_block6_1_conv[0][0]'] \n",
            " rmalization)                                                                                     \n",
            "                                                                                                  \n",
            " conv4_block6_1_relu (Activ  (None, 8, 8, 256)            0         ['conv4_block6_1_bn[0][0]']   \n",
            " ation)                                                                                           \n",
            "                                                                                                  \n",
            " conv4_block6_2_conv (Conv2  (None, 8, 8, 256)            590080    ['conv4_block6_1_relu[0][0]'] \n",
            " D)                                                                                               \n",
            "                                                                                                  \n",
            " conv4_block6_2_bn (BatchNo  (None, 8, 8, 256)            1024      ['conv4_block6_2_conv[0][0]'] \n",
            " rmalization)                                                                                     \n",
            "                                                                                                  \n",
            " conv4_block6_2_relu (Activ  (None, 8, 8, 256)            0         ['conv4_block6_2_bn[0][0]']   \n",
            " ation)                                                                                           \n",
            "                                                                                                  \n",
            " conv4_block6_3_conv (Conv2  (None, 8, 8, 1024)           263168    ['conv4_block6_2_relu[0][0]'] \n",
            " D)                                                                                               \n",
            "                                                                                                  \n",
            " conv4_block6_3_bn (BatchNo  (None, 8, 8, 1024)           4096      ['conv4_block6_3_conv[0][0]'] \n",
            " rmalization)                                                                                     \n",
            "                                                                                                  \n",
            " conv4_block6_add (Add)      (None, 8, 8, 1024)           0         ['conv4_block5_out[0][0]',    \n",
            "                                                                     'conv4_block6_3_bn[0][0]']   \n",
            "                                                                                                  \n",
            " conv4_block6_out (Activati  (None, 8, 8, 1024)           0         ['conv4_block6_add[0][0]']    \n",
            " on)                                                                                              \n",
            "                                                                                                  \n",
            " conv5_block1_1_conv (Conv2  (None, 4, 4, 512)            524800    ['conv4_block6_out[0][0]']    \n",
            " D)                                                                                               \n",
            "                                                                                                  \n",
            " conv5_block1_1_bn (BatchNo  (None, 4, 4, 512)            2048      ['conv5_block1_1_conv[0][0]'] \n",
            " rmalization)                                                                                     \n",
            "                                                                                                  \n",
            " conv5_block1_1_relu (Activ  (None, 4, 4, 512)            0         ['conv5_block1_1_bn[0][0]']   \n",
            " ation)                                                                                           \n",
            "                                                                                                  \n",
            " conv5_block1_2_conv (Conv2  (None, 4, 4, 512)            2359808   ['conv5_block1_1_relu[0][0]'] \n",
            " D)                                                                                               \n",
            "                                                                                                  \n",
            " conv5_block1_2_bn (BatchNo  (None, 4, 4, 512)            2048      ['conv5_block1_2_conv[0][0]'] \n",
            " rmalization)                                                                                     \n",
            "                                                                                                  \n",
            " conv5_block1_2_relu (Activ  (None, 4, 4, 512)            0         ['conv5_block1_2_bn[0][0]']   \n",
            " ation)                                                                                           \n",
            "                                                                                                  \n",
            " conv5_block1_0_conv (Conv2  (None, 4, 4, 2048)           2099200   ['conv4_block6_out[0][0]']    \n",
            " D)                                                                                               \n",
            "                                                                                                  \n",
            " conv5_block1_3_conv (Conv2  (None, 4, 4, 2048)           1050624   ['conv5_block1_2_relu[0][0]'] \n",
            " D)                                                                                               \n",
            "                                                                                                  \n",
            " conv5_block1_0_bn (BatchNo  (None, 4, 4, 2048)           8192      ['conv5_block1_0_conv[0][0]'] \n",
            " rmalization)                                                                                     \n",
            "                                                                                                  \n",
            " conv5_block1_3_bn (BatchNo  (None, 4, 4, 2048)           8192      ['conv5_block1_3_conv[0][0]'] \n",
            " rmalization)                                                                                     \n",
            "                                                                                                  \n",
            " conv5_block1_add (Add)      (None, 4, 4, 2048)           0         ['conv5_block1_0_bn[0][0]',   \n",
            "                                                                     'conv5_block1_3_bn[0][0]']   \n",
            "                                                                                                  \n",
            " conv5_block1_out (Activati  (None, 4, 4, 2048)           0         ['conv5_block1_add[0][0]']    \n",
            " on)                                                                                              \n",
            "                                                                                                  \n",
            " conv5_block2_1_conv (Conv2  (None, 4, 4, 512)            1049088   ['conv5_block1_out[0][0]']    \n",
            " D)                                                                                               \n",
            "                                                                                                  \n",
            " conv5_block2_1_bn (BatchNo  (None, 4, 4, 512)            2048      ['conv5_block2_1_conv[0][0]'] \n",
            " rmalization)                                                                                     \n",
            "                                                                                                  \n",
            " conv5_block2_1_relu (Activ  (None, 4, 4, 512)            0         ['conv5_block2_1_bn[0][0]']   \n",
            " ation)                                                                                           \n",
            "                                                                                                  \n",
            " conv5_block2_2_conv (Conv2  (None, 4, 4, 512)            2359808   ['conv5_block2_1_relu[0][0]'] \n",
            " D)                                                                                               \n",
            "                                                                                                  \n",
            " conv5_block2_2_bn (BatchNo  (None, 4, 4, 512)            2048      ['conv5_block2_2_conv[0][0]'] \n",
            " rmalization)                                                                                     \n",
            "                                                                                                  \n",
            " conv5_block2_2_relu (Activ  (None, 4, 4, 512)            0         ['conv5_block2_2_bn[0][0]']   \n",
            " ation)                                                                                           \n",
            "                                                                                                  \n",
            " conv5_block2_3_conv (Conv2  (None, 4, 4, 2048)           1050624   ['conv5_block2_2_relu[0][0]'] \n",
            " D)                                                                                               \n",
            "                                                                                                  \n",
            " conv5_block2_3_bn (BatchNo  (None, 4, 4, 2048)           8192      ['conv5_block2_3_conv[0][0]'] \n",
            " rmalization)                                                                                     \n",
            "                                                                                                  \n",
            " conv5_block2_add (Add)      (None, 4, 4, 2048)           0         ['conv5_block1_out[0][0]',    \n",
            "                                                                     'conv5_block2_3_bn[0][0]']   \n",
            "                                                                                                  \n",
            " conv5_block2_out (Activati  (None, 4, 4, 2048)           0         ['conv5_block2_add[0][0]']    \n",
            " on)                                                                                              \n",
            "                                                                                                  \n",
            " conv5_block3_1_conv (Conv2  (None, 4, 4, 512)            1049088   ['conv5_block2_out[0][0]']    \n",
            " D)                                                                                               \n",
            "                                                                                                  \n",
            " conv5_block3_1_bn (BatchNo  (None, 4, 4, 512)            2048      ['conv5_block3_1_conv[0][0]'] \n",
            " rmalization)                                                                                     \n",
            "                                                                                                  \n",
            " conv5_block3_1_relu (Activ  (None, 4, 4, 512)            0         ['conv5_block3_1_bn[0][0]']   \n",
            " ation)                                                                                           \n",
            "                                                                                                  \n",
            " conv5_block3_2_conv (Conv2  (None, 4, 4, 512)            2359808   ['conv5_block3_1_relu[0][0]'] \n",
            " D)                                                                                               \n",
            "                                                                                                  \n",
            " conv5_block3_2_bn (BatchNo  (None, 4, 4, 512)            2048      ['conv5_block3_2_conv[0][0]'] \n",
            " rmalization)                                                                                     \n",
            "                                                                                                  \n",
            " conv5_block3_2_relu (Activ  (None, 4, 4, 512)            0         ['conv5_block3_2_bn[0][0]']   \n",
            " ation)                                                                                           \n",
            "                                                                                                  \n",
            " conv5_block3_3_conv (Conv2  (None, 4, 4, 2048)           1050624   ['conv5_block3_2_relu[0][0]'] \n",
            " D)                                                                                               \n",
            "                                                                                                  \n",
            " conv5_block3_3_bn (BatchNo  (None, 4, 4, 2048)           8192      ['conv5_block3_3_conv[0][0]'] \n",
            " rmalization)                                                                                     \n",
            "                                                                                                  \n",
            " conv5_block3_add (Add)      (None, 4, 4, 2048)           0         ['conv5_block2_out[0][0]',    \n",
            "                                                                     'conv5_block3_3_bn[0][0]']   \n",
            "                                                                                                  \n",
            " conv5_block3_out (Activati  (None, 4, 4, 2048)           0         ['conv5_block3_add[0][0]']    \n",
            " on)                                                                                              \n",
            "                                                                                                  \n",
            " global_average_pooling2d (  (None, 2048)                 0         ['conv5_block3_out[0][0]']    \n",
            " GlobalAveragePooling2D)                                                                          \n",
            "                                                                                                  \n",
            " dense (Dense)               (None, 256)                  524544    ['global_average_pooling2d[0][\n",
            "                                                                    0]']                          \n",
            "                                                                                                  \n",
            " dense_1 (Dense)             (None, 43)                   11051     ['dense[0][0]']               \n",
            "                                                                                                  \n",
            "==================================================================================================\n",
            "Total params: 24123307 (92.02 MB)\n",
            "Trainable params: 24070187 (91.82 MB)\n",
            "Non-trainable params: 53120 (207.50 KB)\n",
            "__________________________________________________________________________________________________\n"
          ]
        }
      ]
    },
    {
      "cell_type": "markdown",
      "source": [
        "A learning rate decay function is used to allow the model to learn at a slower rate as it develops. It reduces the learning rate by 5% in each epoch after epoch 3."
      ],
      "metadata": {
        "id": "kzyiaMfO4ny2"
      }
    },
    {
      "cell_type": "code",
      "source": [
        "# Define a learning rate decay function\n",
        "def lr_decay(epoch, lr):\n",
        "    if epoch < 5:\n",
        "        return lr  # Keep the initial learning rate for the first 5 epochs\n",
        "    else:\n",
        "        return lr * 0.95  # Decrease the learning rate by 5% after each epoch\n",
        "\n",
        "# Scheduler callback for learning rate\n",
        "lr_scheduler = LearningRateScheduler(lr_decay)"
      ],
      "metadata": {
        "id": "qn3He3hIQt_r"
      },
      "execution_count": null,
      "outputs": []
    },
    {
      "cell_type": "markdown",
      "source": [
        "The model is developed below with early stopping call backs:"
      ],
      "metadata": {
        "id": "3Zxaw2tV4qIy"
      }
    },
    {
      "cell_type": "code",
      "source": [
        "# Early stopping callback\n",
        "early_stopping = EarlyStopping(monitor='val_loss', patience=3, restore_best_weights=True)\n",
        "\n",
        "# Train the model\n",
        "num_epochs = 30\n",
        "history_simpleRes = model_resnet.fit(train_generator,\n",
        "                                     epochs=num_epochs,\n",
        "                                     validation_data=valid_generator,\n",
        "                                     callbacks=[early_stopping, lr_scheduler])\n",
        "\n",
        "print(\"Model training completed.\")"
      ],
      "metadata": {
        "colab": {
          "base_uri": "https://localhost:8080/"
        },
        "id": "m0sYx0qRTFsH",
        "outputId": "36a64bfc-76ee-4612-8015-b43da0495a01"
      },
      "execution_count": null,
      "outputs": [
        {
          "output_type": "stream",
          "name": "stdout",
          "text": [
            "Epoch 1/30\n",
            "667/667 [==============================] - 97s 145ms/step - loss: 0.0821 - accuracy: 0.9776 - val_loss: 0.0635 - val_accuracy: 0.9816 - lr: 0.0010\n",
            "Epoch 2/30\n",
            "667/667 [==============================] - 94s 141ms/step - loss: 0.0183 - accuracy: 0.9955 - val_loss: 0.1105 - val_accuracy: 0.9721 - lr: 0.0010\n",
            "Epoch 3/30\n",
            "667/667 [==============================] - 95s 142ms/step - loss: 0.0430 - accuracy: 0.9889 - val_loss: 0.0573 - val_accuracy: 0.9852 - lr: 0.0010\n",
            "Epoch 4/30\n",
            "667/667 [==============================] - 94s 140ms/step - loss: 0.0138 - accuracy: 0.9966 - val_loss: 0.0999 - val_accuracy: 0.9784 - lr: 0.0010\n",
            "Epoch 5/30\n",
            "667/667 [==============================] - 94s 142ms/step - loss: 0.0279 - accuracy: 0.9927 - val_loss: 0.3542 - val_accuracy: 0.9074 - lr: 0.0010\n",
            "Epoch 6/30\n",
            "667/667 [==============================] - 94s 142ms/step - loss: 0.0234 - accuracy: 0.9942 - val_loss: 0.0298 - val_accuracy: 0.9916 - lr: 9.5000e-04\n",
            "Epoch 7/30\n",
            "667/667 [==============================] - 94s 141ms/step - loss: 0.0171 - accuracy: 0.9959 - val_loss: 0.2582 - val_accuracy: 0.9314 - lr: 9.0250e-04\n",
            "Epoch 8/30\n",
            "667/667 [==============================] - 104s 156ms/step - loss: 0.0075 - accuracy: 0.9981 - val_loss: 0.0348 - val_accuracy: 0.9925 - lr: 8.5737e-04\n",
            "Epoch 9/30\n",
            "667/667 [==============================] - 95s 142ms/step - loss: 0.0082 - accuracy: 0.9978 - val_loss: 0.3803 - val_accuracy: 0.9614 - lr: 8.1451e-04\n",
            "Model training completed.\n"
          ]
        }
      ]
    },
    {
      "cell_type": "markdown",
      "source": [
        "This model gets **overfitted very fast**. The training stopped at **epoch 9** as the model started overfitting (shown by the validation loss). Resnet model shown a significantly higher accuracy and precision as compared to the in house CNN model. However, due to the small number of epoch, this model may be **overly complex**.\n",
        "\n",
        "The training accuracy and validation accuracy graph are shown below."
      ],
      "metadata": {
        "id": "SSMjo6Es4rUm"
      }
    },
    {
      "cell_type": "code",
      "source": [
        "plot_training_history(history_simpleRes)"
      ],
      "metadata": {
        "id": "Zn9XUczieoVY",
        "colab": {
          "base_uri": "https://localhost:8080/",
          "height": 338
        },
        "outputId": "dc8dbb2e-10a3-4ce9-a840-f2698422ba18"
      },
      "execution_count": null,
      "outputs": [
        {
          "output_type": "display_data",
          "data": {
            "text/plain": [
              "<Figure size 1200x600 with 2 Axes>"
            ],
            "image/png": "[encoded data removed]"
          },
          "metadata": {}
        }
      ]
    },
    {
      "cell_type": "markdown",
      "source": [
        "There are significant fluctuation in valiation accuracy and loss throughout the training process. The model is not very stable."
      ],
      "metadata": {
        "id": "0OqGGWfJ4_gh"
      }
    },
    {
      "cell_type": "code",
      "source": [
        "# Increasing rate\n",
        "train_rate_res, val_rate_res = calculate_accuracy_increase_rate(history_simpleRes)\n",
        "print(\"Training Accuracy Increase Rate:\", train_rate_res)\n",
        "print(\"Validation Accuracy Increase Rate:\", val_rate_res)"
      ],
      "metadata": {
        "id": "ubZZ4EK_jRRD",
        "colab": {
          "base_uri": "https://localhost:8080/"
        },
        "outputId": "b6ca7223-7eaf-4c62-fb7f-4be95852c429"
      },
      "execution_count": null,
      "outputs": [
        {
          "output_type": "stream",
          "name": "stdout",
          "text": [
            "Training Accuracy Increase Rate: 0.002520158886909485\n",
            "Validation Accuracy Increase Rate: -0.002531886100769043\n"
          ]
        }
      ]
    },
    {
      "cell_type": "markdown",
      "source": [
        "Interestingly, a negative learning rate is on validation is shown. Indicating a lower validation accuracy at the end of training."
      ],
      "metadata": {
        "id": "z-jnRB-Z5Qhz"
      }
    },
    {
      "cell_type": "markdown",
      "source": [
        "Then, the model is evaluated on the test data"
      ],
      "metadata": {
        "id": "3dsnCQQo5aCe"
      }
    },
    {
      "cell_type": "code",
      "source": [
        "# Test the model with the test data\n",
        "test_loss_res, test_accuracy_res = model_resnet.evaluate(test_generator)\n",
        "\n",
        "print(f\"Test Loss: {test_loss_res:.4f}\")\n",
        "print(f\"Test Accuracy: {test_accuracy_res:.4f}\")"
      ],
      "metadata": {
        "id": "nU0BSx5cqIvH",
        "colab": {
          "base_uri": "https://localhost:8080/"
        },
        "outputId": "480fa5eb-74fa-4f71-8a14-17eebc12b04b"
      },
      "execution_count": null,
      "outputs": [
        {
          "output_type": "stream",
          "name": "stdout",
          "text": [
            "394/394 [==============================] - 24s 60ms/step - loss: 0.2062 - accuracy: 0.9475\n",
            "Test Loss: 0.2062\n",
            "Test Accuracy: 0.9475\n"
          ]
        }
      ]
    },
    {
      "cell_type": "code",
      "source": [
        "# Make predictions on the test data\n",
        "test_pred_res = model_resnet.predict(test_generator)\n",
        "\n",
        "# Convert one-hot encoded predictions back to class labels\n",
        "pred_labels_res = np.argmax(test_pred_res, axis=1)\n",
        "\n",
        "# Calculate the precision score\n",
        "precision_res = precision_score(true_labels, pred_labels_res, average='weighted')\n",
        "\n",
        "print(f\"Precision Score: {precision_res:.4f}\")"
      ],
      "metadata": {
        "id": "pRYMAq09qSus",
        "colab": {
          "base_uri": "https://localhost:8080/"
        },
        "outputId": "4898a5a1-e77d-400c-af0b-0ed4d2e0d888"
      },
      "execution_count": null,
      "outputs": [
        {
          "output_type": "stream",
          "name": "stdout",
          "text": [
            "394/394 [==============================] - 30s 74ms/step\n",
            "Precision Score: 0.9504\n"
          ]
        }
      ]
    },
    {
      "cell_type": "code",
      "source": [
        "# Generate a classification report\n",
        "class_rep_res = classification_report(true_labels, pred_labels_res, target_names=class_names)\n",
        "\n",
        "print(\"Classification Report:\\n\", class_rep_res)"
      ],
      "metadata": {
        "id": "2DxGUG22tefV",
        "colab": {
          "base_uri": "https://localhost:8080/"
        },
        "outputId": "0cad673b-1b31-4bff-a4f6-8e3781e15684"
      },
      "execution_count": null,
      "outputs": [
        {
          "output_type": "stream",
          "name": "stdout",
          "text": [
            "Classification Report:\n",
            "               precision    recall  f1-score   support\n",
            "\n",
            "           0       1.00      0.89      0.94       293\n",
            "           1       0.99      0.98      0.99       293\n",
            "           2       0.98      0.97      0.98       293\n",
            "           3       0.93      0.91      0.92       293\n",
            "           4       1.00      0.87      0.93       293\n",
            "           5       0.97      1.00      0.98       293\n",
            "           6       0.98      1.00      0.99       293\n",
            "           7       0.99      1.00      0.99       293\n",
            "           8       0.99      0.98      0.99       293\n",
            "           9       0.98      1.00      0.99       293\n",
            "          10       1.00      0.92      0.96       293\n",
            "          11       0.97      1.00      0.99       293\n",
            "          12       0.96      1.00      0.98       293\n",
            "          13       0.89      1.00      0.94       293\n",
            "          14       0.97      0.88      0.92       293\n",
            "          15       0.99      0.75      0.86       293\n",
            "          16       0.94      0.94      0.94       293\n",
            "          17       0.94      0.97      0.95       293\n",
            "          18       0.95      0.95      0.95       293\n",
            "          19       0.94      0.95      0.95       293\n",
            "          20       0.95      0.84      0.89       293\n",
            "          21       0.87      0.98      0.92       293\n",
            "          22       0.93      0.98      0.95       293\n",
            "          23       1.00      0.92      0.96       293\n",
            "          24       0.86      0.93      0.90       293\n",
            "          25       0.93      0.95      0.94       293\n",
            "          26       0.92      1.00      0.96       293\n",
            "          27       1.00      0.97      0.98       293\n",
            "          28       0.95      1.00      0.97       293\n",
            "          29       1.00      0.95      0.97       293\n",
            "          30       0.94      0.88      0.91       293\n",
            "          31       0.90      0.95      0.92       293\n",
            "          32       0.89      1.00      0.94       293\n",
            "          33       0.98      0.99      0.99       293\n",
            "          34       0.97      0.97      0.97       293\n",
            "          35       0.94      0.92      0.93       293\n",
            "          36       0.97      0.92      0.95       293\n",
            "          37       1.00      0.78      0.87       293\n",
            "          38       0.86      1.00      0.93       293\n",
            "          39       0.81      0.91      0.86       293\n",
            "          40       0.99      0.97      0.98       293\n",
            "          41       0.88      0.99      0.93       293\n",
            "          42       0.96      1.00      0.98       293\n",
            "\n",
            "    accuracy                           0.95     12599\n",
            "   macro avg       0.95      0.95      0.95     12599\n",
            "weighted avg       0.95      0.95      0.95     12599\n",
            "\n"
          ]
        }
      ]
    },
    {
      "cell_type": "markdown",
      "source": [
        "Despite of the poor training process, the model generally performs well on testing data the test accuracy of 94.75% and test precision of 95.04%. One reason for it could be due to the good quality of image data after enhancement making the pretrained resnet model a ideal choice.\n",
        "\n",
        "It is also noted that many classes has **perfect precision score** and close to perfect F1 score.\n",
        "\n",
        "With more fine tuning, this model has very good potentials."
      ],
      "metadata": {
        "id": "NmzmMsru5ccx"
      }
    },
    {
      "cell_type": "markdown",
      "source": [
        "**<h2>Model 2: Adding more complexity to ResNet model</h2>**\n",
        "\n"
      ],
      "metadata": {
        "id": "me2jCS4-t0Vj"
      }
    },
    {
      "cell_type": "markdown",
      "source": [
        "More complexity is added to the model base on ResNet with regularization added:\n",
        "\n",
        "*   Added **more Dense layers** with increasing filters to capture more complex features\n",
        "\n",
        "*   Added **batch normalization** layers after each convolutional and dense layer to help stabilize training. (Recommended in chapter 7.3.1 Advanced architechtures in Deep Learning with Python, Francois Chollet)"
      ],
      "metadata": {
        "id": "jjUFO2mmT4RJ"
      }
    },
    {
      "cell_type": "markdown",
      "source": [
        "This implementation is still a **transfered learning** of the original ResNet50 model."
      ],
      "metadata": {
        "id": "tp9GqQVo6rGH"
      }
    },
    {
      "cell_type": "code",
      "source": [
        "# Define the ResNet50 base model\n",
        "input_layer = Input(shape=(128, 128, 3))\n",
        "base_model = ResNet50(weights='imagenet', include_top=False, input_tensor=input_layer)"
      ],
      "metadata": {
        "id": "tDXoEunCWXr7"
      },
      "execution_count": null,
      "outputs": []
    },
    {
      "cell_type": "code",
      "source": [
        "# Add custom head layers\n",
        "x = base_model.output\n",
        "x = GlobalAveragePooling2D()(x)  # Apply Global Average Pooling to the 4D tensor\n",
        "x = Dense(256, activation='relu', kernel_regularizer=regularizers.l2(0.001))(x)  # Add L2 regularization\n",
        "x = BatchNormalization()(x)  # Add Batch Normalization\n",
        "x = Dropout(0.5)(x)  # Add Dropout for regularization\n",
        "x = Dense(128, activation='relu', kernel_regularizer=regularizers.l2(0.001))(x)  # Another dense layer with regularization\n",
        "x = BatchNormalization()(x)\n",
        "x = Dropout(0.5)(x)\n",
        "output_layer = Dense(num_classes, activation='softmax')(x)  # Use num_classes\n",
        "\n",
        "# Create the model\n",
        "model_resnet_complex = Model(inputs=base_model.input, outputs=output_layer)\n",
        "\n",
        "# Compile the model\n",
        "model_resnet_complex.compile(optimizer=Adam(), loss='categorical_crossentropy', metrics=['accuracy'])"
      ],
      "metadata": {
        "id": "B57Siq1yYQZL"
      },
      "execution_count": null,
      "outputs": []
    },
    {
      "cell_type": "markdown",
      "source": [
        "A simple summary of the model is displayed:"
      ],
      "metadata": {
        "id": "YrtNTutt60Jw"
      }
    },
    {
      "cell_type": "code",
      "source": [
        "model_resnet_complex.summary()"
      ],
      "metadata": {
        "colab": {
          "base_uri": "https://localhost:8080/"
        },
        "id": "BXOBt8CkYt9-",
        "outputId": "8a436e79-85df-444f-8b2f-3e4cdb2ccd4d"
      },
      "execution_count": null,
      "outputs": [
        {
          "output_type": "stream",
          "name": "stdout",
          "text": [
            "Model: \"model_1\"\n",
            "__________________________________________________________________________________________________\n",
            " Layer (type)                Output Shape                 Param #   Connected to                  \n",
            "==================================================================================================\n",
            " input_4 (InputLayer)        [(None, 128, 128, 3)]        0         []                            \n",
            "                                                                                                  \n",
            " conv1_pad (ZeroPadding2D)   (None, 134, 134, 3)          0         ['input_4[0][0]']             \n",
            "                                                                                                  \n",
            " conv1_conv (Conv2D)         (None, 64, 64, 64)           9472      ['conv1_pad[0][0]']           \n",
            "                                                                                                  \n",
            " conv1_bn (BatchNormalizati  (None, 64, 64, 64)           256       ['conv1_conv[0][0]']          \n",
            " on)                                                                                              \n",
            "                                                                                                  \n",
            " conv1_relu (Activation)     (None, 64, 64, 64)           0         ['conv1_bn[0][0]']            \n",
            "                                                                                                  \n",
            " pool1_pad (ZeroPadding2D)   (None, 66, 66, 64)           0         ['conv1_relu[0][0]']          \n",
            "                                                                                                  \n",
            " pool1_pool (MaxPooling2D)   (None, 32, 32, 64)           0         ['pool1_pad[0][0]']           \n",
            "                                                                                                  \n",
            " conv2_block1_1_conv (Conv2  (None, 32, 32, 64)           4160      ['pool1_pool[0][0]']          \n",
            " D)                                                                                               \n",
            "                                                                                                  \n",
            " conv2_block1_1_bn (BatchNo  (None, 32, 32, 64)           256       ['conv2_block1_1_conv[0][0]'] \n",
            " rmalization)                                                                                     \n",
            "                                                                                                  \n",
            " conv2_block1_1_relu (Activ  (None, 32, 32, 64)           0         ['conv2_block1_1_bn[0][0]']   \n",
            " ation)                                                                                           \n",
            "                                                                                                  \n",
            " conv2_block1_2_conv (Conv2  (None, 32, 32, 64)           36928     ['conv2_block1_1_relu[0][0]'] \n",
            " D)                                                                                               \n",
            "                                                                                                  \n",
            " conv2_block1_2_bn (BatchNo  (None, 32, 32, 64)           256       ['conv2_block1_2_conv[0][0]'] \n",
            " rmalization)                                                                                     \n",
            "                                                                                                  \n",
            " conv2_block1_2_relu (Activ  (None, 32, 32, 64)           0         ['conv2_block1_2_bn[0][0]']   \n",
            " ation)                                                                                           \n",
            "                                                                                                  \n",
            " conv2_block1_0_conv (Conv2  (None, 32, 32, 256)          16640     ['pool1_pool[0][0]']          \n",
            " D)                                                                                               \n",
            "                                                                                                  \n",
            " conv2_block1_3_conv (Conv2  (None, 32, 32, 256)          16640     ['conv2_block1_2_relu[0][0]'] \n",
            " D)                                                                                               \n",
            "                                                                                                  \n",
            " conv2_block1_0_bn (BatchNo  (None, 32, 32, 256)          1024      ['conv2_block1_0_conv[0][0]'] \n",
            " rmalization)                                                                                     \n",
            "                                                                                                  \n",
            " conv2_block1_3_bn (BatchNo  (None, 32, 32, 256)          1024      ['conv2_block1_3_conv[0][0]'] \n",
            " rmalization)                                                                                     \n",
            "                                                                                                  \n",
            " conv2_block1_add (Add)      (None, 32, 32, 256)          0         ['conv2_block1_0_bn[0][0]',   \n",
            "                                                                     'conv2_block1_3_bn[0][0]']   \n",
            "                                                                                                  \n",
            " conv2_block1_out (Activati  (None, 32, 32, 256)          0         ['conv2_block1_add[0][0]']    \n",
            " on)                                                                                              \n",
            "                                                                                                  \n",
            " conv2_block2_1_conv (Conv2  (None, 32, 32, 64)           16448     ['conv2_block1_out[0][0]']    \n",
            " D)                                                                                               \n",
            "                                                                                                  \n",
            " conv2_block2_1_bn (BatchNo  (None, 32, 32, 64)           256       ['conv2_block2_1_conv[0][0]'] \n",
            " rmalization)                                                                                     \n",
            "                                                                                                  \n",
            " conv2_block2_1_relu (Activ  (None, 32, 32, 64)           0         ['conv2_block2_1_bn[0][0]']   \n",
            " ation)                                                                                           \n",
            "                                                                                                  \n",
            " conv2_block2_2_conv (Conv2  (None, 32, 32, 64)           36928     ['conv2_block2_1_relu[0][0]'] \n",
            " D)                                                                                               \n",
            "                                                                                                  \n",
            " conv2_block2_2_bn (BatchNo  (None, 32, 32, 64)           256       ['conv2_block2_2_conv[0][0]'] \n",
            " rmalization)                                                                                     \n",
            "                                                                                                  \n",
            " conv2_block2_2_relu (Activ  (None, 32, 32, 64)           0         ['conv2_block2_2_bn[0][0]']   \n",
            " ation)                                                                                           \n",
            "                                                                                                  \n",
            " conv2_block2_3_conv (Conv2  (None, 32, 32, 256)          16640     ['conv2_block2_2_relu[0][0]'] \n",
            " D)                                                                                               \n",
            "                                                                                                  \n",
            " conv2_block2_3_bn (BatchNo  (None, 32, 32, 256)          1024      ['conv2_block2_3_conv[0][0]'] \n",
            " rmalization)                                                                                     \n",
            "                                                                                                  \n",
            " conv2_block2_add (Add)      (None, 32, 32, 256)          0         ['conv2_block1_out[0][0]',    \n",
            "                                                                     'conv2_block2_3_bn[0][0]']   \n",
            "                                                                                                  \n",
            " conv2_block2_out (Activati  (None, 32, 32, 256)          0         ['conv2_block2_add[0][0]']    \n",
            " on)                                                                                              \n",
            "                                                                                                  \n",
            " conv2_block3_1_conv (Conv2  (None, 32, 32, 64)           16448     ['conv2_block2_out[0][0]']    \n",
            " D)                                                                                               \n",
            "                                                                                                  \n",
            " conv2_block3_1_bn (BatchNo  (None, 32, 32, 64)           256       ['conv2_block3_1_conv[0][0]'] \n",
            " rmalization)                                                                                     \n",
            "                                                                                                  \n",
            " conv2_block3_1_relu (Activ  (None, 32, 32, 64)           0         ['conv2_block3_1_bn[0][0]']   \n",
            " ation)                                                                                           \n",
            "                                                                                                  \n",
            " conv2_block3_2_conv (Conv2  (None, 32, 32, 64)           36928     ['conv2_block3_1_relu[0][0]'] \n",
            " D)                                                                                               \n",
            "                                                                                                  \n",
            " conv2_block3_2_bn (BatchNo  (None, 32, 32, 64)           256       ['conv2_block3_2_conv[0][0]'] \n",
            " rmalization)                                                                                     \n",
            "                                                                                                  \n",
            " conv2_block3_2_relu (Activ  (None, 32, 32, 64)           0         ['conv2_block3_2_bn[0][0]']   \n",
            " ation)                                                                                           \n",
            "                                                                                                  \n",
            " conv2_block3_3_conv (Conv2  (None, 32, 32, 256)          16640     ['conv2_block3_2_relu[0][0]'] \n",
            " D)                                                                                               \n",
            "                                                                                                  \n",
            " conv2_block3_3_bn (BatchNo  (None, 32, 32, 256)          1024      ['conv2_block3_3_conv[0][0]'] \n",
            " rmalization)                                                                                     \n",
            "                                                                                                  \n",
            " conv2_block3_add (Add)      (None, 32, 32, 256)          0         ['conv2_block2_out[0][0]',    \n",
            "                                                                     'conv2_block3_3_bn[0][0]']   \n",
            "                                                                                                  \n",
            " conv2_block3_out (Activati  (None, 32, 32, 256)          0         ['conv2_block3_add[0][0]']    \n",
            " on)                                                                                              \n",
            "                                                                                                  \n",
            " conv3_block1_1_conv (Conv2  (None, 16, 16, 128)          32896     ['conv2_block3_out[0][0]']    \n",
            " D)                                                                                               \n",
            "                                                                                                  \n",
            " conv3_block1_1_bn (BatchNo  (None, 16, 16, 128)          512       ['conv3_block1_1_conv[0][0]'] \n",
            " rmalization)                                                                                     \n",
            "                                                                                                  \n",
            " conv3_block1_1_relu (Activ  (None, 16, 16, 128)          0         ['conv3_block1_1_bn[0][0]']   \n",
            " ation)                                                                                           \n",
            "                                                                                                  \n",
            " conv3_block1_2_conv (Conv2  (None, 16, 16, 128)          147584    ['conv3_block1_1_relu[0][0]'] \n",
            " D)                                                                                               \n",
            "                                                                                                  \n",
            " conv3_block1_2_bn (BatchNo  (None, 16, 16, 128)          512       ['conv3_block1_2_conv[0][0]'] \n",
            " rmalization)                                                                                     \n",
            "                                                                                                  \n",
            " conv3_block1_2_relu (Activ  (None, 16, 16, 128)          0         ['conv3_block1_2_bn[0][0]']   \n",
            " ation)                                                                                           \n",
            "                                                                                                  \n",
            " conv3_block1_0_conv (Conv2  (None, 16, 16, 512)          131584    ['conv2_block3_out[0][0]']    \n",
            " D)                                                                                               \n",
            "                                                                                                  \n",
            " conv3_block1_3_conv (Conv2  (None, 16, 16, 512)          66048     ['conv3_block1_2_relu[0][0]'] \n",
            " D)                                                                                               \n",
            "                                                                                                  \n",
            " conv3_block1_0_bn (BatchNo  (None, 16, 16, 512)          2048      ['conv3_block1_0_conv[0][0]'] \n",
            " rmalization)                                                                                     \n",
            "                                                                                                  \n",
            " conv3_block1_3_bn (BatchNo  (None, 16, 16, 512)          2048      ['conv3_block1_3_conv[0][0]'] \n",
            " rmalization)                                                                                     \n",
            "                                                                                                  \n",
            " conv3_block1_add (Add)      (None, 16, 16, 512)          0         ['conv3_block1_0_bn[0][0]',   \n",
            "                                                                     'conv3_block1_3_bn[0][0]']   \n",
            "                                                                                                  \n",
            " conv3_block1_out (Activati  (None, 16, 16, 512)          0         ['conv3_block1_add[0][0]']    \n",
            " on)                                                                                              \n",
            "                                                                                                  \n",
            " conv3_block2_1_conv (Conv2  (None, 16, 16, 128)          65664     ['conv3_block1_out[0][0]']    \n",
            " D)                                                                                               \n",
            "                                                                                                  \n",
            " conv3_block2_1_bn (BatchNo  (None, 16, 16, 128)          512       ['conv3_block2_1_conv[0][0]'] \n",
            " rmalization)                                                                                     \n",
            "                                                                                                  \n",
            " conv3_block2_1_relu (Activ  (None, 16, 16, 128)          0         ['conv3_block2_1_bn[0][0]']   \n",
            " ation)                                                                                           \n",
            "                                                                                                  \n",
            " conv3_block2_2_conv (Conv2  (None, 16, 16, 128)          147584    ['conv3_block2_1_relu[0][0]'] \n",
            " D)                                                                                               \n",
            "                                                                                                  \n",
            " conv3_block2_2_bn (BatchNo  (None, 16, 16, 128)          512       ['conv3_block2_2_conv[0][0]'] \n",
            " rmalization)                                                                                     \n",
            "                                                                                                  \n",
            " conv3_block2_2_relu (Activ  (None, 16, 16, 128)          0         ['conv3_block2_2_bn[0][0]']   \n",
            " ation)                                                                                           \n",
            "                                                                                                  \n",
            " conv3_block2_3_conv (Conv2  (None, 16, 16, 512)          66048     ['conv3_block2_2_relu[0][0]'] \n",
            " D)                                                                                               \n",
            "                                                                                                  \n",
            " conv3_block2_3_bn (BatchNo  (None, 16, 16, 512)          2048      ['conv3_block2_3_conv[0][0]'] \n",
            " rmalization)                                                                                     \n",
            "                                                                                                  \n",
            " conv3_block2_add (Add)      (None, 16, 16, 512)          0         ['conv3_block1_out[0][0]',    \n",
            "                                                                     'conv3_block2_3_bn[0][0]']   \n",
            "                                                                                                  \n",
            " conv3_block2_out (Activati  (None, 16, 16, 512)          0         ['conv3_block2_add[0][0]']    \n",
            " on)                                                                                              \n",
            "                                                                                                  \n",
            " conv3_block3_1_conv (Conv2  (None, 16, 16, 128)          65664     ['conv3_block2_out[0][0]']    \n",
            " D)                                                                                               \n",
            "                                                                                                  \n",
            " conv3_block3_1_bn (BatchNo  (None, 16, 16, 128)          512       ['conv3_block3_1_conv[0][0]'] \n",
            " rmalization)                                                                                     \n",
            "                                                                                                  \n",
            " conv3_block3_1_relu (Activ  (None, 16, 16, 128)          0         ['conv3_block3_1_bn[0][0]']   \n",
            " ation)                                                                                           \n",
            "                                                                                                  \n",
            " conv3_block3_2_conv (Conv2  (None, 16, 16, 128)          147584    ['conv3_block3_1_relu[0][0]'] \n",
            " D)                                                                                               \n",
            "                                                                                                  \n",
            " conv3_block3_2_bn (BatchNo  (None, 16, 16, 128)          512       ['conv3_block3_2_conv[0][0]'] \n",
            " rmalization)                                                                                     \n",
            "                                                                                                  \n",
            " conv3_block3_2_relu (Activ  (None, 16, 16, 128)          0         ['conv3_block3_2_bn[0][0]']   \n",
            " ation)                                                                                           \n",
            "                                                                                                  \n",
            " conv3_block3_3_conv (Conv2  (None, 16, 16, 512)          66048     ['conv3_block3_2_relu[0][0]'] \n",
            " D)                                                                                               \n",
            "                                                                                                  \n",
            " conv3_block3_3_bn (BatchNo  (None, 16, 16, 512)          2048      ['conv3_block3_3_conv[0][0]'] \n",
            " rmalization)                                                                                     \n",
            "                                                                                                  \n",
            " conv3_block3_add (Add)      (None, 16, 16, 512)          0         ['conv3_block2_out[0][0]',    \n",
            "                                                                     'conv3_block3_3_bn[0][0]']   \n",
            "                                                                                                  \n",
            " conv3_block3_out (Activati  (None, 16, 16, 512)          0         ['conv3_block3_add[0][0]']    \n",
            " on)                                                                                              \n",
            "                                                                                                  \n",
            " conv3_block4_1_conv (Conv2  (None, 16, 16, 128)          65664     ['conv3_block3_out[0][0]']    \n",
            " D)                                                                                               \n",
            "                                                                                                  \n",
            " conv3_block4_1_bn (BatchNo  (None, 16, 16, 128)          512       ['conv3_block4_1_conv[0][0]'] \n",
            " rmalization)                                                                                     \n",
            "                                                                                                  \n",
            " conv3_block4_1_relu (Activ  (None, 16, 16, 128)          0         ['conv3_block4_1_bn[0][0]']   \n",
            " ation)                                                                                           \n",
            "                                                                                                  \n",
            " conv3_block4_2_conv (Conv2  (None, 16, 16, 128)          147584    ['conv3_block4_1_relu[0][0]'] \n",
            " D)                                                                                               \n",
            "                                                                                                  \n",
            " conv3_block4_2_bn (BatchNo  (None, 16, 16, 128)          512       ['conv3_block4_2_conv[0][0]'] \n",
            " rmalization)                                                                                     \n",
            "                                                                                                  \n",
            " conv3_block4_2_relu (Activ  (None, 16, 16, 128)          0         ['conv3_block4_2_bn[0][0]']   \n",
            " ation)                                                                                           \n",
            "                                                                                                  \n",
            " conv3_block4_3_conv (Conv2  (None, 16, 16, 512)          66048     ['conv3_block4_2_relu[0][0]'] \n",
            " D)                                                                                               \n",
            "                                                                                                  \n",
            " conv3_block4_3_bn (BatchNo  (None, 16, 16, 512)          2048      ['conv3_block4_3_conv[0][0]'] \n",
            " rmalization)                                                                                     \n",
            "                                                                                                  \n",
            " conv3_block4_add (Add)      (None, 16, 16, 512)          0         ['conv3_block3_out[0][0]',    \n",
            "                                                                     'conv3_block4_3_bn[0][0]']   \n",
            "                                                                                                  \n",
            " conv3_block4_out (Activati  (None, 16, 16, 512)          0         ['conv3_block4_add[0][0]']    \n",
            " on)                                                                                              \n",
            "                                                                                                  \n",
            " conv4_block1_1_conv (Conv2  (None, 8, 8, 256)            131328    ['conv3_block4_out[0][0]']    \n",
            " D)                                                                                               \n",
            "                                                                                                  \n",
            " conv4_block1_1_bn (BatchNo  (None, 8, 8, 256)            1024      ['conv4_block1_1_conv[0][0]'] \n",
            " rmalization)                                                                                     \n",
            "                                                                                                  \n",
            " conv4_block1_1_relu (Activ  (None, 8, 8, 256)            0         ['conv4_block1_1_bn[0][0]']   \n",
            " ation)                                                                                           \n",
            "                                                                                                  \n",
            " conv4_block1_2_conv (Conv2  (None, 8, 8, 256)            590080    ['conv4_block1_1_relu[0][0]'] \n",
            " D)                                                                                               \n",
            "                                                                                                  \n",
            " conv4_block1_2_bn (BatchNo  (None, 8, 8, 256)            1024      ['conv4_block1_2_conv[0][0]'] \n",
            " rmalization)                                                                                     \n",
            "                                                                                                  \n",
            " conv4_block1_2_relu (Activ  (None, 8, 8, 256)            0         ['conv4_block1_2_bn[0][0]']   \n",
            " ation)                                                                                           \n",
            "                                                                                                  \n",
            " conv4_block1_0_conv (Conv2  (None, 8, 8, 1024)           525312    ['conv3_block4_out[0][0]']    \n",
            " D)                                                                                               \n",
            "                                                                                                  \n",
            " conv4_block1_3_conv (Conv2  (None, 8, 8, 1024)           263168    ['conv4_block1_2_relu[0][0]'] \n",
            " D)                                                                                               \n",
            "                                                                                                  \n",
            " conv4_block1_0_bn (BatchNo  (None, 8, 8, 1024)           4096      ['conv4_block1_0_conv[0][0]'] \n",
            " rmalization)                                                                                     \n",
            "                                                                                                  \n",
            " conv4_block1_3_bn (BatchNo  (None, 8, 8, 1024)           4096      ['conv4_block1_3_conv[0][0]'] \n",
            " rmalization)                                                                                     \n",
            "                                                                                                  \n",
            " conv4_block1_add (Add)      (None, 8, 8, 1024)           0         ['conv4_block1_0_bn[0][0]',   \n",
            "                                                                     'conv4_block1_3_bn[0][0]']   \n",
            "                                                                                                  \n",
            " conv4_block1_out (Activati  (None, 8, 8, 1024)           0         ['conv4_block1_add[0][0]']    \n",
            " on)                                                                                              \n",
            "                                                                                                  \n",
            " conv4_block2_1_conv (Conv2  (None, 8, 8, 256)            262400    ['conv4_block1_out[0][0]']    \n",
            " D)                                                                                               \n",
            "                                                                                                  \n",
            " conv4_block2_1_bn (BatchNo  (None, 8, 8, 256)            1024      ['conv4_block2_1_conv[0][0]'] \n",
            " rmalization)                                                                                     \n",
            "                                                                                                  \n",
            " conv4_block2_1_relu (Activ  (None, 8, 8, 256)            0         ['conv4_block2_1_bn[0][0]']   \n",
            " ation)                                                                                           \n",
            "                                                                                                  \n",
            " conv4_block2_2_conv (Conv2  (None, 8, 8, 256)            590080    ['conv4_block2_1_relu[0][0]'] \n",
            " D)                                                                                               \n",
            "                                                                                                  \n",
            " conv4_block2_2_bn (BatchNo  (None, 8, 8, 256)            1024      ['conv4_block2_2_conv[0][0]'] \n",
            " rmalization)                                                                                     \n",
            "                                                                                                  \n",
            " conv4_block2_2_relu (Activ  (None, 8, 8, 256)            0         ['conv4_block2_2_bn[0][0]']   \n",
            " ation)                                                                                           \n",
            "                                                                                                  \n",
            " conv4_block2_3_conv (Conv2  (None, 8, 8, 1024)           263168    ['conv4_block2_2_relu[0][0]'] \n",
            " D)                                                                                               \n",
            "                                                                                                  \n",
            " conv4_block2_3_bn (BatchNo  (None, 8, 8, 1024)           4096      ['conv4_block2_3_conv[0][0]'] \n",
            " rmalization)                                                                                     \n",
            "                                                                                                  \n",
            " conv4_block2_add (Add)      (None, 8, 8, 1024)           0         ['conv4_block1_out[0][0]',    \n",
            "                                                                     'conv4_block2_3_bn[0][0]']   \n",
            "                                                                                                  \n",
            " conv4_block2_out (Activati  (None, 8, 8, 1024)           0         ['conv4_block2_add[0][0]']    \n",
            " on)                                                                                              \n",
            "                                                                                                  \n",
            " conv4_block3_1_conv (Conv2  (None, 8, 8, 256)            262400    ['conv4_block2_out[0][0]']    \n",
            " D)                                                                                               \n",
            "                                                                                                  \n",
            " conv4_block3_1_bn (BatchNo  (None, 8, 8, 256)            1024      ['conv4_block3_1_conv[0][0]'] \n",
            " rmalization)                                                                                     \n",
            "                                                                                                  \n",
            " conv4_block3_1_relu (Activ  (None, 8, 8, 256)            0         ['conv4_block3_1_bn[0][0]']   \n",
            " ation)                                                                                           \n",
            "                                                                                                  \n",
            " conv4_block3_2_conv (Conv2  (None, 8, 8, 256)            590080    ['conv4_block3_1_relu[0][0]'] \n",
            " D)                                                                                               \n",
            "                                                                                                  \n",
            " conv4_block3_2_bn (BatchNo  (None, 8, 8, 256)            1024      ['conv4_block3_2_conv[0][0]'] \n",
            " rmalization)                                                                                     \n",
            "                                                                                                  \n",
            " conv4_block3_2_relu (Activ  (None, 8, 8, 256)            0         ['conv4_block3_2_bn[0][0]']   \n",
            " ation)                                                                                           \n",
            "                                                                                                  \n",
            " conv4_block3_3_conv (Conv2  (None, 8, 8, 1024)           263168    ['conv4_block3_2_relu[0][0]'] \n",
            " D)                                                                                               \n",
            "                                                                                                  \n",
            " conv4_block3_3_bn (BatchNo  (None, 8, 8, 1024)           4096      ['conv4_block3_3_conv[0][0]'] \n",
            " rmalization)                                                                                     \n",
            "                                                                                                  \n",
            " conv4_block3_add (Add)      (None, 8, 8, 1024)           0         ['conv4_block2_out[0][0]',    \n",
            "                                                                     'conv4_block3_3_bn[0][0]']   \n",
            "                                                                                                  \n",
            " conv4_block3_out (Activati  (None, 8, 8, 1024)           0         ['conv4_block3_add[0][0]']    \n",
            " on)                                                                                              \n",
            "                                                                                                  \n",
            " conv4_block4_1_conv (Conv2  (None, 8, 8, 256)            262400    ['conv4_block3_out[0][0]']    \n",
            " D)                                                                                               \n",
            "                                                                                                  \n",
            " conv4_block4_1_bn (BatchNo  (None, 8, 8, 256)            1024      ['conv4_block4_1_conv[0][0]'] \n",
            " rmalization)                                                                                     \n",
            "                                                                                                  \n",
            " conv4_block4_1_relu (Activ  (None, 8, 8, 256)            0         ['conv4_block4_1_bn[0][0]']   \n",
            " ation)                                                                                           \n",
            "                                                                                                  \n",
            " conv4_block4_2_conv (Conv2  (None, 8, 8, 256)            590080    ['conv4_block4_1_relu[0][0]'] \n",
            " D)                                                                                               \n",
            "                                                                                                  \n",
            " conv4_block4_2_bn (BatchNo  (None, 8, 8, 256)            1024      ['conv4_block4_2_conv[0][0]'] \n",
            " rmalization)                                                                                     \n",
            "                                                                                                  \n",
            " conv4_block4_2_relu (Activ  (None, 8, 8, 256)            0         ['conv4_block4_2_bn[0][0]']   \n",
            " ation)                                                                                           \n",
            "                                                                                                  \n",
            " conv4_block4_3_conv (Conv2  (None, 8, 8, 1024)           263168    ['conv4_block4_2_relu[0][0]'] \n",
            " D)                                                                                               \n",
            "                                                                                                  \n",
            " conv4_block4_3_bn (BatchNo  (None, 8, 8, 1024)           4096      ['conv4_block4_3_conv[0][0]'] \n",
            " rmalization)                                                                                     \n",
            "                                                                                                  \n",
            " conv4_block4_add (Add)      (None, 8, 8, 1024)           0         ['conv4_block3_out[0][0]',    \n",
            "                                                                     'conv4_block4_3_bn[0][0]']   \n",
            "                                                                                                  \n",
            " conv4_block4_out (Activati  (None, 8, 8, 1024)           0         ['conv4_block4_add[0][0]']    \n",
            " on)                                                                                              \n",
            "                                                                                                  \n",
            " conv4_block5_1_conv (Conv2  (None, 8, 8, 256)            262400    ['conv4_block4_out[0][0]']    \n",
            " D)                                                                                               \n",
            "                                                                                                  \n",
            " conv4_block5_1_bn (BatchNo  (None, 8, 8, 256)            1024      ['conv4_block5_1_conv[0][0]'] \n",
            " rmalization)                                                                                     \n",
            "                                                                                                  \n",
            " conv4_block5_1_relu (Activ  (None, 8, 8, 256)            0         ['conv4_block5_1_bn[0][0]']   \n",
            " ation)                                                                                           \n",
            "                                                                                                  \n",
            " conv4_block5_2_conv (Conv2  (None, 8, 8, 256)            590080    ['conv4_block5_1_relu[0][0]'] \n",
            " D)                                                                                               \n",
            "                                                                                                  \n",
            " conv4_block5_2_bn (BatchNo  (None, 8, 8, 256)            1024      ['conv4_block5_2_conv[0][0]'] \n",
            " rmalization)                                                                                     \n",
            "                                                                                                  \n",
            " conv4_block5_2_relu (Activ  (None, 8, 8, 256)            0         ['conv4_block5_2_bn[0][0]']   \n",
            " ation)                                                                                           \n",
            "                                                                                                  \n",
            " conv4_block5_3_conv (Conv2  (None, 8, 8, 1024)           263168    ['conv4_block5_2_relu[0][0]'] \n",
            " D)                                                                                               \n",
            "                                                                                                  \n",
            " conv4_block5_3_bn (BatchNo  (None, 8, 8, 1024)           4096      ['conv4_block5_3_conv[0][0]'] \n",
            " rmalization)                                                                                     \n",
            "                                                                                                  \n",
            " conv4_block5_add (Add)      (None, 8, 8, 1024)           0         ['conv4_block4_out[0][0]',    \n",
            "                                                                     'conv4_block5_3_bn[0][0]']   \n",
            "                                                                                                  \n",
            " conv4_block5_out (Activati  (None, 8, 8, 1024)           0         ['conv4_block5_add[0][0]']    \n",
            " on)                                                                                              \n",
            "                                                                                                  \n",
            " conv4_block6_1_conv (Conv2  (None, 8, 8, 256)            262400    ['conv4_block5_out[0][0]']    \n",
            " D)                                                                                               \n",
            "                                                                                                  \n",
            " conv4_block6_1_bn (BatchNo  (None, 8, 8, 256)            1024      ['conv4_block6_1_conv[0][0]'] \n",
            " rmalization)                                                                                     \n",
            "                                                                                                  \n",
            " conv4_block6_1_relu (Activ  (None, 8, 8, 256)            0         ['conv4_block6_1_bn[0][0]']   \n",
            " ation)                                                                                           \n",
            "                                                                                                  \n",
            " conv4_block6_2_conv (Conv2  (None, 8, 8, 256)            590080    ['conv4_block6_1_relu[0][0]'] \n",
            " D)                                                                                               \n",
            "                                                                                                  \n",
            " conv4_block6_2_bn (BatchNo  (None, 8, 8, 256)            1024      ['conv4_block6_2_conv[0][0]'] \n",
            " rmalization)                                                                                     \n",
            "                                                                                                  \n",
            " conv4_block6_2_relu (Activ  (None, 8, 8, 256)            0         ['conv4_block6_2_bn[0][0]']   \n",
            " ation)                                                                                           \n",
            "                                                                                                  \n",
            " conv4_block6_3_conv (Conv2  (None, 8, 8, 1024)           263168    ['conv4_block6_2_relu[0][0]'] \n",
            " D)                                                                                               \n",
            "                                                                                                  \n",
            " conv4_block6_3_bn (BatchNo  (None, 8, 8, 1024)           4096      ['conv4_block6_3_conv[0][0]'] \n",
            " rmalization)                                                                                     \n",
            "                                                                                                  \n",
            " conv4_block6_add (Add)      (None, 8, 8, 1024)           0         ['conv4_block5_out[0][0]',    \n",
            "                                                                     'conv4_block6_3_bn[0][0]']   \n",
            "                                                                                                  \n",
            " conv4_block6_out (Activati  (None, 8, 8, 1024)           0         ['conv4_block6_add[0][0]']    \n",
            " on)                                                                                              \n",
            "                                                                                                  \n",
            " conv5_block1_1_conv (Conv2  (None, 4, 4, 512)            524800    ['conv4_block6_out[0][0]']    \n",
            " D)                                                                                               \n",
            "                                                                                                  \n",
            " conv5_block1_1_bn (BatchNo  (None, 4, 4, 512)            2048      ['conv5_block1_1_conv[0][0]'] \n",
            " rmalization)                                                                                     \n",
            "                                                                                                  \n",
            " conv5_block1_1_relu (Activ  (None, 4, 4, 512)            0         ['conv5_block1_1_bn[0][0]']   \n",
            " ation)                                                                                           \n",
            "                                                                                                  \n",
            " conv5_block1_2_conv (Conv2  (None, 4, 4, 512)            2359808   ['conv5_block1_1_relu[0][0]'] \n",
            " D)                                                                                               \n",
            "                                                                                                  \n",
            " conv5_block1_2_bn (BatchNo  (None, 4, 4, 512)            2048      ['conv5_block1_2_conv[0][0]'] \n",
            " rmalization)                                                                                     \n",
            "                                                                                                  \n",
            " conv5_block1_2_relu (Activ  (None, 4, 4, 512)            0         ['conv5_block1_2_bn[0][0]']   \n",
            " ation)                                                                                           \n",
            "                                                                                                  \n",
            " conv5_block1_0_conv (Conv2  (None, 4, 4, 2048)           2099200   ['conv4_block6_out[0][0]']    \n",
            " D)                                                                                               \n",
            "                                                                                                  \n",
            " conv5_block1_3_conv (Conv2  (None, 4, 4, 2048)           1050624   ['conv5_block1_2_relu[0][0]'] \n",
            " D)                                                                                               \n",
            "                                                                                                  \n",
            " conv5_block1_0_bn (BatchNo  (None, 4, 4, 2048)           8192      ['conv5_block1_0_conv[0][0]'] \n",
            " rmalization)                                                                                     \n",
            "                                                                                                  \n",
            " conv5_block1_3_bn (BatchNo  (None, 4, 4, 2048)           8192      ['conv5_block1_3_conv[0][0]'] \n",
            " rmalization)                                                                                     \n",
            "                                                                                                  \n",
            " conv5_block1_add (Add)      (None, 4, 4, 2048)           0         ['conv5_block1_0_bn[0][0]',   \n",
            "                                                                     'conv5_block1_3_bn[0][0]']   \n",
            "                                                                                                  \n",
            " conv5_block1_out (Activati  (None, 4, 4, 2048)           0         ['conv5_block1_add[0][0]']    \n",
            " on)                                                                                              \n",
            "                                                                                                  \n",
            " conv5_block2_1_conv (Conv2  (None, 4, 4, 512)            1049088   ['conv5_block1_out[0][0]']    \n",
            " D)                                                                                               \n",
            "                                                                                                  \n",
            " conv5_block2_1_bn (BatchNo  (None, 4, 4, 512)            2048      ['conv5_block2_1_conv[0][0]'] \n",
            " rmalization)                                                                                     \n",
            "                                                                                                  \n",
            " conv5_block2_1_relu (Activ  (None, 4, 4, 512)            0         ['conv5_block2_1_bn[0][0]']   \n",
            " ation)                                                                                           \n",
            "                                                                                                  \n",
            " conv5_block2_2_conv (Conv2  (None, 4, 4, 512)            2359808   ['conv5_block2_1_relu[0][0]'] \n",
            " D)                                                                                               \n",
            "                                                                                                  \n",
            " conv5_block2_2_bn (BatchNo  (None, 4, 4, 512)            2048      ['conv5_block2_2_conv[0][0]'] \n",
            " rmalization)                                                                                     \n",
            "                                                                                                  \n",
            " conv5_block2_2_relu (Activ  (None, 4, 4, 512)            0         ['conv5_block2_2_bn[0][0]']   \n",
            " ation)                                                                                           \n",
            "                                                                                                  \n",
            " conv5_block2_3_conv (Conv2  (None, 4, 4, 2048)           1050624   ['conv5_block2_2_relu[0][0]'] \n",
            " D)                                                                                               \n",
            "                                                                                                  \n",
            " conv5_block2_3_bn (BatchNo  (None, 4, 4, 2048)           8192      ['conv5_block2_3_conv[0][0]'] \n",
            " rmalization)                                                                                     \n",
            "                                                                                                  \n",
            " conv5_block2_add (Add)      (None, 4, 4, 2048)           0         ['conv5_block1_out[0][0]',    \n",
            "                                                                     'conv5_block2_3_bn[0][0]']   \n",
            "                                                                                                  \n",
            " conv5_block2_out (Activati  (None, 4, 4, 2048)           0         ['conv5_block2_add[0][0]']    \n",
            " on)                                                                                              \n",
            "                                                                                                  \n",
            " conv5_block3_1_conv (Conv2  (None, 4, 4, 512)            1049088   ['conv5_block2_out[0][0]']    \n",
            " D)                                                                                               \n",
            "                                                                                                  \n",
            " conv5_block3_1_bn (BatchNo  (None, 4, 4, 512)            2048      ['conv5_block3_1_conv[0][0]'] \n",
            " rmalization)                                                                                     \n",
            "                                                                                                  \n",
            " conv5_block3_1_relu (Activ  (None, 4, 4, 512)            0         ['conv5_block3_1_bn[0][0]']   \n",
            " ation)                                                                                           \n",
            "                                                                                                  \n",
            " conv5_block3_2_conv (Conv2  (None, 4, 4, 512)            2359808   ['conv5_block3_1_relu[0][0]'] \n",
            " D)                                                                                               \n",
            "                                                                                                  \n",
            " conv5_block3_2_bn (BatchNo  (None, 4, 4, 512)            2048      ['conv5_block3_2_conv[0][0]'] \n",
            " rmalization)                                                                                     \n",
            "                                                                                                  \n",
            " conv5_block3_2_relu (Activ  (None, 4, 4, 512)            0         ['conv5_block3_2_bn[0][0]']   \n",
            " ation)                                                                                           \n",
            "                                                                                                  \n",
            " conv5_block3_3_conv (Conv2  (None, 4, 4, 2048)           1050624   ['conv5_block3_2_relu[0][0]'] \n",
            " D)                                                                                               \n",
            "                                                                                                  \n",
            " conv5_block3_3_bn (BatchNo  (None, 4, 4, 2048)           8192      ['conv5_block3_3_conv[0][0]'] \n",
            " rmalization)                                                                                     \n",
            "                                                                                                  \n",
            " conv5_block3_add (Add)      (None, 4, 4, 2048)           0         ['conv5_block2_out[0][0]',    \n",
            "                                                                     'conv5_block3_3_bn[0][0]']   \n",
            "                                                                                                  \n",
            " conv5_block3_out (Activati  (None, 4, 4, 2048)           0         ['conv5_block3_add[0][0]']    \n",
            " on)                                                                                              \n",
            "                                                                                                  \n",
            " global_average_pooling2d_1  (None, 2048)                 0         ['conv5_block3_out[0][0]']    \n",
            "  (GlobalAveragePooling2D)                                                                        \n",
            "                                                                                                  \n",
            " dense_2 (Dense)             (None, 256)                  524544    ['global_average_pooling2d_1[0\n",
            "                                                                    ][0]']                        \n",
            "                                                                                                  \n",
            " batch_normalization (Batch  (None, 256)                  1024      ['dense_2[0][0]']             \n",
            " Normalization)                                                                                   \n",
            "                                                                                                  \n",
            " dropout (Dropout)           (None, 256)                  0         ['batch_normalization[0][0]'] \n",
            "                                                                                                  \n",
            " dense_3 (Dense)             (None, 128)                  32896     ['dropout[0][0]']             \n",
            "                                                                                                  \n",
            " batch_normalization_1 (Bat  (None, 128)                  512       ['dense_3[0][0]']             \n",
            " chNormalization)                                                                                 \n",
            "                                                                                                  \n",
            " dropout_1 (Dropout)         (None, 128)                  0         ['batch_normalization_1[0][0]'\n",
            "                                                                    ]                             \n",
            "                                                                                                  \n",
            " dense_4 (Dense)             (None, 43)                   5547      ['dropout_1[0][0]']           \n",
            "                                                                                                  \n",
            "==================================================================================================\n",
            "Total params: 24152235 (92.13 MB)\n",
            "Trainable params: 24098347 (91.93 MB)\n",
            "Non-trainable params: 53888 (210.50 KB)\n",
            "__________________________________________________________________________________________________\n"
          ]
        }
      ]
    },
    {
      "cell_type": "markdown",
      "source": [
        "The model is trained with the early stopping callback monitering the validation loss and a step by step decayed learning rate:"
      ],
      "metadata": {
        "id": "W3HdMluH62VV"
      }
    },
    {
      "cell_type": "code",
      "source": [
        "# Early stopping callback\n",
        "early_stopping = EarlyStopping(monitor='val_loss', patience=3, restore_best_weights=True)\n",
        "\n",
        "# Train the model with data augmentation and early stopping\n",
        "num_epochs = 50\n",
        "history_complex_model = model_resnet_complex.fit(train_generator,\n",
        "                                                 epochs=num_epochs,\n",
        "                                                 validation_data=valid_generator,\n",
        "                                                 callbacks=[early_stopping,  lr_scheduler])\n",
        "\n",
        "print(\"Model training completed.\")"
      ],
      "metadata": {
        "colab": {
          "base_uri": "https://localhost:8080/"
        },
        "id": "2YiIxl2kYbXX",
        "outputId": "3441a9ac-02f0-4e23-efee-fcd87abba573"
      },
      "execution_count": null,
      "outputs": [
        {
          "output_type": "stream",
          "name": "stdout",
          "text": [
            "Epoch 1/50\n",
            "667/667 [==============================] - 153s 146ms/step - loss: 2.0727 - accuracy: 0.5925 - val_loss: 3.1743 - val_accuracy: 0.4499 - lr: 0.0010\n",
            "Epoch 2/50\n",
            "667/667 [==============================] - 97s 145ms/step - loss: 0.6190 - accuracy: 0.9433 - val_loss: 0.5273 - val_accuracy: 0.9357 - lr: 0.0010\n",
            "Epoch 3/50\n",
            "667/667 [==============================] - 106s 159ms/step - loss: 0.4034 - accuracy: 0.9646 - val_loss: 0.4010 - val_accuracy: 0.9516 - lr: 0.0010\n",
            "Epoch 4/50\n",
            "667/667 [==============================] - 95s 143ms/step - loss: 0.3016 - accuracy: 0.9738 - val_loss: 0.4882 - val_accuracy: 0.9255 - lr: 0.0010\n",
            "Epoch 5/50\n",
            "667/667 [==============================] - 106s 158ms/step - loss: 0.2665 - accuracy: 0.9772 - val_loss: 0.3440 - val_accuracy: 0.9522 - lr: 0.0010\n",
            "Epoch 6/50\n",
            "667/667 [==============================] - 95s 143ms/step - loss: 0.2396 - accuracy: 0.9803 - val_loss: 0.1724 - val_accuracy: 0.9908 - lr: 9.5000e-04\n",
            "Epoch 7/50\n",
            "667/667 [==============================] - 95s 142ms/step - loss: 0.2095 - accuracy: 0.9822 - val_loss: 0.2782 - val_accuracy: 0.9730 - lr: 9.0250e-04\n",
            "Epoch 8/50\n",
            "667/667 [==============================] - 95s 142ms/step - loss: 0.1930 - accuracy: 0.9850 - val_loss: 0.1568 - val_accuracy: 0.9916 - lr: 8.5737e-04\n",
            "Epoch 9/50\n",
            "667/667 [==============================] - 94s 141ms/step - loss: 0.1516 - accuracy: 0.9908 - val_loss: 0.1581 - val_accuracy: 0.9880 - lr: 8.1451e-04\n",
            "Epoch 10/50\n",
            "667/667 [==============================] - 94s 141ms/step - loss: 0.1563 - accuracy: 0.9888 - val_loss: 0.1459 - val_accuracy: 0.9901 - lr: 7.7378e-04\n",
            "Epoch 11/50\n",
            "667/667 [==============================] - 94s 141ms/step - loss: 0.1500 - accuracy: 0.9892 - val_loss: 0.1356 - val_accuracy: 0.9917 - lr: 7.3509e-04\n",
            "Epoch 12/50\n",
            "667/667 [==============================] - 94s 140ms/step - loss: 0.1288 - accuracy: 0.9919 - val_loss: 0.1351 - val_accuracy: 0.9897 - lr: 6.9834e-04\n",
            "Epoch 13/50\n",
            "667/667 [==============================] - 94s 141ms/step - loss: 0.1227 - accuracy: 0.9919 - val_loss: 0.1577 - val_accuracy: 0.9850 - lr: 6.6342e-04\n",
            "Epoch 14/50\n",
            "667/667 [==============================] - 94s 141ms/step - loss: 0.1140 - accuracy: 0.9932 - val_loss: 0.0961 - val_accuracy: 0.9961 - lr: 6.3025e-04\n",
            "Epoch 15/50\n",
            "667/667 [==============================] - 94s 141ms/step - loss: 0.0750 - accuracy: 0.9979 - val_loss: 0.0614 - val_accuracy: 0.9976 - lr: 5.9874e-04\n",
            "Epoch 16/50\n",
            "667/667 [==============================] - 93s 139ms/step - loss: 0.0821 - accuracy: 0.9939 - val_loss: 0.1100 - val_accuracy: 0.9946 - lr: 5.6880e-04\n",
            "Epoch 17/50\n",
            "667/667 [==============================] - 94s 140ms/step - loss: 0.1045 - accuracy: 0.9939 - val_loss: 0.1171 - val_accuracy: 0.9914 - lr: 5.4036e-04\n",
            "Epoch 18/50\n",
            "667/667 [==============================] - 94s 141ms/step - loss: 0.0687 - accuracy: 0.9973 - val_loss: 0.0651 - val_accuracy: 0.9964 - lr: 5.1334e-04\n",
            "Model training completed.\n"
          ]
        }
      ]
    },
    {
      "cell_type": "markdown",
      "source": [
        "The training stopped at **epoch 18** as the model started overfitting (shown by the validation loss). This happend 10 epoch after the previous model. However, the train and validation accuracy/loss did not differ by much.\n",
        "\n",
        "The training accuracy and validation accuracy graph are shown below."
      ],
      "metadata": {
        "id": "qp04kwXc67zb"
      }
    },
    {
      "cell_type": "code",
      "source": [
        "plot_training_history(history_complex_model)"
      ],
      "metadata": {
        "colab": {
          "base_uri": "https://localhost:8080/",
          "height": 338
        },
        "id": "7LMYWjxCv3Ga",
        "outputId": "ac0ac2ed-a5bb-4da6-d0d9-771b62fbbdff"
      },
      "execution_count": null,
      "outputs": [
        {
          "output_type": "display_data",
          "data": {
            "text/plain": [
              "<Figure size 1200x600 with 2 Axes>"
            ],
            "image/png": "[encoded data removed]"
          },
          "metadata": {}
        }
      ]
    },
    {
      "cell_type": "markdown",
      "source": [
        "This model is much more stable as compared to the simple ResNet model. Althought there are still some fluctuations. There is no signs of overfitting."
      ],
      "metadata": {
        "id": "oQAgmF9P7QRy"
      }
    },
    {
      "cell_type": "code",
      "source": [
        "# Increasing rate\n",
        "train_rate_complex, val_rate_complex = calculate_accuracy_increase_rate(history_complex_model)\n",
        "print(\"Training Accuracy Increase Rate:\", train_rate_complex)\n",
        "print(\"Validation Accuracy Increase Rate:\", val_rate_complex)"
      ],
      "metadata": {
        "colab": {
          "base_uri": "https://localhost:8080/"
        },
        "id": "MHVWoQyrwTk6",
        "outputId": "7e76cb58-0f1e-4e16-d052-21c9c3a05412"
      },
      "execution_count": null,
      "outputs": [
        {
          "output_type": "stream",
          "name": "stdout",
          "text": [
            "Training Accuracy Increase Rate: 0.023815694977255428\n",
            "Validation Accuracy Increase Rate: 0.032147742369595694\n"
          ]
        }
      ]
    },
    {
      "cell_type": "markdown",
      "source": [
        "The rate of increase for training accuracy is similar, while the rate of increase for validation accuracy is back to positive."
      ],
      "metadata": {
        "id": "D9AcqEqe7hOg"
      }
    },
    {
      "cell_type": "markdown",
      "source": [
        "Then, the model is evaluated on the test data"
      ],
      "metadata": {
        "id": "1YrQTlXu7ulC"
      }
    },
    {
      "cell_type": "code",
      "source": [
        "# Test the model with the test data\n",
        "test_loss_complex, test_accuracy_complex = model_resnet_complex.evaluate(test_generator)\n",
        "\n",
        "print(f\"Test Loss: {test_loss_complex:.4f}\")\n",
        "print(f\"Test Accuracy: {test_accuracy_complex:.4f}\")"
      ],
      "metadata": {
        "colab": {
          "base_uri": "https://localhost:8080/"
        },
        "id": "u2UhqO-Wv3r4",
        "outputId": "710b1b95-a304-4c4e-b58b-d902da0b4c0c"
      },
      "execution_count": null,
      "outputs": [
        {
          "output_type": "stream",
          "name": "stdout",
          "text": [
            "394/394 [==============================] - 24s 61ms/step - loss: 0.2914 - accuracy: 0.9600\n",
            "Test Loss: 0.2914\n",
            "Test Accuracy: 0.9600\n"
          ]
        }
      ]
    },
    {
      "cell_type": "code",
      "source": [
        "# Make predictions on the test data\n",
        "test_pred_complex = model_resnet_complex.predict(test_generator)\n",
        "\n",
        "# Convert one-hot encoded predictions back to class labels\n",
        "predicted_labels_complex = np.argmax(test_pred_complex, axis=1)\n",
        "\n",
        "# Calculate the precision score\n",
        "precision_complex = precision_score(true_labels, predicted_labels_complex, average='weighted')\n",
        "\n",
        "print(f\"Precision Score: {precision_complex:.4f}\")"
      ],
      "metadata": {
        "colab": {
          "base_uri": "https://localhost:8080/"
        },
        "id": "NGjoJfhUv31a",
        "outputId": "6bfb5fe1-6853-480c-974e-eaa63b096747"
      },
      "execution_count": null,
      "outputs": [
        {
          "output_type": "stream",
          "name": "stdout",
          "text": [
            "394/394 [==============================] - 26s 64ms/step\n",
            "Precision Score: 0.9619\n"
          ]
        }
      ]
    },
    {
      "cell_type": "code",
      "source": [
        "# Generate a classification report\n",
        "class_rep_complex = classification_report(true_labels, predicted_labels_complex, target_names=class_names)\n",
        "\n",
        "print(\"Classification Report:\\n\", class_rep_complex)"
      ],
      "metadata": {
        "colab": {
          "base_uri": "https://localhost:8080/"
        },
        "id": "YtZr-SxJwJEQ",
        "outputId": "55dff384-760a-459d-903d-d5bb362780e2"
      },
      "execution_count": null,
      "outputs": [
        {
          "output_type": "stream",
          "name": "stdout",
          "text": [
            "Classification Report:\n",
            "               precision    recall  f1-score   support\n",
            "\n",
            "           0       0.99      1.00      1.00       293\n",
            "           1       0.95      1.00      0.98       293\n",
            "           2       1.00      0.98      0.99       293\n",
            "           3       0.80      0.99      0.89       293\n",
            "           4       1.00      0.97      0.98       293\n",
            "           5       0.98      1.00      0.99       293\n",
            "           6       0.99      1.00      0.99       293\n",
            "           7       1.00      0.98      0.99       293\n",
            "           8       1.00      1.00      1.00       293\n",
            "           9       1.00      0.94      0.97       293\n",
            "          10       0.97      0.95      0.96       293\n",
            "          11       0.84      1.00      0.91       293\n",
            "          12       0.96      0.99      0.98       293\n",
            "          13       0.92      1.00      0.96       293\n",
            "          14       0.93      1.00      0.96       293\n",
            "          15       1.00      0.90      0.95       293\n",
            "          16       0.89      0.99      0.93       293\n",
            "          17       0.92      0.96      0.94       293\n",
            "          18       0.99      0.92      0.95       293\n",
            "          19       0.96      0.94      0.95       293\n",
            "          20       0.90      0.41      0.57       293\n",
            "          21       0.97      0.99      0.98       293\n",
            "          22       0.98      0.95      0.97       293\n",
            "          23       0.97      0.99      0.98       293\n",
            "          24       0.99      0.91      0.95       293\n",
            "          25       0.95      1.00      0.97       293\n",
            "          26       0.87      1.00      0.93       293\n",
            "          27       1.00      0.99      1.00       293\n",
            "          28       0.95      1.00      0.97       293\n",
            "          29       1.00      1.00      1.00       293\n",
            "          30       0.98      0.97      0.97       293\n",
            "          31       1.00      0.96      0.98       293\n",
            "          32       0.98      0.99      0.98       293\n",
            "          33       0.99      0.98      0.99       293\n",
            "          34       1.00      0.99      0.99       293\n",
            "          35       0.98      0.95      0.96       293\n",
            "          36       0.92      0.96      0.94       293\n",
            "          37       1.00      0.91      0.95       293\n",
            "          38       0.93      0.97      0.95       293\n",
            "          39       0.98      0.87      0.92       293\n",
            "          40       0.99      1.00      0.99       293\n",
            "          41       0.97      0.98      0.98       293\n",
            "          42       0.98      1.00      0.99       293\n",
            "\n",
            "    accuracy                           0.96     12599\n",
            "   macro avg       0.96      0.96      0.96     12599\n",
            "weighted avg       0.96      0.96      0.96     12599\n",
            "\n"
          ]
        }
      ]
    },
    {
      "cell_type": "markdown",
      "source": [
        "As the model is approaching perfect accuracy, the significant increase in model complexity only yield in a 1% increase in accuracy and precision on test data.\n",
        "\n",
        "It was noticed that many classes have reached **perfect accuracy and F1 score in test data.**\n",
        "\n",
        "At this point, developing the model further becomes very challenging as the task shifts from classifying common cases to **classifying edge cases**. However, as the data preparation was done using advanced technic (ESR-GAN RRDB) and the model is also developed based on complexed model, attempts will be made to achieve a close to perfect classification result"
      ],
      "metadata": {
        "id": "wYI4xh6J7vpt"
      }
    },
    {
      "cell_type": "markdown",
      "source": [
        "**<h2> Model 3: ResNet model with fine-tune and transfered learning </h2>**"
      ],
      "metadata": {
        "id": "NxP02q59wPQ2"
      }
    },
    {
      "cell_type": "markdown",
      "source": [
        "There are many ways to further improve the accuracy of the model, one way is to fine tune the ResNet model to this specific use case.\n",
        "\n",
        "Fine tuning may include methods such as adjusting activation function, learning rate and many more thing. For this project, **learning rate** for ResNet50 will be adjusted."
      ],
      "metadata": {
        "id": "WDtn0Pzn8-O0"
      }
    },
    {
      "cell_type": "markdown",
      "source": [
        "The identical model as the model 2 is first deployed:"
      ],
      "metadata": {
        "id": "ed23yMlD9g_C"
      }
    },
    {
      "cell_type": "code",
      "source": [
        "# Define the ResNet50 base model\n",
        "input_layer = Input(shape=(128, 128, 3))\n",
        "base_model = ResNet50(weights='imagenet', include_top=False, input_tensor=input_layer)"
      ],
      "metadata": {
        "id": "v7yCUqraioFY"
      },
      "execution_count": null,
      "outputs": []
    },
    {
      "cell_type": "code",
      "source": [
        "# Add custom head layers\n",
        "x = base_model.output\n",
        "x = GlobalAveragePooling2D()(x)  # Apply Global Average Pooling to the 4D tensor\n",
        "x = Dense(256, activation='relu', kernel_regularizer=regularizers.l2(0.001))(x)  # Add L2 regularization\n",
        "x = BatchNormalization()(x)  # Add Batch Normalization\n",
        "x = Dropout(0.5)(x)  # Add Dropout for regularization\n",
        "x = Dense(128, activation='relu', kernel_regularizer=regularizers.l2(0.001))(x)  # Another dense layer with regularization\n",
        "x = BatchNormalization()(x)\n",
        "x = Dropout(0.5)(x)\n",
        "output_layer = Dense(num_classes, activation='softmax')(x)  # Use num_classes\n",
        "\n",
        "# Create a new model with the custom head\n",
        "model_unfrez = Model(inputs=base_model.input, outputs=output_layer)"
      ],
      "metadata": {
        "id": "RtwjmB0vkwK6"
      },
      "execution_count": null,
      "outputs": []
    },
    {
      "cell_type": "markdown",
      "source": [
        "The ResNet model is unfroze to allow fine tuning of the model. The number 200 is selected to cover more layers in ResNet50. Although there are only 48 convolutional layers in ResNet50, there are many more other layers such as BatchNormalization and ZeroPadding. Thus 200 is selected."
      ],
      "metadata": {
        "id": "RE6d-mMM9mg5"
      }
    },
    {
      "cell_type": "code",
      "source": [
        "# Freeze the earlier layers and fine-tune the later layers\n",
        "for layer in base_model.layers[:-200]:\n",
        "    layer.trainable = False"
      ],
      "metadata": {
        "id": "8G_HlCE9hIQ4"
      },
      "execution_count": null,
      "outputs": []
    },
    {
      "cell_type": "code",
      "source": [
        "model_unfrez.summary()"
      ],
      "metadata": {
        "colab": {
          "base_uri": "https://localhost:8080/"
        },
        "id": "i_FCyC-ihKZB",
        "outputId": "4d672d28-0e9a-4695-92a7-2aa7a88adcca"
      },
      "execution_count": null,
      "outputs": [
        {
          "output_type": "stream",
          "name": "stdout",
          "text": [
            "Model: \"model_5\"\n",
            "__________________________________________________________________________________________________\n",
            " Layer (type)                Output Shape                 Param #   Connected to                  \n",
            "==================================================================================================\n",
            " input_8 (InputLayer)        [(None, 128, 128, 3)]        0         []                            \n",
            "                                                                                                  \n",
            " conv1_pad (ZeroPadding2D)   (None, 134, 134, 3)          0         ['input_8[0][0]']             \n",
            "                                                                                                  \n",
            " conv1_conv (Conv2D)         (None, 64, 64, 64)           9472      ['conv1_pad[0][0]']           \n",
            "                                                                                                  \n",
            " conv1_bn (BatchNormalizati  (None, 64, 64, 64)           256       ['conv1_conv[0][0]']          \n",
            " on)                                                                                              \n",
            "                                                                                                  \n",
            " conv1_relu (Activation)     (None, 64, 64, 64)           0         ['conv1_bn[0][0]']            \n",
            "                                                                                                  \n",
            " pool1_pad (ZeroPadding2D)   (None, 66, 66, 64)           0         ['conv1_relu[0][0]']          \n",
            "                                                                                                  \n",
            " pool1_pool (MaxPooling2D)   (None, 32, 32, 64)           0         ['pool1_pad[0][0]']           \n",
            "                                                                                                  \n",
            " conv2_block1_1_conv (Conv2  (None, 32, 32, 64)           4160      ['pool1_pool[0][0]']          \n",
            " D)                                                                                               \n",
            "                                                                                                  \n",
            " conv2_block1_1_bn (BatchNo  (None, 32, 32, 64)           256       ['conv2_block1_1_conv[0][0]'] \n",
            " rmalization)                                                                                     \n",
            "                                                                                                  \n",
            " conv2_block1_1_relu (Activ  (None, 32, 32, 64)           0         ['conv2_block1_1_bn[0][0]']   \n",
            " ation)                                                                                           \n",
            "                                                                                                  \n",
            " conv2_block1_2_conv (Conv2  (None, 32, 32, 64)           36928     ['conv2_block1_1_relu[0][0]'] \n",
            " D)                                                                                               \n",
            "                                                                                                  \n",
            " conv2_block1_2_bn (BatchNo  (None, 32, 32, 64)           256       ['conv2_block1_2_conv[0][0]'] \n",
            " rmalization)                                                                                     \n",
            "                                                                                                  \n",
            " conv2_block1_2_relu (Activ  (None, 32, 32, 64)           0         ['conv2_block1_2_bn[0][0]']   \n",
            " ation)                                                                                           \n",
            "                                                                                                  \n",
            " conv2_block1_0_conv (Conv2  (None, 32, 32, 256)          16640     ['pool1_pool[0][0]']          \n",
            " D)                                                                                               \n",
            "                                                                                                  \n",
            " conv2_block1_3_conv (Conv2  (None, 32, 32, 256)          16640     ['conv2_block1_2_relu[0][0]'] \n",
            " D)                                                                                               \n",
            "                                                                                                  \n",
            " conv2_block1_0_bn (BatchNo  (None, 32, 32, 256)          1024      ['conv2_block1_0_conv[0][0]'] \n",
            " rmalization)                                                                                     \n",
            "                                                                                                  \n",
            " conv2_block1_3_bn (BatchNo  (None, 32, 32, 256)          1024      ['conv2_block1_3_conv[0][0]'] \n",
            " rmalization)                                                                                     \n",
            "                                                                                                  \n",
            " conv2_block1_add (Add)      (None, 32, 32, 256)          0         ['conv2_block1_0_bn[0][0]',   \n",
            "                                                                     'conv2_block1_3_bn[0][0]']   \n",
            "                                                                                                  \n",
            " conv2_block1_out (Activati  (None, 32, 32, 256)          0         ['conv2_block1_add[0][0]']    \n",
            " on)                                                                                              \n",
            "                                                                                                  \n",
            " conv2_block2_1_conv (Conv2  (None, 32, 32, 64)           16448     ['conv2_block1_out[0][0]']    \n",
            " D)                                                                                               \n",
            "                                                                                                  \n",
            " conv2_block2_1_bn (BatchNo  (None, 32, 32, 64)           256       ['conv2_block2_1_conv[0][0]'] \n",
            " rmalization)                                                                                     \n",
            "                                                                                                  \n",
            " conv2_block2_1_relu (Activ  (None, 32, 32, 64)           0         ['conv2_block2_1_bn[0][0]']   \n",
            " ation)                                                                                           \n",
            "                                                                                                  \n",
            " conv2_block2_2_conv (Conv2  (None, 32, 32, 64)           36928     ['conv2_block2_1_relu[0][0]'] \n",
            " D)                                                                                               \n",
            "                                                                                                  \n",
            " conv2_block2_2_bn (BatchNo  (None, 32, 32, 64)           256       ['conv2_block2_2_conv[0][0]'] \n",
            " rmalization)                                                                                     \n",
            "                                                                                                  \n",
            " conv2_block2_2_relu (Activ  (None, 32, 32, 64)           0         ['conv2_block2_2_bn[0][0]']   \n",
            " ation)                                                                                           \n",
            "                                                                                                  \n",
            " conv2_block2_3_conv (Conv2  (None, 32, 32, 256)          16640     ['conv2_block2_2_relu[0][0]'] \n",
            " D)                                                                                               \n",
            "                                                                                                  \n",
            " conv2_block2_3_bn (BatchNo  (None, 32, 32, 256)          1024      ['conv2_block2_3_conv[0][0]'] \n",
            " rmalization)                                                                                     \n",
            "                                                                                                  \n",
            " conv2_block2_add (Add)      (None, 32, 32, 256)          0         ['conv2_block1_out[0][0]',    \n",
            "                                                                     'conv2_block2_3_bn[0][0]']   \n",
            "                                                                                                  \n",
            " conv2_block2_out (Activati  (None, 32, 32, 256)          0         ['conv2_block2_add[0][0]']    \n",
            " on)                                                                                              \n",
            "                                                                                                  \n",
            " conv2_block3_1_conv (Conv2  (None, 32, 32, 64)           16448     ['conv2_block2_out[0][0]']    \n",
            " D)                                                                                               \n",
            "                                                                                                  \n",
            " conv2_block3_1_bn (BatchNo  (None, 32, 32, 64)           256       ['conv2_block3_1_conv[0][0]'] \n",
            " rmalization)                                                                                     \n",
            "                                                                                                  \n",
            " conv2_block3_1_relu (Activ  (None, 32, 32, 64)           0         ['conv2_block3_1_bn[0][0]']   \n",
            " ation)                                                                                           \n",
            "                                                                                                  \n",
            " conv2_block3_2_conv (Conv2  (None, 32, 32, 64)           36928     ['conv2_block3_1_relu[0][0]'] \n",
            " D)                                                                                               \n",
            "                                                                                                  \n",
            " conv2_block3_2_bn (BatchNo  (None, 32, 32, 64)           256       ['conv2_block3_2_conv[0][0]'] \n",
            " rmalization)                                                                                     \n",
            "                                                                                                  \n",
            " conv2_block3_2_relu (Activ  (None, 32, 32, 64)           0         ['conv2_block3_2_bn[0][0]']   \n",
            " ation)                                                                                           \n",
            "                                                                                                  \n",
            " conv2_block3_3_conv (Conv2  (None, 32, 32, 256)          16640     ['conv2_block3_2_relu[0][0]'] \n",
            " D)                                                                                               \n",
            "                                                                                                  \n",
            " conv2_block3_3_bn (BatchNo  (None, 32, 32, 256)          1024      ['conv2_block3_3_conv[0][0]'] \n",
            " rmalization)                                                                                     \n",
            "                                                                                                  \n",
            " conv2_block3_add (Add)      (None, 32, 32, 256)          0         ['conv2_block2_out[0][0]',    \n",
            "                                                                     'conv2_block3_3_bn[0][0]']   \n",
            "                                                                                                  \n",
            " conv2_block3_out (Activati  (None, 32, 32, 256)          0         ['conv2_block3_add[0][0]']    \n",
            " on)                                                                                              \n",
            "                                                                                                  \n",
            " conv3_block1_1_conv (Conv2  (None, 16, 16, 128)          32896     ['conv2_block3_out[0][0]']    \n",
            " D)                                                                                               \n",
            "                                                                                                  \n",
            " conv3_block1_1_bn (BatchNo  (None, 16, 16, 128)          512       ['conv3_block1_1_conv[0][0]'] \n",
            " rmalization)                                                                                     \n",
            "                                                                                                  \n",
            " conv3_block1_1_relu (Activ  (None, 16, 16, 128)          0         ['conv3_block1_1_bn[0][0]']   \n",
            " ation)                                                                                           \n",
            "                                                                                                  \n",
            " conv3_block1_2_conv (Conv2  (None, 16, 16, 128)          147584    ['conv3_block1_1_relu[0][0]'] \n",
            " D)                                                                                               \n",
            "                                                                                                  \n",
            " conv3_block1_2_bn (BatchNo  (None, 16, 16, 128)          512       ['conv3_block1_2_conv[0][0]'] \n",
            " rmalization)                                                                                     \n",
            "                                                                                                  \n",
            " conv3_block1_2_relu (Activ  (None, 16, 16, 128)          0         ['conv3_block1_2_bn[0][0]']   \n",
            " ation)                                                                                           \n",
            "                                                                                                  \n",
            " conv3_block1_0_conv (Conv2  (None, 16, 16, 512)          131584    ['conv2_block3_out[0][0]']    \n",
            " D)                                                                                               \n",
            "                                                                                                  \n",
            " conv3_block1_3_conv (Conv2  (None, 16, 16, 512)          66048     ['conv3_block1_2_relu[0][0]'] \n",
            " D)                                                                                               \n",
            "                                                                                                  \n",
            " conv3_block1_0_bn (BatchNo  (None, 16, 16, 512)          2048      ['conv3_block1_0_conv[0][0]'] \n",
            " rmalization)                                                                                     \n",
            "                                                                                                  \n",
            " conv3_block1_3_bn (BatchNo  (None, 16, 16, 512)          2048      ['conv3_block1_3_conv[0][0]'] \n",
            " rmalization)                                                                                     \n",
            "                                                                                                  \n",
            " conv3_block1_add (Add)      (None, 16, 16, 512)          0         ['conv3_block1_0_bn[0][0]',   \n",
            "                                                                     'conv3_block1_3_bn[0][0]']   \n",
            "                                                                                                  \n",
            " conv3_block1_out (Activati  (None, 16, 16, 512)          0         ['conv3_block1_add[0][0]']    \n",
            " on)                                                                                              \n",
            "                                                                                                  \n",
            " conv3_block2_1_conv (Conv2  (None, 16, 16, 128)          65664     ['conv3_block1_out[0][0]']    \n",
            " D)                                                                                               \n",
            "                                                                                                  \n",
            " conv3_block2_1_bn (BatchNo  (None, 16, 16, 128)          512       ['conv3_block2_1_conv[0][0]'] \n",
            " rmalization)                                                                                     \n",
            "                                                                                                  \n",
            " conv3_block2_1_relu (Activ  (None, 16, 16, 128)          0         ['conv3_block2_1_bn[0][0]']   \n",
            " ation)                                                                                           \n",
            "                                                                                                  \n",
            " conv3_block2_2_conv (Conv2  (None, 16, 16, 128)          147584    ['conv3_block2_1_relu[0][0]'] \n",
            " D)                                                                                               \n",
            "                                                                                                  \n",
            " conv3_block2_2_bn (BatchNo  (None, 16, 16, 128)          512       ['conv3_block2_2_conv[0][0]'] \n",
            " rmalization)                                                                                     \n",
            "                                                                                                  \n",
            " conv3_block2_2_relu (Activ  (None, 16, 16, 128)          0         ['conv3_block2_2_bn[0][0]']   \n",
            " ation)                                                                                           \n",
            "                                                                                                  \n",
            " conv3_block2_3_conv (Conv2  (None, 16, 16, 512)          66048     ['conv3_block2_2_relu[0][0]'] \n",
            " D)                                                                                               \n",
            "                                                                                                  \n",
            " conv3_block2_3_bn (BatchNo  (None, 16, 16, 512)          2048      ['conv3_block2_3_conv[0][0]'] \n",
            " rmalization)                                                                                     \n",
            "                                                                                                  \n",
            " conv3_block2_add (Add)      (None, 16, 16, 512)          0         ['conv3_block1_out[0][0]',    \n",
            "                                                                     'conv3_block2_3_bn[0][0]']   \n",
            "                                                                                                  \n",
            " conv3_block2_out (Activati  (None, 16, 16, 512)          0         ['conv3_block2_add[0][0]']    \n",
            " on)                                                                                              \n",
            "                                                                                                  \n",
            " conv3_block3_1_conv (Conv2  (None, 16, 16, 128)          65664     ['conv3_block2_out[0][0]']    \n",
            " D)                                                                                               \n",
            "                                                                                                  \n",
            " conv3_block3_1_bn (BatchNo  (None, 16, 16, 128)          512       ['conv3_block3_1_conv[0][0]'] \n",
            " rmalization)                                                                                     \n",
            "                                                                                                  \n",
            " conv3_block3_1_relu (Activ  (None, 16, 16, 128)          0         ['conv3_block3_1_bn[0][0]']   \n",
            " ation)                                                                                           \n",
            "                                                                                                  \n",
            " conv3_block3_2_conv (Conv2  (None, 16, 16, 128)          147584    ['conv3_block3_1_relu[0][0]'] \n",
            " D)                                                                                               \n",
            "                                                                                                  \n",
            " conv3_block3_2_bn (BatchNo  (None, 16, 16, 128)          512       ['conv3_block3_2_conv[0][0]'] \n",
            " rmalization)                                                                                     \n",
            "                                                                                                  \n",
            " conv3_block3_2_relu (Activ  (None, 16, 16, 128)          0         ['conv3_block3_2_bn[0][0]']   \n",
            " ation)                                                                                           \n",
            "                                                                                                  \n",
            " conv3_block3_3_conv (Conv2  (None, 16, 16, 512)          66048     ['conv3_block3_2_relu[0][0]'] \n",
            " D)                                                                                               \n",
            "                                                                                                  \n",
            " conv3_block3_3_bn (BatchNo  (None, 16, 16, 512)          2048      ['conv3_block3_3_conv[0][0]'] \n",
            " rmalization)                                                                                     \n",
            "                                                                                                  \n",
            " conv3_block3_add (Add)      (None, 16, 16, 512)          0         ['conv3_block2_out[0][0]',    \n",
            "                                                                     'conv3_block3_3_bn[0][0]']   \n",
            "                                                                                                  \n",
            " conv3_block3_out (Activati  (None, 16, 16, 512)          0         ['conv3_block3_add[0][0]']    \n",
            " on)                                                                                              \n",
            "                                                                                                  \n",
            " conv3_block4_1_conv (Conv2  (None, 16, 16, 128)          65664     ['conv3_block3_out[0][0]']    \n",
            " D)                                                                                               \n",
            "                                                                                                  \n",
            " conv3_block4_1_bn (BatchNo  (None, 16, 16, 128)          512       ['conv3_block4_1_conv[0][0]'] \n",
            " rmalization)                                                                                     \n",
            "                                                                                                  \n",
            " conv3_block4_1_relu (Activ  (None, 16, 16, 128)          0         ['conv3_block4_1_bn[0][0]']   \n",
            " ation)                                                                                           \n",
            "                                                                                                  \n",
            " conv3_block4_2_conv (Conv2  (None, 16, 16, 128)          147584    ['conv3_block4_1_relu[0][0]'] \n",
            " D)                                                                                               \n",
            "                                                                                                  \n",
            " conv3_block4_2_bn (BatchNo  (None, 16, 16, 128)          512       ['conv3_block4_2_conv[0][0]'] \n",
            " rmalization)                                                                                     \n",
            "                                                                                                  \n",
            " conv3_block4_2_relu (Activ  (None, 16, 16, 128)          0         ['conv3_block4_2_bn[0][0]']   \n",
            " ation)                                                                                           \n",
            "                                                                                                  \n",
            " conv3_block4_3_conv (Conv2  (None, 16, 16, 512)          66048     ['conv3_block4_2_relu[0][0]'] \n",
            " D)                                                                                               \n",
            "                                                                                                  \n",
            " conv3_block4_3_bn (BatchNo  (None, 16, 16, 512)          2048      ['conv3_block4_3_conv[0][0]'] \n",
            " rmalization)                                                                                     \n",
            "                                                                                                  \n",
            " conv3_block4_add (Add)      (None, 16, 16, 512)          0         ['conv3_block3_out[0][0]',    \n",
            "                                                                     'conv3_block4_3_bn[0][0]']   \n",
            "                                                                                                  \n",
            " conv3_block4_out (Activati  (None, 16, 16, 512)          0         ['conv3_block4_add[0][0]']    \n",
            " on)                                                                                              \n",
            "                                                                                                  \n",
            " conv4_block1_1_conv (Conv2  (None, 8, 8, 256)            131328    ['conv3_block4_out[0][0]']    \n",
            " D)                                                                                               \n",
            "                                                                                                  \n",
            " conv4_block1_1_bn (BatchNo  (None, 8, 8, 256)            1024      ['conv4_block1_1_conv[0][0]'] \n",
            " rmalization)                                                                                     \n",
            "                                                                                                  \n",
            " conv4_block1_1_relu (Activ  (None, 8, 8, 256)            0         ['conv4_block1_1_bn[0][0]']   \n",
            " ation)                                                                                           \n",
            "                                                                                                  \n",
            " conv4_block1_2_conv (Conv2  (None, 8, 8, 256)            590080    ['conv4_block1_1_relu[0][0]'] \n",
            " D)                                                                                               \n",
            "                                                                                                  \n",
            " conv4_block1_2_bn (BatchNo  (None, 8, 8, 256)            1024      ['conv4_block1_2_conv[0][0]'] \n",
            " rmalization)                                                                                     \n",
            "                                                                                                  \n",
            " conv4_block1_2_relu (Activ  (None, 8, 8, 256)            0         ['conv4_block1_2_bn[0][0]']   \n",
            " ation)                                                                                           \n",
            "                                                                                                  \n",
            " conv4_block1_0_conv (Conv2  (None, 8, 8, 1024)           525312    ['conv3_block4_out[0][0]']    \n",
            " D)                                                                                               \n",
            "                                                                                                  \n",
            " conv4_block1_3_conv (Conv2  (None, 8, 8, 1024)           263168    ['conv4_block1_2_relu[0][0]'] \n",
            " D)                                                                                               \n",
            "                                                                                                  \n",
            " conv4_block1_0_bn (BatchNo  (None, 8, 8, 1024)           4096      ['conv4_block1_0_conv[0][0]'] \n",
            " rmalization)                                                                                     \n",
            "                                                                                                  \n",
            " conv4_block1_3_bn (BatchNo  (None, 8, 8, 1024)           4096      ['conv4_block1_3_conv[0][0]'] \n",
            " rmalization)                                                                                     \n",
            "                                                                                                  \n",
            " conv4_block1_add (Add)      (None, 8, 8, 1024)           0         ['conv4_block1_0_bn[0][0]',   \n",
            "                                                                     'conv4_block1_3_bn[0][0]']   \n",
            "                                                                                                  \n",
            " conv4_block1_out (Activati  (None, 8, 8, 1024)           0         ['conv4_block1_add[0][0]']    \n",
            " on)                                                                                              \n",
            "                                                                                                  \n",
            " conv4_block2_1_conv (Conv2  (None, 8, 8, 256)            262400    ['conv4_block1_out[0][0]']    \n",
            " D)                                                                                               \n",
            "                                                                                                  \n",
            " conv4_block2_1_bn (BatchNo  (None, 8, 8, 256)            1024      ['conv4_block2_1_conv[0][0]'] \n",
            " rmalization)                                                                                     \n",
            "                                                                                                  \n",
            " conv4_block2_1_relu (Activ  (None, 8, 8, 256)            0         ['conv4_block2_1_bn[0][0]']   \n",
            " ation)                                                                                           \n",
            "                                                                                                  \n",
            " conv4_block2_2_conv (Conv2  (None, 8, 8, 256)            590080    ['conv4_block2_1_relu[0][0]'] \n",
            " D)                                                                                               \n",
            "                                                                                                  \n",
            " conv4_block2_2_bn (BatchNo  (None, 8, 8, 256)            1024      ['conv4_block2_2_conv[0][0]'] \n",
            " rmalization)                                                                                     \n",
            "                                                                                                  \n",
            " conv4_block2_2_relu (Activ  (None, 8, 8, 256)            0         ['conv4_block2_2_bn[0][0]']   \n",
            " ation)                                                                                           \n",
            "                                                                                                  \n",
            " conv4_block2_3_conv (Conv2  (None, 8, 8, 1024)           263168    ['conv4_block2_2_relu[0][0]'] \n",
            " D)                                                                                               \n",
            "                                                                                                  \n",
            " conv4_block2_3_bn (BatchNo  (None, 8, 8, 1024)           4096      ['conv4_block2_3_conv[0][0]'] \n",
            " rmalization)                                                                                     \n",
            "                                                                                                  \n",
            " conv4_block2_add (Add)      (None, 8, 8, 1024)           0         ['conv4_block1_out[0][0]',    \n",
            "                                                                     'conv4_block2_3_bn[0][0]']   \n",
            "                                                                                                  \n",
            " conv4_block2_out (Activati  (None, 8, 8, 1024)           0         ['conv4_block2_add[0][0]']    \n",
            " on)                                                                                              \n",
            "                                                                                                  \n",
            " conv4_block3_1_conv (Conv2  (None, 8, 8, 256)            262400    ['conv4_block2_out[0][0]']    \n",
            " D)                                                                                               \n",
            "                                                                                                  \n",
            " conv4_block3_1_bn (BatchNo  (None, 8, 8, 256)            1024      ['conv4_block3_1_conv[0][0]'] \n",
            " rmalization)                                                                                     \n",
            "                                                                                                  \n",
            " conv4_block3_1_relu (Activ  (None, 8, 8, 256)            0         ['conv4_block3_1_bn[0][0]']   \n",
            " ation)                                                                                           \n",
            "                                                                                                  \n",
            " conv4_block3_2_conv (Conv2  (None, 8, 8, 256)            590080    ['conv4_block3_1_relu[0][0]'] \n",
            " D)                                                                                               \n",
            "                                                                                                  \n",
            " conv4_block3_2_bn (BatchNo  (None, 8, 8, 256)            1024      ['conv4_block3_2_conv[0][0]'] \n",
            " rmalization)                                                                                     \n",
            "                                                                                                  \n",
            " conv4_block3_2_relu (Activ  (None, 8, 8, 256)            0         ['conv4_block3_2_bn[0][0]']   \n",
            " ation)                                                                                           \n",
            "                                                                                                  \n",
            " conv4_block3_3_conv (Conv2  (None, 8, 8, 1024)           263168    ['conv4_block3_2_relu[0][0]'] \n",
            " D)                                                                                               \n",
            "                                                                                                  \n",
            " conv4_block3_3_bn (BatchNo  (None, 8, 8, 1024)           4096      ['conv4_block3_3_conv[0][0]'] \n",
            " rmalization)                                                                                     \n",
            "                                                                                                  \n",
            " conv4_block3_add (Add)      (None, 8, 8, 1024)           0         ['conv4_block2_out[0][0]',    \n",
            "                                                                     'conv4_block3_3_bn[0][0]']   \n",
            "                                                                                                  \n",
            " conv4_block3_out (Activati  (None, 8, 8, 1024)           0         ['conv4_block3_add[0][0]']    \n",
            " on)                                                                                              \n",
            "                                                                                                  \n",
            " conv4_block4_1_conv (Conv2  (None, 8, 8, 256)            262400    ['conv4_block3_out[0][0]']    \n",
            " D)                                                                                               \n",
            "                                                                                                  \n",
            " conv4_block4_1_bn (BatchNo  (None, 8, 8, 256)            1024      ['conv4_block4_1_conv[0][0]'] \n",
            " rmalization)                                                                                     \n",
            "                                                                                                  \n",
            " conv4_block4_1_relu (Activ  (None, 8, 8, 256)            0         ['conv4_block4_1_bn[0][0]']   \n",
            " ation)                                                                                           \n",
            "                                                                                                  \n",
            " conv4_block4_2_conv (Conv2  (None, 8, 8, 256)            590080    ['conv4_block4_1_relu[0][0]'] \n",
            " D)                                                                                               \n",
            "                                                                                                  \n",
            " conv4_block4_2_bn (BatchNo  (None, 8, 8, 256)            1024      ['conv4_block4_2_conv[0][0]'] \n",
            " rmalization)                                                                                     \n",
            "                                                                                                  \n",
            " conv4_block4_2_relu (Activ  (None, 8, 8, 256)            0         ['conv4_block4_2_bn[0][0]']   \n",
            " ation)                                                                                           \n",
            "                                                                                                  \n",
            " conv4_block4_3_conv (Conv2  (None, 8, 8, 1024)           263168    ['conv4_block4_2_relu[0][0]'] \n",
            " D)                                                                                               \n",
            "                                                                                                  \n",
            " conv4_block4_3_bn (BatchNo  (None, 8, 8, 1024)           4096      ['conv4_block4_3_conv[0][0]'] \n",
            " rmalization)                                                                                     \n",
            "                                                                                                  \n",
            " conv4_block4_add (Add)      (None, 8, 8, 1024)           0         ['conv4_block3_out[0][0]',    \n",
            "                                                                     'conv4_block4_3_bn[0][0]']   \n",
            "                                                                                                  \n",
            " conv4_block4_out (Activati  (None, 8, 8, 1024)           0         ['conv4_block4_add[0][0]']    \n",
            " on)                                                                                              \n",
            "                                                                                                  \n",
            " conv4_block5_1_conv (Conv2  (None, 8, 8, 256)            262400    ['conv4_block4_out[0][0]']    \n",
            " D)                                                                                               \n",
            "                                                                                                  \n",
            " conv4_block5_1_bn (BatchNo  (None, 8, 8, 256)            1024      ['conv4_block5_1_conv[0][0]'] \n",
            " rmalization)                                                                                     \n",
            "                                                                                                  \n",
            " conv4_block5_1_relu (Activ  (None, 8, 8, 256)            0         ['conv4_block5_1_bn[0][0]']   \n",
            " ation)                                                                                           \n",
            "                                                                                                  \n",
            " conv4_block5_2_conv (Conv2  (None, 8, 8, 256)            590080    ['conv4_block5_1_relu[0][0]'] \n",
            " D)                                                                                               \n",
            "                                                                                                  \n",
            " conv4_block5_2_bn (BatchNo  (None, 8, 8, 256)            1024      ['conv4_block5_2_conv[0][0]'] \n",
            " rmalization)                                                                                     \n",
            "                                                                                                  \n",
            " conv4_block5_2_relu (Activ  (None, 8, 8, 256)            0         ['conv4_block5_2_bn[0][0]']   \n",
            " ation)                                                                                           \n",
            "                                                                                                  \n",
            " conv4_block5_3_conv (Conv2  (None, 8, 8, 1024)           263168    ['conv4_block5_2_relu[0][0]'] \n",
            " D)                                                                                               \n",
            "                                                                                                  \n",
            " conv4_block5_3_bn (BatchNo  (None, 8, 8, 1024)           4096      ['conv4_block5_3_conv[0][0]'] \n",
            " rmalization)                                                                                     \n",
            "                                                                                                  \n",
            " conv4_block5_add (Add)      (None, 8, 8, 1024)           0         ['conv4_block4_out[0][0]',    \n",
            "                                                                     'conv4_block5_3_bn[0][0]']   \n",
            "                                                                                                  \n",
            " conv4_block5_out (Activati  (None, 8, 8, 1024)           0         ['conv4_block5_add[0][0]']    \n",
            " on)                                                                                              \n",
            "                                                                                                  \n",
            " conv4_block6_1_conv (Conv2  (None, 8, 8, 256)            262400    ['conv4_block5_out[0][0]']    \n",
            " D)                                                                                               \n",
            "                                                                                                  \n",
            " conv4_block6_1_bn (BatchNo  (None, 8, 8, 256)            1024      ['conv4_block6_1_conv[0][0]'] \n",
            " rmalization)                                                                                     \n",
            "                                                                                                  \n",
            " conv4_block6_1_relu (Activ  (None, 8, 8, 256)            0         ['conv4_block6_1_bn[0][0]']   \n",
            " ation)                                                                                           \n",
            "                                                                                                  \n",
            " conv4_block6_2_conv (Conv2  (None, 8, 8, 256)            590080    ['conv4_block6_1_relu[0][0]'] \n",
            " D)                                                                                               \n",
            "                                                                                                  \n",
            " conv4_block6_2_bn (BatchNo  (None, 8, 8, 256)            1024      ['conv4_block6_2_conv[0][0]'] \n",
            " rmalization)                                                                                     \n",
            "                                                                                                  \n",
            " conv4_block6_2_relu (Activ  (None, 8, 8, 256)            0         ['conv4_block6_2_bn[0][0]']   \n",
            " ation)                                                                                           \n",
            "                                                                                                  \n",
            " conv4_block6_3_conv (Conv2  (None, 8, 8, 1024)           263168    ['conv4_block6_2_relu[0][0]'] \n",
            " D)                                                                                               \n",
            "                                                                                                  \n",
            " conv4_block6_3_bn (BatchNo  (None, 8, 8, 1024)           4096      ['conv4_block6_3_conv[0][0]'] \n",
            " rmalization)                                                                                     \n",
            "                                                                                                  \n",
            " conv4_block6_add (Add)      (None, 8, 8, 1024)           0         ['conv4_block5_out[0][0]',    \n",
            "                                                                     'conv4_block6_3_bn[0][0]']   \n",
            "                                                                                                  \n",
            " conv4_block6_out (Activati  (None, 8, 8, 1024)           0         ['conv4_block6_add[0][0]']    \n",
            " on)                                                                                              \n",
            "                                                                                                  \n",
            " conv5_block1_1_conv (Conv2  (None, 4, 4, 512)            524800    ['conv4_block6_out[0][0]']    \n",
            " D)                                                                                               \n",
            "                                                                                                  \n",
            " conv5_block1_1_bn (BatchNo  (None, 4, 4, 512)            2048      ['conv5_block1_1_conv[0][0]'] \n",
            " rmalization)                                                                                     \n",
            "                                                                                                  \n",
            " conv5_block1_1_relu (Activ  (None, 4, 4, 512)            0         ['conv5_block1_1_bn[0][0]']   \n",
            " ation)                                                                                           \n",
            "                                                                                                  \n",
            " conv5_block1_2_conv (Conv2  (None, 4, 4, 512)            2359808   ['conv5_block1_1_relu[0][0]'] \n",
            " D)                                                                                               \n",
            "                                                                                                  \n",
            " conv5_block1_2_bn (BatchNo  (None, 4, 4, 512)            2048      ['conv5_block1_2_conv[0][0]'] \n",
            " rmalization)                                                                                     \n",
            "                                                                                                  \n",
            " conv5_block1_2_relu (Activ  (None, 4, 4, 512)            0         ['conv5_block1_2_bn[0][0]']   \n",
            " ation)                                                                                           \n",
            "                                                                                                  \n",
            " conv5_block1_0_conv (Conv2  (None, 4, 4, 2048)           2099200   ['conv4_block6_out[0][0]']    \n",
            " D)                                                                                               \n",
            "                                                                                                  \n",
            " conv5_block1_3_conv (Conv2  (None, 4, 4, 2048)           1050624   ['conv5_block1_2_relu[0][0]'] \n",
            " D)                                                                                               \n",
            "                                                                                                  \n",
            " conv5_block1_0_bn (BatchNo  (None, 4, 4, 2048)           8192      ['conv5_block1_0_conv[0][0]'] \n",
            " rmalization)                                                                                     \n",
            "                                                                                                  \n",
            " conv5_block1_3_bn (BatchNo  (None, 4, 4, 2048)           8192      ['conv5_block1_3_conv[0][0]'] \n",
            " rmalization)                                                                                     \n",
            "                                                                                                  \n",
            " conv5_block1_add (Add)      (None, 4, 4, 2048)           0         ['conv5_block1_0_bn[0][0]',   \n",
            "                                                                     'conv5_block1_3_bn[0][0]']   \n",
            "                                                                                                  \n",
            " conv5_block1_out (Activati  (None, 4, 4, 2048)           0         ['conv5_block1_add[0][0]']    \n",
            " on)                                                                                              \n",
            "                                                                                                  \n",
            " conv5_block2_1_conv (Conv2  (None, 4, 4, 512)            1049088   ['conv5_block1_out[0][0]']    \n",
            " D)                                                                                               \n",
            "                                                                                                  \n",
            " conv5_block2_1_bn (BatchNo  (None, 4, 4, 512)            2048      ['conv5_block2_1_conv[0][0]'] \n",
            " rmalization)                                                                                     \n",
            "                                                                                                  \n",
            " conv5_block2_1_relu (Activ  (None, 4, 4, 512)            0         ['conv5_block2_1_bn[0][0]']   \n",
            " ation)                                                                                           \n",
            "                                                                                                  \n",
            " conv5_block2_2_conv (Conv2  (None, 4, 4, 512)            2359808   ['conv5_block2_1_relu[0][0]'] \n",
            " D)                                                                                               \n",
            "                                                                                                  \n",
            " conv5_block2_2_bn (BatchNo  (None, 4, 4, 512)            2048      ['conv5_block2_2_conv[0][0]'] \n",
            " rmalization)                                                                                     \n",
            "                                                                                                  \n",
            " conv5_block2_2_relu (Activ  (None, 4, 4, 512)            0         ['conv5_block2_2_bn[0][0]']   \n",
            " ation)                                                                                           \n",
            "                                                                                                  \n",
            " conv5_block2_3_conv (Conv2  (None, 4, 4, 2048)           1050624   ['conv5_block2_2_relu[0][0]'] \n",
            " D)                                                                                               \n",
            "                                                                                                  \n",
            " conv5_block2_3_bn (BatchNo  (None, 4, 4, 2048)           8192      ['conv5_block2_3_conv[0][0]'] \n",
            " rmalization)                                                                                     \n",
            "                                                                                                  \n",
            " conv5_block2_add (Add)      (None, 4, 4, 2048)           0         ['conv5_block1_out[0][0]',    \n",
            "                                                                     'conv5_block2_3_bn[0][0]']   \n",
            "                                                                                                  \n",
            " conv5_block2_out (Activati  (None, 4, 4, 2048)           0         ['conv5_block2_add[0][0]']    \n",
            " on)                                                                                              \n",
            "                                                                                                  \n",
            " conv5_block3_1_conv (Conv2  (None, 4, 4, 512)            1049088   ['conv5_block2_out[0][0]']    \n",
            " D)                                                                                               \n",
            "                                                                                                  \n",
            " conv5_block3_1_bn (BatchNo  (None, 4, 4, 512)            2048      ['conv5_block3_1_conv[0][0]'] \n",
            " rmalization)                                                                                     \n",
            "                                                                                                  \n",
            " conv5_block3_1_relu (Activ  (None, 4, 4, 512)            0         ['conv5_block3_1_bn[0][0]']   \n",
            " ation)                                                                                           \n",
            "                                                                                                  \n",
            " conv5_block3_2_conv (Conv2  (None, 4, 4, 512)            2359808   ['conv5_block3_1_relu[0][0]'] \n",
            " D)                                                                                               \n",
            "                                                                                                  \n",
            " conv5_block3_2_bn (BatchNo  (None, 4, 4, 512)            2048      ['conv5_block3_2_conv[0][0]'] \n",
            " rmalization)                                                                                     \n",
            "                                                                                                  \n",
            " conv5_block3_2_relu (Activ  (None, 4, 4, 512)            0         ['conv5_block3_2_bn[0][0]']   \n",
            " ation)                                                                                           \n",
            "                                                                                                  \n",
            " conv5_block3_3_conv (Conv2  (None, 4, 4, 2048)           1050624   ['conv5_block3_2_relu[0][0]'] \n",
            " D)                                                                                               \n",
            "                                                                                                  \n",
            " conv5_block3_3_bn (BatchNo  (None, 4, 4, 2048)           8192      ['conv5_block3_3_conv[0][0]'] \n",
            " rmalization)                                                                                     \n",
            "                                                                                                  \n",
            " conv5_block3_add (Add)      (None, 4, 4, 2048)           0         ['conv5_block2_out[0][0]',    \n",
            "                                                                     'conv5_block3_3_bn[0][0]']   \n",
            "                                                                                                  \n",
            " conv5_block3_out (Activati  (None, 4, 4, 2048)           0         ['conv5_block3_add[0][0]']    \n",
            " on)                                                                                              \n",
            "                                                                                                  \n",
            " global_average_pooling2d_5  (None, 2048)                 0         ['conv5_block3_out[0][0]']    \n",
            "  (GlobalAveragePooling2D)                                                                        \n",
            "                                                                                                  \n",
            " dense_14 (Dense)            (None, 256)                  524544    ['global_average_pooling2d_5[0\n",
            "                                                                    ][0]']                        \n",
            "                                                                                                  \n",
            " batch_normalization_8 (Bat  (None, 256)                  1024      ['dense_14[0][0]']            \n",
            " chNormalization)                                                                                 \n",
            "                                                                                                  \n",
            " dropout_8 (Dropout)         (None, 256)                  0         ['batch_normalization_8[0][0]'\n",
            "                                                                    ]                             \n",
            "                                                                                                  \n",
            " dense_15 (Dense)            (None, 128)                  32896     ['dropout_8[0][0]']           \n",
            "                                                                                                  \n",
            " batch_normalization_9 (Bat  (None, 128)                  512       ['dense_15[0][0]']            \n",
            " chNormalization)                                                                                 \n",
            "                                                                                                  \n",
            " dropout_9 (Dropout)         (None, 128)                  0         ['batch_normalization_9[0][0]'\n",
            "                                                                    ]                             \n",
            "                                                                                                  \n",
            " dense_16 (Dense)            (None, 43)                   5547      ['dropout_9[0][0]']           \n",
            "                                                                                                  \n",
            "==================================================================================================\n",
            "Total params: 24152235 (92.13 MB)\n",
            "Trainable params: 24098347 (91.93 MB)\n",
            "Non-trainable params: 53888 (210.50 KB)\n",
            "__________________________________________________________________________________________________\n"
          ]
        }
      ]
    },
    {
      "cell_type": "markdown",
      "source": [
        "This model is also deployed in a similar manner as the other models:"
      ],
      "metadata": {
        "id": "lPrj8pGq-HG2"
      }
    },
    {
      "cell_type": "code",
      "source": [
        "# Compile the model with a lower learning rate for fine-tuning\n",
        "model_unfrez.compile(optimizer=Adam(learning_rate=0.0001), loss='categorical_crossentropy', metrics=['accuracy'])\n",
        "\n",
        "# Early stopping callback\n",
        "early_stopping = EarlyStopping(monitor='val_loss', patience=3, restore_best_weights=True)\n",
        "\n",
        "# Fine-tune the model on your dataset\n",
        "num_epochs = 50\n",
        "history_unfrez = model_unfrez.fit(train_generator,\n",
        "                                  epochs=num_epochs,\n",
        "                                  validation_data=valid_generator,\n",
        "                                  callbacks=[early_stopping, lr_scheduler])\n",
        "\n",
        "print(\"Model training completed.\")"
      ],
      "metadata": {
        "colab": {
          "base_uri": "https://localhost:8080/"
        },
        "id": "vjvOOI-fjmqk",
        "outputId": "b8de16d8-dd76-4c74-f702-7aac90eb29d5"
      },
      "execution_count": null,
      "outputs": [
        {
          "output_type": "stream",
          "name": "stdout",
          "text": [
            "Epoch 1/50\n",
            "667/667 [==============================] - 135s 144ms/step - loss: 2.2739 - accuracy: 0.6116 - val_loss: 2.1179 - val_accuracy: 0.6459 - lr: 1.0000e-04\n",
            "Epoch 2/50\n",
            "667/667 [==============================] - 94s 141ms/step - loss: 0.8432 - accuracy: 0.9679 - val_loss: 0.6483 - val_accuracy: 0.9880 - lr: 1.0000e-04\n",
            "Epoch 3/50\n",
            "667/667 [==============================] - 94s 141ms/step - loss: 0.6876 - accuracy: 0.9889 - val_loss: 0.6102 - val_accuracy: 0.9908 - lr: 1.0000e-04\n",
            "Epoch 4/50\n",
            "667/667 [==============================] - 95s 142ms/step - loss: 0.6324 - accuracy: 0.9903 - val_loss: 0.6152 - val_accuracy: 0.9809 - lr: 1.0000e-04\n",
            "Epoch 5/50\n",
            "667/667 [==============================] - 94s 141ms/step - loss: 0.5677 - accuracy: 0.9935 - val_loss: 0.5041 - val_accuracy: 0.9961 - lr: 1.0000e-04\n",
            "Epoch 6/50\n",
            "667/667 [==============================] - 94s 141ms/step - loss: 0.5255 - accuracy: 0.9925 - val_loss: 0.4834 - val_accuracy: 0.9906 - lr: 9.5000e-05\n",
            "Epoch 7/50\n",
            "667/667 [==============================] - 94s 141ms/step - loss: 0.4537 - accuracy: 0.9953 - val_loss: 0.3992 - val_accuracy: 0.9976 - lr: 9.0250e-05\n",
            "Epoch 8/50\n",
            "667/667 [==============================] - 94s 142ms/step - loss: 0.4031 - accuracy: 0.9956 - val_loss: 0.3602 - val_accuracy: 0.9959 - lr: 8.5737e-05\n",
            "Epoch 9/50\n",
            "667/667 [==============================] - 95s 143ms/step - loss: 0.3520 - accuracy: 0.9955 - val_loss: 0.3833 - val_accuracy: 0.9809 - lr: 8.1451e-05\n",
            "Epoch 10/50\n",
            "667/667 [==============================] - 94s 141ms/step - loss: 0.3019 - accuracy: 0.9968 - val_loss: 0.2610 - val_accuracy: 0.9996 - lr: 7.7378e-05\n",
            "Epoch 11/50\n",
            "667/667 [==============================] - 95s 142ms/step - loss: 0.2577 - accuracy: 0.9981 - val_loss: 0.2231 - val_accuracy: 0.9994 - lr: 7.3509e-05\n",
            "Epoch 12/50\n",
            "667/667 [==============================] - 95s 142ms/step - loss: 0.2141 - accuracy: 0.9992 - val_loss: 0.1895 - val_accuracy: 0.9994 - lr: 6.9834e-05\n",
            "Epoch 13/50\n",
            "667/667 [==============================] - 95s 143ms/step - loss: 0.1892 - accuracy: 0.9978 - val_loss: 0.1713 - val_accuracy: 0.9976 - lr: 6.6342e-05\n",
            "Epoch 14/50\n",
            "667/667 [==============================] - 95s 142ms/step - loss: 0.1744 - accuracy: 0.9960 - val_loss: 0.1509 - val_accuracy: 0.9981 - lr: 6.3025e-05\n",
            "Epoch 15/50\n",
            "667/667 [==============================] - 95s 142ms/step - loss: 0.1451 - accuracy: 0.9985 - val_loss: 0.1303 - val_accuracy: 0.9987 - lr: 5.9874e-05\n",
            "Epoch 16/50\n",
            "667/667 [==============================] - 95s 143ms/step - loss: 0.1323 - accuracy: 0.9985 - val_loss: 0.1456 - val_accuracy: 0.9947 - lr: 5.6880e-05\n",
            "Epoch 17/50\n",
            "667/667 [==============================] - 94s 141ms/step - loss: 0.1176 - accuracy: 0.9985 - val_loss: 0.1096 - val_accuracy: 0.9983 - lr: 5.4036e-05\n",
            "Epoch 18/50\n",
            "667/667 [==============================] - 95s 142ms/step - loss: 0.1046 - accuracy: 0.9986 - val_loss: 0.1024 - val_accuracy: 0.9976 - lr: 5.1334e-05\n",
            "Epoch 19/50\n",
            "667/667 [==============================] - 95s 142ms/step - loss: 0.0985 - accuracy: 0.9986 - val_loss: 0.0901 - val_accuracy: 0.9981 - lr: 4.8767e-05\n",
            "Epoch 20/50\n",
            "667/667 [==============================] - 95s 142ms/step - loss: 0.0927 - accuracy: 0.9979 - val_loss: 0.0781 - val_accuracy: 0.9994 - lr: 4.6329e-05\n",
            "Epoch 21/50\n",
            "667/667 [==============================] - 95s 142ms/step - loss: 0.0781 - accuracy: 0.9996 - val_loss: 0.0721 - val_accuracy: 0.9992 - lr: 4.4013e-05\n",
            "Epoch 22/50\n",
            "667/667 [==============================] - 93s 139ms/step - loss: 0.0730 - accuracy: 0.9994 - val_loss: 0.0667 - val_accuracy: 0.9992 - lr: 4.1812e-05\n",
            "Epoch 23/50\n",
            "667/667 [==============================] - 94s 141ms/step - loss: 0.0633 - accuracy: 0.9999 - val_loss: 0.0612 - val_accuracy: 0.9992 - lr: 3.9721e-05\n",
            "Epoch 24/50\n",
            "667/667 [==============================] - 94s 141ms/step - loss: 0.0586 - accuracy: 0.9996 - val_loss: 0.0607 - val_accuracy: 0.9983 - lr: 3.7735e-05\n",
            "Epoch 25/50\n",
            "667/667 [==============================] - 94s 141ms/step - loss: 0.0516 - accuracy: 0.9998 - val_loss: 0.0564 - val_accuracy: 0.9985 - lr: 3.5849e-05\n",
            "Epoch 26/50\n",
            "667/667 [==============================] - 94s 141ms/step - loss: 0.0497 - accuracy: 0.9994 - val_loss: 0.0590 - val_accuracy: 0.9979 - lr: 3.4056e-05\n",
            "Epoch 27/50\n",
            "667/667 [==============================] - 96s 143ms/step - loss: 0.0486 - accuracy: 0.9990 - val_loss: 0.0483 - val_accuracy: 0.9991 - lr: 3.2353e-05\n",
            "Epoch 28/50\n",
            "667/667 [==============================] - 94s 140ms/step - loss: 0.0403 - accuracy: 1.0000 - val_loss: 0.0438 - val_accuracy: 0.9992 - lr: 3.0736e-05\n",
            "Epoch 29/50\n",
            "667/667 [==============================] - 95s 142ms/step - loss: 0.0383 - accuracy: 0.9998 - val_loss: 0.0444 - val_accuracy: 0.9987 - lr: 2.9199e-05\n",
            "Epoch 30/50\n",
            "667/667 [==============================] - 94s 142ms/step - loss: 0.0357 - accuracy: 0.9996 - val_loss: 0.0416 - val_accuracy: 0.9985 - lr: 2.7739e-05\n",
            "Epoch 31/50\n",
            "667/667 [==============================] - 94s 141ms/step - loss: 0.0318 - accuracy: 1.0000 - val_loss: 0.0376 - val_accuracy: 0.9985 - lr: 2.6352e-05\n",
            "Epoch 32/50\n",
            "667/667 [==============================] - 95s 142ms/step - loss: 0.0293 - accuracy: 0.9999 - val_loss: 0.0367 - val_accuracy: 0.9987 - lr: 2.5034e-05\n",
            "Epoch 33/50\n",
            "667/667 [==============================] - 95s 142ms/step - loss: 0.0304 - accuracy: 0.9995 - val_loss: 0.0325 - val_accuracy: 0.9985 - lr: 2.3783e-05\n",
            "Epoch 34/50\n",
            "667/667 [==============================] - 96s 143ms/step - loss: 0.0258 - accuracy: 0.9999 - val_loss: 0.0310 - val_accuracy: 0.9987 - lr: 2.2594e-05\n",
            "Epoch 35/50\n",
            "667/667 [==============================] - 95s 142ms/step - loss: 0.0237 - accuracy: 1.0000 - val_loss: 0.0288 - val_accuracy: 0.9989 - lr: 2.1464e-05\n",
            "Epoch 36/50\n",
            "667/667 [==============================] - 95s 143ms/step - loss: 0.0217 - accuracy: 1.0000 - val_loss: 0.0315 - val_accuracy: 0.9987 - lr: 2.0391e-05\n",
            "Epoch 37/50\n",
            "667/667 [==============================] - 96s 143ms/step - loss: 0.0197 - accuracy: 1.0000 - val_loss: 0.0262 - val_accuracy: 0.9989 - lr: 1.9371e-05\n",
            "Epoch 38/50\n",
            "667/667 [==============================] - 95s 142ms/step - loss: 0.0175 - accuracy: 1.0000 - val_loss: 0.0235 - val_accuracy: 0.9991 - lr: 1.8403e-05\n",
            "Epoch 39/50\n",
            "667/667 [==============================] - 95s 143ms/step - loss: 0.0153 - accuracy: 1.0000 - val_loss: 0.0225 - val_accuracy: 0.9991 - lr: 1.7482e-05\n",
            "Epoch 40/50\n",
            "667/667 [==============================] - 95s 143ms/step - loss: 0.0135 - accuracy: 1.0000 - val_loss: 0.0209 - val_accuracy: 0.9989 - lr: 1.6608e-05\n",
            "Epoch 41/50\n",
            "667/667 [==============================] - 95s 143ms/step - loss: 0.0117 - accuracy: 1.0000 - val_loss: 0.0194 - val_accuracy: 0.9989 - lr: 1.5778e-05\n",
            "Epoch 42/50\n",
            "667/667 [==============================] - 95s 143ms/step - loss: 0.0100 - accuracy: 1.0000 - val_loss: 0.0173 - val_accuracy: 0.9989 - lr: 1.4989e-05\n",
            "Epoch 43/50\n",
            "667/667 [==============================] - 95s 143ms/step - loss: 0.0087 - accuracy: 1.0000 - val_loss: 0.0146 - val_accuracy: 0.9989 - lr: 1.4240e-05\n",
            "Epoch 44/50\n",
            "667/667 [==============================] - 95s 142ms/step - loss: 0.0074 - accuracy: 1.0000 - val_loss: 0.0133 - val_accuracy: 0.9991 - lr: 1.3528e-05\n",
            "Epoch 45/50\n",
            "667/667 [==============================] - 115s 173ms/step - loss: 0.0064 - accuracy: 1.0000 - val_loss: 0.0124 - val_accuracy: 0.9991 - lr: 1.2851e-05\n",
            "Epoch 46/50\n",
            "667/667 [==============================] - 95s 142ms/step - loss: 0.0055 - accuracy: 1.0000 - val_loss: 0.0106 - val_accuracy: 0.9992 - lr: 1.2209e-05\n",
            "Epoch 47/50\n",
            "667/667 [==============================] - 103s 155ms/step - loss: 0.0048 - accuracy: 1.0000 - val_loss: 0.0104 - val_accuracy: 0.9991 - lr: 1.1598e-05\n",
            "Epoch 48/50\n",
            "667/667 [==============================] - 96s 144ms/step - loss: 0.0045 - accuracy: 1.0000 - val_loss: 0.0094 - val_accuracy: 0.9991 - lr: 1.1018e-05\n",
            "Epoch 49/50\n",
            "667/667 [==============================] - 96s 143ms/step - loss: 0.0040 - accuracy: 1.0000 - val_loss: 0.0092 - val_accuracy: 0.9989 - lr: 1.0467e-05\n",
            "Epoch 50/50\n",
            "667/667 [==============================] - 94s 140ms/step - loss: 0.0036 - accuracy: 1.0000 - val_loss: 0.0098 - val_accuracy: 0.9989 - lr: 9.9440e-06\n",
            "Model training completed.\n"
          ]
        }
      ]
    },
    {
      "cell_type": "markdown",
      "source": [
        "This model used all 50 epoch designed in the code to be completely trained. Potentailly, this could mean that this model is **slightly underfitted**. This could likely due to the **learning rate decay function**. The learning rate for the last epoch is less than **0.0000001**.\n",
        "\n",
        "However, due to the large number of epoch, this slight under fitting is exceptable."
      ],
      "metadata": {
        "id": "frRz6qbR-K1M"
      }
    },
    {
      "cell_type": "markdown",
      "source": [
        "\n",
        "The training accuracy and validation accuracy graph are shown below."
      ],
      "metadata": {
        "id": "5PKdG6-6_UBN"
      }
    },
    {
      "cell_type": "code",
      "source": [
        "plot_training_history(history_unfrez)"
      ],
      "metadata": {
        "colab": {
          "base_uri": "https://localhost:8080/",
          "height": 338
        },
        "id": "ugnXqFR-hP_R",
        "outputId": "4c9e262f-6d0c-4ed2-bfda-4a84c3a5187a"
      },
      "execution_count": null,
      "outputs": [
        {
          "output_type": "display_data",
          "data": {
            "text/plain": [
              "<Figure size 1200x600 with 2 Axes>"
            ],
            "image/png": "[encoded data removed]"
          },
          "metadata": {}
        }
      ]
    },
    {
      "cell_type": "markdown",
      "source": [
        "The model's training and validating accuracy are both increasing with decreased fluctuation. While the loss also decreases with decreased fluctuation."
      ],
      "metadata": {
        "id": "1tMopx2A_YoC"
      }
    },
    {
      "cell_type": "code",
      "source": [
        "# Increasing rate\n",
        "train_rate_unfrez, val_rate_unfrez = calculate_accuracy_increase_rate(history_unfrez)\n",
        "print(\"Training Accuracy Increase Rate:\", train_rate_unfrez)\n",
        "print(\"Validation Accuracy Increase Rate:\", val_rate_unfrez)"
      ],
      "metadata": {
        "colab": {
          "base_uri": "https://localhost:8080/"
        },
        "id": "S5JAlaothSQu",
        "outputId": "95f31b4f-ddb7-4c6c-ea67-2e2c082eb2ff"
      },
      "execution_count": null,
      "outputs": [
        {
          "output_type": "stream",
          "name": "stdout",
          "text": [
            "Training Accuracy Increase Rate: 0.007926726827816087\n",
            "Validation Accuracy Increase Rate: 0.007203332015446254\n"
          ]
        }
      ]
    },
    {
      "cell_type": "markdown",
      "source": [
        "Due to the large number of epoch, the rate of increase for training and validating accuracy is much slower"
      ],
      "metadata": {
        "id": "VuVl9Zz7_kwP"
      }
    },
    {
      "cell_type": "markdown",
      "source": [
        "Then, the model is evaluated on the test data"
      ],
      "metadata": {
        "id": "cumAoqdv_wHD"
      }
    },
    {
      "cell_type": "code",
      "source": [
        "# Test the model with the test data\n",
        "test_loss_unfrez, test_accuracy_unfrez = model_unfrez.evaluate(test_generator)\n",
        "\n",
        "print(f\"Test Loss: {test_loss_unfrez:.4f}\")\n",
        "print(f\"Test Accuracy: {test_accuracy_unfrez:.4f}\")"
      ],
      "metadata": {
        "colab": {
          "base_uri": "https://localhost:8080/"
        },
        "id": "XUCZ7cB9hTKV",
        "outputId": "1ecc1486-714e-4a49-930c-a36673df655f"
      },
      "execution_count": null,
      "outputs": [
        {
          "output_type": "stream",
          "name": "stdout",
          "text": [
            "394/394 [==============================] - 22s 55ms/step - loss: 0.1173 - accuracy: 0.9848\n",
            "Test Loss: 0.1173\n",
            "Test Accuracy: 0.9848\n"
          ]
        }
      ]
    },
    {
      "cell_type": "code",
      "source": [
        "# Make predictions on the test data\n",
        "test_pred_unfrez = model_unfrez.predict(test_generator)\n",
        "\n",
        "# Convert one-hot encoded predictions back to class labels\n",
        "predicted_labels_unfrez = np.argmax(test_pred_unfrez, axis=1)\n",
        "\n",
        "# Calculate the precision score\n",
        "precision_unfrez = precision_score(true_labels, predicted_labels_unfrez, average='weighted')\n",
        "\n",
        "print(f\"Precision Score: {precision_unfrez:.4f}\")"
      ],
      "metadata": {
        "id": "1ZIG9-9wVd4C",
        "colab": {
          "base_uri": "https://localhost:8080/"
        },
        "outputId": "7c9830fe-1d06-4b3c-ec00-9715ba930b28"
      },
      "execution_count": null,
      "outputs": [
        {
          "output_type": "stream",
          "name": "stdout",
          "text": [
            "394/394 [==============================] - 22s 53ms/step\n",
            "Precision Score: 0.9853\n"
          ]
        }
      ]
    },
    {
      "cell_type": "code",
      "source": [
        "# Generate a classification report\n",
        "class_rep_unfrez = classification_report(true_labels, predicted_labels_unfrez, target_names=class_names)\n",
        "\n",
        "print(\"Classification Report:\\n\", class_rep_unfrez)"
      ],
      "metadata": {
        "colab": {
          "base_uri": "https://localhost:8080/"
        },
        "id": "omduGPdyO7Nz",
        "outputId": "2386eb5c-20a7-4a06-9b17-4537f8c634d3"
      },
      "execution_count": null,
      "outputs": [
        {
          "output_type": "stream",
          "name": "stdout",
          "text": [
            "Classification Report:\n",
            "               precision    recall  f1-score   support\n",
            "\n",
            "           0       1.00      1.00      1.00       293\n",
            "           1       0.99      1.00      0.99       293\n",
            "           2       1.00      1.00      1.00       293\n",
            "           3       0.96      1.00      0.98       293\n",
            "           4       1.00      1.00      1.00       293\n",
            "           5       1.00      1.00      1.00       293\n",
            "           6       1.00      1.00      1.00       293\n",
            "           7       1.00      0.99      1.00       293\n",
            "           8       1.00      1.00      1.00       293\n",
            "           9       1.00      1.00      1.00       293\n",
            "          10       1.00      0.99      0.99       293\n",
            "          11       1.00      1.00      1.00       293\n",
            "          12       0.99      0.99      0.99       293\n",
            "          13       0.99      1.00      0.99       293\n",
            "          14       0.94      0.99      0.97       293\n",
            "          15       0.96      0.97      0.96       293\n",
            "          16       0.87      1.00      0.93       293\n",
            "          17       0.99      0.98      0.98       293\n",
            "          18       1.00      0.97      0.98       293\n",
            "          19       0.98      0.96      0.97       293\n",
            "          20       1.00      0.82      0.90       293\n",
            "          21       0.96      1.00      0.98       293\n",
            "          22       0.97      0.95      0.96       293\n",
            "          23       0.99      0.97      0.98       293\n",
            "          24       0.99      0.92      0.95       293\n",
            "          25       0.97      0.99      0.98       293\n",
            "          26       1.00      1.00      1.00       293\n",
            "          27       1.00      1.00      1.00       293\n",
            "          28       0.99      1.00      0.99       293\n",
            "          29       0.99      1.00      1.00       293\n",
            "          30       0.99      0.99      0.99       293\n",
            "          31       0.98      0.99      0.98       293\n",
            "          32       1.00      1.00      1.00       293\n",
            "          33       0.99      1.00      1.00       293\n",
            "          34       1.00      0.99      0.99       293\n",
            "          35       1.00      0.95      0.97       293\n",
            "          36       1.00      0.99      0.99       293\n",
            "          37       0.98      1.00      0.99       293\n",
            "          38       0.96      0.98      0.97       293\n",
            "          39       0.99      1.00      0.99       293\n",
            "          40       1.00      1.00      1.00       293\n",
            "          41       1.00      0.98      0.99       293\n",
            "          42       0.99      1.00      0.99       293\n",
            "\n",
            "    accuracy                           0.98     12599\n",
            "   macro avg       0.99      0.98      0.98     12599\n",
            "weighted avg       0.99      0.98      0.98     12599\n",
            "\n"
          ]
        }
      ]
    },
    {
      "cell_type": "markdown",
      "source": [
        "This model achived **the best** result on testing accuracy and precision across all models. It achieved close to perfect score for nearly all fields. The worst performing class is class 16 with the precision of 87%\n",
        "\n",
        "Generally, the model is performing very well with a test accuracy of 98.48% and test precision of 98.53%. Both matrix increased for about 2% as compared to using ResNet50 as transfered learning.\n",
        "\n",
        "**Majority** of the classes scored **perfect precision and F1** score in test"
      ],
      "metadata": {
        "id": "av-Wqgns_1Kq"
      }
    },
    {
      "cell_type": "markdown",
      "source": [
        "Although this model has the potential to be developed further, still the resources used to train this model is high. Thus, the further development of this model will be reserved for future."
      ],
      "metadata": {
        "id": "i4Y_OAwhAmae"
      }
    },
    {
      "cell_type": "markdown",
      "source": [
        "<h1> 8.3 Saving the model</h1>"
      ],
      "metadata": {
        "id": "hPIoN9AEBbSc"
      }
    },
    {
      "cell_type": "markdown",
      "source": [
        "The training history, raw preditions and the best performing models are saved to google drive for future analysis and comparison below:"
      ],
      "metadata": {
        "id": "NyalJe1GA83l"
      }
    },
    {
      "cell_type": "code",
      "source": [
        "# Define the file path where you want to save the raw predictions\n",
        "save_path = \"best_test_predictions_resnet50_RRDB.npy\"\n",
        "\n",
        "# Save the raw predictions to the specified file\n",
        "np.save(save_path, test_pred_unfrez)\n",
        "\n",
        "print(f\"Raw predictions saved to '{save_path}'.\")"
      ],
      "metadata": {
        "id": "Xfuln5m4C3R7",
        "colab": {
          "base_uri": "https://localhost:8080/"
        },
        "outputId": "f1caa77d-31db-47c9-f855-95182d20c02b"
      },
      "execution_count": null,
      "outputs": [
        {
          "output_type": "stream",
          "name": "stdout",
          "text": [
            "Raw predictions saved to 'best_test_predictions_resnet50_RRDB.npy'.\n"
          ]
        }
      ]
    },
    {
      "cell_type": "markdown",
      "source": [
        "Both keras and h5 model are saved"
      ],
      "metadata": {
        "id": "MDI3khxUBAkH"
      }
    },
    {
      "cell_type": "code",
      "source": [
        "model_unfrez.save(\"final_resnet_model_RRDB.keras\")\n",
        "model_unfrez.save(\"final_resnet_model_RRDB.h5\")"
      ],
      "metadata": {
        "id": "PGhaZ8tGQC7A"
      },
      "execution_count": null,
      "outputs": []
    },
    {
      "cell_type": "markdown",
      "source": [
        "saving history:"
      ],
      "metadata": {
        "id": "5kn9EJuSA_CU"
      }
    },
    {
      "cell_type": "code",
      "source": [
        "def save_training_history(history, filename):\n",
        "    # Create a DataFrame from the training history\n",
        "    history_df = pd.DataFrame(history.history)\n",
        "\n",
        "    # Save the DataFrame to a CSV file\n",
        "    history_df.to_csv(filename, index=False)\n",
        "\n",
        "    # Print the first few rows of the history DataFrame\n",
        "    print(history_df.head())"
      ],
      "metadata": {
        "id": "jD8a_DTcBd5C"
      },
      "execution_count": null,
      "outputs": []
    },
    {
      "cell_type": "code",
      "source": [
        "save_training_history(history_simpleRes, 'training_history_simpleResnet_RRDB.csv')\n",
        "save_training_history(history_complex_model, 'training_history_complexResnet_RRDB.csv')\n",
        "save_training_history(history_unfrez, 'training_history_complexResnet_unfrez_RRDB.csv')"
      ],
      "metadata": {
        "id": "hIWdpGeiBwBV",
        "colab": {
          "base_uri": "https://localhost:8080/"
        },
        "outputId": "ea67db8b-e514-4641-889c-41110a16152e"
      },
      "execution_count": null,
      "outputs": [
        {
          "output_type": "stream",
          "name": "stdout",
          "text": [
            "       loss  accuracy  val_loss  val_accuracy     lr\n",
            "0  0.082094  0.977635  0.063468      0.981620  0.001\n",
            "1  0.018311  0.995499  0.110460      0.972055  0.001\n",
            "2  0.043014  0.988888  0.057296      0.985184  0.001\n",
            "3  0.013753  0.996577  0.099889      0.978432  0.001\n",
            "4  0.027920  0.992733  0.354178      0.907352  0.001\n",
            "       loss  accuracy  val_loss  val_accuracy     lr\n",
            "0  2.072691  0.592461  3.174296      0.449925  0.001\n",
            "1  0.618958  0.943314  0.527289      0.935671  0.001\n",
            "2  0.403378  0.964647  0.401002      0.951613  0.001\n",
            "3  0.301585  0.973790  0.488225      0.925544  0.001\n",
            "4  0.266479  0.977166  0.344047      0.952176  0.001\n",
            "       loss  accuracy  val_loss  val_accuracy      lr\n",
            "0  2.273927  0.611590  2.117903      0.645911  0.0001\n",
            "1  0.843207  0.967929  0.648305      0.987997  0.0001\n",
            "2  0.687609  0.988935  0.610247      0.990810  0.0001\n",
            "3  0.632419  0.990294  0.615165      0.980870  0.0001\n",
            "4  0.567670  0.993483  0.504084      0.996062  0.0001\n"
          ]
        }
      ]
    },
    {
      "cell_type": "markdown",
      "source": [
        "Moving to google drive:"
      ],
      "metadata": {
        "id": "ePLsDmZpBHH9"
      }
    },
    {
      "cell_type": "code",
      "source": [
        "import shutil\n",
        "import os\n",
        "\n",
        "# Define the destination directory in Google Drive\n",
        "dest_dir = 'drive/MyDrive/final/training_models/resnet50/RRDB/'\n",
        "\n",
        "# Create the destination directory if it doesn't exist\n",
        "os.makedirs(dest_dir, exist_ok=True)\n",
        "\n",
        "# Define the source paths\n",
        "src_paths = [\n",
        "    'final_resnet_model_RRDB.keras',\n",
        "    'final_resnet_model_RRDB.h5',\n",
        "    'training_history_simpleResnet_RRDB.csv',\n",
        "    'training_history_complexResnet_RRDB.csv',\n",
        "    'training_history_complexResnet_unfrez_RRDB.csv',\n",
        "    'best_test_predictions_resnet50_RRDB.npy'\n",
        "]\n",
        "\n",
        "# Copy files to Google Drive\n",
        "for src_path in src_paths:\n",
        "    shutil.copy(src_path, dest_dir)\n",
        "\n",
        "print(\"Files copied to Google Drive successfully.\")"
      ],
      "metadata": {
        "id": "INCKfh3KDhys",
        "colab": {
          "base_uri": "https://localhost:8080/"
        },
        "outputId": "3b0c6954-4cf6-4879-f876-7f34d8e5c758"
      },
      "execution_count": null,
      "outputs": [
        {
          "output_type": "stream",
          "name": "stdout",
          "text": [
            "Files copied to Google Drive successfully.\n"
          ]
        }
      ]
    }
  ]
}